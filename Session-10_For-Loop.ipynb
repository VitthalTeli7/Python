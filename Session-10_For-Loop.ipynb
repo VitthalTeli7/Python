{
 "cells": [
  {
   "cell_type": "code",
   "execution_count": null,
   "id": "058549f9",
   "metadata": {},
   "outputs": [],
   "source": [
    "- Basic python\n",
    "\n",
    "- Conditional statement  if-else\n",
    "\n",
    "- Try-exception\n",
    "\n",
    "- functions\n",
    "\n",
    "- packages vs functions\n",
    "\n",
    "- loop \n",
    "\n",
    "   for while\n",
    "    \n",
    "any program"
   ]
  },
  {
   "cell_type": "code",
   "execution_count": null,
   "id": "beda615c",
   "metadata": {},
   "outputs": [],
   "source": [
    "# loop : repaated task \n",
    "# function:  reuse\n",
    "\n",
    "\n",
    "I want to calculate tax \n",
    "\n",
    "def tax_pay():\n",
    "    salary\n",
    "    taxper\n",
    "    tax_amount"
   ]
  },
  {
   "cell_type": "code",
   "execution_count": null,
   "id": "00ecee06",
   "metadata": {},
   "outputs": [],
   "source": [
    "tax_pay   ===== 100 "
   ]
  },
  {
   "cell_type": "code",
   "execution_count": null,
   "id": "017463ea",
   "metadata": {},
   "outputs": [],
   "source": [
    "3 ---1     100    100line"
   ]
  },
  {
   "cell_type": "code",
   "execution_count": null,
   "id": "946dfe6c",
   "metadata": {},
   "outputs": [],
   "source": [
    "# step-1:  tax pay   \n",
    "salary\n",
    "taxper\n",
    "tax_amount      3 \n",
    "\n",
    "100 x3 = 300\n",
    "\n",
    "# 3 lines to one line====== function\n",
    "100 x1= 100\n",
    "\n",
    "# 100   lines 1 ========= loop"
   ]
  },
  {
   "cell_type": "code",
   "execution_count": 1,
   "id": "5cdbc52b",
   "metadata": {},
   "outputs": [
    {
     "name": "stdout",
     "output_type": "stream",
     "text": [
      "0\n",
      "1\n",
      "2\n",
      "3\n",
      "4\n"
     ]
    }
   ],
   "source": [
    "for i in range(5):\n",
    "    print(i)"
   ]
  },
  {
   "cell_type": "code",
   "execution_count": null,
   "id": "c38c3101",
   "metadata": {},
   "outputs": [],
   "source": [
    "If you want to run any loop we required 3 things\n",
    "\n",
    "- intial point: to start the loop :1\n",
    "\n",
    "- increment or decrement : gap      2\n",
    "\n",
    "- condition: to stop the loop       10\n",
    "    \n",
    "i want to start with 1\n",
    "i want to stop at 10\n",
    "i want to go step by step by 2 unit\n",
    "\n",
    "1  3  5  7  9  "
   ]
  },
  {
   "cell_type": "code",
   "execution_count": null,
   "id": "1d6eeb07",
   "metadata": {},
   "outputs": [],
   "source": [
    "in for loop there 3 lines represnt only one line"
   ]
  },
  {
   "cell_type": "markdown",
   "id": "be3f5b41",
   "metadata": {},
   "source": [
    "$pattern-1$:\n",
    "\n",
    "range(stop)\n",
    "\n",
    "- start value by defualt is 0\n",
    "\n",
    "- in python index starts with zero\n",
    "\n",
    "- by default it is increment by 1\n",
    "\n",
    "- last= stop-1\n",
    "\n",
    "range(5)\n",
    "start=0   incre =1   last=4\n",
    "0 1 2 3 4"
   ]
  },
  {
   "cell_type": "code",
   "execution_count": 2,
   "id": "6233b10d",
   "metadata": {},
   "outputs": [
    {
     "name": "stdout",
     "output_type": "stream",
     "text": [
      "0\n",
      "1\n",
      "2\n",
      "3\n",
      "4\n",
      "5\n",
      "6\n",
      "7\n",
      "8\n",
      "9\n"
     ]
    }
   ],
   "source": [
    "for i in range(10):   # start=0  last=9\n",
    "    print(i)"
   ]
  },
  {
   "cell_type": "code",
   "execution_count": 7,
   "id": "ae61e75e",
   "metadata": {},
   "outputs": [
    {
     "name": "stdout",
     "output_type": "stream",
     "text": [
      "1 2 3\n"
     ]
    }
   ],
   "source": [
    "print(1,end=' ')\n",
    "print(2,end=' ')\n",
    "print(3)\n",
    "\n",
    "print(i,end=' ')"
   ]
  },
  {
   "cell_type": "code",
   "execution_count": 12,
   "id": "3965973a",
   "metadata": {},
   "outputs": [
    {
     "name": "stdout",
     "output_type": "stream",
     "text": [
      "0 0\n",
      "1 1\n",
      "2 4\n",
      "3 9\n",
      "4 16\n",
      "5 25\n",
      "6 36\n",
      "7 49\n",
      "8 64\n",
      "9 81\n",
      "9\n"
     ]
    }
   ],
   "source": [
    "for i in range(10):\n",
    "    print(i,end=' ') \n",
    "    print(i*i) \n",
    "\n",
    "print(i)\n",
    "    \n",
    "# 0  0\n",
    "# 1  1\n",
    "# 2  4\n",
    "# 3  9"
   ]
  },
  {
   "cell_type": "code",
   "execution_count": 13,
   "id": "3296683b",
   "metadata": {},
   "outputs": [
    {
     "name": "stdout",
     "output_type": "stream",
     "text": [
      "1\n",
      "2\n",
      "3 4\n",
      "5\n"
     ]
    }
   ],
   "source": [
    "print(1)\n",
    "print(2)\n",
    "print(3,end=' ')\n",
    "print(4)\n",
    "print(5)\n"
   ]
  },
  {
   "cell_type": "markdown",
   "id": "c0cac952",
   "metadata": {},
   "source": [
    "$Pattern-2$"
   ]
  },
  {
   "cell_type": "markdown",
   "id": "6eb863e1",
   "metadata": {},
   "source": [
    "range(start,stop)\n",
    "\n",
    "- start value taken as start mention inside the range\n",
    "\n",
    "- increment by default it will take one:1\n",
    "    \n",
    "- last = stop-1\n",
    "\n",
    "range(5,11)\n",
    "start=5\n",
    "inc=1\n",
    "last=11-1=10   5,6,7,8,9,10"
   ]
  },
  {
   "cell_type": "code",
   "execution_count": 14,
   "id": "e69b2d75",
   "metadata": {},
   "outputs": [
    {
     "name": "stdout",
     "output_type": "stream",
     "text": [
      "5 6 7 8 9 "
     ]
    }
   ],
   "source": [
    "for i in range(5,10):\n",
    "    print(i,end=' ')"
   ]
  },
  {
   "cell_type": "markdown",
   "id": "149c4d1b",
   "metadata": {},
   "source": [
    "$Pattern-3$"
   ]
  },
  {
   "cell_type": "markdown",
   "id": "5f96768d",
   "metadata": {},
   "source": [
    "range(start,stop,step)\n",
    "\n",
    "- start= start\n",
    "\n",
    "- step : how much gap?\n",
    "    \n",
    "    - if step size is postive value consider as postive direction\n",
    "    \n",
    "    - if step size is negative value consider as negative direction\n",
    "    \n",
    "- last:\n",
    "    \n",
    "    last = stop-1   if step size is postive value\n",
    "    \n",
    "    last = stop+1   if step size is negative value"
   ]
  },
  {
   "cell_type": "code",
   "execution_count": 19,
   "id": "2bcf42f4",
   "metadata": {},
   "outputs": [
    {
     "name": "stdout",
     "output_type": "stream",
     "text": [
      "3 5 7 9 11 13 "
     ]
    }
   ],
   "source": [
    "for i in range(3,15,2):\n",
    "    print(i,end=' ')\n",
    "    \n",
    "# start=3\n",
    "# step=2\n",
    "# direction (+ve)\n",
    "# last= 15-1=14\n",
    "# 3 to 14  by give 2 units gap"
   ]
  },
  {
   "cell_type": "code",
   "execution_count": 20,
   "id": "9b2fc9d9",
   "metadata": {},
   "outputs": [],
   "source": [
    "for i in range(3,15,-2):\n",
    "    print(i,end=' ')\n",
    "    \n",
    "# start=3, step=-2  dire= (-)ve  last=15+1=16\n",
    "# 3 to 16  in reverse direction\n",
    "\n",
    "# it will not work so no error and no answer"
   ]
  },
  {
   "cell_type": "code",
   "execution_count": 21,
   "id": "bb844bbc",
   "metadata": {},
   "outputs": [],
   "source": [
    "for i in range(3,-15,2):\n",
    "    print(i,end=' ')\n",
    "    \n",
    "# start=3  step=2  (+ve) last=-15-1 -16\n",
    "#  3 to -16  "
   ]
  },
  {
   "cell_type": "code",
   "execution_count": null,
   "id": "2710eae0",
   "metadata": {},
   "outputs": [],
   "source": [
    "range(5,15,3)   # p\n",
    "range(5,15,-3)  # start=5   step=-3  np\n",
    "range(5,-15,-3) #  p \n",
    "range(-5,-15,-3) # p\n",
    "range(5,-15,3)  # np\n",
    "range(-5,-15,3) # np\n",
    "range(-5,15,-3) # np\n",
    "range(-5,15,3)  # p\n",
    "range(5,15)     # p\n",
    "range(-5,15)    # p\n",
    "range(-5,-15)   # np\n",
    "range(15,5)     # np\n",
    "range(-15,5)    # p\n",
    "range(15,-5)    # np"
   ]
  },
  {
   "cell_type": "code",
   "execution_count": 26,
   "id": "81adfe1c",
   "metadata": {},
   "outputs": [
    {
     "name": "stdout",
     "output_type": "stream",
     "text": [
      "the square of 5 is 25\n",
      "the square of 6 is 36\n",
      "the square of 7 is 49\n",
      "the square of 8 is 64\n",
      "the square of 9 is 81\n",
      "the square of 10 is 100\n"
     ]
    }
   ],
   "source": [
    "# WAP ask the user print square of the numbers between 5 to 10\n",
    "# print(the square of 5 is 25)\n",
    "\n",
    "for i in range(5,11):\n",
    "    print(f\"the square of {i} is {i*i}\")"
   ]
  },
  {
   "cell_type": "code",
   "execution_count": 35,
   "id": "2d050f74",
   "metadata": {},
   "outputs": [
    {
     "name": "stdout",
     "output_type": "stream",
     "text": [
      "enter the multiplication number you want:15\n",
      "15x1=15\n",
      "15x2=30\n",
      "15x3=45\n",
      "15x4=60\n",
      "15x5=75\n",
      "15x6=90\n",
      "15x7=105\n",
      "15x8=120\n",
      "15x9=135\n",
      "15x10=150\n"
     ]
    }
   ],
   "source": [
    "# Implement the 9th table\n",
    "# 9 x 1=9\n",
    "# 9 x 2=18\n",
    "# 9 x 3 =27\n",
    "\n",
    "\n",
    "# 9 x 10 =90\n",
    "\n",
    "num=eval(input(\"enter the multiplication number you want:\"))\n",
    "for i in range(1,11):\n",
    "    print(f\"{num}x{i}={num*i}\")"
   ]
  },
  {
   "cell_type": "code",
   "execution_count": 38,
   "id": "55791d20",
   "metadata": {},
   "outputs": [
    {
     "name": "stdout",
     "output_type": "stream",
     "text": [
      "the square of 48 is 2304\n",
      "the square of 49 is 2401\n",
      "the square of 5 is 25\n",
      "the square of 6 is 36\n",
      "the square of 19 is 361\n"
     ]
    }
   ],
   "source": [
    "# WAP ask the user get 5 random numbers between 5 to 50 \n",
    "# and print the square of those number\n",
    "\n",
    "# 5 random numbers means : loop shoud run 5 times\n",
    "# to get random number we need to use random package\n",
    "# random.randint we need to keep inside the for loop\n",
    "\n",
    "import random\n",
    "\n",
    "for i in range(5):\n",
    "    num=random.randint(5,50)\n",
    "    print(f\"the square of {num} is {num*num}\")"
   ]
  },
  {
   "cell_type": "code",
   "execution_count": 39,
   "id": "8e819bca",
   "metadata": {},
   "outputs": [
    {
     "name": "stdout",
     "output_type": "stream",
     "text": [
      "the square of 40 is 1600\n",
      "the square of 40 is 1600\n",
      "the square of 40 is 1600\n",
      "the square of 40 is 1600\n",
      "the square of 40 is 1600\n"
     ]
    }
   ],
   "source": [
    "num=random.randint(5,50) # num\n",
    "for i in range(5):\n",
    "    print(f\"the square of {num} is {num*num}\")"
   ]
  },
  {
   "cell_type": "code",
   "execution_count": null,
   "id": "c3f71db5",
   "metadata": {},
   "outputs": [],
   "source": [
    "import random\n",
    "\n",
    "for i in range(5):\n",
    "    num=random.randint(5,50)\n",
    "    print(f\"the square of {num} is {num*num}\")\n",
    "    \n",
    "######################################################    \n",
    "num=random.randint(5,50) # num\n",
    "for i in range(5):\n",
    "    print(f\"the square of {num} is {num*num}\")"
   ]
  },
  {
   "cell_type": "code",
   "execution_count": 45,
   "id": "ec0c896c",
   "metadata": {},
   "outputs": [
    {
     "name": "stdout",
     "output_type": "stream",
     "text": [
      "the square of 16 is 256\n",
      "the square of 36 is 1296\n",
      "the square of 18 is 324\n",
      "the square of 49 is 2401\n",
      "the square of 23 is 529\n"
     ]
    }
   ],
   "source": [
    "for i in range(5):\n",
    "    num=random.randint(5,50)\n",
    "    print(f\"the square of {num} is {num*num}\")"
   ]
  },
  {
   "cell_type": "code",
   "execution_count": null,
   "id": "2cfc4982",
   "metadata": {},
   "outputs": [],
   "source": [
    "for i in range(5,11):\n",
    "    print(f\"the square of {i} is {i*i}\")"
   ]
  },
  {
   "cell_type": "code",
   "execution_count": 47,
   "id": "2c3456e5",
   "metadata": {},
   "outputs": [
    {
     "name": "stdout",
     "output_type": "stream",
     "text": [
      "good morning\n",
      "good morning\n",
      "good morning\n"
     ]
    }
   ],
   "source": [
    "# print(\"good morning\")\n",
    "# print(\"good morning\")\n",
    "# print(\"good morning\")\n",
    "\n",
    "for i in range(3):\n",
    "    print(\"good morning\")"
   ]
  },
  {
   "cell_type": "code",
   "execution_count": null,
   "id": "d8c29b52",
   "metadata": {},
   "outputs": [],
   "source": [
    "# WAP ask the user print it is even number or odd number\n",
    "# between  5 to 10\n",
    "\n",
    "# WAP ask ther user enter a number and print it is even or odd\n",
    "#  ask the user to enter a number 5 times\n",
    "\n",
    "# WAP ask the user get a 5 random numbers between 5,50\n",
    "# print it is a even or odd"
   ]
  },
  {
   "cell_type": "code",
   "execution_count": 48,
   "id": "7ab4365a",
   "metadata": {},
   "outputs": [
    {
     "name": "stdout",
     "output_type": "stream",
     "text": [
      "5 is an odd\n",
      "6 is an even\n",
      "7 is an odd\n",
      "8 is an even\n",
      "9 is an odd\n",
      "10 is an even\n"
     ]
    }
   ],
   "source": [
    "for i in range(5,11):\n",
    "    if i%2==0:\n",
    "        print(f\"{i} is an even\")\n",
    "    else:\n",
    "        print(f\"{i} is an odd\")"
   ]
  },
  {
   "cell_type": "code",
   "execution_count": 49,
   "id": "cb5402d9",
   "metadata": {},
   "outputs": [
    {
     "name": "stdout",
     "output_type": "stream",
     "text": [
      "enter a num:20\n",
      "20 is an even\n",
      "enter a num:25\n",
      "25 is an odd\n",
      "enter a num:35\n",
      "35 is an odd\n",
      "enter a num:40\n",
      "40 is an even\n",
      "enter a num:55\n",
      "55 is an odd\n"
     ]
    }
   ],
   "source": [
    "for i in range(5):\n",
    "    num=eval(input(\"enter a num:\"))\n",
    "    if num%2==0:\n",
    "        print(f\"{num} is an even\")\n",
    "    else:\n",
    "        print(f\"{num} is an odd\")"
   ]
  },
  {
   "cell_type": "code",
   "execution_count": 50,
   "id": "80e29975",
   "metadata": {},
   "outputs": [
    {
     "name": "stdout",
     "output_type": "stream",
     "text": [
      "16 is an even\n",
      "9 is an odd\n",
      "11 is an odd\n",
      "11 is an odd\n",
      "16 is an even\n"
     ]
    }
   ],
   "source": [
    "for i in range(5):\n",
    "    num=random.randint(5,50)\n",
    "    if num%2==0:\n",
    "        print(f\"{num} is an even\")\n",
    "    else:\n",
    "        print(f\"{num} is an odd\")"
   ]
  },
  {
   "cell_type": "code",
   "execution_count": null,
   "id": "885470c0",
   "metadata": {},
   "outputs": [],
   "source": [
    "# Improvise the above code\n",
    "# Find out how many even numbers are there\n",
    "# how many odd numbers are there\n",
    "\n",
    "# counter program"
   ]
  },
  {
   "cell_type": "code",
   "execution_count": 52,
   "id": "634ee81b",
   "metadata": {},
   "outputs": [
    {
     "name": "stdout",
     "output_type": "stream",
     "text": [
      "17 is an odd\n",
      "24 is an even\n",
      "5 is an odd\n",
      "14 is an even\n",
      "6 is an even\n",
      "the num of even numbers are: 3\n",
      "the num of odd numbers are: 2\n"
     ]
    }
   ],
   "source": [
    "even_count=0\n",
    "odd_count=0\n",
    "for i in range(5):\n",
    "    num=random.randint(5,50)\n",
    "    if num%2==0:\n",
    "        print(f\"{num} is an even\")\n",
    "        even_count=even_count+1\n",
    "    else:\n",
    "        print(f\"{num} is an odd\")\n",
    "        odd_count=odd_count+1\n",
    "        \n",
    "print(\"the num of even numbers are:\",even_count)\n",
    "print(\"the num of odd numbers are:\",odd_count)"
   ]
  },
  {
   "cell_type": "code",
   "execution_count": 51,
   "id": "69e542a7",
   "metadata": {},
   "outputs": [
    {
     "data": {
      "text/plain": [
       "3"
      ]
     },
     "execution_count": 51,
     "metadata": {},
     "output_type": "execute_result"
    }
   ],
   "source": [
    "count=0\n",
    "for i in range(3):\n",
    "    count=count+1\n",
    "    \n",
    "# Step-1  :  count=0\n",
    "#  i=0      count=count+1   count=0+1=1\n",
    "#  i=1      count=1+1   2\n",
    "# i=3       count=2+1   3\n",
    "\n",
    "count"
   ]
  },
  {
   "cell_type": "code",
   "execution_count": 57,
   "id": "ca7df225",
   "metadata": {},
   "outputs": [
    {
     "data": {
      "text/plain": [
       "123"
      ]
     },
     "execution_count": 57,
     "metadata": {},
     "output_type": "execute_result"
    }
   ],
   "source": [
    "n1=1234\n",
    "d1=n1%10\n",
    "n2=n1//10\n",
    "d2=n2%10\n",
    "n2"
   ]
  },
  {
   "cell_type": "code",
   "execution_count": 1,
   "id": "4bfd549b",
   "metadata": {},
   "outputs": [],
   "source": [
    "for i in range(3,25,-3):\n",
    "    print(i)\n",
    "    \n",
    "    \n",
    "# start-3\n",
    "# step=3   negative\n",
    "# last= stop+1  25+1=26\n",
    "\n",
    "#<-----3  ================ > 26"
   ]
  },
  {
   "cell_type": "code",
   "execution_count": 2,
   "id": "45c16c72",
   "metadata": {},
   "outputs": [
    {
     "name": "stdout",
     "output_type": "stream",
     "text": [
      "10\n"
     ]
    }
   ],
   "source": [
    "# WAP ask the user sum of first 10 natural numbers\n",
    "# step-1:  summ=0\n",
    "# step-2:  iterate through loop range(1,11)\n",
    "# step-3:  summ=summ+i\n",
    "\n",
    "# same like counter programe\n",
    "count=0\n",
    "for i in range(1,11):\n",
    "    count=count+1\n",
    "    \n",
    "print(count)"
   ]
  },
  {
   "cell_type": "code",
   "execution_count": 4,
   "id": "8a3be916",
   "metadata": {},
   "outputs": [
    {
     "name": "stdout",
     "output_type": "stream",
     "text": [
      "55\n"
     ]
    }
   ],
   "source": [
    "summ=0\n",
    "for i in range(1,11):\n",
    "    summ=summ+i\n",
    "    \n",
    "print(summ)\n",
    "\n",
    "# Step-1:  i=1   summ=0    summ=summ+i=0+1=1\n",
    "# step-2:  i=2   summ=1    summ=1+2=3\n",
    "# step-3:  i=3   summ=3    summ=3+3=6\n",
    "# step-4:  i=4   summ=6    summ=6+4=10\n",
    "\n",
    "# step-10: i=10  summ=45   summ=45+10=55"
   ]
  },
  {
   "cell_type": "code",
   "execution_count": 6,
   "id": "1d48ec22",
   "metadata": {},
   "outputs": [
    {
     "name": "stdout",
     "output_type": "stream",
     "text": [
      "55\n"
     ]
    }
   ],
   "source": [
    "summ=0\n",
    "for i in range(1,11):\n",
    "    summ=summ+i\n",
    "    \n",
    "print(summ)"
   ]
  },
  {
   "cell_type": "code",
   "execution_count": 14,
   "id": "fe0f883b",
   "metadata": {},
   "outputs": [
    {
     "name": "stdout",
     "output_type": "stream",
     "text": [
      "which divisors you want:50\n",
      "1 is the divisor for 50\n",
      "2 is the divisor for 50\n",
      "5 is the divisor for 50\n",
      "10 is the divisor for 50\n",
      "25 is the divisor for 50\n",
      "50 is the divisor for 50\n",
      "the number of divisors are: 6\n"
     ]
    }
   ],
   "source": [
    "# WAP ask the user to find the divisors of a given number\n",
    "# I want to know divisors of 10\n",
    "\n",
    "# how many times you need to run the loop\n",
    "# step-1: choose your start and stop\n",
    "# step-2: iterate through loop\n",
    "# step-3:    if num%i==0:\n",
    "# step-5:       print(i)\n",
    "\n",
    "num=eval(input(\"which divisors you want:\"))\n",
    "start=1\n",
    "stop=num+1\n",
    "count=0\n",
    "for i in range(start,stop):\n",
    "    if num%i==0:\n",
    "        print(f\"{i} is the divisor for {num}\")\n",
    "        count=count+1\n",
    "        \n",
    "print(\"the number of divisors are:\",count)"
   ]
  },
  {
   "cell_type": "code",
   "execution_count": null,
   "id": "b74f08e8",
   "metadata": {},
   "outputs": [],
   "source": [
    "Create a function for above code\n",
    "num as argument\n",
    "count as return"
   ]
  },
  {
   "cell_type": "code",
   "execution_count": 21,
   "id": "66901628",
   "metadata": {},
   "outputs": [
    {
     "name": "stdout",
     "output_type": "stream",
     "text": [
      "1 is the divisor for 10\n",
      "2 is the divisor for 10\n",
      "5 is the divisor for 10\n",
      "10 is the divisor for 10\n"
     ]
    }
   ],
   "source": [
    "def divisors(num):\n",
    "    start=1\n",
    "    stop=num+1\n",
    "    count=0\n",
    "    for i in range(start,stop):\n",
    "        if num%i==0:\n",
    "            print(f\"{i} is the divisor for {num}\")\n",
    "            count=count+1\n",
    "    return(\"the number of divisors are:\",count)\n",
    "    \n",
    "count=divisors(10)"
   ]
  },
  {
   "cell_type": "code",
   "execution_count": 22,
   "id": "27631a5a",
   "metadata": {},
   "outputs": [
    {
     "name": "stdout",
     "output_type": "stream",
     "text": [
      "('the number of divisors are:', 4)\n"
     ]
    }
   ],
   "source": [
    "print(count)"
   ]
  },
  {
   "cell_type": "code",
   "execution_count": null,
   "id": "cf9b3b49",
   "metadata": {},
   "outputs": [],
   "source": [
    "# WAP ask the user get a random number 1,10\n",
    "#     ask the user enter a number\n",
    "#     if both are matching print you won\n",
    "#     else print you lost\n",
    "# give 3 chances\n",
    "\n",
    "# step-1: import <>\n",
    "# step-2: random_num=random.randint()\n",
    "# step-3: user_num=eval()\n",
    "# step-4: if <>: print(won)\n",
    "# step-5: else: print(lost)"
   ]
  },
  {
   "cell_type": "code",
   "execution_count": 28,
   "id": "45c8d347",
   "metadata": {},
   "outputs": [
    {
     "name": "stdout",
     "output_type": "stream",
     "text": [
      "1\n",
      "guess the number:1\n",
      "in\n",
      "4\n",
      "guess the number:4\n",
      "in\n",
      "5\n",
      "guess the number:5\n",
      "in\n"
     ]
    }
   ],
   "source": [
    "import random\n",
    "for i in range(3):\n",
    "    random_number=random.randint(1,10)\n",
    "    print(random_number)\n",
    "    user_number=eval(input(\"guess the number:\"))\n",
    "    if random_number==user_number:\n",
    "        print(\"in\")\n",
    "    else:\n",
    "        print(\"out\")\n",
    "        \n",
    "# The problem: if yoy guess correct or wrong, it is asking again\n",
    "# we need to avoid that\n",
    "# improvise above code \n",
    "# when you guess correct number code should stop\n",
    "# the guess the number prompt shoud come whenver you out "
   ]
  },
  {
   "cell_type": "code",
   "execution_count": 30,
   "id": "e0be4b57",
   "metadata": {},
   "outputs": [
    {
     "name": "stdout",
     "output_type": "stream",
     "text": [
      "6\n",
      "guess the number:5\n",
      "out\n",
      "10\n",
      "guess the number:7\n",
      "out\n",
      "9\n",
      "guess the number:9\n",
      "in\n"
     ]
    }
   ],
   "source": [
    "import random\n",
    "for i in range(3):\n",
    "    random_number=random.randint(1,10)\n",
    "    print(random_number)\n",
    "    user_number=eval(input(\"guess the number:\"))\n",
    "    if random_number==user_number:\n",
    "        print(\"in\")\n",
    "        break\n",
    "    else:\n",
    "        print(\"out\")\n",
    "        \n",
    "# Improvise the above code , to communicate the user\n",
    "# about number of chances left\n",
    "# whenever he failed to guess a number, which means he already lost one chance\n",
    "# you need to display, number of chances left is"
   ]
  },
  {
   "cell_type": "code",
   "execution_count": 38,
   "id": "6f565d43",
   "metadata": {},
   "outputs": [
    {
     "name": "stdout",
     "output_type": "stream",
     "text": [
      "how many chances you want:3\n",
      "9\n",
      "guess the number:9\n",
      "in\n"
     ]
    }
   ],
   "source": [
    "import random\n",
    "chances=eval(input(\"how many chances you want:\"))\n",
    "for i in range(chances):\n",
    "    random_number=random.randint(1,10)\n",
    "    print(random_number)\n",
    "    user_number=eval(input(\"guess the number:\"))\n",
    "    if random_number==user_number:\n",
    "        print(\"in\")\n",
    "        break\n",
    "        \n",
    "    else:\n",
    "        print(\"out\")\n",
    "        print(\"the number of chances left is:\",chances-i-1)\n",
    "        if chances-i-1==0:\n",
    "            print(\"you lost all the chances\")\n",
    "            print('pls try after some time')\n",
    " \n",
    "\n",
    "#improvise above code\n",
    "#when user lost all the chances , \n",
    "# your all chances are over, pls try after 30 mins"
   ]
  },
  {
   "cell_type": "code",
   "execution_count": null,
   "id": "206f365f",
   "metadata": {},
   "outputs": [],
   "source": [
    "import random\n",
    "def won_out(tri):\n",
    "    #count=3\n",
    "    for i in range(1,tri):\n",
    "        num1=random.randint(1,10)\n",
    "        num2=eval(input(\"enter the guess:\"))\n",
    "        #count=count-1\n",
    "        if num1==num2:\n",
    "            print(\"you won\",num1)\n",
    "            break\n",
    "        else:\n",
    "            print(\"you lose\", num1)\n",
    "            #print(\"chances left:\",3-i)\n",
    "            print(\"chances left:\",tri-i)\n",
    "            if(i==(tri+1)):\n",
    "            #print(\"try again after 30 mins\")\n",
    "                        \n",
    "            \n",
    "won_out(eval(input(\"no of tries:\"))\n",
    "        \n",
    "range(1,3)  # 1,2 "
   ]
  },
  {
   "cell_type": "code",
   "execution_count": 34,
   "id": "b2f66bcf",
   "metadata": {},
   "outputs": [
    {
     "data": {
      "text/plain": [
       "2"
      ]
     },
     "execution_count": 34,
     "metadata": {},
     "output_type": "execute_result"
    }
   ],
   "source": [
    "i=0\n",
    "3-i-1"
   ]
  },
  {
   "cell_type": "code",
   "execution_count": 27,
   "id": "566cab50",
   "metadata": {},
   "outputs": [
    {
     "name": "stdout",
     "output_type": "stream",
     "text": [
      "1\n",
      "guess the number:4\n",
      "out\n",
      "guess the number:1\n",
      "in\n",
      "guess the number:1\n",
      "in\n"
     ]
    }
   ],
   "source": [
    "import random\n",
    "random_number=random.randint(1,10)\n",
    "print(random_number)\n",
    "\n",
    "for i in range(3):\n",
    "    user_number=eval(input(\"guess the number:\"))\n",
    "    if random_number==user_number:\n",
    "        print(\"in\")\n",
    "    else:\n",
    "        print(\"out\")"
   ]
  },
  {
   "cell_type": "code",
   "execution_count": null,
   "id": "b146d028",
   "metadata": {},
   "outputs": [],
   "source": [
    "import random\n",
    "for i in range(3):\n",
    "    random_number=random.randint(1,10)\n",
    "    print(random_number)\n",
    "    user_number=eval(input(\"guess the number:\"))\n",
    "    if random_number==user_number:\n",
    "        print(\"in\")\n",
    "    else:\n",
    "        print(\"out\")\n",
    "        \n",
    "#######################################################################        \n",
    "import random\n",
    "for i in range(3):\n",
    "    random_number=random.randint(1,10)\n",
    "    print(random_number)\n",
    "    user_number=eval(input(\"guess the number:\"))\n",
    "    if random_number==user_number:\n",
    "        print(\"in\")\n",
    "        break\n",
    "    else:\n",
    "        print(\"out\")  \n",
    "        \n",
    "#######################################################################        \n",
    "import random\n",
    "chances=eval(input(\"how many chances you want:\"))\n",
    "for i in range(chances):\n",
    "    random_number=random.randint(1,10)\n",
    "    print(random_number)\n",
    "    user_number=eval(input(\"guess the number:\"))\n",
    "    if random_number==user_number:\n",
    "        print(\"in\")\n",
    "        break\n",
    "        \n",
    "    else:\n",
    "        print(\"out\")\n",
    "        print(\"the number of chances left is:\",chances-i-1)\n",
    "        \n",
    "###########################################################################\n",
    "        \n",
    "import random\n",
    "chances=eval(input(\"how many chances you want:\"))\n",
    "for i in range(chances):\n",
    "    random_number=random.randint(1,10)\n",
    "    print(random_number)\n",
    "    user_number=eval(input(\"guess the number:\"))\n",
    "    if random_number==user_number:\n",
    "        print(\"in\")\n",
    "        break\n",
    "        \n",
    "    else:\n",
    "        print(\"out\")\n",
    "        print(\"the number of chances left is:\",chances-i-1)\n",
    "        if chances-i-1==0:\n",
    "            print(\"you lost all the chances\")\n",
    "            print('pls try after some time')\n",
    " \n"
   ]
  }
 ],
 "metadata": {
  "kernelspec": {
   "display_name": "Python 3 (ipykernel)",
   "language": "python",
   "name": "python3"
  },
  "language_info": {
   "codemirror_mode": {
    "name": "ipython",
    "version": 3
   },
   "file_extension": ".py",
   "mimetype": "text/x-python",
   "name": "python",
   "nbconvert_exporter": "python",
   "pygments_lexer": "ipython3",
   "version": "3.11.5"
  }
 },
 "nbformat": 4,
 "nbformat_minor": 5
}
