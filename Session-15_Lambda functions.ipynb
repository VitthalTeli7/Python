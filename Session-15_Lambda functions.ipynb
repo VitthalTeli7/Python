{
 "cells": [
  {
   "cell_type": "code",
   "execution_count": null,
   "id": "2cf11bd2",
   "metadata": {},
   "outputs": [],
   "source": [
    "- Lambda functions is also a kind of functions represenatation\n",
    "\n",
    "- More efficient way"
   ]
  },
  {
   "cell_type": "code",
   "execution_count": 1,
   "id": "c75befc8",
   "metadata": {},
   "outputs": [
    {
     "data": {
      "text/plain": [
       "20"
      ]
     },
     "execution_count": 1,
     "metadata": {},
     "output_type": "execute_result"
    }
   ],
   "source": [
    "def summ(num):\n",
    "    return(num+10)\n",
    "\n",
    "summ(10)\n",
    "\n",
    "# The function name is summ\n",
    "# the variable name is num\n",
    "# the return output is num+10"
   ]
  },
  {
   "cell_type": "code",
   "execution_count": null,
   "id": "7fbd2ee1",
   "metadata": {},
   "outputs": [],
   "source": [
    "<function_name>=lambda <variable_name>:<return output>"
   ]
  },
  {
   "cell_type": "code",
   "execution_count": 2,
   "id": "dcbaa044",
   "metadata": {},
   "outputs": [
    {
     "data": {
      "text/plain": [
       "30"
      ]
     },
     "execution_count": 2,
     "metadata": {},
     "output_type": "execute_result"
    }
   ],
   "source": [
    "summ=lambda num:num+10\n",
    "summ(20)"
   ]
  },
  {
   "cell_type": "code",
   "execution_count": 4,
   "id": "de7bf516",
   "metadata": {},
   "outputs": [
    {
     "data": {
      "text/plain": [
       "1000"
      ]
     },
     "execution_count": 4,
     "metadata": {},
     "output_type": "execute_result"
    }
   ],
   "source": [
    "def cube(num):\n",
    "    return(num*num*num)\n",
    "\n",
    "cube(10)"
   ]
  },
  {
   "cell_type": "code",
   "execution_count": 5,
   "id": "60485be4",
   "metadata": {},
   "outputs": [
    {
     "data": {
      "text/plain": [
       "8000"
      ]
     },
     "execution_count": 5,
     "metadata": {},
     "output_type": "execute_result"
    }
   ],
   "source": [
    "cube=lambda num : num*num*num\n",
    "cube(20)"
   ]
  },
  {
   "cell_type": "markdown",
   "id": "98bdd9f3",
   "metadata": {},
   "source": [
    "**Two arguments**"
   ]
  },
  {
   "cell_type": "code",
   "execution_count": 7,
   "id": "182c9ce8",
   "metadata": {},
   "outputs": [
    {
     "data": {
      "text/plain": [
       "300"
      ]
     },
     "execution_count": 7,
     "metadata": {},
     "output_type": "execute_result"
    }
   ],
   "source": [
    "def add(n1,n2):\n",
    "    return(n1+n2)\n",
    "add(100,200)"
   ]
  },
  {
   "cell_type": "code",
   "execution_count": null,
   "id": "9f39572b",
   "metadata": {},
   "outputs": [],
   "source": [
    "<function_name>=lambda <var1>,<var2>:<return output>"
   ]
  },
  {
   "cell_type": "code",
   "execution_count": 8,
   "id": "c6ce7539",
   "metadata": {},
   "outputs": [
    {
     "data": {
      "text/plain": [
       "30"
      ]
     },
     "execution_count": 8,
     "metadata": {},
     "output_type": "execute_result"
    }
   ],
   "source": [
    "add=lambda n1,n2 : n1+n2\n",
    "add(10,20)"
   ]
  },
  {
   "cell_type": "code",
   "execution_count": 12,
   "id": "af508751",
   "metadata": {},
   "outputs": [
    {
     "data": {
      "text/plain": [
       "200"
      ]
     },
     "execution_count": 12,
     "metadata": {},
     "output_type": "execute_result"
    }
   ],
   "source": [
    "mul=lambda n1,n2 :n1*n2\n",
    "mul(10,20)"
   ]
  },
  {
   "cell_type": "code",
   "execution_count": 13,
   "id": "9ef379f4",
   "metadata": {},
   "outputs": [
    {
     "data": {
      "text/plain": [
       "200.0"
      ]
     },
     "execution_count": 13,
     "metadata": {},
     "output_type": "execute_result"
    }
   ],
   "source": [
    "def avg(n1,n2,n3):\n",
    "    return((n1+n2+n3)/3)\n",
    "avg(100,200,300)"
   ]
  },
  {
   "cell_type": "code",
   "execution_count": 14,
   "id": "27f696d6",
   "metadata": {},
   "outputs": [
    {
     "data": {
      "text/plain": [
       "20.0"
      ]
     },
     "execution_count": 14,
     "metadata": {},
     "output_type": "execute_result"
    }
   ],
   "source": [
    "avg=lambda n1,n2,n3 :(n1+n2+n3)/3\n",
    "avg(10,20,30)"
   ]
  },
  {
   "cell_type": "code",
   "execution_count": 15,
   "id": "12049cbc",
   "metadata": {},
   "outputs": [
    {
     "data": {
      "text/plain": [
       "200.0"
      ]
     },
     "execution_count": 15,
     "metadata": {},
     "output_type": "execute_result"
    }
   ],
   "source": [
    "def avg(n1,n2,n3=300):\n",
    "    return((n1+n2+n3)/3)\n",
    "avg(100,200)"
   ]
  },
  {
   "cell_type": "code",
   "execution_count": 16,
   "id": "8f14d773",
   "metadata": {},
   "outputs": [
    {
     "data": {
      "text/plain": [
       "20.0"
      ]
     },
     "execution_count": 16,
     "metadata": {},
     "output_type": "execute_result"
    }
   ],
   "source": [
    "avg=lambda n1,n2,n3=30 :(n1+n2+n3)/3\n",
    "avg(10,20)"
   ]
  },
  {
   "cell_type": "markdown",
   "id": "80afd557",
   "metadata": {},
   "source": [
    "$if-else$"
   ]
  },
  {
   "cell_type": "code",
   "execution_count": 17,
   "id": "82bb5f6f",
   "metadata": {},
   "outputs": [
    {
     "data": {
      "text/plain": [
       "200"
      ]
     },
     "execution_count": 17,
     "metadata": {},
     "output_type": "execute_result"
    }
   ],
   "source": [
    "def Max(n1,n2):\n",
    "    if n1>n2:\n",
    "        return(n1)\n",
    "    else:\n",
    "        return(n2)\n",
    "    \n",
    "Max(100,200)"
   ]
  },
  {
   "cell_type": "code",
   "execution_count": null,
   "id": "a3da1534",
   "metadata": {},
   "outputs": [],
   "source": [
    "lambda <v1,v2,v3...>: <output>\n",
    "\n",
    "if -else we need to write in a single\n",
    "\n",
    "[<if_output> <if_con> else <else_ouput>]\n",
    "\n",
    "\n",
    "<function_name>=lambda <var1,var2>:<if_output> <if_con> else <else_ouput>"
   ]
  },
  {
   "cell_type": "code",
   "execution_count": 18,
   "id": "7b2c6ed1",
   "metadata": {},
   "outputs": [
    {
     "data": {
      "text/plain": [
       "200"
      ]
     },
     "execution_count": 18,
     "metadata": {},
     "output_type": "execute_result"
    }
   ],
   "source": [
    "Max=lambda n1,n2: n1 if n1>n2 else n2\n",
    "Max(100,200)"
   ]
  },
  {
   "cell_type": "code",
   "execution_count": 21,
   "id": "9b7524cc",
   "metadata": {},
   "outputs": [
    {
     "data": {
      "text/plain": [
       "['Hyd', 'Mumbai', 'Chennai']"
      ]
     },
     "execution_count": 21,
     "metadata": {},
     "output_type": "execute_result"
    }
   ],
   "source": [
    "list1=['hyd','mumbai','chennai']\n",
    "# list2=['Hyd','Mumbai','Chennai']\n",
    "##################################################\n",
    "list2=[]\n",
    "for i in list1:\n",
    "    list2.append(i.capitalize())\n",
    "    \n",
    "#######################################################    \n",
    "list2=[i.capitalize() for i in list1]\n",
    "list2"
   ]
  },
  {
   "cell_type": "markdown",
   "id": "b7a49d70",
   "metadata": {},
   "source": [
    "$map$"
   ]
  },
  {
   "cell_type": "code",
   "execution_count": null,
   "id": "7ba9750c",
   "metadata": {},
   "outputs": [],
   "source": [
    "list(map(lambda <variable>:<output>,<iterator>))"
   ]
  },
  {
   "cell_type": "code",
   "execution_count": 31,
   "id": "a6beba0e",
   "metadata": {},
   "outputs": [
    {
     "data": {
      "text/plain": [
       "['Hyd', 'Mumbai', 'Chennai']"
      ]
     },
     "execution_count": 31,
     "metadata": {},
     "output_type": "execute_result"
    }
   ],
   "source": [
    "list1=['hyd','mumbai','chennai']\n",
    "list(map(lambda i : i.capitalize(),list1))   # list(map(a,b))"
   ]
  },
  {
   "cell_type": "code",
   "execution_count": null,
   "id": "b15eb961",
   "metadata": {},
   "outputs": [],
   "source": [
    "list1=['hyd','mumbai','chennai']\n",
    "# list2=['Hyd','Mumbai','Chennai']\n",
    "##################################################\n",
    "list2=[]\n",
    "for i in list1:\n",
    "    list2.append(i.capitalize())\n",
    "    \n",
    "#######################################################    \n",
    "list2=[i.capitalize() for i in list1]\n",
    "list2\n",
    "###################################################\n",
    "list1=['hyd','mumbai','chennai']\n",
    "list2=list(map(lambda i : i.capitalize(),list1)) "
   ]
  },
  {
   "cell_type": "code",
   "execution_count": 34,
   "id": "73c0abed",
   "metadata": {},
   "outputs": [
    {
     "data": {
      "text/plain": [
       "[1, 4, 9, 16]"
      ]
     },
     "execution_count": 34,
     "metadata": {},
     "output_type": "execute_result"
    }
   ],
   "source": [
    "l1=[1,2,3,4]\n",
    "#l2=[1,4,9,16]\n",
    "\n",
    "list(map(lambda i: i*i,l1))"
   ]
  },
  {
   "cell_type": "code",
   "execution_count": 37,
   "id": "f6844900",
   "metadata": {},
   "outputs": [
    {
     "data": {
      "text/plain": [
       "['hyder#abad', 'Mum#bai', 'Chenn#ai']"
      ]
     },
     "execution_count": 37,
     "metadata": {},
     "output_type": "execute_result"
    }
   ],
   "source": [
    "l1=['hyder#abad','Mum#bai','Chenn#ai','Blr','pune']\n",
    "# l2=['hyder#abad','Mum#bai','Chenn#ai']\n",
    "###################################################\n",
    "l2=[]\n",
    "for i in l1:\n",
    "    if '#' in i:\n",
    "        l2.append(i)\n",
    "l2\n",
    "\n",
    "######################################################\n",
    "l2=[i for i in l1 if '#' in i]\n",
    "l2"
   ]
  },
  {
   "cell_type": "markdown",
   "id": "55639ecc",
   "metadata": {},
   "source": [
    "$filter$"
   ]
  },
  {
   "cell_type": "code",
   "execution_count": 45,
   "id": "c21a26d8",
   "metadata": {},
   "outputs": [
    {
     "data": {
      "text/plain": [
       "[True, True, True, False, False]"
      ]
     },
     "execution_count": 45,
     "metadata": {},
     "output_type": "execute_result"
    }
   ],
   "source": [
    "l1=['hyder#abad','Mum#bai','Chenn#ai','Blr','pune']\n",
    "list(map(lambda i : '#' in i,l1))"
   ]
  },
  {
   "cell_type": "code",
   "execution_count": 46,
   "id": "c66ef540",
   "metadata": {},
   "outputs": [
    {
     "data": {
      "text/plain": [
       "['hyder#abad', 'Mum#bai', 'Chenn#ai']"
      ]
     },
     "execution_count": 46,
     "metadata": {},
     "output_type": "execute_result"
    }
   ],
   "source": [
    "l1=['hyder#abad','Mum#bai','Chenn#ai','Blr','pune']\n",
    "list(filter(lambda i : '#' in i,l1))\n"
   ]
  },
  {
   "cell_type": "code",
   "execution_count": null,
   "id": "999b49b2",
   "metadata": {},
   "outputs": [],
   "source": [
    "map means map the input values to output\n",
    "                   i               i*i\n",
    "                   i               i.capitalize()\n",
    "                   i               '#' in i (T/F)"
   ]
  },
  {
   "cell_type": "code",
   "execution_count": null,
   "id": "b5d0da44",
   "metadata": {},
   "outputs": [],
   "source": []
  },
  {
   "cell_type": "code",
   "execution_count": null,
   "id": "e34153b0",
   "metadata": {},
   "outputs": [],
   "source": []
  },
  {
   "cell_type": "code",
   "execution_count": null,
   "id": "0247fca9",
   "metadata": {},
   "outputs": [],
   "source": []
  },
  {
   "cell_type": "code",
   "execution_count": null,
   "id": "1fa68af5",
   "metadata": {},
   "outputs": [],
   "source": []
  },
  {
   "cell_type": "code",
   "execution_count": null,
   "id": "f6fb7a55",
   "metadata": {},
   "outputs": [],
   "source": []
  },
  {
   "cell_type": "code",
   "execution_count": null,
   "id": "f5cb71b2",
   "metadata": {},
   "outputs": [],
   "source": []
  },
  {
   "cell_type": "code",
   "execution_count": null,
   "id": "825a1f34",
   "metadata": {},
   "outputs": [],
   "source": []
  },
  {
   "cell_type": "code",
   "execution_count": null,
   "id": "477c13ab",
   "metadata": {},
   "outputs": [],
   "source": []
  }
 ],
 "metadata": {
  "kernelspec": {
   "display_name": "Python 3 (ipykernel)",
   "language": "python",
   "name": "python3"
  },
  "language_info": {
   "codemirror_mode": {
    "name": "ipython",
    "version": 3
   },
   "file_extension": ".py",
   "mimetype": "text/x-python",
   "name": "python",
   "nbconvert_exporter": "python",
   "pygments_lexer": "ipython3",
   "version": "3.11.5"
  }
 },
 "nbformat": 4,
 "nbformat_minor": 5
}
