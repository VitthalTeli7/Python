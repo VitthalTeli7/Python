{
 "cells": [
  {
   "cell_type": "markdown",
   "id": "e47df228",
   "metadata": {},
   "source": [
    "- variables\n",
    "\n",
    "- Data types\n",
    "\n",
    "- type casting\n",
    "\n",
    "- print \n",
    "\n",
    "\n",
    "- Basic codes\n",
    "\n",
    "    - eval\n",
    "    - input\n",
    "\n",
    "- if-else conditions\n",
    "\n",
    "- try-except\n",
    "\n",
    " "
   ]
  },
  {
   "cell_type": "code",
   "execution_count": null,
   "id": "5865dc5f",
   "metadata": {},
   "outputs": [],
   "source": [
    "#Functions:\n",
    "\n",
    "# re use the same code\n",
    "# 20 having birtah day\n",
    "# omkar hapy bday\n",
    "# suresh hapy bday"
   ]
  },
  {
   "cell_type": "code",
   "execution_count": 1,
   "id": "cf8a7b6d",
   "metadata": {},
   "outputs": [
    {
     "name": "stdout",
     "output_type": "stream",
     "text": [
      "enter the number1:100\n",
      "enter the number2:200\n",
      "300\n"
     ]
    }
   ],
   "source": [
    "num1=eval(input(\"enter the number1:\"))\n",
    "num2=eval(input(\"enter the number2:\"))\n",
    "print(num1+num2)"
   ]
  },
  {
   "cell_type": "code",
   "execution_count": null,
   "id": "11d1ced5",
   "metadata": {},
   "outputs": [],
   "source": [
    "def <function_name>():\n",
    "    # write your code"
   ]
  },
  {
   "cell_type": "code",
   "execution_count": 3,
   "id": "82f734a7",
   "metadata": {},
   "outputs": [
    {
     "name": "stdout",
     "output_type": "stream",
     "text": [
      "enter the number1:20\n",
      "enter the number2:30\n",
      "50\n"
     ]
    }
   ],
   "source": [
    "def summ():\n",
    "    num1=eval(input(\"enter the number1:\"))\n",
    "    num2=eval(input(\"enter the number2:\"))\n",
    "    print(num1+num2)\n",
    "    \n",
    "summ()"
   ]
  },
  {
   "cell_type": "code",
   "execution_count": 12,
   "id": "17b553ce",
   "metadata": {},
   "outputs": [],
   "source": [
    "def addition1():\n",
    "    num1=eval(input(\"enter the number1:\"))\n",
    "    num2=eval(input(\"enter the number2:\"))\n",
    "    print(num11+num2)\n",
    "    \n"
   ]
  },
  {
   "cell_type": "code",
   "execution_count": 9,
   "id": "84cf10c1",
   "metadata": {},
   "outputs": [
    {
     "name": "stdout",
     "output_type": "stream",
     "text": [
      "enter the number1:20\n",
      "enter the number2:30\n"
     ]
    },
    {
     "ename": "NameError",
     "evalue": "name 'num11' is not defined",
     "output_type": "error",
     "traceback": [
      "\u001b[1;31m---------------------------------------------------------------------------\u001b[0m",
      "\u001b[1;31mNameError\u001b[0m                                 Traceback (most recent call last)",
      "Cell \u001b[1;32mIn[9], line 1\u001b[0m\n\u001b[1;32m----> 1\u001b[0m addition1()\n",
      "Cell \u001b[1;32mIn[8], line 4\u001b[0m, in \u001b[0;36maddition1\u001b[1;34m()\u001b[0m\n\u001b[0;32m      2\u001b[0m num1\u001b[38;5;241m=\u001b[39m\u001b[38;5;28meval\u001b[39m(\u001b[38;5;28minput\u001b[39m(\u001b[38;5;124m\"\u001b[39m\u001b[38;5;124menter the number1:\u001b[39m\u001b[38;5;124m\"\u001b[39m))\n\u001b[0;32m      3\u001b[0m num2\u001b[38;5;241m=\u001b[39m\u001b[38;5;28meval\u001b[39m(\u001b[38;5;28minput\u001b[39m(\u001b[38;5;124m\"\u001b[39m\u001b[38;5;124menter the number2:\u001b[39m\u001b[38;5;124m\"\u001b[39m))\n\u001b[1;32m----> 4\u001b[0m \u001b[38;5;28mprint\u001b[39m(num11\u001b[38;5;241m+\u001b[39mnum2)\n",
      "\u001b[1;31mNameError\u001b[0m: name 'num11' is not defined"
     ]
    }
   ],
   "source": [
    "addition1()"
   ]
  },
  {
   "cell_type": "markdown",
   "id": "5d4d2d1b",
   "metadata": {},
   "source": [
    "- defining function will not give the error\n",
    "\n",
    "- you will identify the error when you call the function only\n",
    "\n",
    "- syntax error only will get , when define the function call"
   ]
  },
  {
   "cell_type": "code",
   "execution_count": 13,
   "id": "4e7cec59",
   "metadata": {},
   "outputs": [
    {
     "name": "stdout",
     "output_type": "stream",
     "text": [
      "enter number1:20\n",
      "enter number2:30\n",
      "enter number3:40\n",
      "the average of 20,30 and 40 is 30.0\n"
     ]
    }
   ],
   "source": [
    "# wap ask the user enter three numbers\n",
    "# find the average\n",
    "# implement the function call\n",
    "n1=eval(input(\"enter number1:\"))\n",
    "n2=eval(input(\"enter number2:\"))\n",
    "n3=eval(input(\"enter number3:\"))\n",
    "avg=(n1+n2+n3)/3\n",
    "print(f\"the average of {n1},{n2} and {n3} is {avg}\")"
   ]
  },
  {
   "cell_type": "code",
   "execution_count": 19,
   "id": "c5c4a4af",
   "metadata": {},
   "outputs": [
    {
     "name": "stdout",
     "output_type": "stream",
     "text": [
      "enter number1:3\n",
      "enter number2:4\n",
      "enter number3:4\n",
      "the average of 3,4 and 4 is 3.67\n"
     ]
    }
   ],
   "source": [
    "def average():\n",
    "    n1=eval(input(\"enter number1:\"))\n",
    "    n2=eval(input(\"enter number2:\"))\n",
    "    n3=eval(input(\"enter number3:\"))\n",
    "    avg=(n1+n2+n3)/3 # round((n1+n2+n3)/3,2)\n",
    "    out=round(avg,2)\n",
    "    print(f\"the average of {n1},{n2} and {n3} is {out}\")\n",
    "    \n",
    "average()"
   ]
  },
  {
   "cell_type": "code",
   "execution_count": 20,
   "id": "4176820d",
   "metadata": {},
   "outputs": [
    {
     "name": "stdout",
     "output_type": "stream",
     "text": [
      "enter the bill amount:1000\n",
      "enter the tip in %:10\n",
      "the total bill is: 1100.0\n"
     ]
    }
   ],
   "source": [
    "# WAP ask the user enter bill amount\n",
    "#     ask the user enter tip percentage\n",
    "#     calculate total bill\n",
    "#implement the function\n",
    "\n",
    "bill=eval(input(\"enter the bill amount:\"))\n",
    "tip_per=eval(input(\"enter the tip in %:\"))\n",
    "tip_amount=bill*tip_per/100  # 1000*10/100=100\n",
    "total_amount=bill+tip_amount\n",
    "print(f\"the total bill is: {total_amount}\")"
   ]
  },
  {
   "cell_type": "code",
   "execution_count": 21,
   "id": "da444f70",
   "metadata": {},
   "outputs": [
    {
     "name": "stdout",
     "output_type": "stream",
     "text": [
      "enter the bill amount:1000\n",
      "enter the tip in %:10\n",
      "the total bill is: 1100.0\n"
     ]
    }
   ],
   "source": [
    "def bill_pay():\n",
    "    bill=eval(input(\"enter the bill amount:\"))\n",
    "    tip_per=eval(input(\"enter the tip in %:\"))\n",
    "    tip_amount=bill*tip_per/100  # 1000*10/100=100\n",
    "    total_amount=bill+tip_amount\n",
    "    print(f\"the total bill is: {total_amount}\")\n",
    "    \n",
    "bill_pay()"
   ]
  },
  {
   "cell_type": "code",
   "execution_count": 24,
   "id": "50388527",
   "metadata": {},
   "outputs": [
    {
     "data": {
      "text/plain": [
       "<function __main__.bill_pay()>"
      ]
     },
     "execution_count": 24,
     "metadata": {},
     "output_type": "execute_result"
    }
   ],
   "source": [
    "bill_pay()"
   ]
  },
  {
   "cell_type": "code",
   "execution_count": 26,
   "id": "9e2423df",
   "metadata": {},
   "outputs": [
    {
     "data": {
      "text/plain": [
       "<bound method Random.randint of <random.Random object at 0x000001E4B9129850>>"
      ]
     },
     "execution_count": 26,
     "metadata": {},
     "output_type": "execute_result"
    }
   ],
   "source": [
    "import random\n",
    "random.randint()"
   ]
  },
  {
   "cell_type": "markdown",
   "id": "5fffd589",
   "metadata": {},
   "source": [
    "Note: **Functions-methods both are same**"
   ]
  },
  {
   "cell_type": "code",
   "execution_count": 27,
   "id": "508629eb",
   "metadata": {},
   "outputs": [
    {
     "name": "stdout",
     "output_type": "stream",
     "text": [
      "hello\n",
      "1\n",
      "good\n",
      "enter the number1:20\n",
      "enter the number2:30\n",
      "50\n",
      "2\n",
      "bye\n"
     ]
    }
   ],
   "source": [
    "print(\"hello\")\n",
    "print(1)\n",
    "def addition1():\n",
    "    num1=eval(input(\"enter the number1:\"))\n",
    "    num2=eval(input(\"enter the number2:\"))\n",
    "    print(num1+num2)\n",
    "    print(2)\n",
    "    \n",
    "print(\"good\")\n",
    "addition1()\n",
    "print('bye')\n",
    "\n",
    "# hello  1 good 20 30 50 2 bye"
   ]
  },
  {
   "cell_type": "code",
   "execution_count": 28,
   "id": "b7ea2c8e",
   "metadata": {},
   "outputs": [
    {
     "name": "stdout",
     "output_type": "stream",
     "text": [
      "enter the number1:p\n",
      "name 'p' is not defined\n"
     ]
    }
   ],
   "source": [
    "def addition1():\n",
    "    try:\n",
    "        num1=eval(input(\"enter the number1:\"))\n",
    "        num2=eval(input(\"enter the number2:\"))\n",
    "        print(num1+num2)\n",
    "    except Exception as e:\n",
    "        print(e)\n",
    "        \n",
    "addition1()"
   ]
  },
  {
   "cell_type": "code",
   "execution_count": null,
   "id": "bc6fddfa",
   "metadata": {},
   "outputs": [],
   "source": [
    "# BASIC CODES ASSIGNMENT : 3days"
   ]
  },
  {
   "cell_type": "code",
   "execution_count": 1,
   "id": "726edd0b",
   "metadata": {},
   "outputs": [
    {
     "name": "stdout",
     "output_type": "stream",
     "text": [
      "enter the number:20\n",
      "even\n"
     ]
    }
   ],
   "source": [
    "# WAP ask the user enter a number \n",
    "# find it is an even or odd\n",
    "# create a function on this\n",
    "\n",
    "num=eval(input(\"enter the number:\"))\n",
    "if num%2==0:\n",
    "    print(\"even\")\n",
    "else:\n",
    "    print(\"odd\")"
   ]
  },
  {
   "cell_type": "code",
   "execution_count": 2,
   "id": "0113e891",
   "metadata": {},
   "outputs": [],
   "source": [
    "def even_odd():\n",
    "    num=eval(input(\"enter the number:\"))\n",
    "    if num%2==0:\n",
    "        print(\"even\")\n",
    "    else:\n",
    "        print(\"odd\")"
   ]
  },
  {
   "cell_type": "code",
   "execution_count": 3,
   "id": "0a367b34",
   "metadata": {},
   "outputs": [
    {
     "name": "stdout",
     "output_type": "stream",
     "text": [
      "enter the number:30\n",
      "even\n"
     ]
    }
   ],
   "source": [
    "even_odd()"
   ]
  },
  {
   "cell_type": "code",
   "execution_count": null,
   "id": "b38ec446",
   "metadata": {},
   "outputs": [],
   "source": [
    "offline:79039 43156   Piyush DS JAN 2024 Offline\n",
    "online:                     DS JAN 2024 Online\n",
    "    \n",
    "discussions healthy discusiions\n",
    "information post it\n",
    "material post it\n",
    "qn post it\n",
    "qn post it\n",
    "\n",
    "class information\n",
    "doubt"
   ]
  },
  {
   "cell_type": "code",
   "execution_count": 5,
   "id": "e257ec71",
   "metadata": {},
   "outputs": [
    {
     "name": "stdout",
     "output_type": "stream",
     "text": [
      "enter the number:p\n",
      "name 'p' is not defined\n"
     ]
    }
   ],
   "source": [
    "def even_odd():\n",
    "    try:\n",
    "        num=eval(input(\"enter the number:\"))\n",
    "        if num%2==0:\n",
    "            print(\"even\")\n",
    "        else:\n",
    "            print(\"odd\")\n",
    "    except Exception as e:\n",
    "        print(e)\n",
    "        \n",
    "even_odd()"
   ]
  },
  {
   "cell_type": "code",
   "execution_count": null,
   "id": "2d58d09b",
   "metadata": {},
   "outputs": [],
   "source": [
    "# Implement the above code by providing a random value"
   ]
  },
  {
   "cell_type": "code",
   "execution_count": 8,
   "id": "e2e187a8",
   "metadata": {},
   "outputs": [
    {
     "name": "stdout",
     "output_type": "stream",
     "text": [
      "12 is an even\n"
     ]
    }
   ],
   "source": [
    "import random\n",
    "\n",
    "def even_odd():\n",
    "    try:\n",
    "        num=random.randint(10,100)\n",
    "        if num%2==0:\n",
    "            print(f\"{num} is an even\")\n",
    "        else:\n",
    "            print(f\"{num} is an odd\")\n",
    "    except Exception as e:\n",
    "        print(e)\n",
    "        \n",
    "even_odd()"
   ]
  },
  {
   "cell_type": "code",
   "execution_count": 13,
   "id": "9cb6ff3f",
   "metadata": {},
   "outputs": [
    {
     "name": "stdout",
     "output_type": "stream",
     "text": [
      "enter the number9\n",
      "out\n"
     ]
    }
   ],
   "source": [
    "# wap ask the user get a random number : num1\n",
    "#     ask the user enter a number from keyboard : num2\n",
    "#     if num1==num2: print(\"in\")\n",
    "#     other wise print(\"out\")\n",
    "# create the function on this\n",
    "\n",
    "def game():\n",
    "    n1=random.randint(1,10)\n",
    "    n2=eval(input(\"enter the number\"))\n",
    "    if n1==n2:\n",
    "        print(\"in\")\n",
    "    else:\n",
    "        print(\"out\")\n",
    "        \n",
    "game()"
   ]
  },
  {
   "cell_type": "code",
   "execution_count": 16,
   "id": "1e05824c",
   "metadata": {},
   "outputs": [],
   "source": [
    "def summ():  # inside bracket any values are there : NO\n",
    "    print(\"summ function called\")\n",
    "    num1=eval(input(\"enter the number1:\"))\n",
    "    num2=eval(input(\"enter the number2:\"))\n",
    "    print(num1+num2)\n",
    "    \n",
    "\n",
    "#################################################################\n",
    "def average():  # NO\n",
    "    print(\"avergae function called\")\n",
    "    n1=eval(input(\"enter number1:\"))\n",
    "    n2=eval(input(\"enter number2:\"))\n",
    "    n3=eval(input(\"enter number3:\"))\n",
    "    avg=(n1+n2+n3)/3 # round((n1+n2+n3)/3,2)\n",
    "    out=round(avg,2)\n",
    "    print(f\"the average of {n1},{n2} and {n3} is {out}\")\n",
    "    \n",
    "\n",
    "\n",
    "#######################################################################\n",
    "\n",
    "def bill_pay(): # NO\n",
    "    print(\"billpay function called\")\n",
    "    bill=eval(input(\"enter the bill amount:\"))\n",
    "    tip_per=eval(input(\"enter the tip in %:\"))\n",
    "    tip_amount=bill*tip_per/100  # 1000*10/100=100\n",
    "    total_amount=bill+tip_amount\n",
    "    print(f\"the total bill is: {total_amount}\")\n",
    "    \n",
    "\n",
    "\n",
    "#########################################################################\n",
    "\n",
    "def even_odd(): NO\n",
    "    print(\"even_odd function called\")\n",
    "    num=eval(input(\"enter the number:\"))\n",
    "    if num%2==0:\n",
    "        print(\"even\")\n",
    "    else:\n",
    "        print(\"odd\")\n",
    "        \n",
    "#############################################################################\n",
    "        \n",
    "def game():# NO\n",
    "    print(\"game function called\")\n",
    "    n1=random.randint(1,10)\n",
    "    n2=eval(input(\"enter the number\"))\n",
    "    if n1==n2:\n",
    "        print(\"in\")\n",
    "    else:\n",
    "        print(\"out\")\n",
    "        \n"
   ]
  },
  {
   "cell_type": "code",
   "execution_count": 18,
   "id": "aefca74c",
   "metadata": {},
   "outputs": [
    {
     "name": "stdout",
     "output_type": "stream",
     "text": [
      "summ function called\n",
      "enter the number1:20\n",
      "enter the number2:30\n",
      "50\n",
      "=========================\n",
      "avergae function called\n",
      "enter number1:20\n",
      "enter number2:30\n",
      "enter number3:40\n",
      "the average of 20,30 and 40 is 30.0\n",
      "=========================\n",
      "billpay function called\n",
      "enter the bill amount:1000\n",
      "enter the tip in %:10\n",
      "the total bill is: 1100.0\n",
      "=========================\n",
      "even_odd function called\n",
      "enter the number:55\n",
      "odd\n",
      "===========================\n",
      "game function called\n",
      "enter the number7\n",
      "out\n"
     ]
    }
   ],
   "source": [
    "piyush.summ()\n",
    "print(\"=========================\")\n",
    "piusdh.average()\n",
    "print(\"=========================\")\n",
    "bill_pay()\n",
    "print(\"=========================\")\n",
    "even_odd()\n",
    "print(\"===========================\")\n",
    "game()"
   ]
  },
  {
   "cell_type": "code",
   "execution_count": 19,
   "id": "14a7862e",
   "metadata": {},
   "outputs": [
    {
     "data": {
      "text/plain": [
       "['BPF',\n",
       " 'LOG4',\n",
       " 'NV_MAGICCONST',\n",
       " 'RECIP_BPF',\n",
       " 'Random',\n",
       " 'SG_MAGICCONST',\n",
       " 'SystemRandom',\n",
       " 'TWOPI',\n",
       " '_ONE',\n",
       " '_Sequence',\n",
       " '_Set',\n",
       " '__all__',\n",
       " '__builtins__',\n",
       " '__cached__',\n",
       " '__doc__',\n",
       " '__file__',\n",
       " '__loader__',\n",
       " '__name__',\n",
       " '__package__',\n",
       " '__spec__',\n",
       " '_accumulate',\n",
       " '_acos',\n",
       " '_bisect',\n",
       " '_ceil',\n",
       " '_cos',\n",
       " '_e',\n",
       " '_exp',\n",
       " '_floor',\n",
       " '_index',\n",
       " '_inst',\n",
       " '_isfinite',\n",
       " '_log',\n",
       " '_os',\n",
       " '_pi',\n",
       " '_random',\n",
       " '_repeat',\n",
       " '_sha512',\n",
       " '_sin',\n",
       " '_sqrt',\n",
       " '_test',\n",
       " '_test_generator',\n",
       " '_urandom',\n",
       " '_warn',\n",
       " 'betavariate',\n",
       " 'choice',\n",
       " 'choices',\n",
       " 'expovariate',\n",
       " 'gammavariate',\n",
       " 'gauss',\n",
       " 'getrandbits',\n",
       " 'getstate',\n",
       " 'lognormvariate',\n",
       " 'normalvariate',\n",
       " 'paretovariate',\n",
       " 'randbytes',\n",
       " 'randint',\n",
       " 'random',\n",
       " 'randrange',\n",
       " 'sample',\n",
       " 'seed',\n",
       " 'setstate',\n",
       " 'shuffle',\n",
       " 'triangular',\n",
       " 'uniform',\n",
       " 'vonmisesvariate',\n",
       " 'weibullvariate']"
      ]
     },
     "execution_count": 19,
     "metadata": {},
     "output_type": "execute_result"
    }
   ],
   "source": [
    "dir(random)"
   ]
  },
  {
   "cell_type": "markdown",
   "id": "098d77cd",
   "metadata": {},
   "source": [
    "- function with out arguments\n",
    "\n",
    "- till now we developed some functions \n",
    "\n",
    "- inside bracket there is no values\n",
    "\n",
    "- what ever you provide inside bracket is called as arguments or parameters"
   ]
  },
  {
   "cell_type": "markdown",
   "id": "015a43a6",
   "metadata": {},
   "source": [
    "**Function with arguments**"
   ]
  },
  {
   "cell_type": "code",
   "execution_count": null,
   "id": "7e173896",
   "metadata": {},
   "outputs": [],
   "source": [
    "def summ(): \n",
    "    num1=eval(input(\"enter the number1:\"))\n",
    "    num2=eval(input(\"enter the number2:\"))\n",
    "    add=num1+num2\n",
    "    print(add)\n",
    "    \n",
    "# Q1) in above function how many variables are there\n",
    "#      num1   num2   add\n",
    "#Q2) how many input variable are there: 2  num1  num2\n",
    "# Q3) how many output variables are there: 1   add"
   ]
  },
  {
   "cell_type": "code",
   "execution_count": 20,
   "id": "07a96935",
   "metadata": {},
   "outputs": [
    {
     "name": "stdout",
     "output_type": "stream",
     "text": [
      "50\n"
     ]
    }
   ],
   "source": [
    "def summ(num1,num2): \n",
    "    add=num1+num2\n",
    "    print(add)\n",
    "    \n",
    "# In above inside function how many lines are :2\n",
    "\n",
    "summ(20,30)"
   ]
  },
  {
   "cell_type": "code",
   "execution_count": 25,
   "id": "1cca9213",
   "metadata": {},
   "outputs": [
    {
     "name": "stdout",
     "output_type": "stream",
     "text": [
      "100\n"
     ]
    }
   ],
   "source": [
    "def summ(num1,num2): \n",
    "    add=num1+num2\n",
    "    print(add)\n",
    "    \n",
    "summ(50,50)"
   ]
  },
  {
   "cell_type": "code",
   "execution_count": null,
   "id": "ef8afdd7",
   "metadata": {},
   "outputs": [],
   "source": [
    "def average(): \n",
    "    n1=eval(input(\"enter number1:\"))\n",
    "    n2=eval(input(\"enter number2:\"))\n",
    "    n3=eval(input(\"enter number3:\"))\n",
    "    avg=(n1+n2+n3)/3 # round((n1+n2+n3)/3,2)\n",
    "    out=round(avg,2)\n",
    "    print(f\"the average of {n1},{n2} and {n3} is {out}\")"
   ]
  },
  {
   "cell_type": "code",
   "execution_count": 26,
   "id": "0ad5fb23",
   "metadata": {},
   "outputs": [
    {
     "name": "stdout",
     "output_type": "stream",
     "text": [
      "the average of 20,30 and 40 is 30.0\n"
     ]
    }
   ],
   "source": [
    "def average(n1,n2,n3): \n",
    "    avg=(n1+n2+n3)/3 \n",
    "    out=round(avg,2)\n",
    "    print(f\"the average of {n1},{n2} and {n3} is {out}\")\n",
    "    \n",
    "average(20,30,40)"
   ]
  },
  {
   "cell_type": "code",
   "execution_count": 27,
   "id": "2bdfc791",
   "metadata": {},
   "outputs": [
    {
     "name": "stdout",
     "output_type": "stream",
     "text": [
      "num1: 150\n",
      "num2: 50\n",
      "200\n"
     ]
    }
   ],
   "source": [
    "def summ(num1,num2):\n",
    "    print(\"num1:\",num1)\n",
    "    print(\"num2:\",num2)\n",
    "    add=num1+num2\n",
    "    print(add)\n",
    "    \n",
    "summ(150,50)"
   ]
  },
  {
   "cell_type": "code",
   "execution_count": 32,
   "id": "a45753ae",
   "metadata": {},
   "outputs": [
    {
     "name": "stdout",
     "output_type": "stream",
     "text": [
      "400\n"
     ]
    }
   ],
   "source": [
    "def summ(num1):\n",
    "    num2=200\n",
    "    add=num1+num2\n",
    "    print(add)\n",
    "    \n",
    "summ(200)"
   ]
  },
  {
   "cell_type": "code",
   "execution_count": 35,
   "id": "05dad578",
   "metadata": {},
   "outputs": [
    {
     "name": "stdout",
     "output_type": "stream",
     "text": [
      "200\n"
     ]
    }
   ],
   "source": [
    "num1=500\n",
    "#################################\n",
    "def summ(num1,num2):\n",
    "    num1=2000\n",
    "    add=num1+num2\n",
    "    print(add)\n",
    "####################################\n",
    "num1=1000\n",
    "summ(150,50)\n",
    "\n",
    "\n",
    "#have you intialized any values before function call\n",
    "#what are the new values when you are calling the function\n",
    "#what are the new values when function is executing\n"
   ]
  },
  {
   "cell_type": "code",
   "execution_count": 34,
   "id": "c718facb",
   "metadata": {},
   "outputs": [
    {
     "data": {
      "text/plain": [
       "1000"
      ]
     },
     "execution_count": 34,
     "metadata": {},
     "output_type": "execute_result"
    }
   ],
   "source": [
    "num1=100\n",
    "num1=1000\n",
    "num1"
   ]
  },
  {
   "cell_type": "code",
   "execution_count": 36,
   "id": "d32ec5bf",
   "metadata": {},
   "outputs": [
    {
     "name": "stdout",
     "output_type": "stream",
     "text": [
      "2050\n"
     ]
    },
    {
     "data": {
      "text/plain": [
       "1400"
      ]
     },
     "execution_count": 36,
     "metadata": {},
     "output_type": "execute_result"
    }
   ],
   "source": [
    "num1=500\n",
    "num2=700\n",
    "def summ(num1,num2):\n",
    "    num1=2000\n",
    "    add=num1+num2\n",
    "    print(add)\n",
    "\n",
    "num1=num2  # 700\n",
    "num2=num1  # 700 is\n",
    "summ(150,50)  #  it is not return any values\n",
    "add=num1+num2\n",
    "add\n",
    "\n",
    "# Function will not return any values\n",
    "# untill unless you mentiond return keyword inside the function"
   ]
  },
  {
   "cell_type": "code",
   "execution_count": null,
   "id": "8d747fce",
   "metadata": {},
   "outputs": [],
   "source": [
    "def bill_pay(): \n",
    "    bill=eval(input(\"enter the bill amount:\"))\n",
    "    tip_per=eval(input(\"enter the tip in %:\"))\n",
    "    tip_amount=bill*tip_per/100  # 1000*10/100=100\n",
    "    total_amount=bill+tip_amount\n",
    "    print(f\"the total bill is: {total_amount}\")\n",
    "    \n",
    "# Implement the above function with arguments"
   ]
  },
  {
   "cell_type": "code",
   "execution_count": 37,
   "id": "917e35c3",
   "metadata": {},
   "outputs": [
    {
     "name": "stdout",
     "output_type": "stream",
     "text": [
      "the total bill is: 1100.0\n"
     ]
    }
   ],
   "source": [
    "def bill_pay(bill,tip_per): \n",
    "    tip_amount=bill*tip_per/100 \n",
    "    total_amount=bill+tip_amount\n",
    "    print(f\"the total bill is: {total_amount}\")\n",
    "    \n",
    "bill_pay(1000,10)"
   ]
  },
  {
   "cell_type": "code",
   "execution_count": 38,
   "id": "f2a1235f",
   "metadata": {},
   "outputs": [
    {
     "name": "stdout",
     "output_type": "stream",
     "text": [
      "enter a number:1000\n",
      "enter a number:10\n",
      "the total bill is: 1100.0\n"
     ]
    }
   ],
   "source": [
    "bill_pay(\n",
    "        eval(input(\"enter a number:\")),\n",
    "        eval(input(\"enter a number:\"))\n",
    "        )"
   ]
  },
  {
   "cell_type": "code",
   "execution_count": null,
   "id": "5ad21546",
   "metadata": {},
   "outputs": [],
   "source": [
    "def even_odd():\n",
    "    num=eval(input(\"enter the number:\"))\n",
    "    if num%2==0:\n",
    "        print(\"even\")\n",
    "    else:\n",
    "        print(\"odd\")"
   ]
  },
  {
   "cell_type": "code",
   "execution_count": 39,
   "id": "a932ffe9",
   "metadata": {},
   "outputs": [
    {
     "name": "stdout",
     "output_type": "stream",
     "text": [
      "even\n"
     ]
    }
   ],
   "source": [
    "def even_odd(num):\n",
    "    if num%2==0:\n",
    "        print(\"even\")\n",
    "    else:\n",
    "        print(\"odd\")\n",
    "        \n",
    "even_odd(10)"
   ]
  },
  {
   "cell_type": "code",
   "execution_count": null,
   "id": "15edc403",
   "metadata": {},
   "outputs": [],
   "source": [
    "- Function with out arguments\n",
    "\n",
    "- Function with arguments\n",
    "\n",
    "- Default arguments\n",
    "\n",
    "- Local  vs global\n",
    "\n",
    "- return\n",
    "\n",
    "- function in function"
   ]
  },
  {
   "cell_type": "code",
   "execution_count": null,
   "id": "06de3ace",
   "metadata": {},
   "outputs": [],
   "source": [
    "# Practice every day \n",
    "# Attend the classes \n",
    "\n",
    "# 9am to 10.30  lab\n",
    "# 10.30 to 12pm \n"
   ]
  },
  {
   "cell_type": "code",
   "execution_count": null,
   "id": "af2e237d",
   "metadata": {},
   "outputs": [],
   "source": [
    "# Functions with out arguments\n",
    "def even_odd():\n",
    "    num=eval(input(\"enter the number:\"))\n",
    "    if num%2==0:\n",
    "        print(\"even\")\n",
    "    else:\n",
    "        print(\"odd\")"
   ]
  },
  {
   "cell_type": "code",
   "execution_count": 1,
   "id": "0de5b313",
   "metadata": {},
   "outputs": [
    {
     "name": "stdout",
     "output_type": "stream",
     "text": [
      "even\n"
     ]
    }
   ],
   "source": [
    "# Functions with arguments\n",
    "def even_odd(num):\n",
    "    if num%2==0:\n",
    "        print(\"even\")\n",
    "    else:\n",
    "        print(\"odd\")\n",
    "        \n",
    "even_odd(20)"
   ]
  },
  {
   "cell_type": "markdown",
   "id": "dda444ea",
   "metadata": {},
   "source": [
    "**Default arguments**"
   ]
  },
  {
   "cell_type": "code",
   "execution_count": null,
   "id": "c1656ee1",
   "metadata": {},
   "outputs": [],
   "source": [
    "# we can fix the argument values\n",
    "# is called default arguments"
   ]
  },
  {
   "cell_type": "code",
   "execution_count": 5,
   "id": "dfcde0d5",
   "metadata": {},
   "outputs": [
    {
     "name": "stdout",
     "output_type": "stream",
     "text": [
      "num1: 20\n",
      "num2: 100\n",
      "120\n"
     ]
    }
   ],
   "source": [
    "def summ(num1,num2=100):\n",
    "    print(\"num1:\",num1)\n",
    "    print(\"num2:\",num2)\n",
    "    add=num1+num2\n",
    "    print(add)\n",
    "    \n",
    "summ(20)\n",
    "\n",
    "# num1=20   num2=100"
   ]
  },
  {
   "cell_type": "code",
   "execution_count": 10,
   "id": "d2dacbaf",
   "metadata": {},
   "outputs": [
    {
     "name": "stdout",
     "output_type": "stream",
     "text": [
      "summ()\n"
     ]
    },
    {
     "data": {
      "text/plain": [
       "'summ()'"
      ]
     },
     "execution_count": 10,
     "metadata": {},
     "output_type": "execute_result"
    }
   ],
   "source": [
    "def summ(num1=200,num2=100):\n",
    "    print(\"num1:\",num1)\n",
    "    print(\"num2:\",num2)\n",
    "    add=num1+num2\n",
    "    print(add)\n",
    "    \n",
    "summ()"
   ]
  },
  {
   "cell_type": "code",
   "execution_count": null,
   "id": "ca66e558",
   "metadata": {},
   "outputs": [],
   "source": [
    "def summ():\n",
    "    num1=20\n",
    "    num2=100\n",
    "    add=num1+num2\n",
    "    print(add)\n",
    "    \n",
    "summ()\n",
    "\n",
    "def summ(num1,num2):\n",
    "    add=num1+num2\n",
    "    print(add)\n",
    "    \n",
    "summ(20,100)\n",
    "\n",
    "\n",
    "def summ(num1,num2=100):\n",
    "    add=num1+num2\n",
    "    print(add)\n",
    "    \n",
    "summ(20)"
   ]
  },
  {
   "cell_type": "code",
   "execution_count": 14,
   "id": "adaebdd0",
   "metadata": {},
   "outputs": [
    {
     "ename": "SyntaxError",
     "evalue": "non-default argument follows default argument (3216425389.py, line 1)",
     "output_type": "error",
     "traceback": [
      "\u001b[1;36m  Cell \u001b[1;32mIn[14], line 1\u001b[1;36m\u001b[0m\n\u001b[1;33m    def summ(num1=100,num2):\u001b[0m\n\u001b[1;37m                      ^\u001b[0m\n\u001b[1;31mSyntaxError\u001b[0m\u001b[1;31m:\u001b[0m non-default argument follows default argument\n"
     ]
    }
   ],
   "source": [
    "def summ(num1=100,num2):\n",
    "    add=num1+num2\n",
    "    print(add)\n",
    "    \n",
    "summ(100)"
   ]
  },
  {
   "cell_type": "markdown",
   "id": "90e92a3f",
   "metadata": {},
   "source": [
    "**Note**: Default arguments always at last"
   ]
  },
  {
   "cell_type": "code",
   "execution_count": null,
   "id": "56e893d5",
   "metadata": {},
   "outputs": [],
   "source": [
    "avg(n1,n2,n3=100)   # Works\n",
    "avg(n1,n2=100,n3=100) # Works\n",
    "avg(n1=100,n2=100,n3=100) # Works\n",
    "avg(n1=100,n2,n3) # Fail\n",
    "avg(n1=100,n2=100,n3) # Fail\n",
    "avg(n1=100,n2,n3=100) # Fail\n",
    "avg(n1,n2=100,n3=100) # Works"
   ]
  },
  {
   "cell_type": "code",
   "execution_count": 15,
   "id": "7ab5eee7",
   "metadata": {},
   "outputs": [
    {
     "name": "stdout",
     "output_type": "stream",
     "text": [
      "200.0\n"
     ]
    }
   ],
   "source": [
    "def avg(n1,n2,n3=100):\n",
    "    average=(n1+n2+n3)/3\n",
    "    print(average)\n",
    "    \n",
    "avg(200,300)   # n1=200  n2=300 n3=100"
   ]
  },
  {
   "cell_type": "code",
   "execution_count": null,
   "id": "b2513a82",
   "metadata": {},
   "outputs": [],
   "source": [
    "def avg(n1,n2,n3=100):\n",
    "    average=(n1+n2+n3)/3\n",
    "    print(average)\n",
    "    \n",
    "avg(200,300)"
   ]
  },
  {
   "cell_type": "code",
   "execution_count": 17,
   "id": "bd8ca6dc",
   "metadata": {},
   "outputs": [
    {
     "name": "stdout",
     "output_type": "stream",
     "text": [
      "100.0\n"
     ]
    }
   ],
   "source": [
    "def avg(n1=100,n2=100,n3=100):\n",
    "    average=(n1+n2+n3)/3\n",
    "    print(average)\n",
    "    \n",
    "avg()  # n1=100  n2=100 n3=100"
   ]
  },
  {
   "cell_type": "code",
   "execution_count": 18,
   "id": "8b94fe3d",
   "metadata": {},
   "outputs": [
    {
     "ename": "SyntaxError",
     "evalue": "non-default argument follows default argument (244159680.py, line 1)",
     "output_type": "error",
     "traceback": [
      "\u001b[1;36m  Cell \u001b[1;32mIn[18], line 1\u001b[1;36m\u001b[0m\n\u001b[1;33m    def avg(n1=100,n2,n3):\u001b[0m\n\u001b[1;37m                   ^\u001b[0m\n\u001b[1;31mSyntaxError\u001b[0m\u001b[1;31m:\u001b[0m non-default argument follows default argument\n"
     ]
    }
   ],
   "source": [
    "def avg(n1=100,n2,n3):\n",
    "    average=(n1+n2+n3)/3\n",
    "    print(average)\n",
    "    \n",
    "avg(200,300)"
   ]
  },
  {
   "cell_type": "code",
   "execution_count": 19,
   "id": "696ef61f",
   "metadata": {},
   "outputs": [
    {
     "ename": "SyntaxError",
     "evalue": "non-default argument follows default argument (714260086.py, line 1)",
     "output_type": "error",
     "traceback": [
      "\u001b[1;36m  Cell \u001b[1;32mIn[19], line 1\u001b[1;36m\u001b[0m\n\u001b[1;33m    def avg(n1=100,n2=100,n3):\u001b[0m\n\u001b[1;37m                          ^\u001b[0m\n\u001b[1;31mSyntaxError\u001b[0m\u001b[1;31m:\u001b[0m non-default argument follows default argument\n"
     ]
    }
   ],
   "source": [
    "def avg(n1=100,n2=100,n3):\n",
    "    average=(n1+n2+n3)/3\n",
    "    print(average)\n",
    "    \n",
    "avg(200)"
   ]
  },
  {
   "cell_type": "code",
   "execution_count": 20,
   "id": "f31cfb5a",
   "metadata": {},
   "outputs": [
    {
     "ename": "SyntaxError",
     "evalue": "non-default argument follows default argument (837889195.py, line 1)",
     "output_type": "error",
     "traceback": [
      "\u001b[1;36m  Cell \u001b[1;32mIn[20], line 1\u001b[1;36m\u001b[0m\n\u001b[1;33m    def avg(n1=100,n2,n3=100):\u001b[0m\n\u001b[1;37m                   ^\u001b[0m\n\u001b[1;31mSyntaxError\u001b[0m\u001b[1;31m:\u001b[0m non-default argument follows default argument\n"
     ]
    }
   ],
   "source": [
    "def avg(n1=100,n2,n3=100):\n",
    "    average=(n1+n2+n3)/3\n",
    "    print(average)\n",
    "    \n",
    "avg(200)"
   ]
  },
  {
   "cell_type": "code",
   "execution_count": 21,
   "id": "022f2949",
   "metadata": {},
   "outputs": [
    {
     "name": "stdout",
     "output_type": "stream",
     "text": [
      "133.33333333333334\n"
     ]
    }
   ],
   "source": [
    "def avg(n1,n2=100,n3=100):\n",
    "    average=(n1+n2+n3)/3\n",
    "    print(average)\n",
    "    \n",
    "avg(200)"
   ]
  },
  {
   "cell_type": "code",
   "execution_count": 27,
   "id": "0e50cdc7",
   "metadata": {},
   "outputs": [
    {
     "name": "stdout",
     "output_type": "stream",
     "text": [
      "300\n"
     ]
    }
   ],
   "source": [
    "\n",
    "def summ(num1,num2=100):\n",
    "    add=num1+num2\n",
    "    print(add)\n",
    "    \n",
    "summ(num1=200) \n",
    "\n",
    "# num2=100\n",
    "# num1=200\n",
    "# 300\n",
    "\n",
    "# Have you provided any value before define the function\n",
    "# what are you provided while define the function  \n",
    "# what are you provided while calling the function \n",
    "# what are you provided while running the function"
   ]
  },
  {
   "cell_type": "code",
   "execution_count": 26,
   "id": "6ad4ccd6",
   "metadata": {},
   "outputs": [
    {
     "name": "stdout",
     "output_type": "stream",
     "text": [
      "700\n"
     ]
    }
   ],
   "source": [
    "\n",
    "def summ(num1,num2=100):\n",
    "    add=num1+num2\n",
    "    print(add)\n",
    "    \n",
    "summ(num1=200,num2=500) \n",
    "\n",
    "# num2=100\n",
    "# num1=200\n",
    "# num2=500\n",
    "# 500+200=700"
   ]
  },
  {
   "cell_type": "code",
   "execution_count": 28,
   "id": "40a86a9d",
   "metadata": {},
   "outputs": [
    {
     "name": "stdout",
     "output_type": "stream",
     "text": [
      "1200\n"
     ]
    }
   ],
   "source": [
    "def summ(num1,num2=100):\n",
    "    num2=1000\n",
    "    add=num1+num2\n",
    "    print(add)\n",
    "    \n",
    "summ(num1=200) \n",
    "\n",
    "# num2=100\n",
    "# num1=200\n",
    "# num2=1000\n",
    "# 1200"
   ]
  },
  {
   "cell_type": "code",
   "execution_count": 30,
   "id": "91111b8d",
   "metadata": {},
   "outputs": [
    {
     "name": "stdout",
     "output_type": "stream",
     "text": [
      "4200\n",
      "7000\n"
     ]
    }
   ],
   "source": [
    "num2=5000\n",
    "\n",
    "def summ(num1,num2=3000):\n",
    "    num2=4000\n",
    "    add=num1+num2\n",
    "    print(add)\n",
    "    \n",
    "num2=7000 \n",
    "\n",
    "summ(num1=200,num2=2000)    # 4200\n",
    "\n",
    "# num2=5000\n",
    "# num2=3000   define\n",
    "# num2=7000\n",
    "# num2=2000\n",
    "# num2=4000\n",
    "\n",
    "print(num2)"
   ]
  },
  {
   "cell_type": "code",
   "execution_count": 32,
   "id": "0e0c3339",
   "metadata": {},
   "outputs": [
    {
     "name": "stdout",
     "output_type": "stream",
     "text": [
      "4200\n"
     ]
    }
   ],
   "source": [
    "num2=5000\n",
    "\n",
    "def summ(num1,num2=3000):\n",
    "    num2=4000\n",
    "    add=num1+num2\n",
    "    print(add)\n",
    "    \n",
    "num2=7000 \n",
    "\n",
    "summ(num1=200,num2=2000) "
   ]
  },
  {
   "cell_type": "code",
   "execution_count": 33,
   "id": "c427bdb8",
   "metadata": {},
   "outputs": [
    {
     "name": "stdout",
     "output_type": "stream",
     "text": [
      "the total bill is: 1100.0\n"
     ]
    }
   ],
   "source": [
    "# Function with out arguments\n",
    "def bill_pay1(): \n",
    "    bill=eval(input(\"enter the bill amount:\"))\n",
    "    tip_per=eval(input(\"enter the tip in %:\"))\n",
    "    tip_amount=bill*tip_per/100 \n",
    "    total_amount=bill+tip_amount\n",
    "    print(f\"the total bill is: {total_amount}\")\n",
    "    \n",
    "# Function with  arguments\n",
    "def bill_pay2(bill,tip_per): \n",
    "    tip_amount=bill*tip_per/100 \n",
    "    total_amount=bill+tip_amount\n",
    "    print(f\"the total bill is: {total_amount}\")\n",
    "    \n",
    "# Create default argument as tip_per=10\n",
    "def bill_pay3(bill,tip_per=10): \n",
    "    tip_amount=bill*tip_per/100 \n",
    "    total_amount=bill+tip_amount\n",
    "    print(f\"the total bill is: {total_amount}\")\n",
    "    \n",
    "bill_pay3(1000)"
   ]
  },
  {
   "cell_type": "code",
   "execution_count": 35,
   "id": "e8f7bfac",
   "metadata": {},
   "outputs": [
    {
     "name": "stdout",
     "output_type": "stream",
     "text": [
      "per: 1000\n",
      "the total bill is: 11000.0\n"
     ]
    }
   ],
   "source": [
    "def bill_pay3(tip_per=10):\n",
    "    print(\"per:\",tip_per) \n",
    "    bill=1000\n",
    "    tip_amount=bill*tip_per/100 \n",
    "    total_amount=bill+tip_amount\n",
    "    print(f\"the total bill is: {total_amount}\")\n",
    "    \n",
    "bill_pay3(1000)\n",
    "\n",
    "# 1000\n",
    "# 1000*1000/10="
   ]
  },
  {
   "cell_type": "code",
   "execution_count": null,
   "id": "a50d6fa5",
   "metadata": {},
   "outputs": [],
   "source": [
    "def bill_pay4(bill,tip_per=10): \n",
    "    tip_amount=bill*tip_per/100 \n",
    "    total_amount=bill+tip_amount\n",
    "    print(f\"the total bill is: {total_amount}\")\n",
    "    \n",
    "bill_pay4(1000)   # bill=1000  tip=10\n",
    "\n",
    "\n",
    "\n",
    "def bill_pay5(tip_per=10):\n",
    "    print(\"per:\",tip_per) \n",
    "    bill=1000\n",
    "    tip_amount=bill*tip_per/100 \n",
    "    total_amount=bill+tip_amount\n",
    "    print(f\"the total bill is: {total_amount}\")\n",
    "    \n",
    "bill_pay5(1000)  # bill=1000 tip=1000\n",
    "\n",
    "def bill_pay6(tip_per=10):\n",
    "    print(\"per:\",tip_per) \n",
    "    bill=1000\n",
    "    tip_amount=bill*tip_per/100 \n",
    "    total_amount=bill+tip_amount\n",
    "    print(f\"the total bill is: {total_amount}\")\n",
    "    \n",
    "bill_pay6()  # bill=1000 tip_per=10"
   ]
  },
  {
   "cell_type": "code",
   "execution_count": 38,
   "id": "ad57c3a9",
   "metadata": {},
   "outputs": [
    {
     "name": "stdout",
     "output_type": "stream",
     "text": [
      "70\n"
     ]
    }
   ],
   "source": [
    "def summ(n2=50):\n",
    "    n1=20\n",
    "    print(n1+n2)\n",
    "    \n",
    "summ()   # n2=50  n1=20"
   ]
  },
  {
   "cell_type": "code",
   "execution_count": null,
   "id": "e0f6d56e",
   "metadata": {},
   "outputs": [],
   "source": [
    "# wap ask the user enter salary: 100000\n",
    "#     ask the user enter tax per : 10\n",
    "# calculate tax\n",
    "\n",
    "# Implement functio  with out argument\n",
    "#           function with argument\n",
    "#           function default argument : tax_per=10"
   ]
  },
  {
   "cell_type": "code",
   "execution_count": null,
   "id": "7722369a",
   "metadata": {},
   "outputs": [],
   "source": [
    "def tax():\n",
    "    salary=eval(input(\"enter the salary:\"))\n",
    "    tax_per=eval(input(\"enter the tax percentage:\"))\n",
    "    tax_pay=(salary*tax_per)/100\n",
    "    print(f\"total tax pay is {tax_pay}\")\n",
    "tax()"
   ]
  },
  {
   "cell_type": "code",
   "execution_count": 40,
   "id": "3d6854b7",
   "metadata": {},
   "outputs": [
    {
     "name": "stdout",
     "output_type": "stream",
     "text": [
      "total tax pay is 10000.0\n"
     ]
    }
   ],
   "source": [
    "def tax(salary,tax_per):\n",
    "    tax_pay=(salary*tax_per)/100\n",
    "    print(f\"total tax pay is {tax_pay}\")\n",
    "tax(100000,10)"
   ]
  },
  {
   "cell_type": "code",
   "execution_count": 41,
   "id": "0ccfdd11",
   "metadata": {},
   "outputs": [
    {
     "name": "stdout",
     "output_type": "stream",
     "text": [
      "total tax pay is 10000.0\n"
     ]
    }
   ],
   "source": [
    "def tax(salary,tax_per=10):\n",
    "    tax_pay=(salary*tax_per)/100\n",
    "    print(f\"total tax pay is {tax_pay}\")\n",
    "tax(100000)"
   ]
  },
  {
   "cell_type": "code",
   "execution_count": 43,
   "id": "d67899ec",
   "metadata": {},
   "outputs": [
    {
     "name": "stdout",
     "output_type": "stream",
     "text": [
      "total tax pay is 10000.0\n"
     ]
    }
   ],
   "source": [
    "def tax1(salary,tax_per=10):\n",
    "    tax_pay=(salary*tax_per)/100\n",
    "    print(f\"total tax pay is {tax_pay}\")\n",
    "tax1(100000)"
   ]
  },
  {
   "cell_type": "markdown",
   "id": "86472d25",
   "metadata": {},
   "source": [
    "$return$"
   ]
  },
  {
   "cell_type": "code",
   "execution_count": 45,
   "id": "eedc76bc",
   "metadata": {},
   "outputs": [],
   "source": [
    "#tax_pay \n",
    "# tax_pay we are getting inside the function \n",
    "# if you want to use outside then use return"
   ]
  },
  {
   "cell_type": "code",
   "execution_count": 55,
   "id": "669f9d88",
   "metadata": {},
   "outputs": [],
   "source": [
    "def tax1(salary,tax_per=10):\n",
    "    tax_pay=(salary*tax_per)/100\n",
    "    return(tax_pay)\n",
    "\n",
    "# we are askin function to return(give me) some value"
   ]
  },
  {
   "cell_type": "code",
   "execution_count": 56,
   "id": "ea894b14",
   "metadata": {},
   "outputs": [],
   "source": [
    "tax_pay=tax1(10000)  # is giving tax_pay\n"
   ]
  },
  {
   "cell_type": "code",
   "execution_count": 57,
   "id": "25aaeb22",
   "metadata": {},
   "outputs": [
    {
     "name": "stdout",
     "output_type": "stream",
     "text": [
      "1000.0\n"
     ]
    }
   ],
   "source": [
    "print(tax_pay)"
   ]
  },
  {
   "cell_type": "code",
   "execution_count": null,
   "id": "d2ac2721",
   "metadata": {},
   "outputs": [],
   "source": [
    "def tax1(salary,tax_per=10):\n",
    "    tax_pay=(salary*tax_per)/100\n",
    "    return(tax_pay)\n",
    "\n",
    "tax_pay=tax1(10000)\n",
    "print(tax_pay)"
   ]
  },
  {
   "cell_type": "code",
   "execution_count": 71,
   "id": "ba12e510",
   "metadata": {},
   "outputs": [
    {
     "name": "stdout",
     "output_type": "stream",
     "text": [
      "1000.0\n",
      "10000\n"
     ]
    }
   ],
   "source": [
    "def tax1(salary,tax_per=10):\n",
    "    tax_pay1=(salary*tax_per)/100\n",
    "    return(tax_pay1,salary)\n",
    "    \n",
    "tax_pay1,salary=tax1(10000)\n",
    "\n",
    "print(tax_pay1)\n",
    "print(salary)"
   ]
  },
  {
   "cell_type": "code",
   "execution_count": 70,
   "id": "e5e433a5",
   "metadata": {},
   "outputs": [
    {
     "data": {
      "text/plain": [
       "(1, 2, 3)"
      ]
     },
     "execution_count": 70,
     "metadata": {},
     "output_type": "execute_result"
    }
   ],
   "source": [
    "# wap take three numbers\n",
    "# do the sum\n",
    "# do the avergae\n",
    "# return sum and avergae"
   ]
  },
  {
   "cell_type": "code",
   "execution_count": 73,
   "id": "182265a7",
   "metadata": {},
   "outputs": [
    {
     "name": "stdout",
     "output_type": "stream",
     "text": [
      "60\n",
      "20.0\n"
     ]
    }
   ],
   "source": [
    "def sumavg(n1,n2,n3):\n",
    "    summ=n1+n2+n3\n",
    "    avg=summ/3\n",
    "    return(summ,avg)\n",
    "summ,avg=sumavg(10,20,30)\n",
    "print(summ)\n",
    "print(avg)"
   ]
  },
  {
   "cell_type": "code",
   "execution_count": 77,
   "id": "8391f2c0",
   "metadata": {},
   "outputs": [
    {
     "name": "stdout",
     "output_type": "stream",
     "text": [
      "30\n"
     ]
    }
   ],
   "source": [
    "add=0\n",
    "\n",
    "def summ(n1,n2):\n",
    "    add=n1+n2    # add=10+20=30\n",
    "    return add\n",
    "add=summ(10,20)\n",
    "print(add)"
   ]
  },
  {
   "cell_type": "code",
   "execution_count": null,
   "id": "21dc5340",
   "metadata": {},
   "outputs": [],
   "source": [
    "# 9 to 10.30\n",
    "# 10.30  to 12"
   ]
  },
  {
   "cell_type": "code",
   "execution_count": null,
   "id": "431065d6",
   "metadata": {},
   "outputs": [],
   "source": [
    "- Functions with out arguments\n",
    "\n",
    "- Function with arguments\n",
    "\n",
    "- Function with default argument\n",
    "\n",
    "- return "
   ]
  },
  {
   "cell_type": "code",
   "execution_count": null,
   "id": "d7a14502",
   "metadata": {},
   "outputs": [],
   "source": [
    "# game program\n",
    "# ask the user get a random number 1,10:n1\n",
    "# ask the user enter number :n2\n",
    "# if n1==n2\n",
    "#  print(\"in\")\n",
    "# else:\n",
    "#  print(\"out\")"
   ]
  },
  {
   "cell_type": "code",
   "execution_count": 1,
   "id": "0318855b",
   "metadata": {},
   "outputs": [
    {
     "name": "stdout",
     "output_type": "stream",
     "text": [
      "enter the number:6\n",
      "out\n"
     ]
    }
   ],
   "source": [
    "import random\n",
    "def game():\n",
    "    n1=random.randint(1,10)\n",
    "    n2=eval(input(\"enter the number:\"))\n",
    "    if n1==n2:\n",
    "        print(\"in\")\n",
    "    else:\n",
    "        print(\"out\")\n",
    "        \n",
    "game()"
   ]
  },
  {
   "cell_type": "code",
   "execution_count": 2,
   "id": "11baac69",
   "metadata": {},
   "outputs": [
    {
     "name": "stdout",
     "output_type": "stream",
     "text": [
      "out\n"
     ]
    }
   ],
   "source": [
    "import random\n",
    "def game1(n2):\n",
    "    n1=random.randint(1,10)\n",
    "    if n1==n2:\n",
    "        print(\"in\")\n",
    "    else:\n",
    "        print(\"out\")\n",
    "        \n",
    "game1(7)"
   ]
  },
  {
   "cell_type": "code",
   "execution_count": 3,
   "id": "81167ee6",
   "metadata": {},
   "outputs": [
    {
     "name": "stdout",
     "output_type": "stream",
     "text": [
      "out\n"
     ]
    }
   ],
   "source": [
    "import random\n",
    "def game1(n2=7):\n",
    "    n1=random.randint(1,10)\n",
    "    if n1==n2:\n",
    "        print(\"in\")\n",
    "    else:\n",
    "        print(\"out\")\n",
    "        \n",
    "game1()"
   ]
  },
  {
   "cell_type": "code",
   "execution_count": 12,
   "id": "8fa3ea61",
   "metadata": {},
   "outputs": [
    {
     "name": "stdout",
     "output_type": "stream",
     "text": [
      "out\n",
      "0\n",
      "no award\n"
     ]
    }
   ],
   "source": [
    "import random\n",
    "def game1(n2=7):\n",
    "    n1=random.randint(1,10)\n",
    "    if n1==n2:\n",
    "        print(\"in\")\n",
    "        print(\"hello\")\n",
    "        return(10000,'award')\n",
    "    else:\n",
    "        print(\"out\")\n",
    "        return(0,'no award')\n",
    "        \n",
    "money,award=game1()\n",
    "print(money)\n",
    "print(award)"
   ]
  },
  {
   "cell_type": "code",
   "execution_count": null,
   "id": "3f27eab8",
   "metadata": {},
   "outputs": [],
   "source": [
    "sir in that assignemnet reverse of the numerical value and \n",
    "sum of firt two last two digits was bit confusing"
   ]
  },
  {
   "cell_type": "code",
   "execution_count": 7,
   "id": "7271119c",
   "metadata": {},
   "outputs": [
    {
     "data": {
      "text/plain": [
       "1234"
      ]
     },
     "execution_count": 7,
     "metadata": {},
     "output_type": "execute_result"
    }
   ],
   "source": [
    "n1=12345       # 54321\n",
    "o1=n1%10\n",
    "new_n2=12345//10\n",
    "new_n2"
   ]
  },
  {
   "cell_type": "code",
   "execution_count": 10,
   "id": "5e63d4fa",
   "metadata": {},
   "outputs": [
    {
     "data": {
      "text/plain": [
       "54321"
      ]
     },
     "execution_count": 10,
     "metadata": {},
     "output_type": "execute_result"
    }
   ],
   "source": [
    "n1=str(12345)\n",
    "int(n1[::-1])"
   ]
  },
  {
   "cell_type": "code",
   "execution_count": 14,
   "id": "ec82027b",
   "metadata": {},
   "outputs": [
    {
     "name": "stdout",
     "output_type": "stream",
     "text": [
      "out\n"
     ]
    }
   ],
   "source": [
    "import random\n",
    "def game1(n2):\n",
    "    n1=random.randint(1,10)\n",
    "    if n1==n2:\n",
    "        print(\"in\")\n",
    "    else:\n",
    "        print(\"out\")\n",
    "\n",
    "game1(6)"
   ]
  },
  {
   "cell_type": "code",
   "execution_count": null,
   "id": "5e26420c",
   "metadata": {},
   "outputs": [],
   "source": [
    "def summ():  \n",
    "    num1=eval(input(\"enter the number1:\"))\n",
    "    num2=eval(input(\"enter the number2:\"))\n",
    "    print(num1+num2)\n",
    "\n",
    "# two variables are intilaised num1 and num2\n",
    "# two variables are intilised inside the function\n",
    "# these varuables are called local variables\n",
    "    \n",
    "\n",
    "#################################################################\n",
    "def average():  # NO\n",
    "    n1=eval(input(\"enter number1:\"))\n",
    "    n2=eval(input(\"enter number2:\"))\n",
    "    n3=eval(input(\"enter number3:\"))\n",
    "    avg=(n1+n2+n3)/3 # round((n1+n2+n3)/3,2)\n",
    "    out=round(avg,2)\n",
    "    print(f\"the average of {n1},{n2} and {n3} is {out}\")\n",
    "    \n",
    "\n",
    "\n",
    "#######################################################################\n",
    "\n",
    "def bill_pay(): # NO\n",
    "    bill=eval(input(\"enter the bill amount:\"))\n",
    "    tip_per=eval(input(\"enter the tip in %:\"))\n",
    "    tip_amount=bill*tip_per/100  # 1000*10/100=100\n",
    "    total_amount=bill+tip_amount\n",
    "    print(f\"the total bill is: {total_amount}\")\n",
    "    \n",
    "\n",
    "\n",
    "#########################################################################\n",
    "\n",
    "def even_odd(): \n",
    "    num=eval(input(\"enter the number:\"))\n",
    "    if num%2==0:\n",
    "        print(\"even\")\n",
    "    else:\n",
    "        print(\"odd\")\n",
    "        \n",
    "#############################################################################\n",
    "        \n",
    "def game():# NO\n",
    "    n1=random.randint(1,10)\n",
    "    n2=eval(input(\"enter the number\"))\n",
    "    if n1==n2:\n",
    "        print(\"in\")\n",
    "    else:\n",
    "        print(\"out\")\n",
    "        \n"
   ]
  },
  {
   "cell_type": "code",
   "execution_count": 15,
   "id": "3b79000a",
   "metadata": {},
   "outputs": [
    {
     "name": "stdout",
     "output_type": "stream",
     "text": [
      "enter the number1:10\n",
      "enter the number2:20\n",
      "30\n"
     ]
    }
   ],
   "source": [
    "num1=eval(input(\"enter the number1:\"))\n",
    "num2=eval(input(\"enter the number2:\"))\n",
    "def summ():  \n",
    "    print(num1+num2)\n",
    "    \n",
    "summ()"
   ]
  },
  {
   "cell_type": "code",
   "execution_count": 18,
   "id": "67a3564d",
   "metadata": {},
   "outputs": [
    {
     "name": "stdout",
     "output_type": "stream",
     "text": [
      "enter the number6\n",
      "out\n",
      "random: 1\n"
     ]
    },
    {
     "ename": "NameError",
     "evalue": "name 'n2' is not defined",
     "output_type": "error",
     "traceback": [
      "\u001b[1;31m---------------------------------------------------------------------------\u001b[0m",
      "\u001b[1;31mNameError\u001b[0m                                 Traceback (most recent call last)",
      "Cell \u001b[1;32mIn[18], line 11\u001b[0m\n\u001b[0;32m      9\u001b[0m game()\n\u001b[0;32m     10\u001b[0m \u001b[38;5;28mprint\u001b[39m(\u001b[38;5;124m\"\u001b[39m\u001b[38;5;124mrandom:\u001b[39m\u001b[38;5;124m\"\u001b[39m,n1)\n\u001b[1;32m---> 11\u001b[0m \u001b[38;5;28mprint\u001b[39m(\u001b[38;5;124m\"\u001b[39m\u001b[38;5;124muser:\u001b[39m\u001b[38;5;124m\"\u001b[39m,n2)\n",
      "\u001b[1;31mNameError\u001b[0m: name 'n2' is not defined"
     ]
    }
   ],
   "source": [
    "n1=random.randint(1,10)   # global\n",
    "def game():\n",
    "    n2=eval(input(\"enter the number\")) # local\n",
    "    if n1==n2:\n",
    "        print(\"in\")\n",
    "    else:\n",
    "        print(\"out\")\n",
    "    \n",
    "game()\n",
    "print(\"random:\",n1)\n",
    "print(\"user:\",n2) \n",
    "\n",
    "# step-1:  some random number strored in n1\n",
    "# step-2:  you define the function\n",
    "# step-3:  call the function\n",
    "#          it is going to step-2  and execute the lines\n",
    "#          user value will store in n2\n",
    "#         apply the condition  print in or out\n",
    "# step-4:  you are print the random n1:  global variable\n",
    "# step-5: you are print the n2: local variable"
   ]
  },
  {
   "cell_type": "code",
   "execution_count": 19,
   "id": "16cd91c6",
   "metadata": {},
   "outputs": [
    {
     "name": "stdout",
     "output_type": "stream",
     "text": [
      "enter the number20\n",
      "even\n"
     ]
    }
   ],
   "source": [
    "def even_odd(num): \n",
    "    if num%2==0:\n",
    "        print(\"even\")\n",
    "    else:\n",
    "        print(\"odd\")\n",
    "\n",
    "num=eval(input(\"enter the number\"))\n",
    "even_odd(num)\n",
    "\n"
   ]
  },
  {
   "cell_type": "code",
   "execution_count": null,
   "id": "5f9165fe",
   "metadata": {},
   "outputs": [],
   "source": [
    "def even_odd(num): \n",
    "    if num%2==0:\n",
    "        print(\"even\")\n",
    "    else:\n",
    "        print(\"odd\")\n",
    "\n",
    "\n",
    "even_odd(20)  ##################################### local\n",
    "\n",
    "even_odd(eval(input(\"enter the number\"))) # local\n",
    "\n",
    "num=eval(input(\"enter the number\"))      # global\n",
    "even_odd(num)\n",
    "\n",
    "num=random.randint(1,50)               # global\n",
    "even_odd(num)"
   ]
  },
  {
   "cell_type": "code",
   "execution_count": 20,
   "id": "a9f10531",
   "metadata": {},
   "outputs": [
    {
     "name": "stdout",
     "output_type": "stream",
     "text": [
      "enter the number20\n",
      "even\n"
     ]
    },
    {
     "ename": "NameError",
     "evalue": "name 'num11' is not defined",
     "output_type": "error",
     "traceback": [
      "\u001b[1;31m---------------------------------------------------------------------------\u001b[0m",
      "\u001b[1;31mNameError\u001b[0m                                 Traceback (most recent call last)",
      "Cell \u001b[1;32mIn[20], line 8\u001b[0m\n\u001b[0;32m      5\u001b[0m         \u001b[38;5;28mprint\u001b[39m(\u001b[38;5;124m\"\u001b[39m\u001b[38;5;124modd\u001b[39m\u001b[38;5;124m\"\u001b[39m)\n\u001b[0;32m      7\u001b[0m even_odd(\u001b[38;5;28meval\u001b[39m(\u001b[38;5;28minput\u001b[39m(\u001b[38;5;124m\"\u001b[39m\u001b[38;5;124menter the number\u001b[39m\u001b[38;5;124m\"\u001b[39m)))\n\u001b[1;32m----> 8\u001b[0m \u001b[38;5;28mprint\u001b[39m(num11)\n",
      "\u001b[1;31mNameError\u001b[0m: name 'num11' is not defined"
     ]
    }
   ],
   "source": [
    "def even_odd(num11): \n",
    "    if num11%2==0:\n",
    "        print(\"even\")\n",
    "    else:\n",
    "        print(\"odd\")\n",
    "\n",
    "even_odd(eval(input(\"enter the number\")))\n",
    "print(num11)"
   ]
  },
  {
   "cell_type": "markdown",
   "id": "e2d993b8",
   "metadata": {},
   "source": [
    "- variables Inside the function is called as local variable\n",
    "\n",
    "- variables outside the function is called as global variable\n",
    "\n",
    "- If you want to use a global variable inside the function, intilaize that before call the function\n",
    "\n",
    "- If you want to use local variables outside the function provide return statement"
   ]
  },
  {
   "cell_type": "code",
   "execution_count": 25,
   "id": "0945c245",
   "metadata": {},
   "outputs": [
    {
     "name": "stdout",
     "output_type": "stream",
     "text": [
      "10\n"
     ]
    },
    {
     "data": {
      "text/plain": [
       "10"
      ]
     },
     "execution_count": 25,
     "metadata": {},
     "output_type": "execute_result"
    }
   ],
   "source": [
    "def even_odd(num11): \n",
    "    if num11%2==0:\n",
    "        print(\"even\")\n",
    "    else:\n",
    "        print(\"odd\")\n",
    "\n",
    "even_odd(num11)\n",
    "num11=20"
   ]
  },
  {
   "cell_type": "code",
   "execution_count": null,
   "id": "95463bcc",
   "metadata": {},
   "outputs": [],
   "source": [
    "use local variables, outside the function with out using return\n",
    "\n",
    "global"
   ]
  },
  {
   "cell_type": "code",
   "execution_count": 28,
   "id": "83ab823d",
   "metadata": {},
   "outputs": [
    {
     "name": "stdout",
     "output_type": "stream",
     "text": [
      "enter the bill amount:1000\n",
      "enter the tip in %:10\n",
      "the total bill is: 1100.0\n"
     ]
    }
   ],
   "source": [
    "def bill_pay1():\n",
    "    global total_amount\n",
    "    bill=eval(input(\"enter the bill amount:\"))\n",
    "    tip_per=eval(input(\"enter the tip in %:\"))\n",
    "    tip_amount=bill*tip_per/100  # 1000*10/100=100\n",
    "    total_amount=bill+tip_amount\n",
    "    print(f\"the total bill is: {total_amount}\")\n",
    "    \n",
    "bill_pay1()"
   ]
  },
  {
   "cell_type": "code",
   "execution_count": 29,
   "id": "99fe7be3",
   "metadata": {},
   "outputs": [
    {
     "data": {
      "text/plain": [
       "1100.0"
      ]
     },
     "execution_count": 29,
     "metadata": {},
     "output_type": "execute_result"
    }
   ],
   "source": [
    "total_amount"
   ]
  },
  {
   "cell_type": "code",
   "execution_count": null,
   "id": "beaff41d",
   "metadata": {},
   "outputs": [],
   "source": [
    "# wap ask take three numbers as arguments\n",
    "# create  add and avg variables inside the func\n",
    "# calculate that add and avg\n",
    "# print outside the function with out uisng return"
   ]
  },
  {
   "cell_type": "code",
   "execution_count": 31,
   "id": "7a26e863",
   "metadata": {},
   "outputs": [
    {
     "name": "stdout",
     "output_type": "stream",
     "text": [
      "11\n",
      "3.67\n"
     ]
    }
   ],
   "source": [
    "def ar_oper(n1,n2,n3):\n",
    "    global summ,avg\n",
    "    summ=n1+n2+n3\n",
    "    avg=round(summ/3,2)\n",
    "ar_oper(2,4,5)\n",
    "print(summ)\n",
    "print(avg)"
   ]
  },
  {
   "cell_type": "markdown",
   "id": "c25a05b2",
   "metadata": {},
   "source": [
    "**Functions in Functions**"
   ]
  },
  {
   "cell_type": "code",
   "execution_count": 32,
   "id": "358069ec",
   "metadata": {},
   "outputs": [
    {
     "name": "stdout",
     "output_type": "stream",
     "text": [
      "hello\n",
      "how are you\n"
     ]
    }
   ],
   "source": [
    "def greet1():\n",
    "    print(\"hello\")\n",
    "    \n",
    "def greet2():\n",
    "    print(\"how are you\")\n",
    "    \n",
    "greet1()\n",
    "greet2()"
   ]
  },
  {
   "cell_type": "code",
   "execution_count": 33,
   "id": "df9f5ea6",
   "metadata": {},
   "outputs": [
    {
     "name": "stdout",
     "output_type": "stream",
     "text": [
      "hello\n",
      "how are you\n"
     ]
    }
   ],
   "source": [
    "def greet1():\n",
    "    print(\"hello\")\n",
    "    \n",
    "def greet2():\n",
    "    greet1()\n",
    "    print(\"how are you\")\n",
    "    \n",
    "greet2()"
   ]
  },
  {
   "cell_type": "code",
   "execution_count": 34,
   "id": "f2dcbba4",
   "metadata": {},
   "outputs": [
    {
     "name": "stdout",
     "output_type": "stream",
     "text": [
      "how are you\n",
      "hello\n"
     ]
    }
   ],
   "source": [
    "def greet1():\n",
    "    greet2()\n",
    "    print(\"hello\")\n",
    "    \n",
    "def greet2():\n",
    "    print(\"how are you\")\n",
    "    \n",
    "greet1()"
   ]
  },
  {
   "cell_type": "code",
   "execution_count": 35,
   "id": "286f0015",
   "metadata": {},
   "outputs": [
    {
     "ename": "RecursionError",
     "evalue": "maximum recursion depth exceeded",
     "output_type": "error",
     "traceback": [
      "\u001b[1;31m---------------------------------------------------------------------------\u001b[0m",
      "\u001b[1;31mRecursionError\u001b[0m                            Traceback (most recent call last)",
      "Cell \u001b[1;32mIn[35], line 9\u001b[0m\n\u001b[0;32m      6\u001b[0m     greet1()\n\u001b[0;32m      7\u001b[0m     \u001b[38;5;28mprint\u001b[39m(\u001b[38;5;124m\"\u001b[39m\u001b[38;5;124mhow are you\u001b[39m\u001b[38;5;124m\"\u001b[39m)\n\u001b[1;32m----> 9\u001b[0m greet1()\n",
      "Cell \u001b[1;32mIn[35], line 2\u001b[0m, in \u001b[0;36mgreet1\u001b[1;34m()\u001b[0m\n\u001b[0;32m      1\u001b[0m \u001b[38;5;28;01mdef\u001b[39;00m \u001b[38;5;21mgreet1\u001b[39m():\n\u001b[1;32m----> 2\u001b[0m     greet2()\n\u001b[0;32m      3\u001b[0m     \u001b[38;5;28mprint\u001b[39m(\u001b[38;5;124m\"\u001b[39m\u001b[38;5;124mhello\u001b[39m\u001b[38;5;124m\"\u001b[39m)\n",
      "Cell \u001b[1;32mIn[35], line 6\u001b[0m, in \u001b[0;36mgreet2\u001b[1;34m()\u001b[0m\n\u001b[0;32m      5\u001b[0m \u001b[38;5;28;01mdef\u001b[39;00m \u001b[38;5;21mgreet2\u001b[39m():\n\u001b[1;32m----> 6\u001b[0m     greet1()\n\u001b[0;32m      7\u001b[0m     \u001b[38;5;28mprint\u001b[39m(\u001b[38;5;124m\"\u001b[39m\u001b[38;5;124mhow are you\u001b[39m\u001b[38;5;124m\"\u001b[39m)\n",
      "Cell \u001b[1;32mIn[35], line 2\u001b[0m, in \u001b[0;36mgreet1\u001b[1;34m()\u001b[0m\n\u001b[0;32m      1\u001b[0m \u001b[38;5;28;01mdef\u001b[39;00m \u001b[38;5;21mgreet1\u001b[39m():\n\u001b[1;32m----> 2\u001b[0m     greet2()\n\u001b[0;32m      3\u001b[0m     \u001b[38;5;28mprint\u001b[39m(\u001b[38;5;124m\"\u001b[39m\u001b[38;5;124mhello\u001b[39m\u001b[38;5;124m\"\u001b[39m)\n",
      "Cell \u001b[1;32mIn[35], line 6\u001b[0m, in \u001b[0;36mgreet2\u001b[1;34m()\u001b[0m\n\u001b[0;32m      5\u001b[0m \u001b[38;5;28;01mdef\u001b[39;00m \u001b[38;5;21mgreet2\u001b[39m():\n\u001b[1;32m----> 6\u001b[0m     greet1()\n\u001b[0;32m      7\u001b[0m     \u001b[38;5;28mprint\u001b[39m(\u001b[38;5;124m\"\u001b[39m\u001b[38;5;124mhow are you\u001b[39m\u001b[38;5;124m\"\u001b[39m)\n",
      "    \u001b[1;31m[... skipping similar frames: greet1 at line 2 (1484 times), greet2 at line 6 (1484 times)]\u001b[0m\n",
      "Cell \u001b[1;32mIn[35], line 2\u001b[0m, in \u001b[0;36mgreet1\u001b[1;34m()\u001b[0m\n\u001b[0;32m      1\u001b[0m \u001b[38;5;28;01mdef\u001b[39;00m \u001b[38;5;21mgreet1\u001b[39m():\n\u001b[1;32m----> 2\u001b[0m     greet2()\n\u001b[0;32m      3\u001b[0m     \u001b[38;5;28mprint\u001b[39m(\u001b[38;5;124m\"\u001b[39m\u001b[38;5;124mhello\u001b[39m\u001b[38;5;124m\"\u001b[39m)\n",
      "Cell \u001b[1;32mIn[35], line 6\u001b[0m, in \u001b[0;36mgreet2\u001b[1;34m()\u001b[0m\n\u001b[0;32m      5\u001b[0m \u001b[38;5;28;01mdef\u001b[39;00m \u001b[38;5;21mgreet2\u001b[39m():\n\u001b[1;32m----> 6\u001b[0m     greet1()\n\u001b[0;32m      7\u001b[0m     \u001b[38;5;28mprint\u001b[39m(\u001b[38;5;124m\"\u001b[39m\u001b[38;5;124mhow are you\u001b[39m\u001b[38;5;124m\"\u001b[39m)\n",
      "\u001b[1;31mRecursionError\u001b[0m: maximum recursion depth exceeded"
     ]
    }
   ],
   "source": [
    "def greet1():\n",
    "    greet2()\n",
    "    print(\"hello\")\n",
    "    \n",
    "def greet2():\n",
    "    greet1()\n",
    "    print(\"how are you\")\n",
    "    \n",
    "greet1()"
   ]
  },
  {
   "cell_type": "code",
   "execution_count": null,
   "id": "3a4c0959",
   "metadata": {},
   "outputs": [],
   "source": [
    "def greet1():\n",
    "    print(\"hello\")\n",
    "    \n",
    "def greet2():\n",
    "    print(\"how are you\")\n",
    "    \n",
    "greet1()\n",
    "greet2()\n",
    "####################################################################################\n",
    "\n",
    "def greet1():\n",
    "    print(\"hello\")\n",
    "    \n",
    "def greet2():\n",
    "    greet1()\n",
    "    print(\"how are you\")\n",
    "    \n",
    "greet2()\n",
    "#####################################################################################\n",
    "\n",
    "def greet1():\n",
    "    greet2()\n",
    "    print(\"hello\")\n",
    "    \n",
    "def greet2():\n",
    "    print(\"how are you\")\n",
    "    \n",
    "greet1()\n",
    "########################################################################################\n",
    "\n",
    "def greet1():\n",
    "    greet2()\n",
    "    print(\"hello\")\n",
    "    \n",
    "def greet2():\n",
    "    greet1()\n",
    "    print(\"how are you\")\n",
    "    \n",
    "greet1()"
   ]
  },
  {
   "cell_type": "code",
   "execution_count": null,
   "id": "ae3fa021",
   "metadata": {},
   "outputs": [],
   "source": [
    "# calcultor program\n",
    "# create 4 functions  with arguments\n",
    "# fun1: add\n",
    "# fun2: sub\n",
    "# fun3: mul\n",
    "# fun4: div\n",
    "\n",
    "# print(\"if you want use add opertion pls enter 1\")\n",
    "# print(\"if you want use sub opertion pls enter 2\")\n",
    "# print(\"if you want use mul opertion pls enter 3\")\n",
    "# print(\"if you want use div opertion pls enter 4\")\n",
    "\n",
    "# option=eval(input(\"choose option 1,2,3,4\"))\n",
    "# if option==1:\n",
    "#    n1=\n",
    "#    n2=\n",
    "#   add(n1,n2)\n",
    "# elif option==2:\n",
    "#   sub()"
   ]
  },
  {
   "cell_type": "code",
   "execution_count": null,
   "id": "5810fa37",
   "metadata": {},
   "outputs": [],
   "source": []
  },
  {
   "cell_type": "code",
   "execution_count": null,
   "id": "31e3c046",
   "metadata": {},
   "outputs": [],
   "source": []
  },
  {
   "cell_type": "code",
   "execution_count": 37,
   "id": "29b5e89a",
   "metadata": {},
   "outputs": [
    {
     "name": "stdout",
     "output_type": "stream",
     "text": [
      "if you want to you add operation pls enter 1\n",
      "if you want to you sub operation pls enter 2\n",
      "if you want to you mul operation pls enter 3\n",
      "if you want to you div operation pls enter 4\n",
      "choose option 1,2,3,4: 1\n",
      "enter num1: 10\n",
      "enter num2: 20\n",
      "sum is 30\n"
     ]
    }
   ],
   "source": [
    "def add():\n",
    "\ttotal=num1+num2\n",
    "\tprint(f\"sum is {total}\")\n",
    "\t\n",
    "\n",
    "def sub():\n",
    "\tdiff=num1-num2\n",
    "\tprint(f\"subtraction is {diff}\")\n",
    "def mul():\n",
    "\tfm=num1*num2\n",
    "\tprint(f\"multiplication is {fm}\")\n",
    "def div():\n",
    "\tfd=round(num1/num2,2)\n",
    "\tprint(f\"division is {fd}\")\n",
    "\n",
    "print (\"if you want to you add operation pls enter 1\")\n",
    "print (\"if you want to you sub operation pls enter 2\")\n",
    "print (\"if you want to you mul operation pls enter 3\")\n",
    "print (\"if you want to you div operation pls enter 4\")\n",
    "\n",
    "option=eval(input(\"choose option 1,2,3,4: \"))\n",
    "num1=eval(input(\"enter num1: \"))\n",
    "num2=eval(input(\"enter num2: \"))\n",
    "if option==1:\n",
    "\tadd()\n",
    "elif option==2:\n",
    "\tsub()\n",
    "elif option==3:\n",
    "\tmul()\n",
    "elif option==4:\n",
    "\tdiv()\n",
    "else: \n",
    "\tprint(\"Please select appropriate option\")"
   ]
  },
  {
   "cell_type": "code",
   "execution_count": 38,
   "id": "a4d11e55",
   "metadata": {},
   "outputs": [
    {
     "name": "stdout",
     "output_type": "stream",
     "text": [
      "if you want to use add function enter 1\n",
      "if you want to use sub function enter 2\n",
      "if you want to use mul function enter 3\n",
      "if you want to use div function enter 4\n",
      "Enter you option3\n",
      "Enter n1 : 7\n",
      "Enter n2 : 8\n",
      "56\n"
     ]
    }
   ],
   "source": [
    "def add(n1,n2):\n",
    "    n3 = n1+n2\n",
    "    print(f\"{n3}\")\n",
    "def sub(n1,n2):\n",
    "    n3= n1-n2\n",
    "    print(f\"{n3}\")\n",
    "def mul(n1,n2):\n",
    "    n3 =n1*n2\n",
    "    print(f\"{n3}\")\n",
    "def div(n1,n2):\n",
    "    n3=n1/n2\n",
    "    print(f\"{n3}\")\n",
    "\n",
    "print(\"if you want to use add function enter 1\")\n",
    "print(\"if you want to use sub function enter 2\")\n",
    "print(\"if you want to use mul function enter 3\")\n",
    "print(\"if you want to use div function enter 4\")\n",
    "option = eval(input(\"Enter you option\"))\n",
    "\n",
    "if option == 1:\n",
    "    n1 = eval(input(\"Enter n1 : \"))\n",
    "    n2 = eval(input(\"Enter n2 : \"))\n",
    "    add(n1,n2)\n",
    "elif option == 2:\n",
    "    n1 = eval(input(\"Enter n1 : \"))\n",
    "    n2 = eval(input(\"Enter n2 : \"))\n",
    "    sub(n1,n2)\n",
    "elif option == 3:\n",
    "    n1 = eval(input(\"Enter n1 : \"))\n",
    "    n2 = eval(input(\"Enter n2 : \"))\n",
    "    mul(n1,n2)\n",
    "else:\n",
    "    n1 = eval(input(\"Enter n1 : \"))\n",
    "    n2 = eval(input(\"Enter n2 : \"))\n",
    "    div(n1,n2)"
   ]
  },
  {
   "cell_type": "code",
   "execution_count": 39,
   "id": "49495224",
   "metadata": {},
   "outputs": [
    {
     "name": "stdout",
     "output_type": "stream",
     "text": [
      "if you want to use add enter 1\n",
      "if you want to use sub enter 2\n",
      "if you want to use  mul enter 3\n",
      "if you want to use div enter 4\n",
      "choose option 1,2,3,44\n",
      "enter num1 : 5\n",
      "enter num2 : 6\n",
      "division of 5 and 6 is 0.8333333333333334\n"
     ]
    }
   ],
   "source": [
    "def summ():\n",
    "    add=n1+n2\n",
    "    return(add)\n",
    "def sub():\n",
    "    diff=n1-n2\n",
    "    return(diff)\n",
    "def mul():\n",
    "    product=n1*n2\n",
    "    return(product)\n",
    "def div():\n",
    "    division=n1/n2\n",
    "    return(division)\n",
    "print('if you want to use add enter 1')\n",
    "print('if you want to use sub enter 2')\n",
    "print('if you want to use  mul enter 3')\n",
    "print('if you want to use div enter 4')\n",
    "option=eval(input('choose option 1,2,3,4'))\n",
    "n1=eval(input('enter num1 : '))\n",
    "n2=eval(input('enter num2 : '))\n",
    "if option==1:\n",
    "    result=summ()\n",
    "    print(f'sum of {n1} and {n2} is {result}')\n",
    "elif option==2:\n",
    "    result=sub()\n",
    "    print(f'difference of {n1} and {n2} is {result}')\n",
    "elif option==3:\n",
    "    result=mul()\n",
    "    print(f'product of {n1} and {n2} is {result}')\n",
    "else:\n",
    "    result=div()\n",
    "    print(f'division of {n1} and {n2} is {result}')"
   ]
  },
  {
   "cell_type": "code",
   "execution_count": 40,
   "id": "bda4095a",
   "metadata": {},
   "outputs": [
    {
     "name": "stdout",
     "output_type": "stream",
     "text": [
      "Enter your choose your option: 1 for Addition\n",
      "Enter your choose your option: 2 for Substraction\n",
      "Enter your choose your option: 3 for Multiplication\n",
      "Enter your choose your option: 4 for Division\n",
      "Enter option:3\n",
      "Enter num1:10\n",
      "Enter num2:2\n",
      "Result : 20\n"
     ]
    }
   ],
   "source": [
    "# calculator\n",
    "# create 4 functions \n",
    "# fun1: add\n",
    "# fun2: sub\n",
    "# fun3: mul\n",
    "# fun4: div\n",
    "# print(\"Ask user for option to choose option\")\n",
    "# 1 for add, 2 for sub, 3 for mul, 4 for div\n",
    "# ask num1 and num2 \n",
    "\n",
    "\n",
    "def add(n1, n2):\n",
    "    return n1+n2\n",
    "    \n",
    "def sub(n1, n2):\n",
    "    return n1-n2\n",
    "    \n",
    "def mul(n1, n2):\n",
    "    return n1*n2\n",
    "    \n",
    "def div(n1, n2):\n",
    "    return n1/n2\n",
    "    \n",
    "print(\"Enter your choose your option: 1 for Addition\")\n",
    "print(\"Enter your choose your option: 2 for Substraction\")\n",
    "print(\"Enter your choose your option: 3 for Multiplication\")\n",
    "print(\"Enter your choose your option: 4 for Division\")\n",
    "option=eval(input(\"Enter option:\"))\n",
    "num1=eval(input(\"Enter num1:\"))\n",
    "num2=eval(input(\"Enter num2:\"))\n",
    "\n",
    "if option==1:\n",
    "    result=add(num1, num2)\n",
    "elif option==2:\n",
    "    result=sub(num1, num2)\n",
    "elif option==3:\n",
    "    result=mul(num1, num2)\n",
    "elif option==4:\n",
    "    result=div(num1, num2)\n",
    "else:\n",
    "    print(\"Kindly provide proper option\")\n",
    "print(\"Result :\", result)"
   ]
  },
  {
   "cell_type": "code",
   "execution_count": 42,
   "id": "ab3452aa",
   "metadata": {},
   "outputs": [
    {
     "name": "stdout",
     "output_type": "stream",
     "text": [
      "Enter 1st number :20\n",
      "Enter 2nd number :20\n",
      "Enter option 1,2,3,4 :2\n",
      "0\n"
     ]
    }
   ],
   "source": [
    "n1 = eval(input(\"Enter 1st number :\"))\n",
    "n2 = eval(input(\"Enter 2nd number :\"))\n",
    "option = eval(input(\"Enter option 1,2,3,4 :\"))\n",
    "def add():\n",
    "    return(n1+n2)\n",
    "def sub():\n",
    "    return(n1-n2)\n",
    "def mul():\n",
    "    return(n1*n2)\n",
    "def div():\n",
    "    return(n1/n2)\n",
    "if option==1:\n",
    "    ans=add()\n",
    "elif option==2:\n",
    "    ans=sub()\n",
    "elif option==3:\n",
    "    ans=mul()\n",
    "elif option==4:\n",
    "    ans=div()\n",
    "else:\n",
    "    print(\"use valid option\")\n",
    "    \n",
    "print(ans)"
   ]
  },
  {
   "cell_type": "code",
   "execution_count": null,
   "id": "b5a81692",
   "metadata": {},
   "outputs": [],
   "source": [
    "# for loop\n",
    "if-else"
   ]
  }
 ],
 "metadata": {
  "kernelspec": {
   "display_name": "Python 3 (ipykernel)",
   "language": "python",
   "name": "python3"
  },
  "language_info": {
   "codemirror_mode": {
    "name": "ipython",
    "version": 3
   },
   "file_extension": ".py",
   "mimetype": "text/x-python",
   "name": "python",
   "nbconvert_exporter": "python",
   "pygments_lexer": "ipython3",
   "version": "3.11.5"
  }
 },
 "nbformat": 4,
 "nbformat_minor": 5
}
