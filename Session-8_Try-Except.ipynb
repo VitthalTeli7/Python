{
 "cells": [
  {
   "cell_type": "code",
   "execution_count": 2,
   "id": "8188700d",
   "metadata": {},
   "outputs": [
    {
     "name": "stdout",
     "output_type": "stream",
     "text": [
      "hello\n",
      "hai\n",
      "enter a num1:python\n"
     ]
    },
    {
     "ename": "NameError",
     "evalue": "name 'python' is not defined",
     "output_type": "error",
     "traceback": [
      "\u001b[1;31m---------------------------------------------------------------------------\u001b[0m",
      "\u001b[1;31mNameError\u001b[0m                                 Traceback (most recent call last)",
      "Cell \u001b[1;32mIn[2], line 3\u001b[0m\n\u001b[0;32m      1\u001b[0m \u001b[38;5;28mprint\u001b[39m(\u001b[38;5;124m\"\u001b[39m\u001b[38;5;124mhello\u001b[39m\u001b[38;5;124m\"\u001b[39m)\n\u001b[0;32m      2\u001b[0m \u001b[38;5;28mprint\u001b[39m(\u001b[38;5;124m\"\u001b[39m\u001b[38;5;124mhai\u001b[39m\u001b[38;5;124m\"\u001b[39m)\n\u001b[1;32m----> 3\u001b[0m num1\u001b[38;5;241m=\u001b[39m\u001b[38;5;28meval\u001b[39m(\u001b[38;5;28minput\u001b[39m(\u001b[38;5;124m\"\u001b[39m\u001b[38;5;124menter a num1:\u001b[39m\u001b[38;5;124m\"\u001b[39m))\n\u001b[0;32m      4\u001b[0m num2\u001b[38;5;241m=\u001b[39m\u001b[38;5;28meval\u001b[39m(\u001b[38;5;28minput\u001b[39m(\u001b[38;5;124m\"\u001b[39m\u001b[38;5;124menter a num2:\u001b[39m\u001b[38;5;124m\"\u001b[39m))\n\u001b[0;32m      5\u001b[0m \u001b[38;5;28mprint\u001b[39m(num1\u001b[38;5;241m+\u001b[39mnum2)\n",
      "File \u001b[1;32m<string>:1\u001b[0m\n",
      "\u001b[1;31mNameError\u001b[0m: name 'python' is not defined"
     ]
    }
   ],
   "source": [
    "print(\"hello\")\n",
    "print(\"hai\")\n",
    "num1=eval(input(\"enter a num1:\"))\n",
    "num2=eval(input(\"enter a num2:\"))\n",
    "print(num1+num2)\n",
    "print(\"over\")\n",
    "\n",
    "# 6 lines\n",
    "# 3rd line\n",
    "# 4 5 6 will not run\n",
    "\n",
    "# 3rd line does not matter\n",
    "# even i will get the error\n",
    "# i want to execute 4 5 6 "
   ]
  },
  {
   "cell_type": "markdown",
   "id": "c8c2fb6e",
   "metadata": {},
   "source": [
    "**Exception handing**"
   ]
  },
  {
   "cell_type": "code",
   "execution_count": null,
   "id": "aa22f082",
   "metadata": {},
   "outputs": [],
   "source": [
    "try-except"
   ]
  },
  {
   "cell_type": "code",
   "execution_count": null,
   "id": "e2c2d3cd",
   "metadata": {},
   "outputs": [],
   "source": [
    "try:\n",
    "    ###actual code####\n",
    "except:\n",
    "    ### when ever you will encounter error in try block\n",
    "    ### then you will be in except block"
   ]
  },
  {
   "cell_type": "code",
   "execution_count": 4,
   "id": "d2c26687",
   "metadata": {},
   "outputs": [
    {
     "ename": "ZeroDivisionError",
     "evalue": "division by zero",
     "output_type": "error",
     "traceback": [
      "\u001b[1;31m---------------------------------------------------------------------------\u001b[0m",
      "\u001b[1;31mZeroDivisionError\u001b[0m                         Traceback (most recent call last)",
      "Cell \u001b[1;32mIn[4], line 2\u001b[0m\n\u001b[0;32m      1\u001b[0m \u001b[38;5;66;03m#0/20  # 0\u001b[39;00m\n\u001b[1;32m----> 2\u001b[0m \u001b[38;5;241m20\u001b[39m\u001b[38;5;241m/\u001b[39m\u001b[38;5;241m0\u001b[39m\n",
      "\u001b[1;31mZeroDivisionError\u001b[0m: division by zero"
     ]
    }
   ],
   "source": [
    "#0/20  # 0\n",
    "20/0  # not defined"
   ]
  },
  {
   "cell_type": "code",
   "execution_count": 7,
   "id": "114a57fe",
   "metadata": {},
   "outputs": [
    {
     "name": "stdout",
     "output_type": "stream",
     "text": [
      "enter a num1:20\n",
      "enter a num2:0\n"
     ]
    },
    {
     "ename": "ZeroDivisionError",
     "evalue": "division by zero",
     "output_type": "error",
     "traceback": [
      "\u001b[1;31m---------------------------------------------------------------------------\u001b[0m",
      "\u001b[1;31mZeroDivisionError\u001b[0m                         Traceback (most recent call last)",
      "Cell \u001b[1;32mIn[7], line 3\u001b[0m\n\u001b[0;32m      1\u001b[0m num1\u001b[38;5;241m=\u001b[39m\u001b[38;5;28meval\u001b[39m(\u001b[38;5;28minput\u001b[39m(\u001b[38;5;124m\"\u001b[39m\u001b[38;5;124menter a num1:\u001b[39m\u001b[38;5;124m\"\u001b[39m))\n\u001b[0;32m      2\u001b[0m num2\u001b[38;5;241m=\u001b[39m\u001b[38;5;28meval\u001b[39m(\u001b[38;5;28minput\u001b[39m(\u001b[38;5;124m\"\u001b[39m\u001b[38;5;124menter a num2:\u001b[39m\u001b[38;5;124m\"\u001b[39m))\n\u001b[1;32m----> 3\u001b[0m \u001b[38;5;28mprint\u001b[39m(num1\u001b[38;5;241m/\u001b[39mnum2)\n",
      "\u001b[1;31mZeroDivisionError\u001b[0m: division by zero"
     ]
    }
   ],
   "source": [
    "num1=eval(input(\"enter a num1:\"))\n",
    "num2=eval(input(\"enter a num2:\"))\n",
    "print(num1/num2)\n",
    "\n",
    "# how may types\n",
    "# syntax error\n",
    "# Name error\n",
    "# undefined error\n",
    "# zero division error"
   ]
  },
  {
   "cell_type": "code",
   "execution_count": 9,
   "id": "96d071ff",
   "metadata": {},
   "outputs": [
    {
     "name": "stdout",
     "output_type": "stream",
     "text": [
      "enter a num1:20\n",
      "enter a num2:0\n",
      "zero division error\n",
      "hello\n"
     ]
    }
   ],
   "source": [
    "try:\n",
    "    num1=eval(input(\"enter a num1:\")) \n",
    "    num2=eval(input(\"enter a num2:\")) \n",
    "    print(num1/num2)                  \n",
    "    \n",
    "except:\n",
    "    print(\"zero division error\")\n",
    "    print('hello')\n",
    "    \n"
   ]
  },
  {
   "cell_type": "code",
   "execution_count": 13,
   "id": "4ebc2d6e",
   "metadata": {},
   "outputs": [
    {
     "name": "stdout",
     "output_type": "stream",
     "text": [
      "now im in try block\n",
      "enter a num1:20\n",
      "enter a num2:0\n",
      "you got error in try block\n",
      "now im in except block\n",
      "now i will show the error\n",
      "zero division error\n",
      "enter a num1:200\n",
      "enter a num2:300\n",
      "500\n"
     ]
    }
   ],
   "source": [
    "try:\n",
    "    print(\"now im in try block\")\n",
    "    num1=eval(input(\"enter a num1:\")) \n",
    "    num2=eval(input(\"enter a num2:\")) \n",
    "    print(num1/num2)\n",
    "    print(\"hello\")\n",
    "    print(\"python\")\n",
    "    \n",
    "except:\n",
    "    print(\"you got error in try block\")\n",
    "    print(\"now im in except block\")\n",
    "    print(\"now i will show the error\")\n",
    "    print(\"zero division error\")\n",
    "    num1=eval(input(\"enter a num1:\")) \n",
    "    num2=eval(input(\"enter a num2:\")) \n",
    "    print(num1+num2)"
   ]
  },
  {
   "cell_type": "code",
   "execution_count": 15,
   "id": "a3ca77ea",
   "metadata": {},
   "outputs": [
    {
     "name": "stdout",
     "output_type": "stream",
     "text": [
      "hello\n",
      "python\n",
      "0.1\n",
      "1\n",
      "2\n",
      "hellopython\n"
     ]
    }
   ],
   "source": [
    "str1='hello'\n",
    "str2='python'\n",
    "print(str1)\n",
    "print(str2)\n",
    "#################################################\n",
    "try:\n",
    "    n1=20\n",
    "    n2=200\n",
    "    print(n1/n2)  # 20/0   error\n",
    "except:\n",
    "    print(\"zero division error\")\n",
    "    print('okay')\n",
    "###############################################\n",
    "    \n",
    "print(1)\n",
    "print(2)\n",
    "print(str1+str2)\n",
    "\n",
    "# hello\n",
    "# python\n",
    "# 0.1\n",
    "# 1 \n",
    "# 2\n",
    "# hellopython"
   ]
  },
  {
   "cell_type": "code",
   "execution_count": 23,
   "id": "a526460f",
   "metadata": {},
   "outputs": [
    {
     "name": "stdout",
     "output_type": "stream",
     "text": [
      "enter a num1:20\n",
      "enter a num2:0\n",
      "division by zero\n"
     ]
    }
   ],
   "source": [
    "try:\n",
    "    num1=eval(input(\"enter a num1:\")) \n",
    "    num2=eval(input(\"enter a num2:\")) \n",
    "    print(num1/num2)                  \n",
    "    \n",
    "except Exception as e:\n",
    "    print(e)"
   ]
  },
  {
   "cell_type": "code",
   "execution_count": 17,
   "id": "6c5ef44e",
   "metadata": {},
   "outputs": [
    {
     "name": "stdout",
     "output_type": "stream",
     "text": [
      "enter a num1:python\n"
     ]
    },
    {
     "ename": "NameError",
     "evalue": "name 'python' is not defined",
     "output_type": "error",
     "traceback": [
      "\u001b[1;31m---------------------------------------------------------------------------\u001b[0m",
      "\u001b[1;31mNameError\u001b[0m                                 Traceback (most recent call last)",
      "Cell \u001b[1;32mIn[17], line 1\u001b[0m\n\u001b[1;32m----> 1\u001b[0m num1\u001b[38;5;241m=\u001b[39m\u001b[38;5;28meval\u001b[39m(\u001b[38;5;28minput\u001b[39m(\u001b[38;5;124m\"\u001b[39m\u001b[38;5;124menter a num1:\u001b[39m\u001b[38;5;124m\"\u001b[39m)) \n\u001b[0;32m      2\u001b[0m num2\u001b[38;5;241m=\u001b[39m\u001b[38;5;28meval\u001b[39m(\u001b[38;5;28minput\u001b[39m(\u001b[38;5;124m\"\u001b[39m\u001b[38;5;124menter a num2:\u001b[39m\u001b[38;5;124m\"\u001b[39m)) \n\u001b[0;32m      3\u001b[0m \u001b[38;5;28mprint\u001b[39m(num1\u001b[38;5;241m/\u001b[39mnum2)\n",
      "File \u001b[1;32m<string>:1\u001b[0m\n",
      "\u001b[1;31mNameError\u001b[0m: name 'python' is not defined"
     ]
    }
   ],
   "source": [
    "num1=eval(input(\"enter a num1:\")) \n",
    "num2=eval(input(\"enter a num2:\")) \n",
    "print(num1/num2)  "
   ]
  },
  {
   "cell_type": "code",
   "execution_count": 26,
   "id": "94c026c0",
   "metadata": {},
   "outputs": [
    {
     "name": "stdout",
     "output_type": "stream",
     "text": [
      "enter a number:t\n",
      "name 't' is not defined\n",
      "8\n"
     ]
    }
   ],
   "source": [
    "try:\n",
    "    num=eval(input(\"enter a number:\"))\n",
    "    if num%2==0:\n",
    "        print(f\"{num} is an even\")\n",
    "    else:\n",
    "        print(f\"{num} is an odd\")\n",
    "        \n",
    "except Exception as e:\n",
    "    print(e)\n",
    "    \n",
    "    print(3+5)"
   ]
  },
  {
   "cell_type": "code",
   "execution_count": 27,
   "id": "c64876eb",
   "metadata": {},
   "outputs": [
    {
     "name": "stdout",
     "output_type": "stream",
     "text": [
      "enter the number:50\n",
      "greater than or equal to 50\n"
     ]
    }
   ],
   "source": [
    "try:\n",
    "    num=eval(input(\"enter the number:\"))\n",
    "    if num>=50:\n",
    "        print(\"greater than or equal to 50\")\n",
    "    else:\n",
    "        print(\"less than 50\")\n",
    "except Exception as e:\n",
    "    print(e)"
   ]
  },
  {
   "cell_type": "code",
   "execution_count": null,
   "id": "405bf1a1",
   "metadata": {},
   "outputs": [],
   "source": [
    "# Every code try-except"
   ]
  },
  {
   "cell_type": "code",
   "execution_count": null,
   "id": "12320d31",
   "metadata": {},
   "outputs": [],
   "source": [
    "try:\n",
    "    input(\"conductor:\")\n",
    "    id1=input(\"mother:\")\n",
    "    if id1=='yes':\n",
    "        print(\"enjoy the free trip\")\n",
    "\n",
    "    else:\n",
    "        input(\"conductor:\")      # pay the money\n",
    "        input(\"mother:\")         #how much\n",
    "        input(\"conductor:\")      # how many km\n",
    "        dis=eval(input(\"mother:\")) # 25k\n",
    "        input(\"mother:\")              #how much fare for km\n",
    "        fare=eval(input(\"conductor:\")) #2rs: fare\n",
    "        total= dis*fare\n",
    "        print(f\"for the distance {dis}, total cahrge is {total}\")\n",
    "    \n",
    "except Exception as e:\n",
    "    print(e)"
   ]
  },
  {
   "cell_type": "code",
   "execution_count": null,
   "id": "893c7655",
   "metadata": {},
   "outputs": [],
   "source": []
  },
  {
   "cell_type": "code",
   "execution_count": null,
   "id": "328993c0",
   "metadata": {},
   "outputs": [],
   "source": []
  },
  {
   "cell_type": "code",
   "execution_count": null,
   "id": "c3ce011d",
   "metadata": {},
   "outputs": [],
   "source": []
  }
 ],
 "metadata": {
  "kernelspec": {
   "display_name": "Python 3 (ipykernel)",
   "language": "python",
   "name": "python3"
  },
  "language_info": {
   "codemirror_mode": {
    "name": "ipython",
    "version": 3
   },
   "file_extension": ".py",
   "mimetype": "text/x-python",
   "name": "python",
   "nbconvert_exporter": "python",
   "pygments_lexer": "ipython3",
   "version": "3.11.5"
  }
 },
 "nbformat": 4,
 "nbformat_minor": 5
}
