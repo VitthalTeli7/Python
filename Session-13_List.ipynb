{
 "cells": [
  {
   "cell_type": "markdown",
   "id": "a271ee37",
   "metadata": {},
   "source": [
    "- How to read\n",
    "\n",
    "- How many ways we can represent\n",
    "\n",
    "- type\n",
    "\n",
    "- len\n",
    "\n",
    "- max\n",
    "\n",
    "- min\n",
    "\n",
    "- sorted\n",
    "\n",
    "- reversed \n",
    "\n",
    "- Concatenation\n",
    "\n",
    "- in\n",
    "\n",
    "- index\n",
    "\n",
    "- for loop iteration\n",
    "\n",
    "- mutable-immutable\n",
    "\n",
    "- slice\n",
    "\n",
    "- Methods"
   ]
  },
  {
   "cell_type": "code",
   "execution_count": null,
   "id": "f8305769",
   "metadata": {},
   "outputs": [],
   "source": [
    "str1=''"
   ]
  },
  {
   "cell_type": "code",
   "execution_count": 1,
   "id": "9a534519",
   "metadata": {},
   "outputs": [
    {
     "data": {
      "text/plain": [
       "[1, 2, 3, 4]"
      ]
     },
     "execution_count": 1,
     "metadata": {},
     "output_type": "execute_result"
    }
   ],
   "source": [
    "l1=[1,2,3,4]\n",
    "l1"
   ]
  },
  {
   "cell_type": "code",
   "execution_count": 2,
   "id": "4b0b44a2",
   "metadata": {},
   "outputs": [
    {
     "data": {
      "text/plain": [
       "list"
      ]
     },
     "execution_count": 2,
     "metadata": {},
     "output_type": "execute_result"
    }
   ],
   "source": [
    "type(l1)"
   ]
  },
  {
   "cell_type": "code",
   "execution_count": 3,
   "id": "4c3c7052",
   "metadata": {},
   "outputs": [
    {
     "data": {
      "text/plain": [
       "['Apple', 'Banana', 'Cherry']"
      ]
     },
     "execution_count": 3,
     "metadata": {},
     "output_type": "execute_result"
    }
   ],
   "source": [
    "l2=['Apple','Banana','Cherry']\n",
    "l2"
   ]
  },
  {
   "cell_type": "code",
   "execution_count": 4,
   "id": "6c1ef01b",
   "metadata": {},
   "outputs": [
    {
     "data": {
      "text/plain": [
       "[1, 2, 3, 'A', 'B', 'C']"
      ]
     },
     "execution_count": 4,
     "metadata": {},
     "output_type": "execute_result"
    }
   ],
   "source": [
    "l3=[1,2,3,'A','B','C']\n",
    "l3"
   ]
  },
  {
   "cell_type": "code",
   "execution_count": 5,
   "id": "ae0dff28",
   "metadata": {},
   "outputs": [
    {
     "data": {
      "text/plain": [
       "[1, 2, 3, 'A', 'B', 'C', 10.5, True, (20+30j)]"
      ]
     },
     "execution_count": 5,
     "metadata": {},
     "output_type": "execute_result"
    }
   ],
   "source": [
    "l4=[1,2,3,'A','B','C',10.5,True,20+30j]\n",
    "l4"
   ]
  },
  {
   "cell_type": "code",
   "execution_count": 6,
   "id": "c34ffaac",
   "metadata": {},
   "outputs": [
    {
     "data": {
      "text/plain": [
       "[100, 100, 100]"
      ]
     },
     "execution_count": 6,
     "metadata": {},
     "output_type": "execute_result"
    }
   ],
   "source": [
    "l5=[100,100,100]\n",
    "l5"
   ]
  },
  {
   "cell_type": "code",
   "execution_count": 7,
   "id": "a8f90d0d",
   "metadata": {},
   "outputs": [
    {
     "data": {
      "text/plain": [
       "[1, 2, 3, ['A', 'B', 'C']]"
      ]
     },
     "execution_count": 7,
     "metadata": {},
     "output_type": "execute_result"
    }
   ],
   "source": [
    "l6=[1,2,3,['A','B','C']]\n",
    "l6"
   ]
  },
  {
   "cell_type": "code",
   "execution_count": null,
   "id": "1c496f17",
   "metadata": {},
   "outputs": [],
   "source": [
    "l1=[1,2,3,4]\n",
    "l2=['Apple','Banana','Cherry']\n",
    "l3=[1,2,3,'A','B','C']\n",
    "l4=[1,2,3,'A','B','C',10.5,True,20+30j]\n",
    "l5=[100,100,100]\n",
    "l6=[1,2,3,['A','B','C']]\n"
   ]
  },
  {
   "cell_type": "code",
   "execution_count": 17,
   "id": "9d087811",
   "metadata": {},
   "outputs": [
    {
     "data": {
      "text/plain": [
       "[[[[[[[['%', '^']]]]]]]]"
      ]
     },
     "execution_count": 17,
     "metadata": {},
     "output_type": "execute_result"
    }
   ],
   "source": [
    "l8=[_]\n",
    "l8"
   ]
  },
  {
   "cell_type": "code",
   "execution_count": 18,
   "id": "f8e99dca",
   "metadata": {},
   "outputs": [
    {
     "data": {
      "text/plain": [
       "[[[[[[[[['%', '^']]]]]]]]]"
      ]
     },
     "execution_count": 18,
     "metadata": {},
     "output_type": "execute_result"
    }
   ],
   "source": [
    "l9=[_]\n",
    "l9"
   ]
  },
  {
   "cell_type": "markdown",
   "id": "6035308f",
   "metadata": {},
   "source": [
    "- List is array of elements\n",
    "\n",
    "- That elements can be any data type\n",
    "\n",
    "- Heterogeneous\n",
    "\n",
    "- List allows duplicates\n",
    "\n",
    "- List can extend with any values\n",
    "\n",
    "- List in List possible\n",
    "\n",
    "- List of underscore , is nothing but list in list"
   ]
  },
  {
   "cell_type": "code",
   "execution_count": 19,
   "id": "5720cfbd",
   "metadata": {},
   "outputs": [
    {
     "data": {
      "text/plain": [
       "[1, 2, 3, 4]"
      ]
     },
     "execution_count": 19,
     "metadata": {},
     "output_type": "execute_result"
    }
   ],
   "source": [
    "l1\n",
    "\n",
    "# len\n",
    "# max\n",
    "# min\n",
    "# sum"
   ]
  },
  {
   "cell_type": "code",
   "execution_count": 23,
   "id": "a8eef9ab",
   "metadata": {},
   "outputs": [
    {
     "data": {
      "text/plain": [
       "(4, 4, 1, 10)"
      ]
     },
     "execution_count": 23,
     "metadata": {},
     "output_type": "execute_result"
    }
   ],
   "source": [
    "len(l1),max(l1),min(l1),sum(l1)"
   ]
  },
  {
   "cell_type": "code",
   "execution_count": 24,
   "id": "03891e61",
   "metadata": {},
   "outputs": [
    {
     "data": {
      "text/plain": [
       "['Apple', 'Banana', 'Cherry']"
      ]
     },
     "execution_count": 24,
     "metadata": {},
     "output_type": "execute_result"
    }
   ],
   "source": [
    "l2"
   ]
  },
  {
   "cell_type": "code",
   "execution_count": 27,
   "id": "fb80230a",
   "metadata": {},
   "outputs": [
    {
     "data": {
      "text/plain": [
       "(3, 'Cherry', 'Apple')"
      ]
     },
     "execution_count": 27,
     "metadata": {},
     "output_type": "execute_result"
    }
   ],
   "source": [
    "len(l2),max(l2),min(l2)  # sum(l2) error"
   ]
  },
  {
   "cell_type": "code",
   "execution_count": 28,
   "id": "d0fbb22c",
   "metadata": {},
   "outputs": [
    {
     "data": {
      "text/plain": [
       "[1, 2, 3, 'A', 'B', 'C']"
      ]
     },
     "execution_count": 28,
     "metadata": {},
     "output_type": "execute_result"
    }
   ],
   "source": [
    "l3"
   ]
  },
  {
   "cell_type": "code",
   "execution_count": 29,
   "id": "a4b1deb2",
   "metadata": {},
   "outputs": [
    {
     "data": {
      "text/plain": [
       "6"
      ]
     },
     "execution_count": 29,
     "metadata": {},
     "output_type": "execute_result"
    }
   ],
   "source": [
    "len(l3), # max  min  sum fail"
   ]
  },
  {
   "cell_type": "code",
   "execution_count": 30,
   "id": "c9fd9446",
   "metadata": {},
   "outputs": [
    {
     "data": {
      "text/plain": [
       "[1, 2, 3, 'A', 'B', 'C', 10.5, True, (20+30j)]"
      ]
     },
     "execution_count": 30,
     "metadata": {},
     "output_type": "execute_result"
    }
   ],
   "source": [
    "l4"
   ]
  },
  {
   "cell_type": "code",
   "execution_count": 31,
   "id": "6e183606",
   "metadata": {},
   "outputs": [
    {
     "data": {
      "text/plain": [
       "9"
      ]
     },
     "execution_count": 31,
     "metadata": {},
     "output_type": "execute_result"
    }
   ],
   "source": [
    "len(l4), # max  min  sum"
   ]
  },
  {
   "cell_type": "code",
   "execution_count": 32,
   "id": "5c3da65b",
   "metadata": {},
   "outputs": [
    {
     "data": {
      "text/plain": [
       "[100, 100, 100]"
      ]
     },
     "execution_count": 32,
     "metadata": {},
     "output_type": "execute_result"
    }
   ],
   "source": [
    "l5"
   ]
  },
  {
   "cell_type": "code",
   "execution_count": 36,
   "id": "6df83570",
   "metadata": {},
   "outputs": [
    {
     "data": {
      "text/plain": [
       "(3, 100, 100, 300)"
      ]
     },
     "execution_count": 36,
     "metadata": {},
     "output_type": "execute_result"
    }
   ],
   "source": [
    "len(l5),max(l5),min(l5),sum(l5)"
   ]
  },
  {
   "cell_type": "code",
   "execution_count": 37,
   "id": "a07245f6",
   "metadata": {},
   "outputs": [
    {
     "data": {
      "text/plain": [
       "[1, 2, 3, ['A', 'B', 'C']]"
      ]
     },
     "execution_count": 37,
     "metadata": {},
     "output_type": "execute_result"
    }
   ],
   "source": [
    "l6"
   ]
  },
  {
   "cell_type": "code",
   "execution_count": 38,
   "id": "28956d5e",
   "metadata": {},
   "outputs": [
    {
     "data": {
      "text/plain": [
       "4"
      ]
     },
     "execution_count": 38,
     "metadata": {},
     "output_type": "execute_result"
    }
   ],
   "source": [
    "len(l6)"
   ]
  },
  {
   "cell_type": "code",
   "execution_count": 39,
   "id": "e6d2a641",
   "metadata": {},
   "outputs": [
    {
     "data": {
      "text/plain": [
       "2"
      ]
     },
     "execution_count": 39,
     "metadata": {},
     "output_type": "execute_result"
    }
   ],
   "source": [
    "l66=[[1,2,3],[4,5,6]]\n",
    "len(l66)"
   ]
  },
  {
   "cell_type": "code",
   "execution_count": 40,
   "id": "f35ac613",
   "metadata": {},
   "outputs": [
    {
     "data": {
      "text/plain": [
       "[[[[['%', '^']]]]]"
      ]
     },
     "execution_count": 40,
     "metadata": {},
     "output_type": "execute_result"
    }
   ],
   "source": [
    "l7"
   ]
  },
  {
   "cell_type": "markdown",
   "id": "679e0680",
   "metadata": {},
   "source": [
    "$sorted$"
   ]
  },
  {
   "cell_type": "code",
   "execution_count": 41,
   "id": "93dc9af5",
   "metadata": {},
   "outputs": [
    {
     "data": {
      "text/plain": [
       "[1, 2, 3, 4]"
      ]
     },
     "execution_count": 41,
     "metadata": {},
     "output_type": "execute_result"
    }
   ],
   "source": [
    "sorted(l1)\n",
    "# By default reverse=False\n",
    "# which means ascending order"
   ]
  },
  {
   "cell_type": "code",
   "execution_count": 42,
   "id": "f6e300bd",
   "metadata": {},
   "outputs": [
    {
     "data": {
      "text/plain": [
       "[4, 3, 2, 1]"
      ]
     },
     "execution_count": 42,
     "metadata": {},
     "output_type": "execute_result"
    }
   ],
   "source": [
    "# If you want to do descending order\n",
    "# reverse=True\n",
    "sorted(l1,reverse=True)"
   ]
  },
  {
   "cell_type": "code",
   "execution_count": 43,
   "id": "896fa86a",
   "metadata": {},
   "outputs": [
    {
     "data": {
      "text/plain": [
       "['Apple', 'Banana', 'Cherry']"
      ]
     },
     "execution_count": 43,
     "metadata": {},
     "output_type": "execute_result"
    }
   ],
   "source": [
    "sorted(l2)"
   ]
  },
  {
   "cell_type": "code",
   "execution_count": 44,
   "id": "20ec125b",
   "metadata": {},
   "outputs": [
    {
     "data": {
      "text/plain": [
       "['Cherry', 'Banana', 'Apple']"
      ]
     },
     "execution_count": 44,
     "metadata": {},
     "output_type": "execute_result"
    }
   ],
   "source": [
    "sorted(l2,reverse=True)"
   ]
  },
  {
   "cell_type": "code",
   "execution_count": 45,
   "id": "32b7a093",
   "metadata": {},
   "outputs": [
    {
     "ename": "TypeError",
     "evalue": "'<' not supported between instances of 'str' and 'int'",
     "output_type": "error",
     "traceback": [
      "\u001b[1;31m---------------------------------------------------------------------------\u001b[0m",
      "\u001b[1;31mTypeError\u001b[0m                                 Traceback (most recent call last)",
      "Cell \u001b[1;32mIn[45], line 1\u001b[0m\n\u001b[1;32m----> 1\u001b[0m \u001b[38;5;28msorted\u001b[39m(l3)\n",
      "\u001b[1;31mTypeError\u001b[0m: '<' not supported between instances of 'str' and 'int'"
     ]
    }
   ],
   "source": [
    "sorted(l3)"
   ]
  },
  {
   "cell_type": "code",
   "execution_count": 46,
   "id": "551fc675",
   "metadata": {},
   "outputs": [
    {
     "ename": "TypeError",
     "evalue": "'<' not supported between instances of 'int' and 'str'",
     "output_type": "error",
     "traceback": [
      "\u001b[1;31m---------------------------------------------------------------------------\u001b[0m",
      "\u001b[1;31mTypeError\u001b[0m                                 Traceback (most recent call last)",
      "Cell \u001b[1;32mIn[46], line 1\u001b[0m\n\u001b[1;32m----> 1\u001b[0m \u001b[38;5;28msorted\u001b[39m(l3,reverse\u001b[38;5;241m=\u001b[39m\u001b[38;5;28;01mTrue\u001b[39;00m)\n",
      "\u001b[1;31mTypeError\u001b[0m: '<' not supported between instances of 'int' and 'str'"
     ]
    }
   ],
   "source": [
    "sorted(l3,reverse=True)"
   ]
  },
  {
   "cell_type": "code",
   "execution_count": null,
   "id": "bb487017",
   "metadata": {},
   "outputs": [],
   "source": [
    "#list object is not callable ===== magic of python"
   ]
  },
  {
   "cell_type": "code",
   "execution_count": 47,
   "id": "082b18a0",
   "metadata": {},
   "outputs": [
    {
     "data": {
      "text/plain": [
       "[100, 100, 100]"
      ]
     },
     "execution_count": 47,
     "metadata": {},
     "output_type": "execute_result"
    }
   ],
   "source": [
    "l5"
   ]
  },
  {
   "cell_type": "markdown",
   "id": "274a6af2",
   "metadata": {},
   "source": [
    "$reversed$"
   ]
  },
  {
   "cell_type": "code",
   "execution_count": 48,
   "id": "16532ff5",
   "metadata": {},
   "outputs": [
    {
     "data": {
      "text/plain": [
       "[1, 2, 3, 4]"
      ]
     },
     "execution_count": 48,
     "metadata": {},
     "output_type": "execute_result"
    }
   ],
   "source": [
    "l1"
   ]
  },
  {
   "cell_type": "code",
   "execution_count": 50,
   "id": "03c56acf",
   "metadata": {},
   "outputs": [],
   "source": [
    "val=reversed(l1)"
   ]
  },
  {
   "cell_type": "code",
   "execution_count": 51,
   "id": "84c8593f",
   "metadata": {},
   "outputs": [
    {
     "name": "stdout",
     "output_type": "stream",
     "text": [
      "4\n",
      "3\n",
      "2\n",
      "1\n"
     ]
    }
   ],
   "source": [
    "for i in val:\n",
    "    print(i)"
   ]
  },
  {
   "cell_type": "markdown",
   "id": "734b9cc6",
   "metadata": {},
   "source": [
    "$Concatenation$"
   ]
  },
  {
   "cell_type": "code",
   "execution_count": 52,
   "id": "a0065647",
   "metadata": {},
   "outputs": [
    {
     "data": {
      "text/plain": [
       "[1, 2, 3, 4]"
      ]
     },
     "execution_count": 52,
     "metadata": {},
     "output_type": "execute_result"
    }
   ],
   "source": [
    "l1"
   ]
  },
  {
   "cell_type": "code",
   "execution_count": 53,
   "id": "a114b069",
   "metadata": {},
   "outputs": [
    {
     "data": {
      "text/plain": [
       "['Apple', 'Banana', 'Cherry']"
      ]
     },
     "execution_count": 53,
     "metadata": {},
     "output_type": "execute_result"
    }
   ],
   "source": [
    "l2"
   ]
  },
  {
   "cell_type": "code",
   "execution_count": 54,
   "id": "016b6d07",
   "metadata": {},
   "outputs": [
    {
     "data": {
      "text/plain": [
       "[1, 2, 3, 4, 'Apple', 'Banana', 'Cherry']"
      ]
     },
     "execution_count": 54,
     "metadata": {},
     "output_type": "execute_result"
    }
   ],
   "source": [
    "l1+l2"
   ]
  },
  {
   "cell_type": "code",
   "execution_count": 55,
   "id": "b1fada81",
   "metadata": {},
   "outputs": [
    {
     "data": {
      "text/plain": [
       "['Apple', 'Banana', 'Cherry', 1, 2, 3, 4]"
      ]
     },
     "execution_count": 55,
     "metadata": {},
     "output_type": "execute_result"
    }
   ],
   "source": [
    "l2+l1"
   ]
  },
  {
   "cell_type": "code",
   "execution_count": 56,
   "id": "00af371f",
   "metadata": {},
   "outputs": [
    {
     "data": {
      "text/plain": [
       "[1, 2, 3, 4, 1, 2, 3, 4, 1, 2, 3, 4]"
      ]
     },
     "execution_count": 56,
     "metadata": {},
     "output_type": "execute_result"
    }
   ],
   "source": [
    "l1*3  # l1+l1+l1"
   ]
  },
  {
   "cell_type": "markdown",
   "id": "3cafaa1b",
   "metadata": {},
   "source": [
    "$in$"
   ]
  },
  {
   "cell_type": "code",
   "execution_count": 57,
   "id": "a27aca1b",
   "metadata": {},
   "outputs": [
    {
     "name": "stdout",
     "output_type": "stream",
     "text": [
      "p\n",
      "y\n",
      "t\n",
      "h\n",
      "o\n",
      "n\n"
     ]
    }
   ],
   "source": [
    "s1='python'\n",
    "for i in s1:\n",
    "    print(i)"
   ]
  },
  {
   "cell_type": "code",
   "execution_count": 59,
   "id": "e88c13ef",
   "metadata": {},
   "outputs": [
    {
     "name": "stdout",
     "output_type": "stream",
     "text": [
      "1\n",
      "2\n",
      "3\n",
      "4\n"
     ]
    }
   ],
   "source": [
    "for i in l1:\n",
    "    print(i)"
   ]
  },
  {
   "cell_type": "markdown",
   "id": "cc486967",
   "metadata": {},
   "source": [
    "$index$"
   ]
  },
  {
   "cell_type": "code",
   "execution_count": null,
   "id": "29f2d70a",
   "metadata": {},
   "outputs": [],
   "source": [
    "-6 -5  -4  -3  -2  -1\n",
    "p   y   t   h   o   n\n",
    "0   1   2   3   4   5"
   ]
  },
  {
   "cell_type": "code",
   "execution_count": null,
   "id": "2729c904",
   "metadata": {},
   "outputs": [],
   "source": [
    " -3      -2        -1\n",
    "Apple   Banana   Cherry\n",
    "0        1        2"
   ]
  },
  {
   "cell_type": "code",
   "execution_count": 63,
   "id": "fe38f788",
   "metadata": {},
   "outputs": [
    {
     "data": {
      "text/plain": [
       "('Apple', 'Banana', 'Cherry')"
      ]
     },
     "execution_count": 63,
     "metadata": {},
     "output_type": "execute_result"
    }
   ],
   "source": [
    "l2[0],l2[1],l2[2]"
   ]
  },
  {
   "cell_type": "code",
   "execution_count": 64,
   "id": "42a938ba",
   "metadata": {},
   "outputs": [
    {
     "data": {
      "text/plain": [
       "('Apple', 'Banana', 'Cherry')"
      ]
     },
     "execution_count": 64,
     "metadata": {},
     "output_type": "execute_result"
    }
   ],
   "source": [
    "l2[-3],l2[-2],l2[-1]"
   ]
  },
  {
   "cell_type": "code",
   "execution_count": 67,
   "id": "bf5216c5",
   "metadata": {},
   "outputs": [
    {
     "name": "stdout",
     "output_type": "stream",
     "text": [
      "0 Apple\n",
      "1 Banana\n",
      "2 Cherry\n"
     ]
    }
   ],
   "source": [
    "for i in range(len(l2)):\n",
    "    print(i,l2[i])"
   ]
  },
  {
   "cell_type": "code",
   "execution_count": null,
   "id": "c4a213ea",
   "metadata": {},
   "outputs": [],
   "source": [
    "# Postive index of Apple is 0\n",
    "# negative index of Apple is -3 \n",
    "# postive and negative index "
   ]
  },
  {
   "cell_type": "code",
   "execution_count": 68,
   "id": "16bcdaa9",
   "metadata": {},
   "outputs": [
    {
     "name": "stdout",
     "output_type": "stream",
     "text": [
      "positive and negative  of apple is 0 and 3\n",
      "positive and negative  of banana is 1 and 4\n",
      "positive and negative  of cherry is 2 and 5\n"
     ]
    }
   ],
   "source": [
    "l2=['apple','banana','cherry']\n",
    "for i in range(len(l2)):\n",
    "    j=i+len(l2)\n",
    "    print(f'positive and negative  of {l2[i]} is {i} and {j}')"
   ]
  },
  {
   "cell_type": "code",
   "execution_count": 69,
   "id": "3998e446",
   "metadata": {},
   "outputs": [
    {
     "name": "stdout",
     "output_type": "stream",
     "text": [
      " Positive index of apple is 0\n",
      " Negative index of apple is -3\n",
      " Positive index 0 and Negative index of apple is -3\n",
      " Positive index of banana is 1\n",
      " Negative index of banana is -2\n",
      " Positive index 1 and Negative index of banana is -2\n",
      " Positive index of cherry is 2\n",
      " Negative index of cherry is -1\n",
      " Positive index 2 and Negative index of cherry is -1\n"
     ]
    }
   ],
   "source": [
    "for i in range(len(l2)):\n",
    "    print(f\" Positive index of {l2[i]} is {i}\")\n",
    "    print(f\" Negative index of {l2[i]} is {i-3}\")\n",
    "    print(f\" Positive index {i} and Negative index of {l2[i]} is {i-3}\")"
   ]
  },
  {
   "cell_type": "code",
   "execution_count": 72,
   "id": "c80c3ef3",
   "metadata": {},
   "outputs": [
    {
     "name": "stdout",
     "output_type": "stream",
     "text": [
      "0 -3\n",
      "1 -2\n",
      "2 -1\n"
     ]
    }
   ],
   "source": [
    "for i in range(len(l2)):\n",
    "    print(i,i-3)"
   ]
  },
  {
   "cell_type": "markdown",
   "id": "0dfa54d8",
   "metadata": {},
   "source": [
    "$mutable$-$immutable$"
   ]
  },
  {
   "cell_type": "code",
   "execution_count": 75,
   "id": "553b0953",
   "metadata": {},
   "outputs": [
    {
     "data": {
      "text/plain": [
       "[100, 2, 3, 4]"
      ]
     },
     "execution_count": 75,
     "metadata": {},
     "output_type": "execute_result"
    }
   ],
   "source": [
    "l7=[1,2,3,4]\n",
    "l7[0]=100\n",
    "l7"
   ]
  },
  {
   "cell_type": "markdown",
   "id": "9b117091",
   "metadata": {},
   "source": [
    "**List are mutable**\n",
    "\n",
    "**strings are immutable**"
   ]
  },
  {
   "cell_type": "markdown",
   "id": "a6af67f8",
   "metadata": {},
   "source": [
    "$slice$"
   ]
  },
  {
   "cell_type": "code",
   "execution_count": null,
   "id": "6e413cda",
   "metadata": {},
   "outputs": [],
   "source": [
    "list1=[1,2,3,4,5,'A','B','C','D','E',100,200,300,400,'Apple','Banana']\n",
    "list1[3:14:2]   # P\n",
    "list1[3:14:-2]  # Np\n",
    "list1[3:-14:2]  # NP start=3  step=+ last=-14-1=-15\n",
    "list1[3:-14:-2] # NP ======>  4 \n",
    "list1[-3:-14:-2] # P\n",
    "list1[-3:14:2]  # NP =====> 400\n",
    "list1[-3:-14:2] # Np\n",
    "list1[::] # P\n",
    "list1[::-1]# Reverse"
   ]
  },
  {
   "cell_type": "code",
   "execution_count": 80,
   "id": "1faf48bf",
   "metadata": {},
   "outputs": [
    {
     "data": {
      "text/plain": [
       "(1, 2, 3)"
      ]
     },
     "execution_count": 80,
     "metadata": {},
     "output_type": "execute_result"
    }
   ],
   "source": [
    "\n",
    "-16  -15  -14  -13  -12  -11  -10  -9  -8  -7  -6  -5  -4  -3    -2     -1\n",
    " 1,   2,   3,   4,   5,  'A',  'B','C','D','E',100,200,300,400,'Apple','Banana'\n",
    " 0    1    2    3    4    5     6   7   8   9   10  11  12  13   14      15\n",
    "\n"
   ]
  },
  {
   "cell_type": "code",
   "execution_count": 1,
   "id": "4370b8ea",
   "metadata": {},
   "outputs": [
    {
     "data": {
      "text/plain": [
       "4"
      ]
     },
     "execution_count": 1,
     "metadata": {},
     "output_type": "execute_result"
    }
   ],
   "source": [
    "list1=[1,2,3,['A','B']]\n",
    "\n",
    "# Get the index of 'B'\n",
    "# Retrive 'B' by using index\n",
    "len(list1)"
   ]
  },
  {
   "cell_type": "code",
   "execution_count": 4,
   "id": "e7c910d9",
   "metadata": {},
   "outputs": [
    {
     "data": {
      "text/plain": [
       "'B'"
      ]
     },
     "execution_count": 4,
     "metadata": {},
     "output_type": "execute_result"
    }
   ],
   "source": [
    "o1=list1[3]\n",
    "o1[1]"
   ]
  },
  {
   "cell_type": "code",
   "execution_count": 10,
   "id": "bc9f9f9b",
   "metadata": {},
   "outputs": [
    {
     "data": {
      "text/plain": [
       "'B'"
      ]
     },
     "execution_count": 10,
     "metadata": {},
     "output_type": "execute_result"
    }
   ],
   "source": [
    "list1=[1,2,3,['A','B']]\n",
    "o1=list1[3]\n",
    "o1[1]\n",
    "\n",
    "list1[3][1]"
   ]
  },
  {
   "cell_type": "code",
   "execution_count": 21,
   "id": "b811d6d8",
   "metadata": {},
   "outputs": [
    {
     "data": {
      "text/plain": [
       "('Apple', 'Banana')"
      ]
     },
     "execution_count": 21,
     "metadata": {},
     "output_type": "execute_result"
    }
   ],
   "source": [
    "list2=[['Apple','Banana']]\n",
    "len(list2)  # 1 means  only 0\n",
    "list2[0]    # 2  0,1\n",
    "list2[0][0],list2[0][1]"
   ]
  },
  {
   "cell_type": "code",
   "execution_count": 27,
   "id": "9e496da4",
   "metadata": {},
   "outputs": [
    {
     "data": {
      "text/plain": [
       "20"
      ]
     },
     "execution_count": 27,
     "metadata": {},
     "output_type": "execute_result"
    }
   ],
   "source": [
    "list3=[['A','B',[1,20]]] \n",
    "# one    0\n",
    "len(list3)\n",
    "list3[0][2][1]"
   ]
  },
  {
   "cell_type": "code",
   "execution_count": 31,
   "id": "7bff3b5d",
   "metadata": {},
   "outputs": [
    {
     "data": {
      "text/plain": [
       "20"
      ]
     },
     "execution_count": 31,
     "metadata": {},
     "output_type": "execute_result"
    }
   ],
   "source": [
    "list4=['hyd',['A','B',[1,20]]] \n",
    "list4[1][2][1]"
   ]
  },
  {
   "cell_type": "code",
   "execution_count": 33,
   "id": "936f242b",
   "metadata": {},
   "outputs": [
    {
     "data": {
      "text/plain": [
       "'Car'"
      ]
     },
     "execution_count": 33,
     "metadata": {},
     "output_type": "execute_result"
    }
   ],
   "source": [
    "list5=[['Car']]\n",
    "list5[0][0]"
   ]
  },
  {
   "cell_type": "code",
   "execution_count": 36,
   "id": "9a55126a",
   "metadata": {},
   "outputs": [
    {
     "data": {
      "text/plain": [
       "'bus'"
      ]
     },
     "execution_count": 36,
     "metadata": {},
     "output_type": "execute_result"
    }
   ],
   "source": [
    "list6=[[['bus']]]\n",
    "list6[0][0][0]"
   ]
  },
  {
   "cell_type": "code",
   "execution_count": 45,
   "id": "38af2082",
   "metadata": {},
   "outputs": [
    {
     "data": {
      "text/plain": [
       "'Apple'"
      ]
     },
     "execution_count": 45,
     "metadata": {},
     "output_type": "execute_result"
    }
   ],
   "source": [
    "list7=[[[[[[[['cherry',['Apple']]]]]]]]]\n",
    "list7[0][0][0][0][0][0][0][1][0]"
   ]
  },
  {
   "cell_type": "code",
   "execution_count": 47,
   "id": "e8e8cdb0",
   "metadata": {},
   "outputs": [
    {
     "name": "stdout",
     "output_type": "stream",
     "text": [
      "Mumbai\n",
      "Bhopal\n",
      "Chennai\n"
     ]
    }
   ],
   "source": [
    "l1=['Hyd','Mumbai','Bhopal','Chennai']\n",
    "# print the elements which are having len of charcters >5\n",
    "# idea:  Iterate through list \n",
    "#        print each element\n",
    "#        apply the condition\n",
    "#        then print the output\n",
    "\n",
    "for i in l1:\n",
    "    if len(i)>5:\n",
    "        print(i)"
   ]
  },
  {
   "cell_type": "code",
   "execution_count": 48,
   "id": "16edb162",
   "metadata": {},
   "outputs": [
    {
     "name": "stdout",
     "output_type": "stream",
     "text": [
      "HYD\n",
      "MUMBAI\n",
      "BHOPAL\n",
      "CHENNAI\n"
     ]
    }
   ],
   "source": [
    "l1=['hyd','mumbai','bhopal','chennai']\n",
    "# print all uppercases\n",
    "for i in l1:\n",
    "    print(i.upper())"
   ]
  },
  {
   "cell_type": "code",
   "execution_count": 50,
   "id": "4dcd91db",
   "metadata": {},
   "outputs": [
    {
     "name": "stdout",
     "output_type": "stream",
     "text": [
      "hyd\n",
      "chennai\n"
     ]
    }
   ],
   "source": [
    "l1=['hyd','mu#mbai','bh#opal','chennai']\n",
    "# Retrive the elements which are not having '#'\n",
    "for i in l1:\n",
    "    if '#' not in i:\n",
    "        print(i)"
   ]
  },
  {
   "cell_type": "code",
   "execution_count": 60,
   "id": "3b24d88b",
   "metadata": {},
   "outputs": [
    {
     "data": {
      "text/plain": [
       "('python', 'is')"
      ]
     },
     "execution_count": 60,
     "metadata": {},
     "output_type": "execute_result"
    }
   ],
   "source": [
    "str1='hello is name my python'\n",
    "# identify the max len word\n",
    "# min len of word\n",
    "# idea: apply split operation : list of words\n",
    "#       max   min\n",
    "l1=str1.split()\n",
    "max(l1,key=len), min(l1,key=len)"
   ]
  },
  {
   "cell_type": "markdown",
   "id": "3d78aecb",
   "metadata": {},
   "source": [
    "**iterable**\n",
    "\n",
    "- if you able to print char or elements using for loop\n",
    "\n",
    "- list,string,tuple,dic"
   ]
  },
  {
   "cell_type": "code",
   "execution_count": 61,
   "id": "a6619cbe",
   "metadata": {},
   "outputs": [],
   "source": [
    "qns=['Who is PM of india?',\n",
    "     'what is capital of india?',\n",
    "     'No of states in india?',\n",
    "     'who is the captain of ICT']\n",
    "\n",
    "ans=['modi','delhi',29,'Rohit sharma']\n",
    "\n",
    "# you need to iterate through qns list\n",
    "# qn1='who is pm of india'\n",
    "# ans=input(\"enter yout answer\") rohit"
   ]
  },
  {
   "cell_type": "code",
   "execution_count": 64,
   "id": "26b47dbc",
   "metadata": {},
   "outputs": [
    {
     "name": "stdout",
     "output_type": "stream",
     "text": [
      "Who is PM of india?\n",
      "enter the answer:modi\n",
      "what is capital of india?\n",
      "enter the answer:2\n",
      "No of states in india?\n",
      "enter the answer:delhi\n",
      "who is the captain of ICT\n",
      "enter the answer:rohi\n"
     ]
    },
    {
     "data": {
      "text/plain": [
       "1"
      ]
     },
     "execution_count": 64,
     "metadata": {},
     "output_type": "execute_result"
    }
   ],
   "source": [
    "qns_list=['Who is PM of india?',\n",
    "     'what is capital of india?',\n",
    "     'No of states in india?',\n",
    "     'who is the captain of ICT']\n",
    "\n",
    "ans_list=['modi','delhi','29','Rohit sharma']\n",
    "\n",
    "marks=0\n",
    "for i in range(len(qns_list)):\n",
    "    print(qns_list[i])\n",
    "    answer=input(\"enter the answer:\")\n",
    "    if answer.casefold()==ans_list[i].casefold():\n",
    "        marks=marks+1\n",
    "        \n",
    "marks"
   ]
  },
  {
   "cell_type": "code",
   "execution_count": null,
   "id": "753b5032",
   "metadata": {},
   "outputs": [],
   "source": [
    "modi\n",
    "\n",
    "Modi ===== lower\n",
    "MODI ===== lo\n",
    "mODi ==== "
   ]
  },
  {
   "cell_type": "code",
   "execution_count": null,
   "id": "28046aa0",
   "metadata": {},
   "outputs": [],
   "source": [
    "qns_list=['Who is PM of india?',\n",
    "     'what is capital of india?',\n",
    "     'No of states in india?',\n",
    "     'who is the captain of ICT']\n",
    "\n",
    "ans_list=['29','delhi','modi','Rohit sharma']\n",
    "\n",
    "for i in qns:\n",
    "    ans=\n",
    "    if ans in ans_list"
   ]
  },
  {
   "cell_type": "markdown",
   "id": "5dbcdeff",
   "metadata": {},
   "source": [
    "$Methods$"
   ]
  },
  {
   "cell_type": "code",
   "execution_count": 1,
   "id": "45903ddc",
   "metadata": {},
   "outputs": [
    {
     "data": {
      "text/plain": [
       "['__add__',\n",
       " '__class__',\n",
       " '__class_getitem__',\n",
       " '__contains__',\n",
       " '__delattr__',\n",
       " '__delitem__',\n",
       " '__dir__',\n",
       " '__doc__',\n",
       " '__eq__',\n",
       " '__format__',\n",
       " '__ge__',\n",
       " '__getattribute__',\n",
       " '__getitem__',\n",
       " '__getstate__',\n",
       " '__gt__',\n",
       " '__hash__',\n",
       " '__iadd__',\n",
       " '__imul__',\n",
       " '__init__',\n",
       " '__init_subclass__',\n",
       " '__iter__',\n",
       " '__le__',\n",
       " '__len__',\n",
       " '__lt__',\n",
       " '__mul__',\n",
       " '__ne__',\n",
       " '__new__',\n",
       " '__reduce__',\n",
       " '__reduce_ex__',\n",
       " '__repr__',\n",
       " '__reversed__',\n",
       " '__rmul__',\n",
       " '__setattr__',\n",
       " '__setitem__',\n",
       " '__sizeof__',\n",
       " '__str__',\n",
       " '__subclasshook__',\n",
       " 'append',\n",
       " 'clear',\n",
       " 'copy',\n",
       " 'count',\n",
       " 'extend',\n",
       " 'index',\n",
       " 'insert',\n",
       " 'pop',\n",
       " 'remove',\n",
       " 'reverse',\n",
       " 'sort']"
      ]
     },
     "execution_count": 1,
     "metadata": {},
     "output_type": "execute_result"
    }
   ],
   "source": [
    "dir([])"
   ]
  },
  {
   "cell_type": "code",
   "execution_count": null,
   "id": "f82f5f62",
   "metadata": {},
   "outputs": [],
   "source": [
    "'append',\n",
    "'clear',\n",
    "'copy',\n",
    "'count',\n",
    "'extend',\n",
    "'index',\n",
    "'insert',\n",
    "'pop',\n",
    "'remove',\n",
    "'reverse',\n",
    "'sort'"
   ]
  },
  {
   "cell_type": "code",
   "execution_count": 2,
   "id": "16626c6f",
   "metadata": {},
   "outputs": [],
   "source": [
    "list1=[1,2,3,4]"
   ]
  },
  {
   "cell_type": "markdown",
   "id": "44defde1",
   "metadata": {},
   "source": [
    "$Clear$:"
   ]
  },
  {
   "cell_type": "code",
   "execution_count": 4,
   "id": "81e99ccb",
   "metadata": {},
   "outputs": [
    {
     "data": {
      "text/plain": [
       "[]"
      ]
     },
     "execution_count": 4,
     "metadata": {},
     "output_type": "execute_result"
    }
   ],
   "source": [
    "list1.clear()\n",
    "list1"
   ]
  },
  {
   "cell_type": "markdown",
   "id": "fdbbc23c",
   "metadata": {},
   "source": [
    "$Copy$"
   ]
  },
  {
   "cell_type": "code",
   "execution_count": 6,
   "id": "d67134c4",
   "metadata": {},
   "outputs": [
    {
     "data": {
      "text/plain": [
       "([], ['A', 'B', 'C'])"
      ]
     },
     "execution_count": 6,
     "metadata": {},
     "output_type": "execute_result"
    }
   ],
   "source": [
    "# Intialise the list  l1\n",
    "# l2=l1.copy()\n",
    "# l1.clear()\n",
    "# print(l1),print(l2)\n",
    "l1=['A','B','C']\n",
    "l2=l1.copy()\n",
    "l1.clear()\n",
    "l1,l2"
   ]
  },
  {
   "cell_type": "markdown",
   "id": "4b551548",
   "metadata": {},
   "source": [
    "$pop$-$remove$-$del$"
   ]
  },
  {
   "cell_type": "code",
   "execution_count": 8,
   "id": "a5847c24",
   "metadata": {},
   "outputs": [
    {
     "data": {
      "text/plain": [
       "['A', 'B', 'C', 1, 2, 3]"
      ]
     },
     "execution_count": 8,
     "metadata": {},
     "output_type": "execute_result"
    }
   ],
   "source": [
    "l1=['A','B','C',1,2,3]\n",
    "l1"
   ]
  },
  {
   "cell_type": "code",
   "execution_count": 9,
   "id": "e696d347",
   "metadata": {},
   "outputs": [
    {
     "data": {
      "text/plain": [
       "3"
      ]
     },
     "execution_count": 9,
     "metadata": {},
     "output_type": "execute_result"
    }
   ],
   "source": [
    "l1.pop() \n",
    "# pop will delete the last element by default\n",
    "# It will return the value"
   ]
  },
  {
   "cell_type": "code",
   "execution_count": 10,
   "id": "26bd66dd",
   "metadata": {},
   "outputs": [
    {
     "data": {
      "text/plain": [
       "['A', 'B', 'C', 1, 2]"
      ]
     },
     "execution_count": 10,
     "metadata": {},
     "output_type": "execute_result"
    }
   ],
   "source": [
    "l1"
   ]
  },
  {
   "cell_type": "code",
   "execution_count": 11,
   "id": "3579b5d9",
   "metadata": {},
   "outputs": [
    {
     "data": {
      "text/plain": [
       "100"
      ]
     },
     "execution_count": 11,
     "metadata": {},
     "output_type": "execute_result"
    }
   ],
   "source": [
    "l1=['A','B','C',1,2,3,100]\n",
    "l1.pop()"
   ]
  },
  {
   "cell_type": "code",
   "execution_count": 12,
   "id": "f596e724",
   "metadata": {},
   "outputs": [
    {
     "data": {
      "text/plain": [
       "['A', 'B', 'C', 1, 2, 3]"
      ]
     },
     "execution_count": 12,
     "metadata": {},
     "output_type": "execute_result"
    }
   ],
   "source": [
    "l1"
   ]
  },
  {
   "cell_type": "code",
   "execution_count": 13,
   "id": "b75c5f18",
   "metadata": {},
   "outputs": [
    {
     "data": {
      "text/plain": [
       "['B', 'C', 1, 2, 3, 100]"
      ]
     },
     "execution_count": 13,
     "metadata": {},
     "output_type": "execute_result"
    }
   ],
   "source": [
    "l1=['A','B','C',1,2,3,100]\n",
    "l1.pop(0)\n",
    "l1"
   ]
  },
  {
   "cell_type": "code",
   "execution_count": 14,
   "id": "4d90d579",
   "metadata": {},
   "outputs": [
    {
     "ename": "TypeError",
     "evalue": "list.pop() takes no keyword arguments",
     "output_type": "error",
     "traceback": [
      "\u001b[1;31m---------------------------------------------------------------------------\u001b[0m",
      "\u001b[1;31mTypeError\u001b[0m                                 Traceback (most recent call last)",
      "Cell \u001b[1;32mIn[14], line 2\u001b[0m\n\u001b[0;32m      1\u001b[0m l1\u001b[38;5;241m=\u001b[39m[\u001b[38;5;124m'\u001b[39m\u001b[38;5;124mA\u001b[39m\u001b[38;5;124m'\u001b[39m,\u001b[38;5;124m'\u001b[39m\u001b[38;5;124mB\u001b[39m\u001b[38;5;124m'\u001b[39m,\u001b[38;5;124m'\u001b[39m\u001b[38;5;124mC\u001b[39m\u001b[38;5;124m'\u001b[39m,\u001b[38;5;241m1\u001b[39m,\u001b[38;5;241m2\u001b[39m,\u001b[38;5;241m3\u001b[39m,\u001b[38;5;241m100\u001b[39m]\n\u001b[1;32m----> 2\u001b[0m l1\u001b[38;5;241m.\u001b[39mpop(index\u001b[38;5;241m=\u001b[39m\u001b[38;5;241m0\u001b[39m)\n\u001b[0;32m      3\u001b[0m l1\n",
      "\u001b[1;31mTypeError\u001b[0m: list.pop() takes no keyword arguments"
     ]
    }
   ],
   "source": [
    "l1=['A','B','C',1,2,3,100]\n",
    "l1.pop(index=0)\n",
    "l1"
   ]
  },
  {
   "cell_type": "code",
   "execution_count": null,
   "id": "631059a7",
   "metadata": {},
   "outputs": [],
   "source": [
    "l1.pop()  # Remove the last value index=-1\n",
    "l1.pop(0) # Remove first element\n",
    "l1.pop(index=0) # Index=0  error\n",
    "l1.pop(100) # if 100th index not there: Index error\n",
    "l1.pop('A') # type error\n",
    "l1.pop([1,2]) # type error"
   ]
  },
  {
   "cell_type": "code",
   "execution_count": 17,
   "id": "c4173555",
   "metadata": {},
   "outputs": [
    {
     "data": {
      "text/plain": [
       "3"
      ]
     },
     "execution_count": 17,
     "metadata": {},
     "output_type": "execute_result"
    }
   ],
   "source": [
    "l1=['A','B','C',1,2,3,100]\n",
    "l1.pop(-2) "
   ]
  },
  {
   "cell_type": "code",
   "execution_count": 21,
   "id": "2070f941",
   "metadata": {},
   "outputs": [
    {
     "ename": "TypeError",
     "evalue": "'list' object cannot be interpreted as an integer",
     "output_type": "error",
     "traceback": [
      "\u001b[1;31m---------------------------------------------------------------------------\u001b[0m",
      "\u001b[1;31mTypeError\u001b[0m                                 Traceback (most recent call last)",
      "Cell \u001b[1;32mIn[21], line 2\u001b[0m\n\u001b[0;32m      1\u001b[0m l1\u001b[38;5;241m=\u001b[39m[\u001b[38;5;124m'\u001b[39m\u001b[38;5;124mA\u001b[39m\u001b[38;5;124m'\u001b[39m,\u001b[38;5;124m'\u001b[39m\u001b[38;5;124mB\u001b[39m\u001b[38;5;124m'\u001b[39m,\u001b[38;5;124m'\u001b[39m\u001b[38;5;124mC\u001b[39m\u001b[38;5;124m'\u001b[39m,\u001b[38;5;241m1\u001b[39m,\u001b[38;5;241m2\u001b[39m,\u001b[38;5;241m3\u001b[39m,\u001b[38;5;241m100\u001b[39m]\n\u001b[1;32m----> 2\u001b[0m l1\u001b[38;5;241m.\u001b[39mpop([\u001b[38;5;241m1\u001b[39m,\u001b[38;5;241m2\u001b[39m])\n",
      "\u001b[1;31mTypeError\u001b[0m: 'list' object cannot be interpreted as an integer"
     ]
    }
   ],
   "source": [
    "l1=['A','B','C',1,2,3,100]\n",
    "l1.pop([1,2])\n",
    "\n",
    "# only index\n",
    "# str   list  tuple dic"
   ]
  },
  {
   "cell_type": "code",
   "execution_count": 23,
   "id": "4440939e",
   "metadata": {},
   "outputs": [
    {
     "data": {
      "text/plain": [
       "['B', 'C', 1, 2, 'A', 3, 100]"
      ]
     },
     "execution_count": 23,
     "metadata": {},
     "output_type": "execute_result"
    }
   ],
   "source": [
    "l1=['A','B','C',1,2,'A',3,100]\n",
    "l1.remove('A')\n",
    "l1"
   ]
  },
  {
   "cell_type": "code",
   "execution_count": null,
   "id": "9569b883",
   "metadata": {},
   "outputs": [],
   "source": [
    "############### Pop ###############################\n",
    "# manually we are counting the index of element\n",
    "# that index we are passing through pop\n",
    "# So that it is remvoing that particular element\n",
    "\n",
    "# Draw back : we are manually counting\n",
    "# Draw back we can overcome by using: index\n",
    "\n",
    "#################### Remove ##################################\n",
    "# Remove is taking only direct value, no need to provide the index\n",
    "# Draw back: Second occurence will not consider"
   ]
  },
  {
   "cell_type": "markdown",
   "id": "fb6116de",
   "metadata": {},
   "source": [
    "$index$"
   ]
  },
  {
   "cell_type": "code",
   "execution_count": 28,
   "id": "3ca910ab",
   "metadata": {},
   "outputs": [
    {
     "data": {
      "text/plain": [
       "['A', 'B', 'C', 1, 2, 3, 100, 20, 300, 500, 'Apple']"
      ]
     },
     "execution_count": 28,
     "metadata": {},
     "output_type": "execute_result"
    }
   ],
   "source": [
    "l1=['A','B','C',1,2,3,100,20,300,400,500,'Apple']\n",
    "# I want to delete  element :3  using pop\n",
    "#l1.pop(5)\n",
    "i=l1.index(400)\n",
    "l1.pop(i)\n",
    "l1"
   ]
  },
  {
   "cell_type": "code",
   "execution_count": 29,
   "id": "958be60f",
   "metadata": {},
   "outputs": [
    {
     "data": {
      "text/plain": [
       "['B', 'C', 1, 2, 3, 100, 20, 300, 'A', 400, 500, 'Apple']"
      ]
     },
     "execution_count": 29,
     "metadata": {},
     "output_type": "execute_result"
    }
   ],
   "source": [
    "l1=['A','B','C',1,2,3,100,20,300,'A',400,500,'Apple']\n",
    "l1.remove('A')\n",
    "l1"
   ]
  },
  {
   "cell_type": "code",
   "execution_count": 36,
   "id": "6ab478f8",
   "metadata": {},
   "outputs": [
    {
     "name": "stdout",
     "output_type": "stream",
     "text": [
      "1 5 12\n"
     ]
    }
   ],
   "source": [
    "l1=['A','B','C',1,2,'B',3,100,20,300,'A',400,'B',500,'A','Apple']\n",
    "#l1.pop(<second A>)\n",
    "# A=0   A=9  A=12\n",
    "i1=l1.index('B')  # 0\n",
    "i2=l1.index('B',i1+1)\n",
    "i3=l1.index('B',i2+1)\n",
    "print(i1,i2,i3)"
   ]
  },
  {
   "cell_type": "code",
   "execution_count": null,
   "id": "102912f6",
   "metadata": {},
   "outputs": [],
   "source": [
    "- Clear\n",
    "\n",
    "- Copy\n",
    "\n",
    "- Pop\n",
    "\n",
    "- Remove\n",
    "\n",
    "- Index\n",
    "\n",
    "del"
   ]
  },
  {
   "cell_type": "code",
   "execution_count": 39,
   "id": "100fb49d",
   "metadata": {},
   "outputs": [
    {
     "data": {
      "text/plain": [
       "['A', 'B', 'C', 1, 2, 3, 100, 20, 300, 'A', 400, 'B', 500, 'A', 'Apple']"
      ]
     },
     "execution_count": 39,
     "metadata": {},
     "output_type": "execute_result"
    }
   ],
   "source": [
    "l1=['A','B','C',1,2,'B',3,100,20,300,'A',400,'B',500,'A','Apple']\n",
    "del(l1[5])\n",
    "l1"
   ]
  },
  {
   "cell_type": "markdown",
   "id": "1fa2d66c",
   "metadata": {},
   "source": [
    "$Append$-$Extend$-$Insert$"
   ]
  },
  {
   "cell_type": "code",
   "execution_count": 42,
   "id": "2214824c",
   "metadata": {},
   "outputs": [
    {
     "data": {
      "text/plain": [
       "[100, 200, 300, 'Apple']"
      ]
     },
     "execution_count": 42,
     "metadata": {},
     "output_type": "execute_result"
    }
   ],
   "source": [
    "l1=[100,200]\n",
    "l1.append(300)\n",
    "l1.append('Apple')\n",
    "l1"
   ]
  },
  {
   "cell_type": "code",
   "execution_count": 44,
   "id": "6dda1fad",
   "metadata": {},
   "outputs": [
    {
     "data": {
      "text/plain": [
       "[1, 2, 3]"
      ]
     },
     "execution_count": 44,
     "metadata": {},
     "output_type": "execute_result"
    }
   ],
   "source": [
    "l1=[]\n",
    "l1.append(1)\n",
    "l1.append(2)\n",
    "l1.append(3)\n",
    "l1"
   ]
  },
  {
   "cell_type": "code",
   "execution_count": 46,
   "id": "bf7c32ac",
   "metadata": {},
   "outputs": [
    {
     "data": {
      "text/plain": [
       "['Mumbai', 'Chennai']"
      ]
     },
     "execution_count": 46,
     "metadata": {},
     "output_type": "execute_result"
    }
   ],
   "source": [
    "l1=['Hyd','Mumbai','Chennai']\n",
    "# Print the elemnents which are having len>3\n",
    "l2=[]\n",
    "for i in l1:\n",
    "    if len(i)>3:\n",
    "        l2.append(i)\n",
    "l2"
   ]
  },
  {
   "cell_type": "code",
   "execution_count": 50,
   "id": "47fa6511",
   "metadata": {},
   "outputs": [
    {
     "data": {
      "text/plain": [
       "['Hyd', 'Mumbai', 'Chennai']"
      ]
     },
     "execution_count": 50,
     "metadata": {},
     "output_type": "execute_result"
    }
   ],
   "source": [
    "l1=['hyd','mumbai','chennai']\n",
    "# Capitalize and save in a new list\n",
    "l2=[]\n",
    "for i in l1:\n",
    "    l2.append(i.capitalize())\n",
    "l2"
   ]
  },
  {
   "cell_type": "code",
   "execution_count": 53,
   "id": "76d340bc",
   "metadata": {},
   "outputs": [
    {
     "data": {
      "text/plain": [
       "['mu#mbai', 'che#nnai']"
      ]
     },
     "execution_count": 53,
     "metadata": {},
     "output_type": "execute_result"
    }
   ],
   "source": [
    "l1=['hyd','mu#mbai','che#nnai']\n",
    "# save the elementsn which are having '#'\n",
    "l2=[]\n",
    "for i in l1:\n",
    "    if '#' in i:\n",
    "        l2.append(i)\n",
    "l2"
   ]
  },
  {
   "cell_type": "code",
   "execution_count": 58,
   "id": "d2d770c6",
   "metadata": {},
   "outputs": [
    {
     "data": {
      "text/plain": [
       "21"
      ]
     },
     "execution_count": 58,
     "metadata": {},
     "output_type": "execute_result"
    }
   ],
   "source": [
    "s='hello hai how are you'\n",
    "# get the sum of all the indexes of 'a' letter\n",
    "\n",
    "# iterate it\n",
    "# Extract the indexes of 'a' \n",
    "# and save in a list\n",
    "# Get the sum of those list\n",
    "l1=[]\n",
    "for i in range(len(s)):\n",
    "    if s[i]=='a':\n",
    "        l1.append(i)\n",
    "        \n",
    "sum(l1)"
   ]
  },
  {
   "cell_type": "code",
   "execution_count": 59,
   "id": "182e61c4",
   "metadata": {},
   "outputs": [
    {
     "data": {
      "text/plain": [
       "([48, 80, 72], [59, 41, 75, 65, 57, 35, 43])"
      ]
     },
     "execution_count": 59,
     "metadata": {},
     "output_type": "execute_result"
    }
   ],
   "source": [
    "# WAP ask the user get 10 random numbers\n",
    "# even list   odd list\n",
    "# append even values in even list\n",
    "# odd values in odd list\n",
    "\n",
    "import random\n",
    "even_list,odd_list=[],[]\n",
    "for i in range(10):\n",
    "    num=random.randint(20,80)\n",
    "    if num%2==0:\n",
    "        even_list.append(num)\n",
    "    else:\n",
    "        odd_list.append(num)\n",
    "even_list,odd_list"
   ]
  },
  {
   "cell_type": "markdown",
   "id": "5a2d594d",
   "metadata": {},
   "source": [
    "$Extend$"
   ]
  },
  {
   "cell_type": "code",
   "execution_count": 60,
   "id": "771270d9",
   "metadata": {},
   "outputs": [
    {
     "name": "stdout",
     "output_type": "stream",
     "text": [
      "[1, 2, 3, 'A', 'B', 'C']\n",
      "['A', 'B', 'C']\n"
     ]
    }
   ],
   "source": [
    "l1=[1,2,3]\n",
    "l2=['A','B','C']\n",
    "l1.extend(l2)\n",
    "print(l1)\n",
    "print(l2)"
   ]
  },
  {
   "cell_type": "code",
   "execution_count": 61,
   "id": "604b31f0",
   "metadata": {},
   "outputs": [
    {
     "name": "stdout",
     "output_type": "stream",
     "text": [
      "[1, 2, 3]\n",
      "['A', 'B', 'C', 1, 2, 3]\n"
     ]
    }
   ],
   "source": [
    "l1=[1,2,3]\n",
    "l2=['A','B','C']\n",
    "l2.extend(l1)\n",
    "print(l1)\n",
    "print(l2)"
   ]
  },
  {
   "cell_type": "code",
   "execution_count": 63,
   "id": "936c25a0",
   "metadata": {},
   "outputs": [
    {
     "name": "stdout",
     "output_type": "stream",
     "text": [
      "[1, 2, 3, 'A', 'B', 'C']\n",
      "[1, 2, 3]\n",
      "['A', 'B', 'C']\n"
     ]
    }
   ],
   "source": [
    "l1=[1,2,3]\n",
    "l2=['A','B','C']\n",
    "print(l1+l2)   #  l1.extend(l2)\n",
    "print(l1)\n",
    "print(l2)"
   ]
  },
  {
   "cell_type": "code",
   "execution_count": 68,
   "id": "c426a9d8",
   "metadata": {},
   "outputs": [
    {
     "data": {
      "text/plain": [
       "[1, 2, 3, [1, 2, 3]]"
      ]
     },
     "execution_count": 68,
     "metadata": {},
     "output_type": "execute_result"
    }
   ],
   "source": [
    "l1=[1,2,3]\n",
    "l2=[1,2,3]\n",
    "l1.append(l2)\n",
    "l1"
   ]
  },
  {
   "cell_type": "code",
   "execution_count": null,
   "id": "50c5adf3",
   "metadata": {},
   "outputs": [],
   "source": [
    "- reverse  vs  reversed\n",
    "\n",
    "- sort     vs  sorted\n",
    "\n",
    "\n"
   ]
  },
  {
   "cell_type": "code",
   "execution_count": 1,
   "id": "a261d89d",
   "metadata": {},
   "outputs": [
    {
     "data": {
      "text/plain": [
       "['__add__',\n",
       " '__class__',\n",
       " '__class_getitem__',\n",
       " '__contains__',\n",
       " '__delattr__',\n",
       " '__delitem__',\n",
       " '__dir__',\n",
       " '__doc__',\n",
       " '__eq__',\n",
       " '__format__',\n",
       " '__ge__',\n",
       " '__getattribute__',\n",
       " '__getitem__',\n",
       " '__getstate__',\n",
       " '__gt__',\n",
       " '__hash__',\n",
       " '__iadd__',\n",
       " '__imul__',\n",
       " '__init__',\n",
       " '__init_subclass__',\n",
       " '__iter__',\n",
       " '__le__',\n",
       " '__len__',\n",
       " '__lt__',\n",
       " '__mul__',\n",
       " '__ne__',\n",
       " '__new__',\n",
       " '__reduce__',\n",
       " '__reduce_ex__',\n",
       " '__repr__',\n",
       " '__reversed__',\n",
       " '__rmul__',\n",
       " '__setattr__',\n",
       " '__setitem__',\n",
       " '__sizeof__',\n",
       " '__str__',\n",
       " '__subclasshook__',\n",
       " 'append',\n",
       " 'clear',\n",
       " 'copy',\n",
       " 'count',\n",
       " 'extend',\n",
       " 'index',\n",
       " 'insert',\n",
       " 'pop',\n",
       " 'remove',\n",
       " 'reverse',\n",
       " 'sort']"
      ]
     },
     "execution_count": 1,
     "metadata": {},
     "output_type": "execute_result"
    }
   ],
   "source": [
    "dir([])"
   ]
  },
  {
   "cell_type": "markdown",
   "id": "5d5e622b",
   "metadata": {},
   "source": [
    "$count$"
   ]
  },
  {
   "cell_type": "code",
   "execution_count": 2,
   "id": "9639b8a9",
   "metadata": {},
   "outputs": [
    {
     "data": {
      "text/plain": [
       "3"
      ]
     },
     "execution_count": 2,
     "metadata": {},
     "output_type": "execute_result"
    }
   ],
   "source": [
    "l1=['A','A','A']\n",
    "l1.count('A')"
   ]
  },
  {
   "cell_type": "code",
   "execution_count": 3,
   "id": "b9a18840",
   "metadata": {},
   "outputs": [],
   "source": [
    "s1='can can you canner can not can you buy can'"
   ]
  },
  {
   "cell_type": "code",
   "execution_count": 6,
   "id": "34328f4f",
   "metadata": {},
   "outputs": [
    {
     "data": {
      "text/plain": [
       "['can', 'can', 'you', 'canner', 'can', 'not', 'can', 'you', 'buy', 'can']"
      ]
     },
     "execution_count": 6,
     "metadata": {},
     "output_type": "execute_result"
    }
   ],
   "source": [
    "l=s1.split()\n",
    "l"
   ]
  },
  {
   "cell_type": "code",
   "execution_count": 10,
   "id": "8ac500d2",
   "metadata": {},
   "outputs": [
    {
     "name": "stdout",
     "output_type": "stream",
     "text": [
      "can : 5\n",
      "you : 2\n",
      "canner : 1\n",
      "not : 1\n",
      "buy : 1\n"
     ]
    }
   ],
   "source": [
    "l1=[]\n",
    "for word in l:\n",
    "    if word not in l1:\n",
    "        print(word,\":\",l.count(word))\n",
    "        l1.append(word)"
   ]
  },
  {
   "cell_type": "markdown",
   "id": "9cd47e32",
   "metadata": {},
   "source": [
    "$word$-$frequency$"
   ]
  },
  {
   "cell_type": "code",
   "execution_count": 13,
   "id": "e0f677ae",
   "metadata": {},
   "outputs": [
    {
     "name": "stdout",
     "output_type": "stream",
     "text": [
      "can 5\n",
      "can 5\n",
      "you 2\n",
      "canner 1\n",
      "can 5\n",
      "not 1\n",
      "can 5\n",
      "you 2\n",
      "buy 1\n",
      "can 5\n"
     ]
    }
   ],
   "source": [
    "s1='can can you canner can not can you buy can'\n",
    "list_words=s1.split()\n",
    "l1=[]\n",
    "for word in list_words:\n",
    "    if word not in l1:  \n",
    "        print(word,list_words.count(word))\n",
    "        l1.append(word)\n",
    "        \n",
    "# step1\n",
    "# can    can not in []        True  5  ['can']\n",
    "# can    can not in ['can']   False   xxxxxxxx\n",
    "# you    you not in ['can']   True  2  ['can','you']"
   ]
  },
  {
   "cell_type": "markdown",
   "id": "a5ad356b",
   "metadata": {},
   "source": [
    "$Insert$"
   ]
  },
  {
   "cell_type": "code",
   "execution_count": 15,
   "id": "85869424",
   "metadata": {},
   "outputs": [
    {
     "data": {
      "text/plain": [
       "[1, 2, 3, 'A', 4, 100]"
      ]
     },
     "execution_count": 15,
     "metadata": {},
     "output_type": "execute_result"
    }
   ],
   "source": [
    "l1=[1,2,3,4,100]\n",
    "l1.insert(3,'A')  \n",
    "l1\n",
    "# 1  2  3  'A'  4  100"
   ]
  },
  {
   "cell_type": "markdown",
   "id": "613044dd",
   "metadata": {},
   "source": [
    "$Append$"
   ]
  },
  {
   "cell_type": "code",
   "execution_count": 17,
   "id": "0261aff2",
   "metadata": {},
   "outputs": [],
   "source": [
    "l1=['hyd','Mumbai','Chennai','Bengaluru']\n",
    "# l2=['Mumbai','Chennai','Bengaluru']\n",
    "l2=[]\n",
    "for i in l1:\n",
    "    if len(i)>5:\n",
    "        l2.append(i)"
   ]
  },
  {
   "cell_type": "code",
   "execution_count": 19,
   "id": "e1ea2e3b",
   "metadata": {},
   "outputs": [
    {
     "data": {
      "text/plain": [
       "[1, 4, 9, 16, 25, 36, 49, 64, 81, 100]"
      ]
     },
     "execution_count": 19,
     "metadata": {},
     "output_type": "execute_result"
    }
   ],
   "source": [
    "# create the list of squares of 1 to 10 numbers\n",
    "num=[]\n",
    "for i in range(1,11):\n",
    "    num.append(i*i)\n",
    "num"
   ]
  },
  {
   "cell_type": "markdown",
   "id": "cd899e9e",
   "metadata": {},
   "source": [
    "$List$-$Comprehenshion$"
   ]
  },
  {
   "cell_type": "markdown",
   "id": "4ec26307",
   "metadata": {},
   "source": [
    "$pattern-1$"
   ]
  },
  {
   "cell_type": "code",
   "execution_count": null,
   "id": "9a6901f0",
   "metadata": {},
   "outputs": [],
   "source": [
    "num=[]\n",
    "for i in range(1,11):\n",
    "    num.append(i*i)\n",
    "num"
   ]
  },
  {
   "cell_type": "code",
   "execution_count": null,
   "id": "e6839e1d",
   "metadata": {},
   "outputs": [],
   "source": [
    "num=[<output> <forloop with out :>]"
   ]
  },
  {
   "cell_type": "code",
   "execution_count": 20,
   "id": "b764180c",
   "metadata": {},
   "outputs": [
    {
     "data": {
      "text/plain": [
       "[1, 4, 9, 16, 25, 36, 49, 64, 81, 100]"
      ]
     },
     "execution_count": 20,
     "metadata": {},
     "output_type": "execute_result"
    }
   ],
   "source": [
    "num=[i*i for i in range(1,11)]\n",
    "num"
   ]
  },
  {
   "cell_type": "code",
   "execution_count": 22,
   "id": "e6b6b7a1",
   "metadata": {},
   "outputs": [
    {
     "data": {
      "text/plain": [
       "['Hyd', 'Mumbai']"
      ]
     },
     "execution_count": 22,
     "metadata": {},
     "output_type": "execute_result"
    }
   ],
   "source": [
    "# l1=['hyd','mumbai']\n",
    "# l2=[]\n",
    "# for i in l1:\n",
    "#     l2.append(i.capitalize())\n",
    " \n",
    "l1=['hyd','mumbai']\n",
    "l2=[i.capitalize() for i in l1]\n",
    "l2"
   ]
  },
  {
   "cell_type": "markdown",
   "id": "e45eca25",
   "metadata": {},
   "source": [
    "$Pattern-2$\n",
    "\n",
    "**for and if condition**"
   ]
  },
  {
   "cell_type": "code",
   "execution_count": null,
   "id": "742b6133",
   "metadata": {},
   "outputs": [],
   "source": [
    "l1=['hyd','Mumbai','Chennai','Bengaluru']\n",
    "l2=[]\n",
    "for i in l1:\n",
    "    if len(i)>5:\n",
    "        l2.append(i)"
   ]
  },
  {
   "cell_type": "code",
   "execution_count": null,
   "id": "6e4760b4",
   "metadata": {},
   "outputs": [],
   "source": [
    "l2=[<output> <forloop> <if condition>]"
   ]
  },
  {
   "cell_type": "code",
   "execution_count": 23,
   "id": "572e1e3c",
   "metadata": {},
   "outputs": [
    {
     "data": {
      "text/plain": [
       "['Mumbai', 'Chennai', 'Bengaluru']"
      ]
     },
     "execution_count": 23,
     "metadata": {},
     "output_type": "execute_result"
    }
   ],
   "source": [
    "l1=['hyd','Mumbai','Chennai','Bengaluru']\n",
    "l2=[i for i in l1 if len(i)>5]\n",
    "l2"
   ]
  },
  {
   "cell_type": "markdown",
   "id": "e814e092",
   "metadata": {},
   "source": [
    "$Pattern-3$:\n",
    "\n",
    "**for-if-else**"
   ]
  },
  {
   "cell_type": "code",
   "execution_count": 26,
   "id": "a96f1d93",
   "metadata": {},
   "outputs": [
    {
     "data": {
      "text/plain": [
       "['odd 1',\n",
       " 'even 2',\n",
       " 'odd 3',\n",
       " 'even 4',\n",
       " 'odd 5',\n",
       " 'even 6',\n",
       " 'odd 7',\n",
       " 'even 8',\n",
       " 'odd 9']"
      ]
     },
     "execution_count": 26,
     "metadata": {},
     "output_type": "execute_result"
    }
   ],
   "source": [
    "#num=[<output> <forloop>]\n",
    "#l2=[<output> <forloop> <if condition>]\n",
    "\n",
    "l=[]\n",
    "for i in range(1,10):\n",
    "    if i%2==0:\n",
    "        l.append(f'even {i}')\n",
    "    else:\n",
    "        l.append(f'odd {i}')\n",
    "l\n",
    "\n",
    "\n",
    "[<if_output> <if condition> else <else_ouput> <forloop>]"
   ]
  },
  {
   "cell_type": "code",
   "execution_count": 27,
   "id": "5a5c9f08",
   "metadata": {},
   "outputs": [
    {
     "data": {
      "text/plain": [
       "['odd 1',\n",
       " 'even 2',\n",
       " 'odd 3',\n",
       " 'even 4',\n",
       " 'odd 5',\n",
       " 'even 6',\n",
       " 'odd 7',\n",
       " 'even 8',\n",
       " 'odd 9']"
      ]
     },
     "execution_count": 27,
     "metadata": {},
     "output_type": "execute_result"
    }
   ],
   "source": [
    "[f'even {i}' if i%2==0  else f'odd {i}' for i in range(1,10)]"
   ]
  },
  {
   "cell_type": "code",
   "execution_count": null,
   "id": "d06b586c",
   "metadata": {},
   "outputs": [],
   "source": [
    "Strings\n",
    "List\n",
    "Sat sunday === Tuple"
   ]
  },
  {
   "cell_type": "code",
   "execution_count": null,
   "id": "ca06e893",
   "metadata": {},
   "outputs": [],
   "source": [
    "- how to read the tuple\n",
    "\n",
    "- different ways to read tuple\n",
    "\n",
    "- type len max min sum reversed sorted\n",
    "\n",
    "- concatenation\n",
    "\n",
    "- in\n",
    "\n",
    "- index\n",
    "\n",
    "- difference between in and index range using for loop\n",
    "\n",
    "- mutable imputable\n",
    "\n",
    "- slice\n",
    "\n",
    "- methods"
   ]
  },
  {
   "cell_type": "code",
   "execution_count": 28,
   "id": "706bba38",
   "metadata": {},
   "outputs": [
    {
     "data": {
      "text/plain": [
       "tuple"
      ]
     },
     "execution_count": 28,
     "metadata": {},
     "output_type": "execute_result"
    }
   ],
   "source": [
    "t1=(1,2,3)\n",
    "type(t1)"
   ]
  },
  {
   "cell_type": "code",
   "execution_count": 29,
   "id": "8b64e306",
   "metadata": {},
   "outputs": [
    {
     "data": {
      "text/plain": [
       "['__add__',\n",
       " '__class__',\n",
       " '__class_getitem__',\n",
       " '__contains__',\n",
       " '__delattr__',\n",
       " '__dir__',\n",
       " '__doc__',\n",
       " '__eq__',\n",
       " '__format__',\n",
       " '__ge__',\n",
       " '__getattribute__',\n",
       " '__getitem__',\n",
       " '__getnewargs__',\n",
       " '__getstate__',\n",
       " '__gt__',\n",
       " '__hash__',\n",
       " '__init__',\n",
       " '__init_subclass__',\n",
       " '__iter__',\n",
       " '__le__',\n",
       " '__len__',\n",
       " '__lt__',\n",
       " '__mul__',\n",
       " '__ne__',\n",
       " '__new__',\n",
       " '__reduce__',\n",
       " '__reduce_ex__',\n",
       " '__repr__',\n",
       " '__rmul__',\n",
       " '__setattr__',\n",
       " '__sizeof__',\n",
       " '__str__',\n",
       " '__subclasshook__',\n",
       " 'count',\n",
       " 'index']"
      ]
     },
     "execution_count": 29,
     "metadata": {},
     "output_type": "execute_result"
    }
   ],
   "source": [
    "dir(t1)"
   ]
  },
  {
   "cell_type": "code",
   "execution_count": null,
   "id": "387918b4",
   "metadata": {},
   "outputs": [],
   "source": []
  },
  {
   "cell_type": "code",
   "execution_count": null,
   "id": "9a5fd464",
   "metadata": {},
   "outputs": [],
   "source": []
  }
 ],
 "metadata": {
  "kernelspec": {
   "display_name": "Python 3 (ipykernel)",
   "language": "python",
   "name": "python3"
  },
  "language_info": {
   "codemirror_mode": {
    "name": "ipython",
    "version": 3
   },
   "file_extension": ".py",
   "mimetype": "text/x-python",
   "name": "python",
   "nbconvert_exporter": "python",
   "pygments_lexer": "ipython3",
   "version": "3.11.5"
  }
 },
 "nbformat": 4,
 "nbformat_minor": 5
}
