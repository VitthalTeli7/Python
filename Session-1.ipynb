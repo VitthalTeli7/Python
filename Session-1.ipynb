{
 "cells": [
  {
   "cell_type": "code",
   "execution_count": 4,
   "id": "19716ea5",
   "metadata": {},
   "outputs": [],
   "source": [
    "import os   #  shift+enter"
   ]
  },
  {
   "cell_type": "code",
   "execution_count": null,
   "id": "1b568e48",
   "metadata": {},
   "outputs": [],
   "source": [
    "os.getcwd() # get current working directory"
   ]
  },
  {
   "cell_type": "code",
   "execution_count": 1,
   "id": "1d22d6de",
   "metadata": {},
   "outputs": [],
   "source": [
    "a=10"
   ]
  },
  {
   "cell_type": "code",
   "execution_count": 2,
   "id": "39fd5f37",
   "metadata": {},
   "outputs": [],
   "source": [
    "b=20"
   ]
  },
  {
   "cell_type": "code",
   "execution_count": 3,
   "id": "a847a57f",
   "metadata": {},
   "outputs": [
    {
     "data": {
      "text/plain": [
       "30"
      ]
     },
     "execution_count": 3,
     "metadata": {},
     "output_type": "execute_result"
    }
   ],
   "source": [
    "a+b"
   ]
  },
  {
   "cell_type": "code",
   "execution_count": null,
   "id": "fbe75f34",
   "metadata": {},
   "outputs": [],
   "source": [
    "a=30\n",
    "b=40\n",
    "a+b"
   ]
  },
  {
   "cell_type": "code",
   "execution_count": null,
   "id": "1d0ce055",
   "metadata": {},
   "outputs": [],
   "source": [
    "a"
   ]
  },
  {
   "cell_type": "code",
   "execution_count": null,
   "id": "879faba5",
   "metadata": {},
   "outputs": [],
   "source": [
    "num1=100     #  100 is stored in num1\n",
    "num2=2000     #  200 is stored in num2\n",
    "num3=num1+num2 # num3=100+200=300\n",
    "num1=400      # num1 value is updated with 400\n",
    "num3\n",
    "\n"
   ]
  },
  {
   "cell_type": "code",
   "execution_count": null,
   "id": "9a9f7b75",
   "metadata": {},
   "outputs": [],
   "source": [
    "# no need mention the type of the data \n",
    "# in jupyter notebook \n",
    "# the last value you can able to see with out print"
   ]
  },
  {
   "cell_type": "code",
   "execution_count": null,
   "id": "b31f270c",
   "metadata": {},
   "outputs": [],
   "source": [
    "num1=10\n",
    "num2=20\n",
    "print(num1)\n",
    "print(num2)"
   ]
  },
  {
   "cell_type": "code",
   "execution_count": null,
   "id": "11175214",
   "metadata": {},
   "outputs": [],
   "source": [
    "num1=10\n",
    "num2=20\n",
    "num1"
   ]
  },
  {
   "cell_type": "markdown",
   "id": "16808579",
   "metadata": {},
   "source": [
    "- white colour dot means ==== kernel idle state\n",
    "\n",
    "- which means currently kernel is not doing any work\n",
    "\n",
    "- Black colour dot means === kernel is busy\n",
    "\n",
    "- python kernel run the cells sequentially, one after another\n",
    "\n",
    "- In[*]  start mark which means kernel is busy\n",
    "\n",
    "- kerenel red  ===== dead"
   ]
  },
  {
   "cell_type": "code",
   "execution_count": null,
   "id": "82831f7c",
   "metadata": {},
   "outputs": [],
   "source": [
    "a=10"
   ]
  },
  {
   "cell_type": "code",
   "execution_count": null,
   "id": "fdf39d4e",
   "metadata": {},
   "outputs": [],
   "source": [
    "b=20\n",
    "b"
   ]
  },
  {
   "cell_type": "code",
   "execution_count": null,
   "id": "2d6b2891",
   "metadata": {},
   "outputs": [],
   "source": [
    "for i in range(10000000):\n",
    "    print(i)"
   ]
  },
  {
   "cell_type": "markdown",
   "id": "8e1a5257",
   "metadata": {},
   "source": [
    "we have two types of modes \n",
    "\n",
    "- If you want to write a code ===== code mode\n",
    "\n",
    "    - esc+m\n",
    "\n",
    "- If you want to write a story ==== markdown mode\n",
    "\n",
    "    - esc+y"
   ]
  },
  {
   "cell_type": "code",
   "execution_count": null,
   "id": "73c9cdd3",
   "metadata": {},
   "outputs": [],
   "source": []
  },
  {
   "cell_type": "code",
   "execution_count": null,
   "id": "f09a812a",
   "metadata": {},
   "outputs": [],
   "source": []
  },
  {
   "cell_type": "code",
   "execution_count": null,
   "id": "6f28ff71",
   "metadata": {},
   "outputs": [],
   "source": []
  },
  {
   "cell_type": "code",
   "execution_count": 5,
   "id": "736c0b42",
   "metadata": {},
   "outputs": [
    {
     "data": {
      "text/plain": [
       "30"
      ]
     },
     "execution_count": 5,
     "metadata": {},
     "output_type": "execute_result"
    }
   ],
   "source": [
    "a=10\n",
    "b=20\n",
    "a+b"
   ]
  },
  {
   "cell_type": "markdown",
   "id": "10b316a5",
   "metadata": {},
   "source": [
    "Today im learning python"
   ]
  },
  {
   "cell_type": "markdown",
   "id": "514f55e2",
   "metadata": {},
   "source": [
    "python is very interesting\n"
   ]
  },
  {
   "cell_type": "markdown",
   "id": "e268bb3a",
   "metadata": {},
   "source": [
    "# python"
   ]
  },
  {
   "cell_type": "markdown",
   "id": "354b5c05",
   "metadata": {},
   "source": [
    "#python      it is comment"
   ]
  },
  {
   "cell_type": "markdown",
   "id": "0c08c649",
   "metadata": {},
   "source": [
    "# python"
   ]
  },
  {
   "cell_type": "markdown",
   "id": "52c7a4b6",
   "metadata": {},
   "source": [
    "# session      "
   ]
  },
  {
   "cell_type": "markdown",
   "id": "efc15063",
   "metadata": {},
   "source": [
    "### session1"
   ]
  },
  {
   "cell_type": "markdown",
   "id": "fcbdad87",
   "metadata": {},
   "source": [
    "- python is used in AI\n",
    "   - hello\n",
    "\n",
    "- Python is used in all applications"
   ]
  },
  {
   "cell_type": "code",
   "execution_count": null,
   "id": "79cabb71",
   "metadata": {},
   "outputs": [],
   "source": [
    "# Tomorrow everyone should be with laptops\n",
    "# anaconda should be installed\n",
    "\n",
    "\n",
    "# variables\n",
    "# Basic python codes\n",
    "# data types"
   ]
  },
  {
   "cell_type": "markdown",
   "id": "846faf9a",
   "metadata": {},
   "source": [
    "# Python basics\n",
    "\n",
    "- Varibles\n",
    "\n",
    "- data types\n",
    "\n",
    "- types conversion\n",
    "\n",
    "- packages\n",
    "\n",
    "- input eval  python codes    Assignment-1\n",
    "\n",
    "- Conditional statements     Assignement-2\n",
    "\n",
    "- Try -exception\n",
    "\n",
    "- Functions                  A3\n",
    "\n",
    "- For\n",
    "\n",
    "- While                     A4\n",
    "\n",
    "\n",
    "# Python intermediate\n",
    "\n",
    "- Strings\n",
    "\n",
    "- List\n",
    "\n",
    "- Dictionary\n",
    "\n",
    "- Tuple sets ======== > \n",
    "\n",
    "- file handling sessions\n",
    "\n",
    "\n",
    "#  Statistics : 10 sessions 10 days\n",
    "\n",
    "# EDA with python"
   ]
  },
  {
   "cell_type": "code",
   "execution_count": null,
   "id": "6841cdea",
   "metadata": {},
   "outputs": [],
   "source": []
  },
  {
   "cell_type": "code",
   "execution_count": null,
   "id": "945436a2",
   "metadata": {},
   "outputs": [],
   "source": []
  }
 ],
 "metadata": {
  "kernelspec": {
   "display_name": "Python 3 (ipykernel)",
   "language": "python",
   "name": "python3"
  },
  "language_info": {
   "codemirror_mode": {
    "name": "ipython",
    "version": 3
   },
   "file_extension": ".py",
   "mimetype": "text/x-python",
   "name": "python",
   "nbconvert_exporter": "python",
   "pygments_lexer": "ipython3",
   "version": "3.11.5"
  }
 },
 "nbformat": 4,
 "nbformat_minor": 5
}
