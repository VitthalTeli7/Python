{
 "cells": [
  {
   "cell_type": "code",
   "execution_count": null,
   "id": "bf11d49d",
   "metadata": {},
   "outputs": [],
   "source": [
    "# In python we have some basic data types"
   ]
  },
  {
   "cell_type": "markdown",
   "id": "7d9e7c88",
   "metadata": {},
   "source": [
    "- integer-int\n",
    "\n",
    "- float-float\n",
    "\n",
    "- string-str\n",
    "\n",
    "- boolean-bool\n",
    "\n",
    "- complex-complex"
   ]
  },
  {
   "cell_type": "markdown",
   "id": "272fa503",
   "metadata": {},
   "source": [
    "$integer$"
   ]
  },
  {
   "cell_type": "code",
   "execution_count": 1,
   "id": "106f72c8",
   "metadata": {},
   "outputs": [
    {
     "data": {
      "text/plain": [
       "10"
      ]
     },
     "execution_count": 1,
     "metadata": {},
     "output_type": "execute_result"
    }
   ],
   "source": [
    "number=10\n",
    "number"
   ]
  },
  {
   "cell_type": "code",
   "execution_count": 2,
   "id": "2a322ca4",
   "metadata": {},
   "outputs": [
    {
     "data": {
      "text/plain": [
       "int"
      ]
     },
     "execution_count": 2,
     "metadata": {},
     "output_type": "execute_result"
    }
   ],
   "source": [
    "type(number)"
   ]
  },
  {
   "cell_type": "markdown",
   "id": "7f8ca997",
   "metadata": {},
   "source": [
    "- binary \n",
    "\n",
    "- octa\n",
    "\n",
    "- hexa"
   ]
  },
  {
   "cell_type": "markdown",
   "id": "9ec7ade4",
   "metadata": {},
   "source": [
    "$binary$"
   ]
  },
  {
   "cell_type": "markdown",
   "id": "5c690322",
   "metadata": {},
   "source": [
    "- bi mean two \n",
    "\n",
    "- it required only two digits\n",
    "\n",
    "- we have 0 1 2 3 4 5 6 7 8 9\n",
    "\n",
    "- to make binary we need only 0 and 1\n",
    "\n",
    "- example: 0b111, 0B111"
   ]
  },
  {
   "cell_type": "code",
   "execution_count": 3,
   "id": "91f22621",
   "metadata": {},
   "outputs": [
    {
     "data": {
      "text/plain": [
       "7"
      ]
     },
     "execution_count": 3,
     "metadata": {},
     "output_type": "execute_result"
    }
   ],
   "source": [
    "0b111"
   ]
  },
  {
   "cell_type": "code",
   "execution_count": null,
   "id": "2973b685",
   "metadata": {},
   "outputs": [],
   "source": [
    "4 2 1\n",
    "0 0 0   0\n",
    "0 0 1   1\n",
    "0 1 0   2\n",
    "0 1 1   3\n",
    "1 0 0   4\n",
    "1 0 1   5\n",
    "1 1 0   6\n",
    "1 1 1   7"
   ]
  },
  {
   "cell_type": "code",
   "execution_count": 4,
   "id": "4148d5fc",
   "metadata": {},
   "outputs": [
    {
     "data": {
      "text/plain": [
       "15"
      ]
     },
     "execution_count": 4,
     "metadata": {},
     "output_type": "execute_result"
    }
   ],
   "source": [
    "0b1111"
   ]
  },
  {
   "cell_type": "markdown",
   "id": "eaeb8548",
   "metadata": {},
   "source": [
    "$Octa$"
   ]
  },
  {
   "cell_type": "markdown",
   "id": "83ee7024",
   "metadata": {},
   "source": [
    "- octa mean eight \n",
    "\n",
    "- it required only 8 digits\n",
    "\n",
    "- we have 0 1 2 3 4 5 6 7 8 9\n",
    "\n",
    "- to make binary we need only 0 1 2 3 4 5 6 7\n",
    "\n",
    "- example: 0o776, 0O1234 "
   ]
  },
  {
   "cell_type": "code",
   "execution_count": 5,
   "id": "b31f29d1",
   "metadata": {},
   "outputs": [
    {
     "data": {
      "text/plain": [
       "83"
      ]
     },
     "execution_count": 5,
     "metadata": {},
     "output_type": "execute_result"
    }
   ],
   "source": [
    "0o123"
   ]
  },
  {
   "cell_type": "markdown",
   "id": "c4a7ce90",
   "metadata": {},
   "source": [
    "$hexa$"
   ]
  },
  {
   "cell_type": "markdown",
   "id": "2beafffb",
   "metadata": {},
   "source": [
    "- hexa mean 16 \n",
    "\n",
    "- it required only 0 to 9 and A to F\n",
    "\n",
    "- we have 0 1 2 3 4 5 6 7 8 9 A B C D E F\n",
    "\n",
    "- example: 0x7A2, 0Xabc "
   ]
  },
  {
   "cell_type": "code",
   "execution_count": 8,
   "id": "204c14d7",
   "metadata": {},
   "outputs": [
    {
     "data": {
      "text/plain": [
       "1697"
      ]
     },
     "execution_count": 8,
     "metadata": {},
     "output_type": "execute_result"
    }
   ],
   "source": [
    "0x6a1\n",
    "\n",
    "# 16^0*1+16^1*(10)+16^2(6)"
   ]
  },
  {
   "cell_type": "markdown",
   "id": "6ec94c60",
   "metadata": {},
   "source": [
    "$float$"
   ]
  },
  {
   "cell_type": "code",
   "execution_count": 11,
   "id": "212c20a3",
   "metadata": {},
   "outputs": [
    {
     "data": {
      "text/plain": [
       "float"
      ]
     },
     "execution_count": 11,
     "metadata": {},
     "output_type": "execute_result"
    }
   ],
   "source": [
    "number=10.56\n",
    "type(number)"
   ]
  },
  {
   "cell_type": "code",
   "execution_count": 12,
   "id": "1b123376",
   "metadata": {},
   "outputs": [
    {
     "data": {
      "text/plain": [
       "100.0"
      ]
     },
     "execution_count": 12,
     "metadata": {},
     "output_type": "execute_result"
    }
   ],
   "source": [
    "10e+1  \n",
    "# 10 is multilpying with  e1=10"
   ]
  },
  {
   "cell_type": "code",
   "execution_count": 13,
   "id": "21e65af9",
   "metadata": {},
   "outputs": [
    {
     "data": {
      "text/plain": [
       "1000.0"
      ]
     },
     "execution_count": 13,
     "metadata": {},
     "output_type": "execute_result"
    }
   ],
   "source": [
    "10e+2\n",
    "# 10 is multiplying with e2=100"
   ]
  },
  {
   "cell_type": "code",
   "execution_count": 14,
   "id": "1a1e6fac",
   "metadata": {},
   "outputs": [
    {
     "data": {
      "text/plain": [
       "10000.0"
      ]
     },
     "execution_count": 14,
     "metadata": {},
     "output_type": "execute_result"
    }
   ],
   "source": [
    "10e+3\n",
    "# 10 is multiplying with e3=1000"
   ]
  },
  {
   "cell_type": "code",
   "execution_count": 15,
   "id": "934c8776",
   "metadata": {},
   "outputs": [
    {
     "data": {
      "text/plain": [
       "123650.0"
      ]
     },
     "execution_count": 15,
     "metadata": {},
     "output_type": "execute_result"
    }
   ],
   "source": [
    "123.65e3  \n",
    "# 123.65x1000= 123650"
   ]
  },
  {
   "cell_type": "code",
   "execution_count": 16,
   "id": "e565856f",
   "metadata": {},
   "outputs": [
    {
     "data": {
      "text/plain": [
       "123.45"
      ]
     },
     "execution_count": 16,
     "metadata": {},
     "output_type": "execute_result"
    }
   ],
   "source": [
    "10e-1   # 10/10\n",
    "10e-2   # 10/100\n",
    "10e-3   # 10/1000\n",
    "10e-4   # 10/10000\n",
    "10e+5   # 10*100000\n",
    "12345e-2 # 12345/100=123.45"
   ]
  },
  {
   "cell_type": "code",
   "execution_count": 17,
   "id": "c740fb5f",
   "metadata": {},
   "outputs": [
    {
     "data": {
      "text/plain": [
       "1.2345e-06"
      ]
     },
     "execution_count": 17,
     "metadata": {},
     "output_type": "execute_result"
    }
   ],
   "source": [
    "12345e-10  \n",
    "# check the output is zero "
   ]
  },
  {
   "cell_type": "markdown",
   "id": "37a7a59c",
   "metadata": {},
   "source": [
    "- 10e2  as same as 10e+2  multiplying\n",
    "\n",
    "- 10e-2 means dividing"
   ]
  },
  {
   "cell_type": "markdown",
   "id": "dbf23345",
   "metadata": {},
   "source": [
    "$string$"
   ]
  },
  {
   "cell_type": "code",
   "execution_count": null,
   "id": "b0faac3a",
   "metadata": {},
   "outputs": [],
   "source": [
    "integer  # variables \n",
    "int      # keyword\n",
    "\"integer\" # string"
   ]
  },
  {
   "cell_type": "code",
   "execution_count": 21,
   "id": "d48ea6cd",
   "metadata": {},
   "outputs": [
    {
     "data": {
      "text/plain": [
       "'python'"
      ]
     },
     "execution_count": 21,
     "metadata": {},
     "output_type": "execute_result"
    }
   ],
   "source": [
    "name=\"python\"\n",
    "name"
   ]
  },
  {
   "cell_type": "code",
   "execution_count": 22,
   "id": "6b1a6a41",
   "metadata": {},
   "outputs": [
    {
     "data": {
      "text/plain": [
       "str"
      ]
     },
     "execution_count": 22,
     "metadata": {},
     "output_type": "execute_result"
    }
   ],
   "source": [
    "type(name)"
   ]
  },
  {
   "cell_type": "code",
   "execution_count": 24,
   "id": "b1dbdf5d",
   "metadata": {},
   "outputs": [
    {
     "data": {
      "text/plain": [
       "str"
      ]
     },
     "execution_count": 24,
     "metadata": {},
     "output_type": "execute_result"
    }
   ],
   "source": [
    "name1='hyderabad'\n",
    "type(name1)"
   ]
  },
  {
   "cell_type": "code",
   "execution_count": 26,
   "id": "f075b6a6",
   "metadata": {},
   "outputs": [
    {
     "data": {
      "text/plain": [
       "'python'"
      ]
     },
     "execution_count": 26,
     "metadata": {},
     "output_type": "execute_result"
    }
   ],
   "source": [
    "'python'"
   ]
  },
  {
   "cell_type": "code",
   "execution_count": 29,
   "id": "b9a9691d",
   "metadata": {},
   "outputs": [
    {
     "name": "stdout",
     "output_type": "stream",
     "text": [
      "hello 'python'\n"
     ]
    }
   ],
   "source": [
    "print(\"hello 'python'\")"
   ]
  },
  {
   "cell_type": "code",
   "execution_count": 32,
   "id": "4f4cf992",
   "metadata": {},
   "outputs": [
    {
     "name": "stdout",
     "output_type": "stream",
     "text": [
      "hello \"python\"\n"
     ]
    }
   ],
   "source": [
    "print('hello \"python\"')"
   ]
  },
  {
   "cell_type": "markdown",
   "id": "8d726b1a",
   "metadata": {},
   "source": [
    "- triple quotes are used to write a story of a specific part of code\n",
    "\n",
    "- Doc string\n",
    "\n",
    "- if some body using triple quote means\n",
    "\n",
    "- the user try to say some thing about that code"
   ]
  },
  {
   "cell_type": "code",
   "execution_count": null,
   "id": "e942efdc",
   "metadata": {},
   "outputs": [],
   "source": []
  },
  {
   "cell_type": "code",
   "execution_count": 33,
   "id": "37c86142",
   "metadata": {},
   "outputs": [
    {
     "data": {
      "text/plain": [
       "30"
      ]
     },
     "execution_count": 33,
     "metadata": {},
     "output_type": "execute_result"
    }
   ],
   "source": [
    "\"\"\"\n",
    "i have performed addition operation\n",
    "here i have taken a value as 10 and b value as 20\n",
    "\"\"\"\n",
    "a=10\n",
    "b=20\n",
    "c=a+b\n",
    "c"
   ]
  },
  {
   "cell_type": "code",
   "execution_count": 34,
   "id": "7e5b311f",
   "metadata": {},
   "outputs": [
    {
     "data": {
      "text/plain": [
       "'hellopython'"
      ]
     },
     "execution_count": 34,
     "metadata": {},
     "output_type": "execute_result"
    }
   ],
   "source": [
    "\"hello\"+\"python\""
   ]
  },
  {
   "cell_type": "code",
   "execution_count": 36,
   "id": "858389d9",
   "metadata": {},
   "outputs": [
    {
     "data": {
      "text/plain": [
       "'hellopython'"
      ]
     },
     "execution_count": 36,
     "metadata": {},
     "output_type": "execute_result"
    }
   ],
   "source": [
    "'hello'+'python'"
   ]
  },
  {
   "cell_type": "code",
   "execution_count": 37,
   "id": "889cda32",
   "metadata": {},
   "outputs": [
    {
     "data": {
      "text/plain": [
       "'hellopython'"
      ]
     },
     "execution_count": 37,
     "metadata": {},
     "output_type": "execute_result"
    }
   ],
   "source": [
    "\"\"\"hello\"\"\"+\"\"\"python\"\"\""
   ]
  },
  {
   "cell_type": "code",
   "execution_count": 38,
   "id": "a2118b93",
   "metadata": {},
   "outputs": [],
   "source": [
    "import random"
   ]
  },
  {
   "cell_type": "code",
   "execution_count": null,
   "id": "53502f14",
   "metadata": {},
   "outputs": [],
   "source": [
    "random.randint()"
   ]
  },
  {
   "cell_type": "code",
   "execution_count": null,
   "id": "c31e210f",
   "metadata": {},
   "outputs": [],
   "source": [
    "# int\n",
    "# float\n",
    "# str"
   ]
  },
  {
   "cell_type": "markdown",
   "id": "632a9585",
   "metadata": {},
   "source": [
    "$boolean$"
   ]
  },
  {
   "cell_type": "code",
   "execution_count": 39,
   "id": "417cc26b",
   "metadata": {},
   "outputs": [
    {
     "data": {
      "text/plain": [
       "bool"
      ]
     },
     "execution_count": 39,
     "metadata": {},
     "output_type": "execute_result"
    }
   ],
   "source": [
    "value=True\n",
    "type(value)"
   ]
  },
  {
   "cell_type": "code",
   "execution_count": 40,
   "id": "cf3bbda1",
   "metadata": {},
   "outputs": [
    {
     "data": {
      "text/plain": [
       "bool"
      ]
     },
     "execution_count": 40,
     "metadata": {},
     "output_type": "execute_result"
    }
   ],
   "source": [
    "value1=False\n",
    "type(value1)"
   ]
  },
  {
   "cell_type": "code",
   "execution_count": 42,
   "id": "d4b2b711",
   "metadata": {},
   "outputs": [
    {
     "data": {
      "text/plain": [
       "str"
      ]
     },
     "execution_count": 42,
     "metadata": {},
     "output_type": "execute_result"
    }
   ],
   "source": [
    "value2=\"True\"\n",
    "type(value2)"
   ]
  },
  {
   "cell_type": "code",
   "execution_count": 45,
   "id": "a31e4c25",
   "metadata": {},
   "outputs": [
    {
     "ename": "NameError",
     "evalue": "name 'true1' is not defined",
     "output_type": "error",
     "traceback": [
      "\u001b[1;31m---------------------------------------------------------------------------\u001b[0m",
      "\u001b[1;31mNameError\u001b[0m                                 Traceback (most recent call last)",
      "Cell \u001b[1;32mIn[45], line 2\u001b[0m\n\u001b[0;32m      1\u001b[0m true\u001b[38;5;241m=\u001b[39m\u001b[38;5;241m100\u001b[39m\n\u001b[1;32m----> 2\u001b[0m value3\u001b[38;5;241m=\u001b[39mtrue1 \n\u001b[0;32m      3\u001b[0m value3\n",
      "\u001b[1;31mNameError\u001b[0m: name 'true1' is not defined"
     ]
    }
   ],
   "source": [
    "true=100\n",
    "value3=true1 \n",
    "value3\n"
   ]
  },
  {
   "cell_type": "code",
   "execution_count": null,
   "id": "8dddd51e",
   "metadata": {},
   "outputs": [],
   "source": [
    "#NameError: name 'true1' is not defined\n",
    "    \n",
    "#in the above lines check the name true1 is there or not"
   ]
  },
  {
   "cell_type": "code",
   "execution_count": 47,
   "id": "56089d88",
   "metadata": {},
   "outputs": [],
   "source": [
    "true1=500"
   ]
  },
  {
   "cell_type": "code",
   "execution_count": 48,
   "id": "1bd24f9e",
   "metadata": {},
   "outputs": [],
   "source": [
    "name=true1"
   ]
  },
  {
   "cell_type": "markdown",
   "id": "7a2a38a4",
   "metadata": {},
   "source": [
    "$Complex$"
   ]
  },
  {
   "cell_type": "markdown",
   "id": "2b452fd0",
   "metadata": {},
   "source": [
    "- It represent as a+bj\n",
    "\n",
    "- where a is real number\n",
    "\n",
    "- b is an imagiznary number\n",
    "\n",
    "- ex:  3+4j"
   ]
  },
  {
   "cell_type": "code",
   "execution_count": 49,
   "id": "b99de050",
   "metadata": {},
   "outputs": [
    {
     "data": {
      "text/plain": [
       "complex"
      ]
     },
     "execution_count": 49,
     "metadata": {},
     "output_type": "execute_result"
    }
   ],
   "source": [
    "value=3+4j\n",
    "type(value)"
   ]
  },
  {
   "cell_type": "code",
   "execution_count": 50,
   "id": "19ca376d",
   "metadata": {},
   "outputs": [
    {
     "data": {
      "text/plain": [
       "['__abs__',\n",
       " '__add__',\n",
       " '__bool__',\n",
       " '__class__',\n",
       " '__complex__',\n",
       " '__delattr__',\n",
       " '__dir__',\n",
       " '__doc__',\n",
       " '__eq__',\n",
       " '__format__',\n",
       " '__ge__',\n",
       " '__getattribute__',\n",
       " '__getnewargs__',\n",
       " '__getstate__',\n",
       " '__gt__',\n",
       " '__hash__',\n",
       " '__init__',\n",
       " '__init_subclass__',\n",
       " '__le__',\n",
       " '__lt__',\n",
       " '__mul__',\n",
       " '__ne__',\n",
       " '__neg__',\n",
       " '__new__',\n",
       " '__pos__',\n",
       " '__pow__',\n",
       " '__radd__',\n",
       " '__reduce__',\n",
       " '__reduce_ex__',\n",
       " '__repr__',\n",
       " '__rmul__',\n",
       " '__rpow__',\n",
       " '__rsub__',\n",
       " '__rtruediv__',\n",
       " '__setattr__',\n",
       " '__sizeof__',\n",
       " '__str__',\n",
       " '__sub__',\n",
       " '__subclasshook__',\n",
       " '__truediv__',\n",
       " 'conjugate',\n",
       " 'imag',\n",
       " 'real']"
      ]
     },
     "execution_count": 50,
     "metadata": {},
     "output_type": "execute_result"
    }
   ],
   "source": [
    "dir(value)"
   ]
  },
  {
   "cell_type": "code",
   "execution_count": null,
   "id": "4bfcac45",
   "metadata": {},
   "outputs": [],
   "source": [
    "# value is kind of package\n",
    "# m-1: conjugate\n",
    "# m-2: imag\n",
    "# m-3:real"
   ]
  },
  {
   "cell_type": "code",
   "execution_count": null,
   "id": "97df9dc2",
   "metadata": {},
   "outputs": [],
   "source": [
    "#<package name>.<method name>"
   ]
  },
  {
   "cell_type": "code",
   "execution_count": 55,
   "id": "658da3eb",
   "metadata": {},
   "outputs": [
    {
     "data": {
      "text/plain": [
       "(3-4j)"
      ]
     },
     "execution_count": 55,
     "metadata": {},
     "output_type": "execute_result"
    }
   ],
   "source": [
    "value=3+4j\n",
    "dir(value)\n",
    "# conjugate imag  real\n",
    "value.conjugate()"
   ]
  },
  {
   "cell_type": "code",
   "execution_count": 56,
   "id": "cb56f14c",
   "metadata": {},
   "outputs": [
    {
     "data": {
      "text/plain": [
       "3.0"
      ]
     },
     "execution_count": 56,
     "metadata": {},
     "output_type": "execute_result"
    }
   ],
   "source": [
    "value.real  # real number"
   ]
  },
  {
   "cell_type": "code",
   "execution_count": 57,
   "id": "ea8ad20f",
   "metadata": {},
   "outputs": [
    {
     "data": {
      "text/plain": [
       "4.0"
      ]
     },
     "execution_count": 57,
     "metadata": {},
     "output_type": "execute_result"
    }
   ],
   "source": [
    "value.imag  # imaginary numbr"
   ]
  },
  {
   "cell_type": "code",
   "execution_count": 60,
   "id": "b90488d8",
   "metadata": {},
   "outputs": [
    {
     "ename": "AttributeError",
     "evalue": "'complex' object has no attribute 'img'",
     "output_type": "error",
     "traceback": [
      "\u001b[1;31m---------------------------------------------------------------------------\u001b[0m",
      "\u001b[1;31mAttributeError\u001b[0m                            Traceback (most recent call last)",
      "Cell \u001b[1;32mIn[60], line 1\u001b[0m\n\u001b[1;32m----> 1\u001b[0m value\u001b[38;5;241m.\u001b[39mimg\n",
      "\u001b[1;31mAttributeError\u001b[0m: 'complex' object has no attribute 'img'"
     ]
    }
   ],
   "source": [
    "value.imag  # use tab"
   ]
  },
  {
   "cell_type": "code",
   "execution_count": 59,
   "id": "d0c484ba",
   "metadata": {},
   "outputs": [
    {
     "data": {
      "text/plain": [
       "['__abs__',\n",
       " '__add__',\n",
       " '__bool__',\n",
       " '__class__',\n",
       " '__complex__',\n",
       " '__delattr__',\n",
       " '__dir__',\n",
       " '__doc__',\n",
       " '__eq__',\n",
       " '__format__',\n",
       " '__ge__',\n",
       " '__getattribute__',\n",
       " '__getnewargs__',\n",
       " '__getstate__',\n",
       " '__gt__',\n",
       " '__hash__',\n",
       " '__init__',\n",
       " '__init_subclass__',\n",
       " '__le__',\n",
       " '__lt__',\n",
       " '__mul__',\n",
       " '__ne__',\n",
       " '__neg__',\n",
       " '__new__',\n",
       " '__pos__',\n",
       " '__pow__',\n",
       " '__radd__',\n",
       " '__reduce__',\n",
       " '__reduce_ex__',\n",
       " '__repr__',\n",
       " '__rmul__',\n",
       " '__rpow__',\n",
       " '__rsub__',\n",
       " '__rtruediv__',\n",
       " '__setattr__',\n",
       " '__sizeof__',\n",
       " '__str__',\n",
       " '__sub__',\n",
       " '__subclasshook__',\n",
       " '__truediv__',\n",
       " 'conjugate',\n",
       " 'imag',\n",
       " 'real']"
      ]
     },
     "execution_count": 59,
     "metadata": {},
     "output_type": "execute_result"
    }
   ],
   "source": [
    "dir(value)"
   ]
  },
  {
   "cell_type": "markdown",
   "id": "cf112c30",
   "metadata": {},
   "source": [
    "- syntax error ===== avoid\n",
    "\n",
    "- Name error: variable is not defined\n",
    "\n",
    "- Attribute error : module is not avialble"
   ]
  },
  {
   "cell_type": "markdown",
   "id": "ecc7e103",
   "metadata": {},
   "source": [
    "- integer ==== int\n",
    "\n",
    "- float  ===== float\n",
    "\n",
    "- string ==== str\n",
    "\n",
    "- boolean === bool\n",
    "\n",
    "- complex === complex"
   ]
  },
  {
   "cell_type": "code",
   "execution_count": null,
   "id": "515d4f34",
   "metadata": {},
   "outputs": [],
   "source": []
  },
  {
   "cell_type": "code",
   "execution_count": null,
   "id": "cd41cdad",
   "metadata": {},
   "outputs": [],
   "source": []
  },
  {
   "cell_type": "code",
   "execution_count": null,
   "id": "0b5b1284",
   "metadata": {},
   "outputs": [],
   "source": []
  },
  {
   "cell_type": "code",
   "execution_count": null,
   "id": "5843a7e1",
   "metadata": {},
   "outputs": [],
   "source": []
  }
 ],
 "metadata": {
  "kernelspec": {
   "display_name": "Python 3 (ipykernel)",
   "language": "python",
   "name": "python3"
  },
  "language_info": {
   "codemirror_mode": {
    "name": "ipython",
    "version": 3
   },
   "file_extension": ".py",
   "mimetype": "text/x-python",
   "name": "python",
   "nbconvert_exporter": "python",
   "pygments_lexer": "ipython3",
   "version": "3.11.5"
  }
 },
 "nbformat": 4,
 "nbformat_minor": 5
}
