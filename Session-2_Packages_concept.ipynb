{
 "cells": [
  {
   "cell_type": "markdown",
   "id": "952148b9",
   "metadata": {},
   "source": [
    "# variables "
   ]
  },
  {
   "cell_type": "code",
   "execution_count": null,
   "id": "7e1980ed",
   "metadata": {},
   "outputs": [],
   "source": [
    "# store the value\n",
    "# variables varies the values"
   ]
  },
  {
   "cell_type": "code",
   "execution_count": 1,
   "id": "2d45ca68",
   "metadata": {},
   "outputs": [],
   "source": [
    "a=10\n",
    "# 10 is a values stored in a variable name called 'a'"
   ]
  },
  {
   "cell_type": "code",
   "execution_count": 2,
   "id": "020c3b96",
   "metadata": {},
   "outputs": [
    {
     "data": {
      "text/plain": [
       "10"
      ]
     },
     "execution_count": 2,
     "metadata": {},
     "output_type": "execute_result"
    }
   ],
   "source": [
    "a"
   ]
  },
  {
   "cell_type": "code",
   "execution_count": 3,
   "id": "a3a7c695",
   "metadata": {},
   "outputs": [
    {
     "data": {
      "text/plain": [
       "20"
      ]
     },
     "execution_count": 3,
     "metadata": {},
     "output_type": "execute_result"
    }
   ],
   "source": [
    "a=20\n",
    "a"
   ]
  },
  {
   "cell_type": "code",
   "execution_count": 4,
   "id": "ca83dada",
   "metadata": {},
   "outputs": [
    {
     "data": {
      "text/plain": [
       "300"
      ]
     },
     "execution_count": 4,
     "metadata": {},
     "output_type": "execute_result"
    }
   ],
   "source": [
    "num1=200  # num1=200\n",
    "num2=300  # num2=300\n",
    "num1=num2 # num1=300\n",
    "num2=num1 # num2=300\n",
    "num1=500  # num1=500\n",
    "num1=num2 #num1=300\n",
    "num1"
   ]
  },
  {
   "cell_type": "code",
   "execution_count": 5,
   "id": "20ee5467",
   "metadata": {},
   "outputs": [
    {
     "data": {
      "text/plain": [
       "100"
      ]
     },
     "execution_count": 5,
     "metadata": {},
     "output_type": "execute_result"
    }
   ],
   "source": [
    "number=100\n",
    "number"
   ]
  },
  {
   "cell_type": "code",
   "execution_count": 6,
   "id": "b141b55d",
   "metadata": {},
   "outputs": [
    {
     "data": {
      "text/plain": [
       "200"
      ]
     },
     "execution_count": 6,
     "metadata": {},
     "output_type": "execute_result"
    }
   ],
   "source": [
    "NUMBER=200\n",
    "NUMBER"
   ]
  },
  {
   "cell_type": "code",
   "execution_count": 7,
   "id": "581488c4",
   "metadata": {},
   "outputs": [
    {
     "data": {
      "text/plain": [
       "300"
      ]
     },
     "execution_count": 7,
     "metadata": {},
     "output_type": "execute_result"
    }
   ],
   "source": [
    "NUMber=300\n",
    "NUMber"
   ]
  },
  {
   "cell_type": "code",
   "execution_count": 8,
   "id": "2d157157",
   "metadata": {},
   "outputs": [
    {
     "data": {
      "text/plain": [
       "(100, 200, 300)"
      ]
     },
     "execution_count": 8,
     "metadata": {},
     "output_type": "execute_result"
    }
   ],
   "source": [
    "number,NUMBER,NUMber"
   ]
  },
  {
   "cell_type": "code",
   "execution_count": 9,
   "id": "461c3f5a",
   "metadata": {},
   "outputs": [
    {
     "data": {
      "text/plain": [
       "500"
      ]
     },
     "execution_count": 9,
     "metadata": {},
     "output_type": "execute_result"
    }
   ],
   "source": [
    "number123=500\n",
    "number123"
   ]
  },
  {
   "cell_type": "code",
   "execution_count": 10,
   "id": "53bbc4be",
   "metadata": {},
   "outputs": [
    {
     "ename": "SyntaxError",
     "evalue": "invalid decimal literal (2634384393.py, line 1)",
     "output_type": "error",
     "traceback": [
      "\u001b[1;36m  Cell \u001b[1;32mIn[10], line 1\u001b[1;36m\u001b[0m\n\u001b[1;33m    123number=600\u001b[0m\n\u001b[1;37m      ^\u001b[0m\n\u001b[1;31mSyntaxError\u001b[0m\u001b[1;31m:\u001b[0m invalid decimal literal\n"
     ]
    }
   ],
   "source": [
    "123number=600\n",
    "123number"
   ]
  },
  {
   "cell_type": "code",
   "execution_count": 11,
   "id": "c4cc7698",
   "metadata": {},
   "outputs": [
    {
     "ename": "SyntaxError",
     "evalue": "invalid syntax (860963118.py, line 1)",
     "output_type": "error",
     "traceback": [
      "\u001b[1;36m  Cell \u001b[1;32mIn[11], line 1\u001b[1;36m\u001b[0m\n\u001b[1;33m    number$one=800\u001b[0m\n\u001b[1;37m          ^\u001b[0m\n\u001b[1;31mSyntaxError\u001b[0m\u001b[1;31m:\u001b[0m invalid syntax\n"
     ]
    }
   ],
   "source": [
    "number$one=800\n",
    "number$ne"
   ]
  },
  {
   "cell_type": "code",
   "execution_count": 12,
   "id": "27939c73",
   "metadata": {},
   "outputs": [
    {
     "ename": "SyntaxError",
     "evalue": "cannot assign to expression here. Maybe you meant '==' instead of '='? (3914315856.py, line 1)",
     "output_type": "error",
     "traceback": [
      "\u001b[1;36m  Cell \u001b[1;32mIn[12], line 1\u001b[1;36m\u001b[0m\n\u001b[1;33m    numer@two=2\u001b[0m\n\u001b[1;37m    ^\u001b[0m\n\u001b[1;31mSyntaxError\u001b[0m\u001b[1;31m:\u001b[0m cannot assign to expression here. Maybe you meant '==' instead of '='?\n"
     ]
    }
   ],
   "source": [
    "numer@two=2\n",
    "number@two"
   ]
  },
  {
   "cell_type": "code",
   "execution_count": 13,
   "id": "9de3317c",
   "metadata": {},
   "outputs": [
    {
     "data": {
      "text/plain": [
       "900"
      ]
     },
     "execution_count": 13,
     "metadata": {},
     "output_type": "execute_result"
    }
   ],
   "source": [
    "number_one=900\n",
    "number_one"
   ]
  },
  {
   "cell_type": "code",
   "execution_count": 14,
   "id": "3476424e",
   "metadata": {},
   "outputs": [
    {
     "data": {
      "text/plain": [
       "1000"
      ]
     },
     "execution_count": 14,
     "metadata": {},
     "output_type": "execute_result"
    }
   ],
   "source": [
    "_=1000\n",
    "_"
   ]
  },
  {
   "cell_type": "code",
   "execution_count": 15,
   "id": "a09e26d1",
   "metadata": {},
   "outputs": [
    {
     "ename": "SyntaxError",
     "evalue": "invalid syntax (912407840.py, line 1)",
     "output_type": "error",
     "traceback": [
      "\u001b[1;36m  Cell \u001b[1;32mIn[15], line 1\u001b[1;36m\u001b[0m\n\u001b[1;33m    if=900\u001b[0m\n\u001b[1;37m      ^\u001b[0m\n\u001b[1;31mSyntaxError\u001b[0m\u001b[1;31m:\u001b[0m invalid syntax\n"
     ]
    }
   ],
   "source": [
    "if=900\n",
    "if"
   ]
  },
  {
   "cell_type": "code",
   "execution_count": 17,
   "id": "bdd04f65",
   "metadata": {},
   "outputs": [],
   "source": [
    "number_one=600\n"
   ]
  },
  {
   "cell_type": "code",
   "execution_count": 18,
   "id": "8b7ae4c0",
   "metadata": {},
   "outputs": [
    {
     "ename": "SyntaxError",
     "evalue": "invalid syntax (935429689.py, line 1)",
     "output_type": "error",
     "traceback": [
      "\u001b[1;36m  Cell \u001b[1;32mIn[18], line 1\u001b[1;36m\u001b[0m\n\u001b[1;33m    for=900\u001b[0m\n\u001b[1;37m       ^\u001b[0m\n\u001b[1;31mSyntaxError\u001b[0m\u001b[1;31m:\u001b[0m invalid syntax\n"
     ]
    }
   ],
   "source": [
    "for=900\n"
   ]
  },
  {
   "cell_type": "code",
   "execution_count": 20,
   "id": "0738262e",
   "metadata": {},
   "outputs": [],
   "source": [
    "max=800"
   ]
  },
  {
   "cell_type": "code",
   "execution_count": null,
   "id": "790a36ed",
   "metadata": {},
   "outputs": [],
   "source": [
    "# green colours keywords\n",
    "# black colour variables\n",
    "if for while print \n",
    "sum\n",
    "max\n",
    "min"
   ]
  },
  {
   "cell_type": "markdown",
   "id": "f600c610",
   "metadata": {},
   "source": [
    "- variables can be case sensitive\n",
    "\n",
    "- variables allows upper case ,lower case and combinations\n",
    "\n",
    "   - number\n",
    "   \n",
    "   - NUMBER\n",
    "    \n",
    "   - NUMber\n",
    "\n",
    "- Variables allows numbers as suffix\n",
    "\n",
    "   - number123\n",
    "\n",
    "- Variables allows underscore\n",
    "\n",
    "   - number_\n",
    "\n",
    "- Variables are not allowed spl charcaters\n",
    "\n",
    "   - number$\n",
    "\n",
    "- Variables are not allowed numbers as prefix\n",
    "\n",
    "    - 123number\n",
    "\n",
    "- Variables are not allowed keywords, except math keywords\n",
    "\n",
    "    - if for while (not allowed)"
   ]
  },
  {
   "cell_type": "markdown",
   "id": "d907a03e",
   "metadata": {},
   "source": [
    "## Packages "
   ]
  },
  {
   "cell_type": "code",
   "execution_count": null,
   "id": "d1cd2ed9",
   "metadata": {},
   "outputs": [],
   "source": [
    "# what is the english meaning of package: "
   ]
  },
  {
   "cell_type": "code",
   "execution_count": null,
   "id": "a5ff6bc6",
   "metadata": {},
   "outputs": [],
   "source": [
    "Manohar \n",
    "\n",
    "he created  python code: addition of two numbers\n",
    "    \n",
    "he felt that that program is very importnat ==== serve that to world\n",
    "\n",
    "he created a package for python program\n",
    "\n",
    "then you went to anaconda organization \n",
    "\n",
    "you and anaconda made an agreement\n",
    "\n",
    "if any one downloads anaconda ===== packages ==== laptop\n",
    "\n",
    "package name: summation"
   ]
  },
  {
   "cell_type": "code",
   "execution_count": null,
   "id": "16fba442",
   "metadata": {},
   "outputs": [],
   "source": [
    "import <package_name>"
   ]
  },
  {
   "cell_type": "code",
   "execution_count": null,
   "id": "dc7f42f9",
   "metadata": {},
   "outputs": [],
   "source": [
    "import summation"
   ]
  },
  {
   "cell_type": "code",
   "execution_count": null,
   "id": "a2f1c7bd",
   "metadata": {},
   "outputs": [],
   "source": [
    "# package name:  random\n",
    "# package name:  time\n",
    "# package name:  math\n",
    "\n",
    "# package name: cv2    computer vision"
   ]
  },
  {
   "cell_type": "code",
   "execution_count": 21,
   "id": "c725c4f9",
   "metadata": {},
   "outputs": [],
   "source": [
    "import random"
   ]
  },
  {
   "cell_type": "code",
   "execution_count": 22,
   "id": "60c486aa",
   "metadata": {},
   "outputs": [],
   "source": [
    "import time"
   ]
  },
  {
   "cell_type": "code",
   "execution_count": 23,
   "id": "6750deb0",
   "metadata": {},
   "outputs": [],
   "source": [
    "import math"
   ]
  },
  {
   "cell_type": "code",
   "execution_count": 24,
   "id": "a3e3e590",
   "metadata": {},
   "outputs": [],
   "source": [
    "import cv2"
   ]
  },
  {
   "cell_type": "code",
   "execution_count": null,
   "id": "3ca1e510",
   "metadata": {},
   "outputs": [],
   "source": [
    "cv2 package is not there in your laptop\n",
    "\n",
    "whenever you try to import (use it)\n",
    "\n",
    "module not found"
   ]
  },
  {
   "cell_type": "code",
   "execution_count": null,
   "id": "093eb65f",
   "metadata": {},
   "outputs": [],
   "source": [
    "# package name or module name:  random"
   ]
  },
  {
   "cell_type": "code",
   "execution_count": 25,
   "id": "5b720e81",
   "metadata": {},
   "outputs": [],
   "source": [
    "# step-1:\n",
    "import random"
   ]
  },
  {
   "cell_type": "code",
   "execution_count": 26,
   "id": "32f340c1",
   "metadata": {},
   "outputs": [
    {
     "data": {
      "text/plain": [
       "['BPF',\n",
       " 'LOG4',\n",
       " 'NV_MAGICCONST',\n",
       " 'RECIP_BPF',\n",
       " 'Random',\n",
       " 'SG_MAGICCONST',\n",
       " 'SystemRandom',\n",
       " 'TWOPI',\n",
       " '_ONE',\n",
       " '_Sequence',\n",
       " '_Set',\n",
       " '__all__',\n",
       " '__builtins__',\n",
       " '__cached__',\n",
       " '__doc__',\n",
       " '__file__',\n",
       " '__loader__',\n",
       " '__name__',\n",
       " '__package__',\n",
       " '__spec__',\n",
       " '_accumulate',\n",
       " '_acos',\n",
       " '_bisect',\n",
       " '_ceil',\n",
       " '_cos',\n",
       " '_e',\n",
       " '_exp',\n",
       " '_floor',\n",
       " '_index',\n",
       " '_inst',\n",
       " '_isfinite',\n",
       " '_log',\n",
       " '_os',\n",
       " '_pi',\n",
       " '_random',\n",
       " '_repeat',\n",
       " '_sha512',\n",
       " '_sin',\n",
       " '_sqrt',\n",
       " '_test',\n",
       " '_test_generator',\n",
       " '_urandom',\n",
       " '_warn',\n",
       " 'betavariate',\n",
       " 'choice',\n",
       " 'choices',\n",
       " 'expovariate',\n",
       " 'gammavariate',\n",
       " 'gauss',\n",
       " 'getrandbits',\n",
       " 'getstate',\n",
       " 'lognormvariate',\n",
       " 'normalvariate',\n",
       " 'paretovariate',\n",
       " 'randbytes',\n",
       " 'randint',\n",
       " 'random',\n",
       " 'randrange',\n",
       " 'sample',\n",
       " 'seed',\n",
       " 'setstate',\n",
       " 'shuffle',\n",
       " 'triangular',\n",
       " 'uniform',\n",
       " 'vonmisesvariate',\n",
       " 'weibullvariate']"
      ]
     },
     "execution_count": 26,
     "metadata": {},
     "output_type": "execute_result"
    }
   ],
   "source": [
    "# step-2:\n",
    "dir(random)\n",
    "\n",
    "randint"
   ]
  },
  {
   "cell_type": "code",
   "execution_count": null,
   "id": "7542ad97",
   "metadata": {},
   "outputs": [],
   "source": [
    "manohar ==== addition\n",
    "        ==== subt\n",
    "        ==== div\n",
    "        === mul\n",
    "        \n",
    "one package : dir(all in one)"
   ]
  },
  {
   "cell_type": "code",
   "execution_count": null,
   "id": "9f7f6634",
   "metadata": {},
   "outputs": [],
   "source": [
    "# step-1:\n",
    "import random\n",
    "\n",
    "# step-2:\n",
    "dir(random)\n",
    "\n",
    "# step-3: method:  randint\n"
   ]
  },
  {
   "cell_type": "code",
   "execution_count": null,
   "id": "af154bf8",
   "metadata": {},
   "outputs": [],
   "source": [
    "<package_name>.<method_name>"
   ]
  },
  {
   "cell_type": "code",
   "execution_count": 27,
   "id": "be347ce7",
   "metadata": {},
   "outputs": [
    {
     "name": "stdout",
     "output_type": "stream",
     "text": [
      "Help on method randint in module random:\n",
      "\n",
      "randint(a, b) method of random.Random instance\n",
      "    Return random integer in range [a, b], including both end points.\n",
      "\n"
     ]
    }
   ],
   "source": [
    "help(random.randint)"
   ]
  },
  {
   "cell_type": "code",
   "execution_count": 30,
   "id": "52f7b5da",
   "metadata": {},
   "outputs": [
    {
     "data": {
      "text/plain": [
       "18"
      ]
     },
     "execution_count": 30,
     "metadata": {},
     "output_type": "execute_result"
    }
   ],
   "source": [
    "random.randint(10,20)"
   ]
  },
  {
   "cell_type": "code",
   "execution_count": null,
   "id": "cf9a44d8",
   "metadata": {},
   "outputs": [],
   "source": [
    "# step-1:  import <package_name>\n",
    "import random\n",
    "\n",
    "# step-2: dir(<package_name>)\n",
    "# it will display all the methods\n",
    "dir(random)\n",
    "\n",
    "# step-3: we are picking  method name\n",
    "# help(<package_name>.<method_name>)\n",
    "help(random.randint)\n",
    "\n",
    "# step-4: Run the functionality\n",
    "# <package_name>.<method_name>\n",
    "random.randint(10,20)"
   ]
  },
  {
   "cell_type": "code",
   "execution_count": null,
   "id": "7dea3e56",
   "metadata": {},
   "outputs": [],
   "source": [
    "# package name math"
   ]
  },
  {
   "cell_type": "code",
   "execution_count": 31,
   "id": "7866f340",
   "metadata": {},
   "outputs": [],
   "source": [
    "import math"
   ]
  },
  {
   "cell_type": "code",
   "execution_count": 32,
   "id": "b97cb142",
   "metadata": {},
   "outputs": [
    {
     "data": {
      "text/plain": [
       "['__doc__',\n",
       " '__loader__',\n",
       " '__name__',\n",
       " '__package__',\n",
       " '__spec__',\n",
       " 'acos',\n",
       " 'acosh',\n",
       " 'asin',\n",
       " 'asinh',\n",
       " 'atan',\n",
       " 'atan2',\n",
       " 'atanh',\n",
       " 'cbrt',\n",
       " 'ceil',\n",
       " 'comb',\n",
       " 'copysign',\n",
       " 'cos',\n",
       " 'cosh',\n",
       " 'degrees',\n",
       " 'dist',\n",
       " 'e',\n",
       " 'erf',\n",
       " 'erfc',\n",
       " 'exp',\n",
       " 'exp2',\n",
       " 'expm1',\n",
       " 'fabs',\n",
       " 'factorial',\n",
       " 'floor',\n",
       " 'fmod',\n",
       " 'frexp',\n",
       " 'fsum',\n",
       " 'gamma',\n",
       " 'gcd',\n",
       " 'hypot',\n",
       " 'inf',\n",
       " 'isclose',\n",
       " 'isfinite',\n",
       " 'isinf',\n",
       " 'isnan',\n",
       " 'isqrt',\n",
       " 'lcm',\n",
       " 'ldexp',\n",
       " 'lgamma',\n",
       " 'log',\n",
       " 'log10',\n",
       " 'log1p',\n",
       " 'log2',\n",
       " 'modf',\n",
       " 'nan',\n",
       " 'nextafter',\n",
       " 'perm',\n",
       " 'pi',\n",
       " 'pow',\n",
       " 'prod',\n",
       " 'radians',\n",
       " 'remainder',\n",
       " 'sin',\n",
       " 'sinh',\n",
       " 'sqrt',\n",
       " 'tan',\n",
       " 'tanh',\n",
       " 'tau',\n",
       " 'trunc',\n",
       " 'ulp']"
      ]
     },
     "execution_count": 32,
     "metadata": {},
     "output_type": "execute_result"
    }
   ],
   "source": [
    "dir(math)"
   ]
  },
  {
   "cell_type": "code",
   "execution_count": 33,
   "id": "3961ef35",
   "metadata": {},
   "outputs": [
    {
     "name": "stdout",
     "output_type": "stream",
     "text": [
      "Help on built-in function sin in module math:\n",
      "\n",
      "sin(x, /)\n",
      "    Return the sine of x (measured in radians).\n",
      "\n"
     ]
    }
   ],
   "source": [
    "# Method name: sin\n",
    "\n",
    "help(math.sin)"
   ]
  },
  {
   "cell_type": "code",
   "execution_count": 34,
   "id": "bbf04369",
   "metadata": {},
   "outputs": [
    {
     "data": {
      "text/plain": [
       "0.8939966636005579"
      ]
     },
     "execution_count": 34,
     "metadata": {},
     "output_type": "execute_result"
    }
   ],
   "source": [
    "math.sin(90)"
   ]
  },
  {
   "cell_type": "code",
   "execution_count": 35,
   "id": "c1c10231",
   "metadata": {},
   "outputs": [
    {
     "name": "stdout",
     "output_type": "stream",
     "text": [
      "Help on built-in function sin in module math:\n",
      "\n",
      "sin(x, /)\n",
      "    Return the sine of x (measured in radians).\n",
      "\n"
     ]
    },
    {
     "data": {
      "text/plain": [
       "0.8939966636005579"
      ]
     },
     "execution_count": 35,
     "metadata": {},
     "output_type": "execute_result"
    }
   ],
   "source": [
    "import math\n",
    "dir(math)  # many methods\n",
    "help(math.sin)\n",
    "math.sin(90)"
   ]
  },
  {
   "cell_type": "code",
   "execution_count": 38,
   "id": "d337177c",
   "metadata": {},
   "outputs": [
    {
     "data": {
      "text/plain": [
       "3.141592653589793"
      ]
     },
     "execution_count": 38,
     "metadata": {},
     "output_type": "execute_result"
    }
   ],
   "source": [
    "# method name  pi : 3.14\n",
    "math.pi"
   ]
  },
  {
   "cell_type": "code",
   "execution_count": 39,
   "id": "9cb2d96f",
   "metadata": {},
   "outputs": [],
   "source": [
    "# package name: time\n",
    "import time"
   ]
  },
  {
   "cell_type": "code",
   "execution_count": 40,
   "id": "66f0275a",
   "metadata": {},
   "outputs": [
    {
     "data": {
      "text/plain": [
       "['_STRUCT_TM_ITEMS',\n",
       " '__doc__',\n",
       " '__loader__',\n",
       " '__name__',\n",
       " '__package__',\n",
       " '__spec__',\n",
       " 'altzone',\n",
       " 'asctime',\n",
       " 'ctime',\n",
       " 'daylight',\n",
       " 'get_clock_info',\n",
       " 'gmtime',\n",
       " 'localtime',\n",
       " 'mktime',\n",
       " 'monotonic',\n",
       " 'monotonic_ns',\n",
       " 'perf_counter',\n",
       " 'perf_counter_ns',\n",
       " 'process_time',\n",
       " 'process_time_ns',\n",
       " 'sleep',\n",
       " 'strftime',\n",
       " 'strptime',\n",
       " 'struct_time',\n",
       " 'thread_time',\n",
       " 'thread_time_ns',\n",
       " 'time',\n",
       " 'time_ns',\n",
       " 'timezone',\n",
       " 'tzname']"
      ]
     },
     "execution_count": 40,
     "metadata": {},
     "output_type": "execute_result"
    }
   ],
   "source": [
    "dir(time)"
   ]
  },
  {
   "cell_type": "code",
   "execution_count": 41,
   "id": "07134a0e",
   "metadata": {},
   "outputs": [
    {
     "name": "stdout",
     "output_type": "stream",
     "text": [
      "Help on built-in function sleep in module time:\n",
      "\n",
      "sleep(...)\n",
      "    sleep(seconds)\n",
      "    \n",
      "    Delay execution for a given number of seconds.  The argument may be\n",
      "    a floating point number for subsecond precision.\n",
      "\n"
     ]
    }
   ],
   "source": [
    "# method name : sleep\n",
    "help(time.sleep)"
   ]
  },
  {
   "cell_type": "code",
   "execution_count": 43,
   "id": "c26b016d",
   "metadata": {},
   "outputs": [
    {
     "name": "stdout",
     "output_type": "stream",
     "text": [
      "hello\n",
      "how are you\n"
     ]
    }
   ],
   "source": [
    "import time\n",
    "print(\"hello\")\n",
    "time.sleep(5)\n",
    "print(\"how are you\")"
   ]
  },
  {
   "cell_type": "code",
   "execution_count": null,
   "id": "ece8c380",
   "metadata": {},
   "outputs": [],
   "source": [
    "# package name: keyword\n",
    "# method name: kwlist  list of keywords"
   ]
  },
  {
   "cell_type": "code",
   "execution_count": 51,
   "id": "5713dc05",
   "metadata": {},
   "outputs": [
    {
     "data": {
      "text/plain": [
       "35"
      ]
     },
     "execution_count": 51,
     "metadata": {},
     "output_type": "execute_result"
    }
   ],
   "source": [
    "import keyword\n",
    "#dir(keyword)\n",
    "len(keyword.kwlist)"
   ]
  },
  {
   "cell_type": "code",
   "execution_count": null,
   "id": "8ca14393",
   "metadata": {},
   "outputs": [],
   "source": [
    "random\n",
    "\n",
    "math\n",
    "\n",
    "time\n",
    "\n",
    "keyword\n",
    "\n"
   ]
  },
  {
   "cell_type": "code",
   "execution_count": 52,
   "id": "5be76f29",
   "metadata": {},
   "outputs": [],
   "source": [
    "import random"
   ]
  },
  {
   "cell_type": "code",
   "execution_count": 53,
   "id": "a951675a",
   "metadata": {},
   "outputs": [
    {
     "data": {
      "text/plain": [
       "<module 'random' from 'C:\\\\Users\\\\omkar\\\\anaconda3\\\\Lib\\\\random.py'>"
      ]
     },
     "execution_count": 53,
     "metadata": {},
     "output_type": "execute_result"
    }
   ],
   "source": [
    "random"
   ]
  },
  {
   "cell_type": "code",
   "execution_count": 54,
   "id": "9d5bd42b",
   "metadata": {},
   "outputs": [
    {
     "data": {
      "text/plain": [
       "['BPF',\n",
       " 'LOG4',\n",
       " 'NV_MAGICCONST',\n",
       " 'RECIP_BPF',\n",
       " 'Random',\n",
       " 'SG_MAGICCONST',\n",
       " 'SystemRandom',\n",
       " 'TWOPI',\n",
       " '_ONE',\n",
       " '_Sequence',\n",
       " '_Set',\n",
       " '__all__',\n",
       " '__builtins__',\n",
       " '__cached__',\n",
       " '__doc__',\n",
       " '__file__',\n",
       " '__loader__',\n",
       " '__name__',\n",
       " '__package__',\n",
       " '__spec__',\n",
       " '_accumulate',\n",
       " '_acos',\n",
       " '_bisect',\n",
       " '_ceil',\n",
       " '_cos',\n",
       " '_e',\n",
       " '_exp',\n",
       " '_floor',\n",
       " '_index',\n",
       " '_inst',\n",
       " '_isfinite',\n",
       " '_log',\n",
       " '_os',\n",
       " '_pi',\n",
       " '_random',\n",
       " '_repeat',\n",
       " '_sha512',\n",
       " '_sin',\n",
       " '_sqrt',\n",
       " '_test',\n",
       " '_test_generator',\n",
       " '_urandom',\n",
       " '_warn',\n",
       " 'betavariate',\n",
       " 'choice',\n",
       " 'choices',\n",
       " 'expovariate',\n",
       " 'gammavariate',\n",
       " 'gauss',\n",
       " 'getrandbits',\n",
       " 'getstate',\n",
       " 'lognormvariate',\n",
       " 'normalvariate',\n",
       " 'paretovariate',\n",
       " 'randbytes',\n",
       " 'randint',\n",
       " 'random',\n",
       " 'randrange',\n",
       " 'sample',\n",
       " 'seed',\n",
       " 'setstate',\n",
       " 'shuffle',\n",
       " 'triangular',\n",
       " 'uniform',\n",
       " 'vonmisesvariate',\n",
       " 'weibullvariate']"
      ]
     },
     "execution_count": 54,
     "metadata": {},
     "output_type": "execute_result"
    }
   ],
   "source": [
    "dir(random)"
   ]
  },
  {
   "cell_type": "code",
   "execution_count": null,
   "id": "3744edfa",
   "metadata": {},
   "outputs": [],
   "source": [
    "# package name: random\n",
    "# method name: random"
   ]
  },
  {
   "cell_type": "code",
   "execution_count": 55,
   "id": "0b609224",
   "metadata": {},
   "outputs": [
    {
     "name": "stdout",
     "output_type": "stream",
     "text": [
      "Help on built-in function random:\n",
      "\n",
      "random() method of random.Random instance\n",
      "    random() -> x in the interval [0, 1).\n",
      "\n"
     ]
    }
   ],
   "source": [
    "help(random.random)"
   ]
  },
  {
   "cell_type": "code",
   "execution_count": 57,
   "id": "3cd013ac",
   "metadata": {},
   "outputs": [
    {
     "data": {
      "text/plain": [
       "0.7195485354415533"
      ]
     },
     "execution_count": 57,
     "metadata": {},
     "output_type": "execute_result"
    }
   ],
   "source": [
    "random.random()"
   ]
  },
  {
   "cell_type": "code",
   "execution_count": 56,
   "id": "f0a1a44b",
   "metadata": {},
   "outputs": [
    {
     "name": "stdout",
     "output_type": "stream",
     "text": [
      "Help on method randint in module random:\n",
      "\n",
      "randint(a, b) method of random.Random instance\n",
      "    Return random integer in range [a, b], including both end points.\n",
      "\n"
     ]
    }
   ],
   "source": [
    "help(random.randint)"
   ]
  },
  {
   "cell_type": "code",
   "execution_count": null,
   "id": "ad54166f",
   "metadata": {},
   "outputs": [],
   "source": [
    "cv2 is not there will install that"
   ]
  },
  {
   "cell_type": "markdown",
   "id": "efff7d87",
   "metadata": {},
   "source": [
    "- 90% packages  pip install <package_name>\n",
    "\n",
    "- take the help of google\n",
    "\n",
    "- you required internet connection\n",
    "\n"
   ]
  },
  {
   "cell_type": "code",
   "execution_count": 58,
   "id": "e6e05069",
   "metadata": {},
   "outputs": [],
   "source": [
    "import cv2"
   ]
  },
  {
   "cell_type": "code",
   "execution_count": null,
   "id": "5cf66b80",
   "metadata": {},
   "outputs": [],
   "source": [
    "#pip freeze  to display all the packages"
   ]
  },
  {
   "cell_type": "code",
   "execution_count": null,
   "id": "f3053dba",
   "metadata": {},
   "outputs": [],
   "source": [
    "################## EDA##################################\n",
    "1)Numpy :  maths applications \n",
    "2)Pandas :  Data base /tables applications\n",
    "3)matplotlib : plotting\n",
    "4)seaborn    : plotting\n",
    "    \n",
    "################### ML ################################\n",
    "5) Sickit-learn : sklearn\n",
    "    \n",
    "################# DL ###################################\n",
    "6) Tensorflow\n",
    "7) keras\n",
    "8) pytorch\n",
    "\n",
    "###################### NLP ##############################\n",
    "9) NLTK: Natural language tool kit\n",
    "10) Scipy\n",
    "\n",
    "####################### Cloud#########################\n",
    "11) Azure\n",
    "12) google\n",
    "13) aws\n",
    "\n",
    "####################### other third ################\n",
    "14) Transformers (hugging face)  BERT\n",
    "15) math\n",
    "16) random\n",
    "17) time\n",
    "18) pickle : to save the model\n",
    "19) joblib:  to save the model\n",
    "20) allen nlp company"
   ]
  },
  {
   "cell_type": "code",
   "execution_count": null,
   "id": "61ae48a2",
   "metadata": {},
   "outputs": [],
   "source": [
    "sir,we need to import package in every new session?"
   ]
  },
  {
   "cell_type": "code",
   "execution_count": null,
   "id": "41838ff0",
   "metadata": {},
   "outputs": [],
   "source": [
    "import package   code  this need to be run"
   ]
  },
  {
   "cell_type": "code",
   "execution_count": null,
   "id": "455f8fe0",
   "metadata": {},
   "outputs": [],
   "source": [
    "Sir, we need to import package in every session?\n",
    "or installing one time only will work?"
   ]
  },
  {
   "cell_type": "code",
   "execution_count": null,
   "id": "fb661efe",
   "metadata": {},
   "outputs": [],
   "source": [
    "one time installation is enough ======== in your laptop\n",
    "\n",
    "if you want tu use:  import"
   ]
  },
  {
   "cell_type": "code",
   "execution_count": null,
   "id": "57969caf",
   "metadata": {},
   "outputs": [],
   "source": [
    "# "
   ]
  }
 ],
 "metadata": {
  "kernelspec": {
   "display_name": "Python 3 (ipykernel)",
   "language": "python",
   "name": "python3"
  },
  "language_info": {
   "codemirror_mode": {
    "name": "ipython",
    "version": 3
   },
   "file_extension": ".py",
   "mimetype": "text/x-python",
   "name": "python",
   "nbconvert_exporter": "python",
   "pygments_lexer": "ipython3",
   "version": "3.11.5"
  }
 },
 "nbformat": 4,
 "nbformat_minor": 5
}
