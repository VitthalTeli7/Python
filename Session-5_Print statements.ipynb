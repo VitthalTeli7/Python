{
 "cells": [
  {
   "cell_type": "markdown",
   "id": "c765ddf4",
   "metadata": {},
   "source": [
    "**Print statements**"
   ]
  },
  {
   "cell_type": "code",
   "execution_count": 1,
   "id": "a0876549",
   "metadata": {},
   "outputs": [
    {
     "data": {
      "text/plain": [
       "10"
      ]
     },
     "execution_count": 1,
     "metadata": {},
     "output_type": "execute_result"
    }
   ],
   "source": [
    "num1=10\n",
    "num1"
   ]
  },
  {
   "cell_type": "code",
   "execution_count": 2,
   "id": "f1ea98e0",
   "metadata": {},
   "outputs": [
    {
     "name": "stdout",
     "output_type": "stream",
     "text": [
      "10\n"
     ]
    }
   ],
   "source": [
    "print(num1)"
   ]
  },
  {
   "cell_type": "code",
   "execution_count": 4,
   "id": "eca1e66c",
   "metadata": {},
   "outputs": [
    {
     "name": "stdout",
     "output_type": "stream",
     "text": [
      "10\n",
      "20\n"
     ]
    }
   ],
   "source": [
    "num1=10\n",
    "num2=20\n",
    "print(num1)\n",
    "print(num2)"
   ]
  },
  {
   "cell_type": "code",
   "execution_count": 7,
   "id": "11d4aa70",
   "metadata": {},
   "outputs": [
    {
     "name": "stdout",
     "output_type": "stream",
     "text": [
      "hai how -----\n"
     ]
    }
   ],
   "source": [
    "print(\"hai how -----\")"
   ]
  },
  {
   "cell_type": "code",
   "execution_count": 8,
   "id": "bb1a8c37",
   "metadata": {},
   "outputs": [
    {
     "name": "stdout",
     "output_type": "stream",
     "text": [
      "10 20 30\n"
     ]
    }
   ],
   "source": [
    "print(10,20,30)"
   ]
  },
  {
   "cell_type": "code",
   "execution_count": 9,
   "id": "9d77b4d5",
   "metadata": {},
   "outputs": [
    {
     "name": "stdout",
     "output_type": "stream",
     "text": [
      "10 and 20\n"
     ]
    }
   ],
   "source": [
    "print(10,'and',20)   #10 and 20"
   ]
  },
  {
   "cell_type": "code",
   "execution_count": 10,
   "id": "19f978af",
   "metadata": {},
   "outputs": [
    {
     "name": "stdout",
     "output_type": "stream",
     "text": [
      "10 and 20\n"
     ]
    }
   ],
   "source": [
    "print('10 and 20')"
   ]
  },
  {
   "cell_type": "code",
   "execution_count": 16,
   "id": "3f8c5933",
   "metadata": {},
   "outputs": [
    {
     "name": "stdout",
     "output_type": "stream",
     "text": [
      "10 20\n",
      "10 20\n",
      "10 and 20\n",
      "10 and 20\n",
      "10 and 20\n",
      "num1 and num2\n"
     ]
    }
   ],
   "source": [
    "num1=10\n",
    "num2=20\n",
    "print(num1,num2)\n",
    "print(10,20)\n",
    "print(num1,'and',num2)\n",
    "print(10,'and',20)\n",
    "print('10 and 20')\n",
    "print('num1 and num2')"
   ]
  },
  {
   "cell_type": "code",
   "execution_count": 24,
   "id": "7f011608",
   "metadata": {},
   "outputs": [
    {
     "name": "stdout",
     "output_type": "stream",
     "text": [
      "the addition of 10 and 20 is 30\n"
     ]
    }
   ],
   "source": [
    "a=10\n",
    "b=20\n",
    "c=a+b\n",
    "# the addition of 10 and 20 is 30\n",
    "print(\"the addition of\",a,'and',b,'is',c)"
   ]
  },
  {
   "cell_type": "code",
   "execution_count": null,
   "id": "c1aafc1f",
   "metadata": {},
   "outputs": [],
   "source": [
    "# take your name in a name variable\n",
    "# take your city in a city variable\n",
    "# take your age in a age variable\n",
    "# My name is python, im from hyd and im 10 years old"
   ]
  },
  {
   "cell_type": "code",
   "execution_count": 34,
   "id": "a922fcf5",
   "metadata": {},
   "outputs": [
    {
     "name": "stdout",
     "output_type": "stream",
     "text": [
      "my name is python\n",
      "im from hyd\n",
      "im 10 years old\n",
      "my name is python , im from hyd and im 10 years old.\n"
     ]
    }
   ],
   "source": [
    "name=\"python\"\n",
    "city=\"hyd\"\n",
    "age=10\n",
    "print(\"my name is\",name)\n",
    "print(\"im from\",city)\n",
    "print(\"im\",age,'years old')\n",
    "print(\"my name is\",name,',','im from',city,'and im',age,'years old.')"
   ]
  },
  {
   "cell_type": "markdown",
   "id": "e17ce389",
   "metadata": {},
   "source": [
    "$Method-2$\n",
    "\n",
    "**format**"
   ]
  },
  {
   "cell_type": "code",
   "execution_count": 39,
   "id": "f6f945cf",
   "metadata": {},
   "outputs": [
    {
     "name": "stdout",
     "output_type": "stream",
     "text": [
      "the addition of 10 and 20 is 30.\n"
     ]
    }
   ],
   "source": [
    "a=10\n",
    "b=20\n",
    "c=a+b\n",
    "\n",
    "# the addition of 10 and 20 is 30.\n",
    "\n",
    "print(\"the addition of {} and {} is {}.\".format(a,b,c))"
   ]
  },
  {
   "cell_type": "code",
   "execution_count": 45,
   "id": "638b733b",
   "metadata": {},
   "outputs": [
    {
     "name": "stdout",
     "output_type": "stream",
     "text": [
      "My name is python, im from hyd and im 10 years old\n"
     ]
    }
   ],
   "source": [
    "name='python'\n",
    "city='hyd'\n",
    "age=10\n",
    "print(\"My name is {}, im from {} and im {} years old\".format(name,city,age))"
   ]
  },
  {
   "cell_type": "markdown",
   "id": "daf77874",
   "metadata": {},
   "source": [
    "$Method-3$\n",
    "\n",
    "**f-string method**"
   ]
  },
  {
   "cell_type": "code",
   "execution_count": 48,
   "id": "75489ac6",
   "metadata": {},
   "outputs": [
    {
     "name": "stdout",
     "output_type": "stream",
     "text": [
      "the addition of 10 and 20 is 30\n"
     ]
    }
   ],
   "source": [
    "a=10\n",
    "b=20\n",
    "c=a+b\n",
    "\n",
    "# the addition of 10 and 20 is 30.\n",
    "\n",
    "print(f\"the addition of {a} and {b} is {c}\")"
   ]
  },
  {
   "cell_type": "code",
   "execution_count": 49,
   "id": "b2d55366",
   "metadata": {},
   "outputs": [
    {
     "name": "stdout",
     "output_type": "stream",
     "text": [
      "my name is python\n"
     ]
    }
   ],
   "source": [
    "name='python'\n",
    "print(f\"my name is {name}\")"
   ]
  },
  {
   "cell_type": "code",
   "execution_count": 50,
   "id": "3660f41f",
   "metadata": {},
   "outputs": [
    {
     "name": "stdout",
     "output_type": "stream",
     "text": [
      "My name is python, im from hyd and im 10 years old\n"
     ]
    }
   ],
   "source": [
    "name='python'\n",
    "city='hyd'\n",
    "age=10\n",
    "print(f\"My name is {name}, im from {city} and im {age} years old\")"
   ]
  },
  {
   "cell_type": "markdown",
   "id": "1ca67b07",
   "metadata": {},
   "source": [
    "$end$"
   ]
  },
  {
   "cell_type": "code",
   "execution_count": 57,
   "id": "b1c760d2",
   "metadata": {},
   "outputs": [
    {
     "name": "stdout",
     "output_type": "stream",
     "text": [
      "hai---->hello\n"
     ]
    }
   ],
   "source": [
    "print(\"hai\",end='---->')\n",
    "print('hello')\n"
   ]
  },
  {
   "cell_type": "code",
   "execution_count": 63,
   "id": "b377b32d",
   "metadata": {},
   "outputs": [
    {
     "name": "stdout",
     "output_type": "stream",
     "text": [
      "1 2 3\n"
     ]
    }
   ],
   "source": [
    "print(1,end=' ')\n",
    "print(2,end=' ')\n",
    "print(3)"
   ]
  },
  {
   "cell_type": "code",
   "execution_count": 67,
   "id": "461c9441",
   "metadata": {},
   "outputs": [
    {
     "name": "stdout",
     "output_type": "stream",
     "text": [
      "rupnath learning python\n"
     ]
    }
   ],
   "source": [
    "print('rupnath ',end='learning')\n",
    "print(' python')"
   ]
  },
  {
   "cell_type": "markdown",
   "id": "2cdb5a75",
   "metadata": {},
   "source": [
    "$sep$"
   ]
  },
  {
   "cell_type": "code",
   "execution_count": 72,
   "id": "95b2cdad",
   "metadata": {},
   "outputs": [
    {
     "name": "stdout",
     "output_type": "stream",
     "text": [
      "hello and hai\n",
      "helo and hai\n"
     ]
    }
   ],
   "source": [
    "print(\"hello\",'hai',sep=' and ')\n",
    "\n",
    "print(\"helo\",'and','hai')"
   ]
  },
  {
   "cell_type": "code",
   "execution_count": 75,
   "id": "fc8fa8ea",
   "metadata": {},
   "outputs": [
    {
     "name": "stdout",
     "output_type": "stream",
     "text": [
      "1--->2--->3--->4\n"
     ]
    }
   ],
   "source": [
    "print(1,2,3,4,sep='--->')\n",
    "# 1--->2--->3--->4"
   ]
  },
  {
   "cell_type": "markdown",
   "id": "86b678f9",
   "metadata": {},
   "source": [
    "- format\n",
    "\n",
    "- fstring\n",
    "\n",
    "- end\n",
    "\n",
    "- sep"
   ]
  },
  {
   "cell_type": "code",
   "execution_count": null,
   "id": "400975b9",
   "metadata": {},
   "outputs": [],
   "source": []
  }
 ],
 "metadata": {
  "kernelspec": {
   "display_name": "Python 3 (ipykernel)",
   "language": "python",
   "name": "python3"
  },
  "language_info": {
   "codemirror_mode": {
    "name": "ipython",
    "version": 3
   },
   "file_extension": ".py",
   "mimetype": "text/x-python",
   "name": "python",
   "nbconvert_exporter": "python",
   "pygments_lexer": "ipython3",
   "version": "3.11.5"
  }
 },
 "nbformat": 4,
 "nbformat_minor": 5
}
