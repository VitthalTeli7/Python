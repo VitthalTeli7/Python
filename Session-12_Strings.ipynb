{
 "cells": [
  {
   "cell_type": "code",
   "execution_count": null,
   "id": "618b1595",
   "metadata": {},
   "outputs": [],
   "source": [
    "Python  Part-1\n",
    "\n",
    "- Basic python codes\n",
    "\n",
    "- Packages\n",
    "\n",
    "- Conditional statements: Vaishnavi\n",
    "\n",
    "- Try-Exception\n",
    "\n",
    "- Functions: Banishree\n",
    "    - Functions with out arguments\n",
    "    - Functions with argumenrs\n",
    "    ======= 4 Ravi===========\n",
    "    - Default paramters\n",
    "    - return\n",
    "    - global vs local\n",
    "    - functions in functiom\n",
    "\n",
    "- For loop:sohel\n",
    "\n",
    "- While loop:suman\n",
    "    \n",
    "=========== Offline====================\n",
    "1)Vaishanvi: if-else\n",
    "2) Banishree: Functions(2)\n",
    "3) Ravi: Functions(4)\n",
    "4) Sohel: For loop\n",
    "5) Suman: while loop\n",
    "    \n",
    "    \n",
    "========== Online ===================\n",
    "1) Aysuh: if-else\n",
    "2) Reshma patil: Functions(2)\n",
    "3) Sathwik: Functions(4)\n",
    "4) Raghusai: For loop\n",
    "5) Sarita: while loop\n",
    "    \n",
    "    \n",
    "open jupyter notebook\n",
    "execute the code at home\n",
    "explain the same"
   ]
  },
  {
   "cell_type": "code",
   "execution_count": 1,
   "id": "b82e8dea",
   "metadata": {},
   "outputs": [],
   "source": [
    "name='python'\n",
    "\n",
    "# strings are in red colour: quotes\n",
    "# variable are in black colour\n",
    "# keywords are in green colour"
   ]
  },
  {
   "cell_type": "code",
   "execution_count": 2,
   "id": "3a9da043",
   "metadata": {},
   "outputs": [
    {
     "data": {
      "text/plain": [
       "str"
      ]
     },
     "execution_count": 2,
     "metadata": {},
     "output_type": "execute_result"
    }
   ],
   "source": [
    "type(name)"
   ]
  },
  {
   "cell_type": "code",
   "execution_count": 3,
   "id": "eef640bd",
   "metadata": {},
   "outputs": [
    {
     "data": {
      "text/plain": [
       "str"
      ]
     },
     "execution_count": 3,
     "metadata": {},
     "output_type": "execute_result"
    }
   ],
   "source": [
    "name1=\"python\"\n",
    "type(name1)"
   ]
  },
  {
   "cell_type": "code",
   "execution_count": 6,
   "id": "21dd0f47",
   "metadata": {},
   "outputs": [
    {
     "name": "stdout",
     "output_type": "stream",
     "text": [
      "python\n"
     ]
    }
   ],
   "source": [
    "print(name)  # careful with print statement"
   ]
  },
  {
   "cell_type": "code",
   "execution_count": 7,
   "id": "358ac369",
   "metadata": {},
   "outputs": [
    {
     "name": "stdout",
     "output_type": "stream",
     "text": [
      "python\n"
     ]
    }
   ],
   "source": [
    "print(name1) # careful with print statement"
   ]
  },
  {
   "cell_type": "code",
   "execution_count": 11,
   "id": "9f0484c3",
   "metadata": {},
   "outputs": [
    {
     "name": "stdout",
     "output_type": "stream",
     "text": [
      "i like \"python\"\n"
     ]
    }
   ],
   "source": [
    "name2='i like \"python\"'\n",
    "print(name2)\n",
    "# entire string in single quotes\n",
    "# python word is in double quotes"
   ]
  },
  {
   "cell_type": "code",
   "execution_count": 12,
   "id": "92ff4e25",
   "metadata": {},
   "outputs": [
    {
     "name": "stdout",
     "output_type": "stream",
     "text": [
      "i like 'python'\n"
     ]
    }
   ],
   "source": [
    "name3=\"i like 'python'\"\n",
    "print(name3)"
   ]
  },
  {
   "cell_type": "markdown",
   "id": "d0d5f500",
   "metadata": {},
   "source": [
    "$triple-quotes$"
   ]
  },
  {
   "cell_type": "markdown",
   "id": "bab12e52",
   "metadata": {},
   "source": [
    "- triple quotes meaning is doc string\n",
    "\n",
    "- if you want to convey the information to user\n",
    "\n",
    "- In jupyter notebook: markdown\n",
    "    \n",
    "- but in another platforms like Vscode, pycharm dont have markdown\n",
    "\n",
    "- at that place to convey the information we use triple quotes\n",
    "\n",
    "- that is called docstring"
   ]
  },
  {
   "cell_type": "code",
   "execution_count": null,
   "id": "3a31fcd9",
   "metadata": {},
   "outputs": [],
   "source": [
    "name4=\"\"\"python\"\"\""
   ]
  },
  {
   "cell_type": "code",
   "execution_count": 13,
   "id": "aecece4f",
   "metadata": {},
   "outputs": [],
   "source": [
    "import random\n",
    "random.randint()"
   ]
  },
  {
   "cell_type": "markdown",
   "id": "1feee076",
   "metadata": {},
   "source": [
    "- type\n",
    "\n",
    "- max\n",
    "\n",
    "- min\n",
    "\n",
    "- len\n",
    "\n",
    "- reversed\n",
    "\n",
    "- sorted"
   ]
  },
  {
   "cell_type": "code",
   "execution_count": 14,
   "id": "5e55054e",
   "metadata": {},
   "outputs": [
    {
     "data": {
      "text/plain": [
       "'y'"
      ]
     },
     "execution_count": 14,
     "metadata": {},
     "output_type": "execute_result"
    }
   ],
   "source": [
    "name='python'\n",
    "max(name)\n",
    "\n",
    "# keyword(<variable_name>)\n",
    "# print(name)\n",
    "# type(name)"
   ]
  },
  {
   "cell_type": "markdown",
   "id": "db996adf",
   "metadata": {},
   "source": [
    "$ASCII$\n",
    "\n",
    "- American Standard Code Information Interchange\n",
    "\n",
    "- A: 65\n",
    "    \n",
    "- a: 97\n",
    "    "
   ]
  },
  {
   "cell_type": "markdown",
   "id": "badb167a",
   "metadata": {},
   "source": [
    "$ord$-$chr$"
   ]
  },
  {
   "cell_type": "code",
   "execution_count": 19,
   "id": "17fcbae0",
   "metadata": {},
   "outputs": [
    {
     "data": {
      "text/plain": [
       "(112, 121, 116, 104, 110)"
      ]
     },
     "execution_count": 19,
     "metadata": {},
     "output_type": "execute_result"
    }
   ],
   "source": [
    "ord('p'),ord('y'),ord('t'),ord('h'),ord('n')"
   ]
  },
  {
   "cell_type": "code",
   "execution_count": 20,
   "id": "7ef080b0",
   "metadata": {},
   "outputs": [
    {
     "data": {
      "text/plain": [
       "'y'"
      ]
     },
     "execution_count": 20,
     "metadata": {},
     "output_type": "execute_result"
    }
   ],
   "source": [
    "max('python')"
   ]
  },
  {
   "cell_type": "code",
   "execution_count": 21,
   "id": "3d5dd0ed",
   "metadata": {},
   "outputs": [
    {
     "data": {
      "text/plain": [
       "'h'"
      ]
     },
     "execution_count": 21,
     "metadata": {},
     "output_type": "execute_result"
    }
   ],
   "source": [
    "min('python')"
   ]
  },
  {
   "cell_type": "code",
   "execution_count": 24,
   "id": "5dd728c6",
   "metadata": {},
   "outputs": [
    {
     "data": {
      "text/plain": [
       "('p', 112)"
      ]
     },
     "execution_count": 24,
     "metadata": {},
     "output_type": "execute_result"
    }
   ],
   "source": [
    "chr(112),ord('p')"
   ]
  },
  {
   "cell_type": "code",
   "execution_count": 27,
   "id": "07e09f09",
   "metadata": {},
   "outputs": [
    {
     "data": {
      "text/plain": [
       "'3'"
      ]
     },
     "execution_count": 27,
     "metadata": {},
     "output_type": "execute_result"
    }
   ],
   "source": [
    "str1='123-100'\n",
    "max(str1)"
   ]
  },
  {
   "cell_type": "code",
   "execution_count": 29,
   "id": "78fdf9b4",
   "metadata": {},
   "outputs": [
    {
     "data": {
      "text/plain": [
       "(45, 51)"
      ]
     },
     "execution_count": 29,
     "metadata": {},
     "output_type": "execute_result"
    }
   ],
   "source": [
    "ord('-'),ord('3')"
   ]
  },
  {
   "cell_type": "code",
   "execution_count": 35,
   "id": "a634ca1e",
   "metadata": {},
   "outputs": [
    {
     "name": "stdout",
     "output_type": "stream",
     "text": [
      "33 = !,34 = \",35 = #,36 = $,37 = %,38 = &,39 = ',40 = (,41 = ),42 = *,43 = +,44 = ,,45 = -,46 = .,47 = /,48 = 0,49 = 1,50 = 2,51 = 3,52 = 4,53 = 5,54 = 6,55 = 7,56 = 8,57 = 9,58 = :,59 = ;,60 = <,61 = =,62 = >,63 = ?,64 = @,65 = A,66 = B,67 = C,68 = D,69 = E,70 = F,71 = G,72 = H,73 = I,74 = J,75 = K,76 = L,77 = M,78 = N,79 = O,80 = P,81 = Q,82 = R,83 = S,84 = T,85 = U,86 = V,87 = W,88 = X,89 = Y,90 = Z,91 = [,92 = \\,93 = ],94 = ^,95 = _,96 = `,97 = a,98 = b,99 = c,100 = d,101 = e,102 = f,103 = g,104 = h,105 = i,106 = j,107 = k,108 = l,109 = m,110 = n,111 = o,112 = p,113 = q,114 = r,115 = s,116 = t,117 = u,118 = v,119 = w,120 = x,121 = y,122 = z,123 = {,124 = |,125 = },126 = ~,127 = ,"
     ]
    }
   ],
   "source": [
    "# How many ascii values are existing\n",
    "for i in range(33,128):\n",
    "    print(i,'=',chr(i),end=',')"
   ]
  },
  {
   "cell_type": "code",
   "execution_count": 36,
   "id": "a020e69f",
   "metadata": {},
   "outputs": [
    {
     "data": {
      "text/plain": [
       "False"
      ]
     },
     "execution_count": 36,
     "metadata": {},
     "output_type": "execute_result"
    }
   ],
   "source": [
    "'Banana'>'banana'   # 'B': 66   'b':99  66>99"
   ]
  },
  {
   "cell_type": "code",
   "execution_count": 37,
   "id": "956c25e6",
   "metadata": {},
   "outputs": [
    {
     "data": {
      "text/plain": [
       "True"
      ]
     },
     "execution_count": 37,
     "metadata": {},
     "output_type": "execute_result"
    }
   ],
   "source": [
    "'Banana'>'BAnana' # a='97'   'A':65  "
   ]
  },
  {
   "cell_type": "markdown",
   "id": "5b513675",
   "metadata": {},
   "source": [
    "$len$"
   ]
  },
  {
   "cell_type": "code",
   "execution_count": 39,
   "id": "750479c8",
   "metadata": {},
   "outputs": [
    {
     "data": {
      "text/plain": [
       "13"
      ]
     },
     "execution_count": 39,
     "metadata": {},
     "output_type": "execute_result"
    }
   ],
   "source": [
    "str1='i like python'\n",
    "len(str1)"
   ]
  },
  {
   "cell_type": "code",
   "execution_count": 45,
   "id": "eda78e5e",
   "metadata": {},
   "outputs": [
    {
     "data": {
      "text/plain": [
       "0"
      ]
     },
     "execution_count": 45,
     "metadata": {},
     "output_type": "execute_result"
    }
   ],
   "source": [
    "str2=''   # empty string\n",
    "len(str2)"
   ]
  },
  {
   "cell_type": "code",
   "execution_count": 46,
   "id": "0f334374",
   "metadata": {},
   "outputs": [
    {
     "data": {
      "text/plain": [
       "1"
      ]
     },
     "execution_count": 46,
     "metadata": {},
     "output_type": "execute_result"
    }
   ],
   "source": [
    "str3=' '   # it has one space\n",
    "len(str3)"
   ]
  },
  {
   "cell_type": "code",
   "execution_count": 47,
   "id": "2b02a04c",
   "metadata": {},
   "outputs": [
    {
     "data": {
      "text/plain": [
       "<reversed at 0x19be6fc48b0>"
      ]
     },
     "execution_count": 47,
     "metadata": {},
     "output_type": "execute_result"
    }
   ],
   "source": [
    "reversed('python')\n",
    "\n",
    "# <output is stored inherently>\n",
    "# we use the for loop to get the output"
   ]
  },
  {
   "cell_type": "markdown",
   "id": "f2c0ced5",
   "metadata": {},
   "source": [
    "$in$"
   ]
  },
  {
   "cell_type": "code",
   "execution_count": 52,
   "id": "45e5e96a",
   "metadata": {},
   "outputs": [
    {
     "name": "stdout",
     "output_type": "stream",
     "text": [
      "p\n",
      "y\n",
      "t\n",
      "h\n",
      "o\n",
      "n\n"
     ]
    }
   ],
   "source": [
    "'p' in 'python'\n",
    "'y' in 'python'\n",
    "'t' in 'python'\n",
    "'h' in 'python'\n",
    "'o' in 'python'\n",
    "'n' in 'python'\n",
    "\n",
    "for i in 'python':\n",
    "    print(i)"
   ]
  },
  {
   "cell_type": "code",
   "execution_count": 54,
   "id": "3a96d763",
   "metadata": {},
   "outputs": [
    {
     "name": "stdout",
     "output_type": "stream",
     "text": [
      "n\n",
      "o\n",
      "h\n",
      "t\n",
      "y\n",
      "p\n"
     ]
    }
   ],
   "source": [
    "for i in reversed('python'):\n",
    "    print(i)"
   ]
  },
  {
   "cell_type": "code",
   "execution_count": 53,
   "id": "729caa05",
   "metadata": {},
   "outputs": [
    {
     "data": {
      "text/plain": [
       "<reversed at 0x19be6fc5360>"
      ]
     },
     "execution_count": 53,
     "metadata": {},
     "output_type": "execute_result"
    }
   ],
   "source": [
    "reversed('python')"
   ]
  },
  {
   "cell_type": "code",
   "execution_count": 56,
   "id": "df6c926b",
   "metadata": {},
   "outputs": [
    {
     "name": "stdout",
     "output_type": "stream",
     "text": [
      "a\n",
      "p\n",
      "p\n",
      "l\n",
      "e\n"
     ]
    }
   ],
   "source": [
    "s1='apple'\n",
    "for i in s1:\n",
    "    print(i)"
   ]
  },
  {
   "cell_type": "code",
   "execution_count": null,
   "id": "d3fc81c1",
   "metadata": {},
   "outputs": [],
   "source": []
  },
  {
   "cell_type": "code",
   "execution_count": 57,
   "id": "90f6480f",
   "metadata": {},
   "outputs": [
    {
     "data": {
      "text/plain": [
       "['h', 'n', 'o', 'p', 't', 'y']"
      ]
     },
     "execution_count": 57,
     "metadata": {},
     "output_type": "execute_result"
    }
   ],
   "source": [
    "sorted('python') \n",
    "# by default reverse=False: acending order\n",
    "# sorted keyword sort the letters\n",
    "# [104,110,111,112,116,121]"
   ]
  },
  {
   "cell_type": "code",
   "execution_count": 61,
   "id": "8495a281",
   "metadata": {},
   "outputs": [
    {
     "data": {
      "text/plain": [
       "['y', 't', 'p', 'o', 'n', 'h']"
      ]
     },
     "execution_count": 61,
     "metadata": {},
     "output_type": "execute_result"
    }
   ],
   "source": [
    "sorted('python',reverse=True)"
   ]
  },
  {
   "cell_type": "code",
   "execution_count": 60,
   "id": "bd13c8f1",
   "metadata": {},
   "outputs": [
    {
     "name": "stdout",
     "output_type": "stream",
     "text": [
      "p 112\n",
      "y 121\n",
      "t 116\n",
      "h 104\n",
      "o 111\n",
      "n 110\n"
     ]
    }
   ],
   "source": [
    "for i in 'python':\n",
    "    print(i,ord(i))"
   ]
  },
  {
   "cell_type": "code",
   "execution_count": null,
   "id": "febf8d8d",
   "metadata": {},
   "outputs": [],
   "source": [
    "- type\n",
    "\n",
    "- max\n",
    "\n",
    "- min\n",
    "\n",
    "    - ord\n",
    "\n",
    "    - chr\n",
    "\n",
    "- len\n",
    "\n",
    "- reversed \n",
    "\n",
    "- in\n",
    "\n",
    "- sorted"
   ]
  },
  {
   "cell_type": "code",
   "execution_count": 65,
   "id": "41abce34",
   "metadata": {},
   "outputs": [
    {
     "data": {
      "text/plain": [
       "'helopython'"
      ]
     },
     "execution_count": 65,
     "metadata": {},
     "output_type": "execute_result"
    }
   ],
   "source": [
    "str1='hello'\n",
    "str2='python'\n",
    "\n",
    "# Concatenation\n",
    "str1+' '+str2\n",
    "\n",
    "'helo'+'python'\n"
   ]
  },
  {
   "cell_type": "code",
   "execution_count": 66,
   "id": "47b4286c",
   "metadata": {},
   "outputs": [
    {
     "ename": "TypeError",
     "evalue": "unsupported operand type(s) for -: 'str' and 'str'",
     "output_type": "error",
     "traceback": [
      "\u001b[1;31m---------------------------------------------------------------------------\u001b[0m",
      "\u001b[1;31mTypeError\u001b[0m                                 Traceback (most recent call last)",
      "Cell \u001b[1;32mIn[66], line 1\u001b[0m\n\u001b[1;32m----> 1\u001b[0m str1\u001b[38;5;241m-\u001b[39mstr2\n",
      "\u001b[1;31mTypeError\u001b[0m: unsupported operand type(s) for -: 'str' and 'str'"
     ]
    }
   ],
   "source": [
    "str1-str2"
   ]
  },
  {
   "cell_type": "code",
   "execution_count": 67,
   "id": "e244619b",
   "metadata": {},
   "outputs": [
    {
     "ename": "TypeError",
     "evalue": "can't multiply sequence by non-int of type 'str'",
     "output_type": "error",
     "traceback": [
      "\u001b[1;31m---------------------------------------------------------------------------\u001b[0m",
      "\u001b[1;31mTypeError\u001b[0m                                 Traceback (most recent call last)",
      "Cell \u001b[1;32mIn[67], line 1\u001b[0m\n\u001b[1;32m----> 1\u001b[0m str1\u001b[38;5;241m*\u001b[39mstr2\n",
      "\u001b[1;31mTypeError\u001b[0m: can't multiply sequence by non-int of type 'str'"
     ]
    }
   ],
   "source": [
    "str1*str2   \n",
    "# str and str\n",
    "# non int type and str"
   ]
  },
  {
   "cell_type": "code",
   "execution_count": 68,
   "id": "ee71429c",
   "metadata": {},
   "outputs": [
    {
     "data": {
      "text/plain": [
       "'pythonpythonpython'"
      ]
     },
     "execution_count": 68,
     "metadata": {},
     "output_type": "execute_result"
    }
   ],
   "source": [
    "3*str2   "
   ]
  },
  {
   "cell_type": "code",
   "execution_count": 69,
   "id": "532222f8",
   "metadata": {},
   "outputs": [
    {
     "ename": "TypeError",
     "evalue": "unsupported operand type(s) for /: 'str' and 'str'",
     "output_type": "error",
     "traceback": [
      "\u001b[1;31m---------------------------------------------------------------------------\u001b[0m",
      "\u001b[1;31mTypeError\u001b[0m                                 Traceback (most recent call last)",
      "Cell \u001b[1;32mIn[69], line 1\u001b[0m\n\u001b[1;32m----> 1\u001b[0m str1\u001b[38;5;241m/\u001b[39mstr2\n",
      "\u001b[1;31mTypeError\u001b[0m: unsupported operand type(s) for /: 'str' and 'str'"
     ]
    }
   ],
   "source": [
    "str1/str2"
   ]
  },
  {
   "cell_type": "code",
   "execution_count": null,
   "id": "046c346d",
   "metadata": {},
   "outputs": [],
   "source": [
    "- type\n",
    "\n",
    "- max\n",
    "\n",
    "- min\n",
    "\n",
    "    - ord\n",
    "\n",
    "    - chr\n",
    "\n",
    "- len\n",
    "\n",
    "- reversed \n",
    "\n",
    "- in\n",
    "\n",
    "- sorted\n",
    "\n",
    "- concatenation"
   ]
  },
  {
   "cell_type": "markdown",
   "id": "e7f7e55b",
   "metadata": {},
   "source": [
    "$index$"
   ]
  },
  {
   "cell_type": "markdown",
   "id": "e6d56f59",
   "metadata": {},
   "source": [
    "**In python index start with zero**"
   ]
  },
  {
   "cell_type": "code",
   "execution_count": 71,
   "id": "448e1f55",
   "metadata": {},
   "outputs": [
    {
     "data": {
      "text/plain": [
       "'python'"
      ]
     },
     "execution_count": 71,
     "metadata": {},
     "output_type": "execute_result"
    }
   ],
   "source": [
    "str1='python'\n",
    "\n",
    "#-6  -5  -4   -3    -2   -1\n",
    "#p   y    t    h    o    n\n",
    "#0   1    2    3    4    5\n",
    "\n",
    "str1"
   ]
  },
  {
   "cell_type": "code",
   "execution_count": 81,
   "id": "df950492",
   "metadata": {},
   "outputs": [
    {
     "name": "stdout",
     "output_type": "stream",
     "text": [
      "p\n",
      "y\n",
      "t\n",
      "h\n",
      "o\n",
      "n\n"
     ]
    }
   ],
   "source": [
    "str1[0]  # 'p'\n",
    "str1[1]  # 'y'\n",
    "str1[2]  # 't'\n",
    "str1[3]  # 'h'\n",
    "str1[4]  # 'o'\n",
    "str1[5]  # 'n'\n",
    "\n",
    "for i in range(6):\n",
    "    print(str1[i])"
   ]
  },
  {
   "cell_type": "code",
   "execution_count": 82,
   "id": "45538804",
   "metadata": {},
   "outputs": [],
   "source": [
    "str1='python'\n",
    "# I want to iterate this \n",
    "# in : i means direct letter\n",
    "# range : i means number"
   ]
  },
  {
   "cell_type": "code",
   "execution_count": 83,
   "id": "a8e9ec77",
   "metadata": {},
   "outputs": [
    {
     "name": "stdout",
     "output_type": "stream",
     "text": [
      "p y t h o n "
     ]
    }
   ],
   "source": [
    "str1='python'\n",
    "for i in str1:\n",
    "    print(i,end=' ')"
   ]
  },
  {
   "cell_type": "code",
   "execution_count": 87,
   "id": "b49cbe79",
   "metadata": {},
   "outputs": [
    {
     "name": "stdout",
     "output_type": "stream",
     "text": [
      "p y t h o n "
     ]
    }
   ],
   "source": [
    "str1='python'\n",
    "for i in range(6):\n",
    "    print(str1[i],end=' ')"
   ]
  },
  {
   "cell_type": "code",
   "execution_count": 89,
   "id": "770f7ea3",
   "metadata": {},
   "outputs": [
    {
     "name": "stdout",
     "output_type": "stream",
     "text": [
      "p y t h o n p y t h o n "
     ]
    }
   ],
   "source": [
    "str1='python'\n",
    "for i in str1:\n",
    "    print(i,end=' ')\n",
    "    \n",
    "    \n",
    "str1='python'\n",
    "for i in range(6):\n",
    "    print(str1[i],end=' ')    "
   ]
  },
  {
   "cell_type": "markdown",
   "id": "c047b67d",
   "metadata": {},
   "source": [
    "$in$-$range$"
   ]
  },
  {
   "cell_type": "code",
   "execution_count": null,
   "id": "04e6ccbe",
   "metadata": {},
   "outputs": [],
   "source": [
    "in=====i== > direct char\n",
    "range === i number"
   ]
  },
  {
   "cell_type": "code",
   "execution_count": 4,
   "id": "fb9df6cd",
   "metadata": {},
   "outputs": [
    {
     "name": "stdout",
     "output_type": "stream",
     "text": [
      "0 p\n",
      "1 y\n",
      "2 t\n",
      "3 h\n",
      "4 o\n",
      "5 n\n"
     ]
    }
   ],
   "source": [
    "string1='python'\n",
    "n=len(string1)\n",
    "for i in range(n):\n",
    "    print(i,string1[i])"
   ]
  },
  {
   "cell_type": "code",
   "execution_count": 8,
   "id": "693455b6",
   "metadata": {},
   "outputs": [
    {
     "name": "stdout",
     "output_type": "stream",
     "text": [
      "the postive index of p is 0\n",
      "the postive index of y is 1\n",
      "the postive index of t is 2\n",
      "the postive index of h is 3\n",
      "the postive index of o is 4\n",
      "the postive index of n is 5\n"
     ]
    }
   ],
   "source": [
    "#WAP print the index of a given string\n",
    "# str1='python'\n",
    "# o/p:  the index of p is 0\n",
    "#       the index of y is 1\n",
    "\n",
    "string1='python'\n",
    "n=len(string1)\n",
    "for i in range(n):\n",
    "    #print(i,string1[i])\n",
    "    print(f\"the postive index of {string1[i]} is {i}\")"
   ]
  },
  {
   "cell_type": "code",
   "execution_count": 14,
   "id": "52b1ffb8",
   "metadata": {},
   "outputs": [
    {
     "name": "stdout",
     "output_type": "stream",
     "text": [
      "the negative index of p is -6\n",
      "the negative index of y is -5\n",
      "the negative index of t is -4\n",
      "the negative index of h is -3\n",
      "the negative index of o is -2\n",
      "the negative index of n is -1\n"
     ]
    }
   ],
   "source": [
    "# o/p:  the negative index of p is -6\n",
    "#       the negative index of y is -5\n",
    "# try to print -6  to -1\n",
    "string1='python'\n",
    "n=len(string1)\n",
    "#print(n) # 6   -6  n=== >  -n\n",
    "for i in range(-n,0):\n",
    "    #print(i,string1[i])\n",
    "    print(f\"the negative index of {string1[i]} is {i}\")"
   ]
  },
  {
   "cell_type": "code",
   "execution_count": null,
   "id": "99251398",
   "metadata": {},
   "outputs": [],
   "source": [
    "string1='python'\n",
    "n=len(string1)\n",
    "for i in range(n): # 0 to len(string)-1\n",
    "    print(f\"the postive index of {string1[i]} is {i}\")\n",
    "    \n",
    "for i in range(-n,0): # -len(string) to -1\n",
    "    print(f\"the negative index of {string1[i]} is {i}\")"
   ]
  },
  {
   "cell_type": "markdown",
   "id": "6dc4f02a",
   "metadata": {},
   "source": [
    "- Postive:  0 to len(string1)-1\n",
    "    \n",
    "    - range(0,len(string1))\n",
    "    \n",
    "    - start=0   end= last-1 : len(string1)-1\n",
    "        \n",
    "    \n",
    "- Negative: -len(string1) to -1\n",
    "    \n",
    "    - range(-len(string1),0)\n",
    "    \n",
    "    - start= -len(string1), end= last-1  0-1=-1    \n"
   ]
  },
  {
   "cell_type": "code",
   "execution_count": 15,
   "id": "7c87000a",
   "metadata": {
    "scrolled": false
   },
   "outputs": [
    {
     "name": "stdout",
     "output_type": "stream",
     "text": [
      "the postive index of h is 0\n",
      "the postive index of e is 1\n",
      "the postive index of l is 2\n",
      "the postive index of l is 3\n",
      "the postive index of o is 4\n",
      "the postive index of   is 5\n",
      "the postive index of h is 6\n",
      "the postive index of o is 7\n",
      "the postive index of w is 8\n",
      "the postive index of   is 9\n",
      "the postive index of a is 10\n",
      "the postive index of r is 11\n",
      "the postive index of e is 12\n",
      "the postive index of   is 13\n",
      "the postive index of y is 14\n",
      "the postive index of o is 15\n",
      "the postive index of u is 16\n"
     ]
    }
   ],
   "source": [
    "s1=\"hello how are you\"\n",
    "n=len(s1)\n",
    "for i in range(n):\n",
    "    print(f\"the postive index of {s1[i]} is {i}\")"
   ]
  },
  {
   "cell_type": "code",
   "execution_count": 16,
   "id": "6762916e",
   "metadata": {},
   "outputs": [
    {
     "name": "stdout",
     "output_type": "stream",
     "text": [
      "the negative index of h is -17\n",
      "the negative index of e is -16\n",
      "the negative index of l is -15\n",
      "the negative index of l is -14\n",
      "the negative index of o is -13\n",
      "the negative index of   is -12\n",
      "the negative index of h is -11\n",
      "the negative index of o is -10\n",
      "the negative index of w is -9\n",
      "the negative index of   is -8\n",
      "the negative index of a is -7\n",
      "the negative index of r is -6\n",
      "the negative index of e is -5\n",
      "the negative index of   is -4\n",
      "the negative index of y is -3\n",
      "the negative index of o is -2\n",
      "the negative index of u is -1\n"
     ]
    }
   ],
   "source": [
    "for i in range(-n,0): # -len(string) to -1\n",
    "    print(f\"the negative index of {s1[i]} is {i}\")"
   ]
  },
  {
   "cell_type": "code",
   "execution_count": 21,
   "id": "fcc03c2b",
   "metadata": {},
   "outputs": [
    {
     "name": "stdout",
     "output_type": "stream",
     "text": [
      "0 -6\n",
      "1 -5\n",
      "2 -4\n",
      "3 -3\n",
      "4 -2\n",
      "5 -1\n"
     ]
    }
   ],
   "source": [
    "# the postive index is 0 and negative index is -6 for p\n",
    "# the postive index is 1 and negative index is -5 for y\n",
    "s1='python'\n",
    "n=len(s1) # 6\n",
    "for i in range(n):\n",
    "    print(i,i-n)"
   ]
  },
  {
   "cell_type": "code",
   "execution_count": null,
   "id": "2a7b67a0",
   "metadata": {},
   "outputs": [],
   "source": [
    "# Task is implemenent the same\n",
    "# q1) Positive index\n",
    "# q2) negative index\n",
    "# q3) posand neg together\n",
    "# using while loop\n",
    "# screenshot in whatsapp group"
   ]
  },
  {
   "cell_type": "code",
   "execution_count": 23,
   "id": "24191ecc",
   "metadata": {},
   "outputs": [
    {
     "name": "stdout",
     "output_type": "stream",
     "text": [
      "the total number of 'a' are: 2\n"
     ]
    }
   ],
   "source": [
    "# WAP find the number of 'a' present in a given string\n",
    "# s1='hello how are you i am good'\n",
    "# ans: 2\n",
    "\n",
    "# count=0\n",
    "# Idea: iterat using for loop\n",
    "#       get each letter\n",
    "#       whenever that letter equal to a\n",
    "#       count= count+1\n",
    "\n",
    "s1='hello how are you i am good'\n",
    "count=0\n",
    "for i in s1:\n",
    "    if i=='a': # a==a\n",
    "        count=count+1\n",
    "        \n",
    "print(\"the total number of 'a' are:\",count)"
   ]
  },
  {
   "cell_type": "code",
   "execution_count": 26,
   "id": "a93a768a",
   "metadata": {},
   "outputs": [
    {
     "name": "stdout",
     "output_type": "stream",
     "text": [
      "10\n",
      "20\n"
     ]
    }
   ],
   "source": [
    "# WAP find the indexes of 'a' present in a given string\n",
    "# s1='hello how are you i am good'\n",
    "# ans:10,20\n",
    "\n",
    "# idea: iterate the loop using range\n",
    "#       automaticall i becomes number\n",
    "#       condition\n",
    "#       print only i\n",
    "\n",
    "s1='hello how are you i am good'\n",
    "for i in range(len(s1)):\n",
    "    if s1[i]=='a':\n",
    "        print(i)"
   ]
  },
  {
   "cell_type": "code",
   "execution_count": null,
   "id": "0eb2a017",
   "metadata": {},
   "outputs": [],
   "source": [
    "s1='hello how are you i am good'\n",
    "count=0\n",
    "for i in s1:\n",
    "    if i=='a': # a==a\n",
    "        count=count+1\n",
    "        \n",
    "print(\"the total number of 'a' are:\",count)\n",
    "\n",
    "\n",
    "s1='hello how are you i am good'\n",
    "for i in range(len(s1)):\n",
    "    if s1[i]=='a':\n",
    "        print(i)"
   ]
  },
  {
   "cell_type": "code",
   "execution_count": 28,
   "id": "0e71525d",
   "metadata": {},
   "outputs": [
    {
     "name": "stdout",
     "output_type": "stream",
     "text": [
      "e\n",
      "o\n",
      "o\n",
      "a\n",
      "e\n",
      "o\n",
      "u\n",
      "i\n",
      "a\n",
      "o\n",
      "o\n"
     ]
    }
   ],
   "source": [
    "#WAP ask the user find the number vowels in a given string\n",
    "# s1='hello how are you'\n",
    "\n",
    "s1='hello how are you i am good'\n",
    "for i in range(len(s1)):\n",
    "    if s1[i]=='a' or s1[i]=='e' or s1[i]=='i' or s1[i]=='o' or s1[i]=='u':\n",
    "        print(s1[i])"
   ]
  },
  {
   "cell_type": "code",
   "execution_count": 29,
   "id": "78a53096",
   "metadata": {},
   "outputs": [
    {
     "name": "stdout",
     "output_type": "stream",
     "text": [
      "the number of vowels are: 11\n"
     ]
    }
   ],
   "source": [
    "s1='hello how are you i am good'\n",
    "count=0\n",
    "for i in range(len(s1)):\n",
    "    if s1[i] in 'aeiou':\n",
    "        count=count+1\n",
    "print(\"the number of vowels are:\",count)"
   ]
  },
  {
   "cell_type": "markdown",
   "id": "e924eb7d",
   "metadata": {},
   "source": [
    "- Postive index\n",
    "\n",
    "- Negative index\n",
    "\n",
    "- Postive and Negative\n",
    "\n",
    "- Number of 'a'\n",
    "\n",
    "- Index of  'a'\n",
    "\n",
    "- Vowels in a given string  "
   ]
  },
  {
   "cell_type": "code",
   "execution_count": 31,
   "id": "b464fecc",
   "metadata": {},
   "outputs": [
    {
     "name": "stdout",
     "output_type": "stream",
     "text": [
      "1\n"
     ]
    }
   ],
   "source": [
    "# In the above problem vowels are repating\n",
    "# you need to print only single vowel\n",
    "s1='abca'\n",
    "s2=''\n",
    "for i in s1: \n",
    "    if i in 'aeiou': \n",
    "        if i not in s2: \n",
    "            s2=s2+i     \n",
    "            \n",
    "print(len(s2))"
   ]
  },
  {
   "cell_type": "markdown",
   "id": "b4f78a01",
   "metadata": {},
   "source": [
    "$mutable$-$immutable$"
   ]
  },
  {
   "cell_type": "markdown",
   "id": "5a1a7fba",
   "metadata": {},
   "source": [
    "- Mutable:Change the element by using index operation"
   ]
  },
  {
   "cell_type": "code",
   "execution_count": null,
   "id": "1702a834",
   "metadata": {},
   "outputs": [],
   "source": [
    "s1='hello'\n",
    "\n",
    "# can we change 'l' to 'L'\n",
    "#s1='heLlo'\n",
    "# will you achieve this by using index operation"
   ]
  },
  {
   "cell_type": "code",
   "execution_count": 35,
   "id": "1f4467d1",
   "metadata": {},
   "outputs": [
    {
     "ename": "TypeError",
     "evalue": "'str' object does not support item assignment",
     "output_type": "error",
     "traceback": [
      "\u001b[1;31m---------------------------------------------------------------------------\u001b[0m",
      "\u001b[1;31mTypeError\u001b[0m                                 Traceback (most recent call last)",
      "Cell \u001b[1;32mIn[35], line 2\u001b[0m\n\u001b[0;32m      1\u001b[0m s1\u001b[38;5;241m=\u001b[39m\u001b[38;5;124m'\u001b[39m\u001b[38;5;124mhello\u001b[39m\u001b[38;5;124m'\u001b[39m\n\u001b[1;32m----> 2\u001b[0m s1[\u001b[38;5;241m2\u001b[39m]\u001b[38;5;241m=\u001b[39m\u001b[38;5;124m'\u001b[39m\u001b[38;5;124mL\u001b[39m\u001b[38;5;124m'\u001b[39m\n",
      "\u001b[1;31mTypeError\u001b[0m: 'str' object does not support item assignment"
     ]
    }
   ],
   "source": [
    "s1='hello'\n",
    "s1[2]='L'"
   ]
  },
  {
   "cell_type": "markdown",
   "id": "b0595cab",
   "metadata": {},
   "source": [
    "**Note**\n",
    "\n",
    "- Strings are immutable"
   ]
  },
  {
   "cell_type": "code",
   "execution_count": 37,
   "id": "e42eff6b",
   "metadata": {},
   "outputs": [],
   "source": [
    "l1=[1,2,3]  # 2 to 200\n",
    "l1[1]=200"
   ]
  },
  {
   "cell_type": "code",
   "execution_count": 38,
   "id": "49cf00d7",
   "metadata": {},
   "outputs": [
    {
     "data": {
      "text/plain": [
       "[1, 200, 3]"
      ]
     },
     "execution_count": 38,
     "metadata": {},
     "output_type": "execute_result"
    }
   ],
   "source": [
    "l1"
   ]
  },
  {
   "cell_type": "code",
   "execution_count": null,
   "id": "a3a46074",
   "metadata": {},
   "outputs": [],
   "source": [
    "- Postive index\n",
    "\n",
    "- Negative index\n",
    "\n",
    "- Postive and Negative\n",
    "\n",
    "- Number of 'a'\n",
    "\n",
    "- Index of 'a'\n",
    "\n",
    "- Vowels in a given string\n",
    "\n",
    "- unique vowels\n",
    "\n"
   ]
  },
  {
   "cell_type": "markdown",
   "id": "703badd6",
   "metadata": {},
   "source": [
    "$slice$:"
   ]
  },
  {
   "cell_type": "code",
   "execution_count": 1,
   "id": "f9b2257c",
   "metadata": {},
   "outputs": [],
   "source": [
    "s1='hello how are you'"
   ]
  },
  {
   "cell_type": "code",
   "execution_count": null,
   "id": "c3b35acf",
   "metadata": {},
   "outputs": [],
   "source": [
    "-17 -16 -15 -14 -13 -12 -11 -10 -9 -8 -7 -6 -5 -4 -3 -2 -1\n",
    " h   e   l   l   o       h   o  w      a  r  e     y  o  u\n",
    " 0   1   2   3   4   5   6   7  8   9  10 11 12 13 14 15 16 "
   ]
  },
  {
   "cell_type": "code",
   "execution_count": 11,
   "id": "130970b3",
   "metadata": {},
   "outputs": [
    {
     "data": {
      "text/plain": [
       "'re '"
      ]
     },
     "execution_count": 11,
     "metadata": {},
     "output_type": "execute_result"
    }
   ],
   "source": [
    "s1[11:-11:-1] # ans there\n",
    "s1[11:-3:-1]  # no anser\n",
    "s1[11:-11:1]  # no answer\n",
    "s1[11:-3:1]   # answer  start=11 last=-3-1=-4"
   ]
  },
  {
   "cell_type": "code",
   "execution_count": 12,
   "id": "848e3374",
   "metadata": {},
   "outputs": [
    {
     "data": {
      "text/plain": [
       "''"
      ]
     },
     "execution_count": 12,
     "metadata": {},
     "output_type": "execute_result"
    }
   ],
   "source": [
    "-17 -16 -15 -14 -13 -12 -11 -10 -9 -8 -7 -6 -5 -4 -3 -2 -1\n",
    " h   e   l   l   o       h   o  w      a  r  e     y  o  u\n",
    " 0   1   2   3   4   5   6   7  8   9  10 11 12 13 14 15 16 \n",
    "s1[3:-14:2]   # Np  start=3   step=2 +  last= -14-1=-15\n",
    "s1[3:14:2]    # P\n",
    "s1[-3:-14:-2] # P\n",
    "s1[-3:14:-2]  # Np start=-3  step=-2 -ve stop=14+1=15\n",
    "s1[-3:-14:2]  # NP\n",
    "s1[3:14:-2]   # NP\n",
    "s1[3:-14]     # satrt=3  last= -14-1=-15 \n",
    "s1[3:-14:-1]  # start=3  dire=-ve  last = -14+1=-13\n",
    "\n",
    "s1[:] \n",
    "s1[::1]\n",
    "s1[::]\n",
    "s1[::-1]"
   ]
  },
  {
   "cell_type": "code",
   "execution_count": 15,
   "id": "2624af2e",
   "metadata": {},
   "outputs": [
    {
     "data": {
      "text/plain": [
       "''"
      ]
     },
     "execution_count": 15,
     "metadata": {},
     "output_type": "execute_result"
    }
   ],
   "source": [
    "s1[3:-14:-1]"
   ]
  },
  {
   "cell_type": "code",
   "execution_count": null,
   "id": "12c18550",
   "metadata": {},
   "outputs": [],
   "source": [
    "s1[<start>:<stop>]   ---- range(start,stop)\n",
    "s1[start:stop:step]  ---- range(Start,stop,step)"
   ]
  },
  {
   "cell_type": "code",
   "execution_count": 5,
   "id": "2f4f0748",
   "metadata": {},
   "outputs": [
    {
     "data": {
      "text/plain": [
       "'lohw'"
      ]
     },
     "execution_count": 5,
     "metadata": {},
     "output_type": "execute_result"
    }
   ],
   "source": [
    "s1[2:10]   # start=2   dire =+ 1   stop=10-1=9\n",
    "s1[2:10:2] # start=2   dire= + 2   stop=10-1=9\n",
    "# 2  4  6  8 "
   ]
  },
  {
   "cell_type": "code",
   "execution_count": 8,
   "id": "d27a8e31",
   "metadata": {},
   "outputs": [
    {
     "name": "stdout",
     "output_type": "stream",
     "text": [
      "11 10 9 8 7 6 5 4 3 2 1 0 -1 -2 "
     ]
    }
   ],
   "source": [
    "s1[11:-3:-1]\n",
    "# start=11\n",
    "# dire = -ve  1\n",
    "# last= -3+1=-2\n",
    "for i in range(11,-3,-1):print(i,end=' ')"
   ]
  },
  {
   "cell_type": "code",
   "execution_count": 9,
   "id": "89ec67b4",
   "metadata": {},
   "outputs": [
    {
     "data": {
      "text/plain": [
       "''"
      ]
     },
     "execution_count": 9,
     "metadata": {},
     "output_type": "execute_result"
    }
   ],
   "source": [
    "s1[11:-3:-1]"
   ]
  },
  {
   "cell_type": "code",
   "execution_count": 3,
   "id": "8a8e3ab5",
   "metadata": {},
   "outputs": [],
   "source": [
    "for i in range(20,2,3):print(i,end=' ')"
   ]
  },
  {
   "cell_type": "code",
   "execution_count": null,
   "id": "5d7c8c4f",
   "metadata": {},
   "outputs": [],
   "source": [
    "- How to read strings\n",
    "\n",
    "- Different ways single-quotes doule-quotes triple-quotes\n",
    "\n",
    "- type\n",
    "\n",
    "- min\n",
    "\n",
    "- max\n",
    "\n",
    "- len\n",
    "\n",
    "- reversed\n",
    "\n",
    "- sorted\n",
    "\n",
    "- ord\n",
    "\n",
    "- chr\n",
    "\n",
    "- in\n",
    "\n",
    "- in vs range\n",
    "\n",
    "- index\n",
    "\n",
    "- mutable immutable\n",
    "\n",
    "- concatenation\n",
    "\n",
    "- slice"
   ]
  },
  {
   "cell_type": "markdown",
   "id": "f1be44c4",
   "metadata": {},
   "source": [
    "$String$ $methods$"
   ]
  },
  {
   "cell_type": "code",
   "execution_count": 16,
   "id": "c5d6f771",
   "metadata": {},
   "outputs": [
    {
     "data": {
      "text/plain": [
       "['__add__',\n",
       " '__class__',\n",
       " '__contains__',\n",
       " '__delattr__',\n",
       " '__dir__',\n",
       " '__doc__',\n",
       " '__eq__',\n",
       " '__format__',\n",
       " '__ge__',\n",
       " '__getattribute__',\n",
       " '__getitem__',\n",
       " '__getnewargs__',\n",
       " '__getstate__',\n",
       " '__gt__',\n",
       " '__hash__',\n",
       " '__init__',\n",
       " '__init_subclass__',\n",
       " '__iter__',\n",
       " '__le__',\n",
       " '__len__',\n",
       " '__lt__',\n",
       " '__mod__',\n",
       " '__mul__',\n",
       " '__ne__',\n",
       " '__new__',\n",
       " '__reduce__',\n",
       " '__reduce_ex__',\n",
       " '__repr__',\n",
       " '__rmod__',\n",
       " '__rmul__',\n",
       " '__setattr__',\n",
       " '__sizeof__',\n",
       " '__str__',\n",
       " '__subclasshook__',\n",
       " 'capitalize',\n",
       " 'casefold',\n",
       " 'center',\n",
       " 'count',\n",
       " 'encode',\n",
       " 'endswith',\n",
       " 'expandtabs',\n",
       " 'find',\n",
       " 'format',\n",
       " 'format_map',\n",
       " 'index',\n",
       " 'isalnum',\n",
       " 'isalpha',\n",
       " 'isascii',\n",
       " 'isdecimal',\n",
       " 'isdigit',\n",
       " 'isidentifier',\n",
       " 'islower',\n",
       " 'isnumeric',\n",
       " 'isprintable',\n",
       " 'isspace',\n",
       " 'istitle',\n",
       " 'isupper',\n",
       " 'join',\n",
       " 'ljust',\n",
       " 'lower',\n",
       " 'lstrip',\n",
       " 'maketrans',\n",
       " 'partition',\n",
       " 'removeprefix',\n",
       " 'removesuffix',\n",
       " 'replace',\n",
       " 'rfind',\n",
       " 'rindex',\n",
       " 'rjust',\n",
       " 'rpartition',\n",
       " 'rsplit',\n",
       " 'rstrip',\n",
       " 'split',\n",
       " 'splitlines',\n",
       " 'startswith',\n",
       " 'strip',\n",
       " 'swapcase',\n",
       " 'title',\n",
       " 'translate',\n",
       " 'upper',\n",
       " 'zfill']"
      ]
     },
     "execution_count": 16,
     "metadata": {},
     "output_type": "execute_result"
    }
   ],
   "source": [
    "s1='python'\n",
    "# we stored 'python' in a varaiable s1\n",
    "# s1 act as package\n",
    "# every pcakages has some methods\n",
    "# dir(package)\n",
    "dir(s1)   # dir('')"
   ]
  },
  {
   "cell_type": "markdown",
   "id": "c7ba4107",
   "metadata": {},
   "source": [
    "$Capitalize$"
   ]
  },
  {
   "cell_type": "code",
   "execution_count": 23,
   "id": "3f9c719c",
   "metadata": {},
   "outputs": [
    {
     "data": {
      "text/plain": [
       "'Python'"
      ]
     },
     "execution_count": 23,
     "metadata": {},
     "output_type": "execute_result"
    }
   ],
   "source": [
    "s1='python'\n",
    "# s1 act as package\n",
    "# Capitalize act as method\n",
    "# help(<package>.<method_name>)\n",
    "#help(s1.capitalize)\n",
    "s1.capitalize()"
   ]
  },
  {
   "cell_type": "code",
   "execution_count": null,
   "id": "fe74f598",
   "metadata": {},
   "outputs": [],
   "source": [
    "s1='python'\n",
    "s1.capitalize()\n"
   ]
  },
  {
   "cell_type": "code",
   "execution_count": null,
   "id": "3705c66e",
   "metadata": {},
   "outputs": [],
   "source": [
    "# keywords  vs methods\n",
    "len(s1)            capitalize(s1) (wrong)\n",
    "max(s1)            \n",
    "min(s1)\n",
    "\n",
    "s1.capitalize()\n",
    "# Keywords belongs to entire python\n",
    "# methods are related to only that data type"
   ]
  },
  {
   "cell_type": "markdown",
   "id": "74102063",
   "metadata": {},
   "source": [
    "$upper$-$lower$-$casefold$"
   ]
  },
  {
   "cell_type": "code",
   "execution_count": 24,
   "id": "66765d85",
   "metadata": {},
   "outputs": [
    {
     "data": {
      "text/plain": [
       "'PYTHON'"
      ]
     },
     "execution_count": 24,
     "metadata": {},
     "output_type": "execute_result"
    }
   ],
   "source": [
    "s1='python'\n",
    "s1.upper()"
   ]
  },
  {
   "cell_type": "code",
   "execution_count": 26,
   "id": "2f55838d",
   "metadata": {},
   "outputs": [
    {
     "data": {
      "text/plain": [
       "'python'"
      ]
     },
     "execution_count": 26,
     "metadata": {},
     "output_type": "execute_result"
    }
   ],
   "source": [
    "s1='PyThon'\n",
    "s1.lower()"
   ]
  },
  {
   "cell_type": "code",
   "execution_count": 28,
   "id": "e97fd5b1",
   "metadata": {},
   "outputs": [
    {
     "data": {
      "text/plain": [
       "'python'"
      ]
     },
     "execution_count": 28,
     "metadata": {},
     "output_type": "execute_result"
    }
   ],
   "source": [
    "s1='PyThon'\n",
    "s1.casefold()"
   ]
  },
  {
   "cell_type": "markdown",
   "id": "cc358b44",
   "metadata": {},
   "source": [
    "$count$"
   ]
  },
  {
   "cell_type": "code",
   "execution_count": 29,
   "id": "3e40c368",
   "metadata": {},
   "outputs": [
    {
     "data": {
      "text/plain": [
       "3"
      ]
     },
     "execution_count": 29,
     "metadata": {},
     "output_type": "execute_result"
    }
   ],
   "source": [
    "s1='hai hai hai'  # how many a\n",
    "count=0\n",
    "for i in s1:\n",
    "    if i=='a':\n",
    "        count=count+1\n",
    "count"
   ]
  },
  {
   "cell_type": "code",
   "execution_count": 30,
   "id": "eca4b7e1",
   "metadata": {},
   "outputs": [
    {
     "data": {
      "text/plain": [
       "3"
      ]
     },
     "execution_count": 30,
     "metadata": {},
     "output_type": "execute_result"
    }
   ],
   "source": [
    "s1.count('a')"
   ]
  },
  {
   "cell_type": "code",
   "execution_count": 35,
   "id": "db9096bc",
   "metadata": {},
   "outputs": [
    {
     "data": {
      "text/plain": [
       "1"
      ]
     },
     "execution_count": 35,
     "metadata": {},
     "output_type": "execute_result"
    }
   ],
   "source": [
    "s1='ola ola ola'\n",
    "s1.count('ola')\n",
    "s1.count('ola ')\n",
    "s1.count(s1) # s1.count('ola ola ola')"
   ]
  },
  {
   "cell_type": "code",
   "execution_count": 39,
   "id": "a7e27b78",
   "metadata": {},
   "outputs": [
    {
     "data": {
      "text/plain": [
       "1"
      ]
     },
     "execution_count": 39,
     "metadata": {},
     "output_type": "execute_result"
    }
   ],
   "source": [
    "s1.count('o')  # 'ola ola ola'\n",
    "s1.count('o',2) # 'a ola ola'\n",
    "s1.count('o',2,5) # 'a ol'"
   ]
  },
  {
   "cell_type": "code",
   "execution_count": 40,
   "id": "d123e2b0",
   "metadata": {},
   "outputs": [
    {
     "data": {
      "text/plain": [
       "0"
      ]
     },
     "execution_count": 40,
     "metadata": {},
     "output_type": "execute_result"
    }
   ],
   "source": [
    "s1.count('oa')"
   ]
  },
  {
   "cell_type": "code",
   "execution_count": 43,
   "id": "50892997",
   "metadata": {},
   "outputs": [
    {
     "data": {
      "text/plain": [
       "1"
      ]
     },
     "execution_count": 43,
     "metadata": {},
     "output_type": "execute_result"
    }
   ],
   "source": [
    "#'ol           a ol              a ola'\n",
    "# 012\n",
    "s1.count('o',2,5)"
   ]
  },
  {
   "cell_type": "markdown",
   "id": "8d4ced7f",
   "metadata": {},
   "source": [
    "$replace$"
   ]
  },
  {
   "cell_type": "code",
   "execution_count": 45,
   "id": "1aeaac32",
   "metadata": {},
   "outputs": [
    {
     "data": {
      "text/plain": [
       "'weLLcome'"
      ]
     },
     "execution_count": 45,
     "metadata": {},
     "output_type": "execute_result"
    }
   ],
   "source": [
    "s1='wellcome'\n",
    "# replace 'l'  with 'L'\n",
    "s1.replace('c','C')\n",
    "s1.replace('l','L')"
   ]
  },
  {
   "cell_type": "code",
   "execution_count": 55,
   "id": "fe84d200",
   "metadata": {},
   "outputs": [
    {
     "data": {
      "text/plain": [
       "'weLLllcome'"
      ]
     },
     "execution_count": 55,
     "metadata": {},
     "output_type": "execute_result"
    }
   ],
   "source": [
    "s1='wellllcome'\n",
    "s1.replace('l','L',2)  # shift+tab\n",
    "\n",
    "# whenever slash symbol is there\n",
    "# dont give the argument name\n"
   ]
  },
  {
   "cell_type": "code",
   "execution_count": 56,
   "id": "be4ce0b5",
   "metadata": {},
   "outputs": [
    {
     "data": {
      "text/plain": [
       "'wellllcome'"
      ]
     },
     "execution_count": 56,
     "metadata": {},
     "output_type": "execute_result"
    }
   ],
   "source": [
    "s1='wellllcome'\n",
    "s1.replace('z','L') # no error\n",
    "s1.count('z')  # 0  no error"
   ]
  },
  {
   "cell_type": "code",
   "execution_count": 65,
   "id": "2c42c37d",
   "metadata": {},
   "outputs": [
    {
     "name": "stdout",
     "output_type": "stream",
     "text": [
      "resta$t\n"
     ]
    },
    {
     "data": {
      "text/plain": [
       "'resta$t'"
      ]
     },
     "execution_count": 65,
     "metadata": {},
     "output_type": "execute_result"
    }
   ],
   "source": [
    "#inuput: 'restart'\n",
    "#output: 'resta$t'\n",
    "\n",
    "s1='restart'\n",
    "str1=s1[0]  # Index\n",
    "str2=s1[1:].replace('r','$') # slice replace\n",
    "print(str1+str2) # Concatenation\n",
    "\n",
    "s1[::-1].replace('r','$',1)[::-1]"
   ]
  },
  {
   "cell_type": "code",
   "execution_count": 54,
   "id": "9c47f7ed",
   "metadata": {},
   "outputs": [
    {
     "data": {
      "text/plain": [
       "24"
      ]
     },
     "execution_count": 54,
     "metadata": {},
     "output_type": "execute_result"
    }
   ],
   "source": [
    "import random\n",
    "random.randint(a=20,b=30)"
   ]
  },
  {
   "cell_type": "markdown",
   "id": "94b5491c",
   "metadata": {},
   "source": [
    "- Capitalize/ upper /lower/casefold\n",
    "\n",
    "- count\n",
    "\n",
    "- replace"
   ]
  },
  {
   "cell_type": "code",
   "execution_count": 2,
   "id": "4acb0924",
   "metadata": {},
   "outputs": [
    {
     "data": {
      "text/plain": [
       "'weLcome'"
      ]
     },
     "execution_count": 2,
     "metadata": {},
     "output_type": "execute_result"
    }
   ],
   "source": [
    "str1='welcome'\n",
    "str1.replace('l','L')"
   ]
  },
  {
   "cell_type": "markdown",
   "id": "b84ad914",
   "metadata": {},
   "source": [
    "$index$"
   ]
  },
  {
   "cell_type": "code",
   "execution_count": 3,
   "id": "8e51ae91",
   "metadata": {},
   "outputs": [
    {
     "data": {
      "text/plain": [
       "1"
      ]
     },
     "execution_count": 3,
     "metadata": {},
     "output_type": "execute_result"
    }
   ],
   "source": [
    "str1='python'\n",
    "str1.index('y')"
   ]
  },
  {
   "cell_type": "code",
   "execution_count": 8,
   "id": "e93b2d14",
   "metadata": {},
   "outputs": [
    {
     "data": {
      "text/plain": [
       "(1, 5, 9)"
      ]
     },
     "execution_count": 8,
     "metadata": {},
     "output_type": "execute_result"
    }
   ],
   "source": [
    "# Return the lowest index in S where substring sub is found\n",
    "str2='hai hai hai'\n",
    "i1=str2.index('a') # first postition: 1\n",
    "i2=str2.index('a',2) # second-a: already 1 a is over,  \n",
    "i3=str2.index('a',6)\n",
    "\n",
    "i1,i2,i3\n",
    "\n",
    "# Q1) what is the meaning of index: 0  h\n",
    "# Q2) what is the index method will do : it will find the postion"
   ]
  },
  {
   "cell_type": "code",
   "execution_count": null,
   "id": "4bf0db23",
   "metadata": {},
   "outputs": [],
   "source": [
    "# when I, asking you second 'a'\n",
    "# we started seeing after first 'a'\n",
    "# first 'a' index =1\n",
    "# which index will start to see= 1+1=2"
   ]
  },
  {
   "cell_type": "code",
   "execution_count": null,
   "id": "f78bf7a0",
   "metadata": {},
   "outputs": [],
   "source": [
    "str2='hai hai hai hai'\n",
    "i1=str2.index('a')   # 1 \n",
    "i2=str2.index('a',i1+1)  # 5 \n",
    "i3=str2.index('a',i2+1)  # 9\n",
    "i4=str2.index('a',i3+1)\n",
    "\n",
    "i1,i2,i3"
   ]
  },
  {
   "cell_type": "code",
   "execution_count": null,
   "id": "be55b72b",
   "metadata": {},
   "outputs": [],
   "source": [
    "# i1=str2.index('a')\n",
    "# i2=str2.index('a',str2.index('a')+1) \n",
    "# i3=str2.index('a',str2.index('a',str2.index('a')+1) +1)\n",
    "# i4=str2.index('a',str2.index('a',str2.index('a',str2.index('a')+1) +1)+1)"
   ]
  },
  {
   "cell_type": "code",
   "execution_count": 9,
   "id": "82203a65",
   "metadata": {},
   "outputs": [
    {
     "ename": "ValueError",
     "evalue": "substring not found",
     "output_type": "error",
     "traceback": [
      "\u001b[1;31m---------------------------------------------------------------------------\u001b[0m",
      "\u001b[1;31mValueError\u001b[0m                                Traceback (most recent call last)",
      "Cell \u001b[1;32mIn[9], line 1\u001b[0m\n\u001b[1;32m----> 1\u001b[0m i1\u001b[38;5;241m=\u001b[39mstr2\u001b[38;5;241m.\u001b[39mindex(\u001b[38;5;124m'\u001b[39m\u001b[38;5;124mz\u001b[39m\u001b[38;5;124m'\u001b[39m)\n",
      "\u001b[1;31mValueError\u001b[0m: substring not found"
     ]
    }
   ],
   "source": [
    "i1=str2.index('z')"
   ]
  },
  {
   "cell_type": "code",
   "execution_count": 10,
   "id": "6caacff9",
   "metadata": {},
   "outputs": [
    {
     "name": "stdout",
     "output_type": "stream",
     "text": [
      "1\n",
      "5\n",
      "9\n"
     ]
    }
   ],
   "source": [
    "for i in range(len(str2)):\n",
    "    if str2[i]=='a':\n",
    "        print(i)"
   ]
  },
  {
   "cell_type": "markdown",
   "id": "f213f1fc",
   "metadata": {},
   "source": [
    "**if substring not found**\n",
    "\n",
    "- replace : same string\n",
    "\n",
    "- count   : 0\n",
    "\n",
    "- index   : error"
   ]
  },
  {
   "cell_type": "markdown",
   "id": "f33790ca",
   "metadata": {},
   "source": [
    "$find$"
   ]
  },
  {
   "cell_type": "code",
   "execution_count": 19,
   "id": "1d17f385",
   "metadata": {},
   "outputs": [
    {
     "data": {
      "text/plain": [
       "(1, 5, 9, 13, -1)"
      ]
     },
     "execution_count": 19,
     "metadata": {},
     "output_type": "execute_result"
    }
   ],
   "source": [
    "str2='hai hai hai hai'\n",
    "i1=str2.find('a')   # 1 \n",
    "i2=str2.find('a',i1+1)  # 5 \n",
    "i3=str2.find('a',i2+1)  # 9\n",
    "i4=str2.find('a',i3+1)\n",
    "i5=str2.find('a',i4+1)\n",
    "\n",
    "i1,i2,i3,i4,i5"
   ]
  },
  {
   "cell_type": "markdown",
   "id": "e7ed2cad",
   "metadata": {},
   "source": [
    "**If substring not found find method will return -1**"
   ]
  },
  {
   "cell_type": "markdown",
   "id": "309e828a",
   "metadata": {},
   "source": [
    "**if substring not found**\n",
    "\n",
    "- replace : same string\n",
    "\n",
    "- count   : 0\n",
    "\n",
    "- index   : error\n",
    "    \n",
    "- find    : -1"
   ]
  },
  {
   "cell_type": "code",
   "execution_count": null,
   "id": "35fac988",
   "metadata": {},
   "outputs": [],
   "source": [
    "s1='omkar.nallagoni@cognizant.com'\n",
    "# first name='omkar'\n",
    "# sur name='nallagoni'\n",
    "# cname='cognizant'\n",
    "\n",
    "s2='virat.kohli@rcb.com'\n",
    "s3='rohit.sharma@mi.com'\n",
    "s4='lokesh.rahul@lsg.com'\n",
    "s5='a.b@c'\n",
    "\n",
    "# idea-1  extrat  . index   s1[0:<.index>]\n",
    "# ida-2  extract  @ index   s1[.:@]\n",
    "# idea=3  extract  second . index  s1[@:.]"
   ]
  },
  {
   "cell_type": "code",
   "execution_count": 21,
   "id": "af56a9b1",
   "metadata": {},
   "outputs": [
    {
     "name": "stdout",
     "output_type": "stream",
     "text": [
      "a\n",
      "b\n",
      "c\n"
     ]
    }
   ],
   "source": [
    "s3=\"a.b@c.com\"\n",
    "dot=s3.find('.')\n",
    "atrate=s3.find('@')\n",
    "sec_dot=s3.find('.',dot+1)\n",
    "print(s3[:dot])\n",
    "print(s3[dot+1:atrate])\n",
    "print(s3[atrate+1:sec_dot])"
   ]
  },
  {
   "cell_type": "code",
   "execution_count": 32,
   "id": "dd0b6247",
   "metadata": {},
   "outputs": [
    {
     "data": {
      "text/plain": [
       "('virat', 'kohli', 'cognizant')"
      ]
     },
     "execution_count": 32,
     "metadata": {},
     "output_type": "execute_result"
    }
   ],
   "source": [
    "s1='virat.kohli@cognizant.com'\n",
    "# 5 should come automatically\n",
    "# 5 is an index of '.'\n",
    "i1=s1.index('.')\n",
    "i2=s1.index('@')\n",
    "i3=s1.index('.',i1+1)\n",
    "fname=s1[:i1]\n",
    "sname=s1[i1+1:i2]\n",
    "cname=s1[i2+1:i3]\n",
    "fname,sname,cname"
   ]
  },
  {
   "cell_type": "markdown",
   "id": "ead4a7c0",
   "metadata": {},
   "source": [
    "$lstrip$-$rstrip$-$strip$"
   ]
  },
  {
   "cell_type": "code",
   "execution_count": 33,
   "id": "db326912",
   "metadata": {},
   "outputs": [],
   "source": [
    "str1=' python '\n",
    "str2=' python'\n",
    "str3='python '"
   ]
  },
  {
   "cell_type": "code",
   "execution_count": 38,
   "id": "ae733744",
   "metadata": {},
   "outputs": [
    {
     "data": {
      "text/plain": [
       "('python', 'python ', ' python')"
      ]
     },
     "execution_count": 38,
     "metadata": {},
     "output_type": "execute_result"
    }
   ],
   "source": [
    "# str1 has space in both sides\n",
    "str1.strip(),str1.lstrip(),str1.rstrip()"
   ]
  },
  {
   "cell_type": "code",
   "execution_count": 42,
   "id": "0e72d066",
   "metadata": {},
   "outputs": [
    {
     "data": {
      "text/plain": [
       "('python', ' python', 'python')"
      ]
     },
     "execution_count": 42,
     "metadata": {},
     "output_type": "execute_result"
    }
   ],
   "source": [
    "str2.strip(),str2.rstrip(),str2.lstrip()\n",
    "#strip is boss"
   ]
  },
  {
   "cell_type": "code",
   "execution_count": 43,
   "id": "35b774d0",
   "metadata": {},
   "outputs": [
    {
     "data": {
      "text/plain": [
       "'python'"
      ]
     },
     "execution_count": 43,
     "metadata": {},
     "output_type": "execute_result"
    }
   ],
   "source": [
    "str2='@@@@python@@@@'\n",
    "str2.strip('@')  "
   ]
  },
  {
   "cell_type": "code",
   "execution_count": 44,
   "id": "e0e3368f",
   "metadata": {},
   "outputs": [
    {
     "data": {
      "text/plain": [
       "'python'"
      ]
     },
     "execution_count": 44,
     "metadata": {},
     "output_type": "execute_result"
    }
   ],
   "source": [
    "str1=' python '\n",
    "str1.strip() # nothing mentioned empty space"
   ]
  },
  {
   "cell_type": "code",
   "execution_count": 46,
   "id": "fd60be0b",
   "metadata": {},
   "outputs": [
    {
     "data": {
      "text/plain": [
       "'python'"
      ]
     },
     "execution_count": 46,
     "metadata": {},
     "output_type": "execute_result"
    }
   ],
   "source": [
    "str2='@@@@python$$$$$'\n",
    "str2.lstrip('@').rstrip('$')"
   ]
  },
  {
   "cell_type": "code",
   "execution_count": 47,
   "id": "66014b51",
   "metadata": {},
   "outputs": [
    {
     "data": {
      "text/plain": [
       "'python'"
      ]
     },
     "execution_count": 47,
     "metadata": {},
     "output_type": "execute_result"
    }
   ],
   "source": [
    "str2.strip('@$')"
   ]
  },
  {
   "cell_type": "code",
   "execution_count": null,
   "id": "1562f44a",
   "metadata": {},
   "outputs": [],
   "source": [
    "str1='hello /r/r/r/n/ how are you'\n",
    "#op  'hello how are you'"
   ]
  },
  {
   "cell_type": "markdown",
   "id": "7e31e55a",
   "metadata": {},
   "source": [
    "$Startswith$-$endswith$"
   ]
  },
  {
   "cell_type": "code",
   "execution_count": 52,
   "id": "2b4f6658",
   "metadata": {},
   "outputs": [
    {
     "data": {
      "text/plain": [
       "True"
      ]
     },
     "execution_count": 52,
     "metadata": {},
     "output_type": "execute_result"
    }
   ],
   "source": [
    "s1='hai how are you'\n",
    "s1.startswith('hai')"
   ]
  },
  {
   "cell_type": "code",
   "execution_count": 53,
   "id": "036a32aa",
   "metadata": {},
   "outputs": [
    {
     "data": {
      "text/plain": [
       "True"
      ]
     },
     "execution_count": 53,
     "metadata": {},
     "output_type": "execute_result"
    }
   ],
   "source": [
    "s1.startswith(s1)"
   ]
  },
  {
   "cell_type": "code",
   "execution_count": 58,
   "id": "8d17e729",
   "metadata": {},
   "outputs": [
    {
     "data": {
      "text/plain": [
       "True"
      ]
     },
     "execution_count": 58,
     "metadata": {},
     "output_type": "execute_result"
    }
   ],
   "source": [
    "s1='hai how are you'\n",
    "s1.endswith('you')\n",
    "s1.endswith(s1)"
   ]
  },
  {
   "cell_type": "markdown",
   "id": "1a3d34cd",
   "metadata": {},
   "source": [
    "$split$"
   ]
  },
  {
   "cell_type": "code",
   "execution_count": 59,
   "id": "26cc2d75",
   "metadata": {},
   "outputs": [
    {
     "data": {
      "text/plain": [
       "['hai', 'how', 'are', 'you']"
      ]
     },
     "execution_count": 59,
     "metadata": {},
     "output_type": "execute_result"
    }
   ],
   "source": [
    "# It will split the words\n",
    "# and the words output will be in list \n",
    "s1='hai how are you'\n",
    "s1.split()"
   ]
  },
  {
   "cell_type": "code",
   "execution_count": 60,
   "id": "5aecebac",
   "metadata": {},
   "outputs": [
    {
     "data": {
      "text/plain": [
       "['hai how', 'are you']"
      ]
     },
     "execution_count": 60,
     "metadata": {},
     "output_type": "execute_result"
    }
   ],
   "source": [
    "s2='hai how,are you'\n",
    "s2.split(',')"
   ]
  },
  {
   "cell_type": "code",
   "execution_count": 61,
   "id": "95fecfff",
   "metadata": {},
   "outputs": [
    {
     "data": {
      "text/plain": [
       "['h', 'i how ', 're you']"
      ]
     },
     "execution_count": 61,
     "metadata": {},
     "output_type": "execute_result"
    }
   ],
   "source": [
    "s3='hai how are you'\n",
    "s3.split('a')\n",
    "\n",
    "# h, i how ,re you"
   ]
  },
  {
   "cell_type": "markdown",
   "id": "807649fa",
   "metadata": {},
   "source": [
    "- capitalize/upper/lower/casefold\n",
    "\n",
    "- replace \n",
    "\n",
    "- count\n",
    "\n",
    "- index/find\n",
    "\n",
    "- rstrip/strip/lstrip\n",
    "\n",
    "- startwith/endswith\n",
    "\n",
    "- split"
   ]
  },
  {
   "cell_type": "code",
   "execution_count": 62,
   "id": "35135fc6",
   "metadata": {},
   "outputs": [
    {
     "data": {
      "text/plain": [
       "['__add__',\n",
       " '__class__',\n",
       " '__contains__',\n",
       " '__delattr__',\n",
       " '__dir__',\n",
       " '__doc__',\n",
       " '__eq__',\n",
       " '__format__',\n",
       " '__ge__',\n",
       " '__getattribute__',\n",
       " '__getitem__',\n",
       " '__getnewargs__',\n",
       " '__getstate__',\n",
       " '__gt__',\n",
       " '__hash__',\n",
       " '__init__',\n",
       " '__init_subclass__',\n",
       " '__iter__',\n",
       " '__le__',\n",
       " '__len__',\n",
       " '__lt__',\n",
       " '__mod__',\n",
       " '__mul__',\n",
       " '__ne__',\n",
       " '__new__',\n",
       " '__reduce__',\n",
       " '__reduce_ex__',\n",
       " '__repr__',\n",
       " '__rmod__',\n",
       " '__rmul__',\n",
       " '__setattr__',\n",
       " '__sizeof__',\n",
       " '__str__',\n",
       " '__subclasshook__',\n",
       " 'capitalize',\n",
       " 'casefold',\n",
       " 'center',\n",
       " 'count',\n",
       " 'encode',\n",
       " 'endswith',\n",
       " 'expandtabs',\n",
       " 'find',\n",
       " 'format',\n",
       " 'format_map',\n",
       " 'index',\n",
       " 'isalnum',\n",
       " 'isalpha',\n",
       " 'isascii',\n",
       " 'isdecimal',\n",
       " 'isdigit',\n",
       " 'isidentifier',\n",
       " 'islower',\n",
       " 'isnumeric',\n",
       " 'isprintable',\n",
       " 'isspace',\n",
       " 'istitle',\n",
       " 'isupper',\n",
       " 'join',\n",
       " 'ljust',\n",
       " 'lower',\n",
       " 'lstrip',\n",
       " 'maketrans',\n",
       " 'partition',\n",
       " 'removeprefix',\n",
       " 'removesuffix',\n",
       " 'replace',\n",
       " 'rfind',\n",
       " 'rindex',\n",
       " 'rjust',\n",
       " 'rpartition',\n",
       " 'rsplit',\n",
       " 'rstrip',\n",
       " 'split',\n",
       " 'splitlines',\n",
       " 'startswith',\n",
       " 'strip',\n",
       " 'swapcase',\n",
       " 'title',\n",
       " 'translate',\n",
       " 'upper',\n",
       " 'zfill']"
      ]
     },
     "execution_count": 62,
     "metadata": {},
     "output_type": "execute_result"
    }
   ],
   "source": [
    "dir('')"
   ]
  },
  {
   "cell_type": "code",
   "execution_count": null,
   "id": "353f7207",
   "metadata": {},
   "outputs": [],
   "source": [
    " 'isalnum',\n",
    " 'isalpha',\n",
    " 'isascii',\n",
    " 'isdecimal',\n",
    " 'isdigit',\n",
    " 'isidentifier',\n",
    " 'islower',\n",
    " 'isnumeric',\n",
    " 'isprintable',\n",
    " 'isspace',\n",
    " 'istitle',\n",
    " 'isupper',"
   ]
  },
  {
   "cell_type": "code",
   "execution_count": 66,
   "id": "df81d857",
   "metadata": {},
   "outputs": [
    {
     "data": {
      "text/plain": [
       "False"
      ]
     },
     "execution_count": 66,
     "metadata": {},
     "output_type": "execute_result"
    }
   ],
   "source": [
    "s1='123'\n",
    "s1.isalpha()"
   ]
  },
  {
   "cell_type": "code",
   "execution_count": null,
   "id": "566cb88a",
   "metadata": {},
   "outputs": [],
   "source": []
  },
  {
   "cell_type": "code",
   "execution_count": null,
   "id": "7696d07e",
   "metadata": {},
   "outputs": [],
   "source": []
  },
  {
   "cell_type": "code",
   "execution_count": null,
   "id": "881db061",
   "metadata": {},
   "outputs": [],
   "source": []
  }
 ],
 "metadata": {
  "kernelspec": {
   "display_name": "Python 3 (ipykernel)",
   "language": "python",
   "name": "python3"
  },
  "language_info": {
   "codemirror_mode": {
    "name": "ipython",
    "version": 3
   },
   "file_extension": ".py",
   "mimetype": "text/x-python",
   "name": "python",
   "nbconvert_exporter": "python",
   "pygments_lexer": "ipython3",
   "version": "3.11.5"
  }
 },
 "nbformat": 4,
 "nbformat_minor": 5
}
