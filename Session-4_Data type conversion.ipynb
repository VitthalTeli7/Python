{
 "cells": [
  {
   "cell_type": "markdown",
   "id": "f18b1b1b",
   "metadata": {},
   "source": [
    "- integer\n",
    "\n",
    "- float\n",
    "\n",
    "- string\n",
    "\n",
    "- boolean\n",
    "\n",
    "- complex\n",
    "\n",
    "- int to float, int to str , int to bool, int to complex\n",
    "\n",
    "- it is called as type casting"
   ]
  },
  {
   "cell_type": "code",
   "execution_count": 1,
   "id": "14cb0d9d",
   "metadata": {},
   "outputs": [
    {
     "data": {
      "text/plain": [
       "int"
      ]
     },
     "execution_count": 1,
     "metadata": {},
     "output_type": "execute_result"
    }
   ],
   "source": [
    "number=10\n",
    "type(number)"
   ]
  },
  {
   "cell_type": "code",
   "execution_count": null,
   "id": "2631688c",
   "metadata": {},
   "outputs": [],
   "source": [
    "# int to float\n",
    "float(number) # 10.0\n",
    "# int to string\n",
    "str(number)  # \"10\"\n",
    "# int to bool\n",
    "bool(number) # True\n",
    "# int to complex\n",
    "complex(number) # 10+0j"
   ]
  },
  {
   "cell_type": "code",
   "execution_count": 2,
   "id": "8876fff5",
   "metadata": {},
   "outputs": [
    {
     "data": {
      "text/plain": [
       "10.0"
      ]
     },
     "execution_count": 2,
     "metadata": {},
     "output_type": "execute_result"
    }
   ],
   "source": [
    "float(number)"
   ]
  },
  {
   "cell_type": "code",
   "execution_count": 3,
   "id": "454ea730",
   "metadata": {},
   "outputs": [
    {
     "data": {
      "text/plain": [
       "'10'"
      ]
     },
     "execution_count": 3,
     "metadata": {},
     "output_type": "execute_result"
    }
   ],
   "source": [
    "str(number)"
   ]
  },
  {
   "cell_type": "code",
   "execution_count": 4,
   "id": "a94d9822",
   "metadata": {},
   "outputs": [
    {
     "data": {
      "text/plain": [
       "True"
      ]
     },
     "execution_count": 4,
     "metadata": {},
     "output_type": "execute_result"
    }
   ],
   "source": [
    "bool(number)"
   ]
  },
  {
   "cell_type": "code",
   "execution_count": 5,
   "id": "e41d8180",
   "metadata": {},
   "outputs": [
    {
     "data": {
      "text/plain": [
       "(10+0j)"
      ]
     },
     "execution_count": 5,
     "metadata": {},
     "output_type": "execute_result"
    }
   ],
   "source": [
    "complex(number)"
   ]
  },
  {
   "cell_type": "code",
   "execution_count": 6,
   "id": "31a8c262",
   "metadata": {},
   "outputs": [
    {
     "name": "stdout",
     "output_type": "stream",
     "text": [
      "-10.0\n",
      "-10\n",
      "True\n",
      "(-10+0j)\n"
     ]
    }
   ],
   "source": [
    "print(float(-10))  # -10.0\n",
    "print(str(-10))    #  '-10'\n",
    "print(bool(-10))   #   True\n",
    "print(complex(-10)) #  -10+0j"
   ]
  },
  {
   "cell_type": "code",
   "execution_count": 7,
   "id": "249bdf83",
   "metadata": {},
   "outputs": [
    {
     "name": "stdout",
     "output_type": "stream",
     "text": [
      "False\n"
     ]
    }
   ],
   "source": [
    "print(bool(0))"
   ]
  },
  {
   "cell_type": "markdown",
   "id": "563e8004",
   "metadata": {},
   "source": [
    "- For zero value boolean conversion will give False\n",
    "\n",
    "- Remaining all are True"
   ]
  },
  {
   "cell_type": "code",
   "execution_count": 9,
   "id": "889a5bb3",
   "metadata": {},
   "outputs": [
    {
     "data": {
      "text/plain": [
       "((20+0j), (20+50j))"
      ]
     },
     "execution_count": 9,
     "metadata": {},
     "output_type": "execute_result"
    }
   ],
   "source": [
    "complex(20),complex(20,50)\n",
    "# take your cursor in side the bracket\n",
    "# apply shift+tab  at a time"
   ]
  },
  {
   "cell_type": "code",
   "execution_count": 12,
   "id": "8316782a",
   "metadata": {},
   "outputs": [
    {
     "data": {
      "text/plain": [
       "11"
      ]
     },
     "execution_count": 12,
     "metadata": {},
     "output_type": "execute_result"
    }
   ],
   "source": [
    "import random\n",
    "random.randint(10,20) # randint(a,b)"
   ]
  },
  {
   "cell_type": "code",
   "execution_count": 13,
   "id": "bcfade99",
   "metadata": {},
   "outputs": [
    {
     "data": {
      "text/plain": [
       "0.6671573288352916"
      ]
     },
     "execution_count": 13,
     "metadata": {},
     "output_type": "execute_result"
    }
   ],
   "source": [
    "random.random()  # random() no need to provide"
   ]
  },
  {
   "cell_type": "code",
   "execution_count": 17,
   "id": "f36d7938",
   "metadata": {},
   "outputs": [
    {
     "data": {
      "text/plain": [
       "(10+0j)"
      ]
     },
     "execution_count": 17,
     "metadata": {},
     "output_type": "execute_result"
    }
   ],
   "source": [
    "complex(10)   # complex(real=0,imag=0)"
   ]
  },
  {
   "cell_type": "code",
   "execution_count": 18,
   "id": "b5fe6f84",
   "metadata": {},
   "outputs": [
    {
     "data": {
      "text/plain": [
       "0j"
      ]
     },
     "execution_count": 18,
     "metadata": {},
     "output_type": "execute_result"
    }
   ],
   "source": [
    "complex()"
   ]
  },
  {
   "cell_type": "code",
   "execution_count": null,
   "id": "f93b7fe0",
   "metadata": {},
   "outputs": [],
   "source": [
    "# Float to other"
   ]
  },
  {
   "cell_type": "code",
   "execution_count": 19,
   "id": "653ea949",
   "metadata": {},
   "outputs": [
    {
     "name": "stdout",
     "output_type": "stream",
     "text": [
      "10\n",
      "10.5\n",
      "True\n",
      "(10.5+0j)\n"
     ]
    }
   ],
   "source": [
    "print(int(10.5))  # 10\n",
    "print(str(10.5))  # '10.5'\n",
    "print(bool(10.5)) # True\n",
    "print(complex(10.5)) # 10.5+0j"
   ]
  },
  {
   "cell_type": "code",
   "execution_count": 20,
   "id": "636f19c0",
   "metadata": {},
   "outputs": [
    {
     "data": {
      "text/plain": [
       "'10.5'"
      ]
     },
     "execution_count": 20,
     "metadata": {},
     "output_type": "execute_result"
    }
   ],
   "source": [
    "str(10.5)"
   ]
  },
  {
   "cell_type": "code",
   "execution_count": 25,
   "id": "9d70979f",
   "metadata": {},
   "outputs": [
    {
     "name": "stdout",
     "output_type": "stream",
     "text": [
      "True\n"
     ]
    }
   ],
   "source": [
    "# String to other\n",
    "#print(int('Python'))  # error\n",
    "#print(float('Python'))  # error\n",
    "print(bool('Python')) # True\n",
    "#print(complex('Python')) # error"
   ]
  },
  {
   "cell_type": "code",
   "execution_count": 29,
   "id": "0fa0c049",
   "metadata": {},
   "outputs": [
    {
     "name": "stdout",
     "output_type": "stream",
     "text": [
      "10\n",
      "10.0\n",
      "True\n",
      "(10+0j)\n"
     ]
    }
   ],
   "source": [
    "# String to other\n",
    "print(int('10'))  #  10\n",
    "print(float('10'))  #  10.0\n",
    "print(bool('10')) # True\n",
    "print(complex('10')) # 10+0j"
   ]
  },
  {
   "cell_type": "code",
   "execution_count": 31,
   "id": "c9681741",
   "metadata": {},
   "outputs": [
    {
     "name": "stdout",
     "output_type": "stream",
     "text": [
      "10.5\n",
      "True\n",
      "(10.5+0j)\n"
     ]
    }
   ],
   "source": [
    "# String to other\n",
    "#print(int('10.5'))  #  error\n",
    "\n",
    "print(float('10.5'))  #  10.5\n",
    "print(bool('10.5')) # True\n",
    "print(complex('10.5')) # 10.5+0j"
   ]
  },
  {
   "cell_type": "code",
   "execution_count": null,
   "id": "e2a51465",
   "metadata": {},
   "outputs": [],
   "source": [
    "'10'  ===== can convet int  can convert float\n",
    "'10.5' ===== can not convert integer\n",
    "       ====== but it can convert into float\n",
    "    \n",
    "float is the boss\n",
    "\n",
    "integer conversion of float value having quotes"
   ]
  },
  {
   "cell_type": "code",
   "execution_count": null,
   "id": "6e7f2a1d",
   "metadata": {},
   "outputs": [],
   "source": [
    "int(10.5)  # 10 \n",
    "int('10.5') # error"
   ]
  },
  {
   "cell_type": "code",
   "execution_count": null,
   "id": "d10abbd5",
   "metadata": {},
   "outputs": [],
   "source": [
    "# dont submit assignment in .ipynb format\n",
    "# upload in the form of pdf\n",
    "\n",
    "# CTRL+P"
   ]
  },
  {
   "cell_type": "code",
   "execution_count": 1,
   "id": "65468260",
   "metadata": {},
   "outputs": [
    {
     "name": "stdout",
     "output_type": "stream",
     "text": [
      "1\n",
      "1.0\n",
      "True\n",
      "(1+0j)\n"
     ]
    }
   ],
   "source": [
    "# bool to other\n",
    "\n",
    "print(int(True))  #  1\n",
    "print(float(True))  #  1.0\n",
    "print(str(True)) # \"True\"\n",
    "print(complex(True)) # 1+0j"
   ]
  },
  {
   "cell_type": "code",
   "execution_count": 2,
   "id": "791457ba",
   "metadata": {},
   "outputs": [
    {
     "name": "stdout",
     "output_type": "stream",
     "text": [
      "0\n",
      "0.0\n",
      "False\n",
      "0j\n"
     ]
    }
   ],
   "source": [
    "print(int(False))  #  1\n",
    "print(float(False))  #  1.0\n",
    "print(str(False)) # \"True\"\n",
    "print(complex(False)) # 1+0j"
   ]
  },
  {
   "cell_type": "code",
   "execution_count": 14,
   "id": "0981108e",
   "metadata": {},
   "outputs": [
    {
     "name": "stdout",
     "output_type": "stream",
     "text": [
      "(3+4j)\n",
      "True\n"
     ]
    }
   ],
   "source": [
    "# Complex to other\n",
    "#print(int(3+4j))  #  error\n",
    "#print(float(3+4j))  #  error\n",
    "print(str(3+4j)) # \"3+4j\"\n",
    "print(bool(3+4j)) # True"
   ]
  },
  {
   "cell_type": "code",
   "execution_count": 6,
   "id": "e49db488",
   "metadata": {},
   "outputs": [
    {
     "data": {
      "text/plain": [
       "'(3+4j)'"
      ]
     },
     "execution_count": 6,
     "metadata": {},
     "output_type": "execute_result"
    }
   ],
   "source": [
    "str(3+4j)"
   ]
  },
  {
   "cell_type": "code",
   "execution_count": 10,
   "id": "3962853b",
   "metadata": {},
   "outputs": [
    {
     "data": {
      "text/plain": [
       "('10', '10.5', '(3+4j)', 'True')"
      ]
     },
     "execution_count": 10,
     "metadata": {},
     "output_type": "execute_result"
    }
   ],
   "source": [
    "str(10),str(10.5),str(3+4j),str(True)"
   ]
  },
  {
   "cell_type": "code",
   "execution_count": 11,
   "id": "93eefb9a",
   "metadata": {},
   "outputs": [
    {
     "name": "stdout",
     "output_type": "stream",
     "text": [
      "False\n"
     ]
    }
   ],
   "source": [
    "print(bool(0j))"
   ]
  },
  {
   "cell_type": "code",
   "execution_count": null,
   "id": "93f22197",
   "metadata": {},
   "outputs": [],
   "source": []
  }
 ],
 "metadata": {
  "kernelspec": {
   "display_name": "Python 3 (ipykernel)",
   "language": "python",
   "name": "python3"
  },
  "language_info": {
   "codemirror_mode": {
    "name": "ipython",
    "version": 3
   },
   "file_extension": ".py",
   "mimetype": "text/x-python",
   "name": "python",
   "nbconvert_exporter": "python",
   "pygments_lexer": "ipython3",
   "version": "3.11.5"
  }
 },
 "nbformat": 4,
 "nbformat_minor": 5
}
