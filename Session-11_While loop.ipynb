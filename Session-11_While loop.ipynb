{
 "cells": [
  {
   "cell_type": "code",
   "execution_count": null,
   "id": "b6cab957",
   "metadata": {},
   "outputs": [],
   "source": [
    "n1=1234\n",
    "# extract 4\n",
    "d1=1234%10  # 4\n",
    "# 1234 ==== 123\n",
    "n2=1234//10 # 123\n",
    "d2=n2%10\n",
    "d2         # 3\n",
    "d3         # 2\n",
    "d4         # 1\n",
    "d1+d4"
   ]
  },
  {
   "cell_type": "code",
   "execution_count": null,
   "id": "851bf04b",
   "metadata": {},
   "outputs": [],
   "source": [
    "str(1234)[::-1]"
   ]
  },
  {
   "cell_type": "code",
   "execution_count": null,
   "id": "04532358",
   "metadata": {},
   "outputs": [],
   "source": [
    "list1=[10,20,5,50]\n",
    "# sort the list with out using sorted keyword\n",
    "sorted(list1)"
   ]
  },
  {
   "cell_type": "code",
   "execution_count": null,
   "id": "4cc36a95",
   "metadata": {},
   "outputs": [],
   "source": [
    "aptitude ===== it \n",
    "\n",
    "python ====== logical "
   ]
  },
  {
   "cell_type": "code",
   "execution_count": null,
   "id": "a0af6ffd",
   "metadata": {},
   "outputs": [],
   "source": [
    "- basic codes\n",
    "\n",
    "- if -else\n",
    "\n",
    "- functions\n",
    "\n",
    "- try-except\n",
    "\n",
    "- for\n",
    "\n",
    "- while"
   ]
  },
  {
   "cell_type": "code",
   "execution_count": null,
   "id": "3d3e85e6",
   "metadata": {},
   "outputs": [],
   "source": [
    "for i in range(10):\n",
    "    print(i,end=' ')"
   ]
  },
  {
   "cell_type": "code",
   "execution_count": null,
   "id": "734f21dc",
   "metadata": {},
   "outputs": [],
   "source": [
    "- intialization : start\n",
    "\n",
    "- increment/decrement : increase/decrease\n",
    "\n",
    "- condition : where to stop\n",
    "    \n",
    "- in for loop  range(start,stop,step)"
   ]
  },
  {
   "cell_type": "code",
   "execution_count": null,
   "id": "b32b3b3b",
   "metadata": {},
   "outputs": [],
   "source": [
    "# start point\n",
    "while <condition>:\n",
    "    # increment or decrement"
   ]
  },
  {
   "cell_type": "code",
   "execution_count": null,
   "id": "26c66e1e",
   "metadata": {},
   "outputs": [],
   "source": [
    "if   :\n",
    "    \n",
    "else :\n",
    "    \n",
    "for  :\n",
    "def  :"
   ]
  },
  {
   "cell_type": "code",
   "execution_count": null,
   "id": "8c828b3d",
   "metadata": {},
   "outputs": [],
   "source": [
    "for i in range(10):\n",
    "    print(i,end=' ')\n",
    "    print(\"hello\")\n",
    "    \n",
    "# start  i=0\n",
    "# step   i=i+1\n",
    "# stop   i  reached to 9 code should stop"
   ]
  },
  {
   "cell_type": "code",
   "execution_count": null,
   "id": "5edce49e",
   "metadata": {},
   "outputs": [],
   "source": [
    "i=0   \n",
    "while i<10:                  0<10   Tr\n",
    "    print(i,end=' ')\n",
    "    i=i+1\n",
    "      \n",
    "#i<=5   i>=0    i<=10   i==0   10%2==i  i==False\n",
    "#inf\n",
    "\n",
    "#write the condition based on start point and stop point\n",
    "#start=0\n",
    "#stop=9"
   ]
  },
  {
   "cell_type": "code",
   "execution_count": null,
   "id": "e0727c1f",
   "metadata": {},
   "outputs": [],
   "source": [
    "i=0   \n",
    "while i<10:              #0>10 =F                \n",
    "    print(i,end=' ')\n",
    "    i=i+1\n",
    "    \n",
    "# step-1:  i=0     i<10   0<10   True  print(0)  i=0+1=1\n",
    "# step-2:  i=1     1<10   True   print(1)  i=1+1=2\n",
    "\n",
    "# step-9:  i=8     8<10   T     pr(8)     i=8+1=9\n",
    "# step-10  i=9     9<10   T     pr(9)     i=9+1=10\n",
    "# step-11  i=10    10<10 F"
   ]
  },
  {
   "cell_type": "code",
   "execution_count": null,
   "id": "7d183ba1",
   "metadata": {},
   "outputs": [],
   "source": [
    "for i in range(10):\n",
    "    print(i,end=' ')\n",
    "####################################################    \n",
    "i=0   \n",
    "while i<10:                        \n",
    "    print(i,end=' ')\n",
    "    i=i+1    "
   ]
  },
  {
   "cell_type": "code",
   "execution_count": null,
   "id": "d3628d6e",
   "metadata": {},
   "outputs": [],
   "source": [
    "i=0   \n",
    "while i<=9:                        \n",
    "    print(i,end=' ')\n",
    "    i=i+1"
   ]
  },
  {
   "cell_type": "code",
   "execution_count": null,
   "id": "6f91901f",
   "metadata": {},
   "outputs": [],
   "source": [
    "# Infinite loop\n",
    "\n",
    "i=0   \n",
    "while i>=0:                        \n",
    "    print(i,end=' ')\n",
    "    i=i+1\n",
    "    if i==10:\n",
    "        break\n",
    "    \n",
    "# s-1  i=0  0>=0  T    0    i=1\n",
    "#      i=1  1>=0  T    1    i=2\n",
    "#      i=9  9>=0  T    9    i=10\n",
    "#      i=10  10>=0 T   10   i=11\n",
    "#       11          T  11     12\n",
    "\n"
   ]
  },
  {
   "cell_type": "code",
   "execution_count": null,
   "id": "f4da59bd",
   "metadata": {},
   "outputs": [],
   "source": [
    "i=0   \n",
    "while i<=9:          # 0<=9   T                    \n",
    "    print(i,end=' ') #  print(0)\n",
    "    i=i+1            # i=1\n",
    " "
   ]
  },
  {
   "cell_type": "code",
   "execution_count": null,
   "id": "cd673c36",
   "metadata": {},
   "outputs": [],
   "source": [
    "#######################################\n",
    "i=0   \n",
    "while i<=9:  \n",
    "    i=i+1      # i=0+1  =1\n",
    "    print(i,end=' ') # 1"
   ]
  },
  {
   "cell_type": "code",
   "execution_count": null,
   "id": "134ed7d5",
   "metadata": {},
   "outputs": [],
   "source": [
    "i=0   \n",
    "while i<10:                        \n",
    "    print(i,end=' ')\n",
    "    i=i+1 \n",
    "    \n",
    "i=0   \n",
    "while i<=9:                        \n",
    "    print(i,end=' ')\n",
    "    i=i+1  \n",
    "        \n",
    "\n",
    "i=0   \n",
    "while i>=0:                        \n",
    "    print(i,end=' ')\n",
    "    i=i+1\n",
    "    if i==10:\n",
    "        break\n",
    "        \n",
    "i=0   \n",
    "while i!=10:                        \n",
    "    print(i,end=' ')\n",
    "    i=i+1\n",
    "    \n"
   ]
  },
  {
   "cell_type": "code",
   "execution_count": null,
   "id": "ff2aac42",
   "metadata": {},
   "outputs": [],
   "source": [
    "while True"
   ]
  },
  {
   "cell_type": "code",
   "execution_count": null,
   "id": "f5e66ef9",
   "metadata": {},
   "outputs": [],
   "source": [
    "if True:\n",
    "    print(\"hello\")"
   ]
  },
  {
   "cell_type": "code",
   "execution_count": null,
   "id": "5323e051",
   "metadata": {},
   "outputs": [],
   "source": [
    "i!=10  # asking qn to the computer"
   ]
  },
  {
   "cell_type": "code",
   "execution_count": null,
   "id": "a68f9700",
   "metadata": {},
   "outputs": [],
   "source": [
    "i>=0"
   ]
  },
  {
   "cell_type": "code",
   "execution_count": null,
   "id": "b316b92c",
   "metadata": {},
   "outputs": [],
   "source": [
    "i=0\n",
    "while True:\n",
    "    print(i,end=' ')\n",
    "    i=i+1\n",
    "    if i==20:\n",
    "        break\n",
    "    \n"
   ]
  },
  {
   "cell_type": "code",
   "execution_count": null,
   "id": "7361aaa5",
   "metadata": {},
   "outputs": [],
   "source": [
    "i=0   \n",
    "while i<10:                        \n",
    "    print(i,end=' ')\n",
    "    i=i+1 \n",
    "    \n",
    "i=0   \n",
    "while i<=9:                        \n",
    "    print(i,end=' ')\n",
    "    i=i+1  \n",
    "        \n",
    "        \n",
    "i=0   \n",
    "while i!=10:                        \n",
    "    print(i,end=' ')\n",
    "    i=i+1\n",
    "    \n",
    "    \n",
    "i=0   \n",
    "while i>=0:                        \n",
    "    print(i,end=' ')\n",
    "    i=i+1\n",
    "    if i==10:\n",
    "        break\n",
    "    \n",
    "\n",
    "i=0\n",
    "while True:\n",
    "    print(i,end=' ')\n",
    "    i=i+1\n",
    "    if i==20:\n",
    "        break\n",
    "        \n",
    "i=10\n",
    "while i>0:\n",
    "    print(10-i)\n",
    "    i=i-1"
   ]
  },
  {
   "cell_type": "code",
   "execution_count": null,
   "id": "425ed559",
   "metadata": {},
   "outputs": [],
   "source": [
    "# WAP ask the user print the square of 1 to 5 numbers using while loop\n",
    "# For loop\n",
    "\n",
    "for i in range(1,6):\n",
    "    print(f\"The square of {i} is {i*i}\")\n",
    "    \n",
    "# you need to work how to print 1,2,3,4,5  using while loop\n",
    "# range(1,6)  3 parts\n",
    "\n",
    "# intial point \n",
    "# while <cond>:\n",
    "#       <print>\n",
    "#      i=i+1"
   ]
  },
  {
   "cell_type": "code",
   "execution_count": 2,
   "id": "48205b75",
   "metadata": {},
   "outputs": [
    {
     "name": "stdout",
     "output_type": "stream",
     "text": [
      "The square of 1 is 1\n",
      "The square of 2 is 4\n",
      "The square of 3 is 9\n",
      "The square of 4 is 16\n",
      "The square of 5 is 25\n"
     ]
    }
   ],
   "source": [
    "i=1\n",
    "while i<=5:\n",
    "    print(f\"The square of {i} is {i*i}\")\n",
    "    i=i+1"
   ]
  },
  {
   "cell_type": "code",
   "execution_count": 4,
   "id": "da9a90cf",
   "metadata": {},
   "outputs": [
    {
     "name": "stdout",
     "output_type": "stream",
     "text": [
      "The square of 20 is 400\n",
      "The square of 22 is 484\n",
      "The square of 25 is 625\n",
      "The square of 2 is 4\n",
      "The square of 47 is 2209\n"
     ]
    }
   ],
   "source": [
    "# wap ask the user get 5 random numbers \n",
    "# and print the square of the numbers using while loop\n",
    "import random\n",
    "i=1\n",
    "while i<=5:\n",
    "    num=random.randint(1,50)\n",
    "    print(f\"The square of {num} is {num*num}\")\n",
    "    i=i+1"
   ]
  },
  {
   "cell_type": "code",
   "execution_count": 5,
   "id": "2b254841",
   "metadata": {},
   "outputs": [
    {
     "name": "stdout",
     "output_type": "stream",
     "text": [
      "55\n"
     ]
    }
   ],
   "source": [
    "# WAP print sum of first 10 natural numbers\n",
    "summ=0\n",
    "for i in range(1,11):\n",
    "    summ=summ+i\n",
    "    \n",
    "print(summ)"
   ]
  },
  {
   "cell_type": "code",
   "execution_count": 6,
   "id": "ab9c1f80",
   "metadata": {},
   "outputs": [
    {
     "name": "stdout",
     "output_type": "stream",
     "text": [
      "55\n"
     ]
    }
   ],
   "source": [
    "summ=0\n",
    "i=1\n",
    "while i<=10:\n",
    "    summ=summ+i\n",
    "    i=i+1\n",
    "    \n",
    "print(summ)"
   ]
  },
  {
   "cell_type": "code",
   "execution_count": 8,
   "id": "56d7e3d4",
   "metadata": {},
   "outputs": [
    {
     "name": "stdout",
     "output_type": "stream",
     "text": [
      "enter the number:10\n",
      "4\n"
     ]
    }
   ],
   "source": [
    "# WAP find the number of divsiors of a given number using while loop\n",
    "# num 10 divisors  loop 10 times\n",
    "count=0\n",
    "num=eval(input(\"enter the number:\"))\n",
    "for i in range(1,num+1):\n",
    "    if num%i==0:\n",
    "        count=count+1\n",
    "print(count)"
   ]
  },
  {
   "cell_type": "code",
   "execution_count": 10,
   "id": "6d3e3816",
   "metadata": {},
   "outputs": [
    {
     "name": "stdout",
     "output_type": "stream",
     "text": [
      "enter the number:10\n",
      "4\n"
     ]
    }
   ],
   "source": [
    "count=0\n",
    "num=eval(input(\"enter the number:\"))\n",
    "i=1\n",
    "while i<=num:\n",
    "    if num%i==0:\n",
    "        count=count+1\n",
    "    i=i+1\n",
    "    \n",
    "print(count)"
   ]
  },
  {
   "cell_type": "code",
   "execution_count": null,
   "id": "88675f45",
   "metadata": {},
   "outputs": [],
   "source": [
    "# WAP ask the get a random number\n",
    "#     ask the user get a number\n",
    "#     if usernumber==Random number  print (won)\n",
    "#     else: print(lost)\n",
    "# give 3 chances use while loop"
   ]
  },
  {
   "cell_type": "code",
   "execution_count": 13,
   "id": "a814bf78",
   "metadata": {},
   "outputs": [
    {
     "name": "stdout",
     "output_type": "stream",
     "text": [
      "guess the number : 8\n",
      "random number is : 1\n",
      "you lost\n",
      "guess the number : 9\n",
      "random number is : 2\n",
      "you lost\n",
      "guess the number : 3\n",
      "random number is : 7\n",
      "you lost\n"
     ]
    }
   ],
   "source": [
    "import random\n",
    "i=0\n",
    "while i<3:\n",
    "    num=eval(input('guess the number : '))\n",
    "    random_num=random.randint(1,10)\n",
    "    print('random number is :',random_num)\n",
    "    if random_num==num:\n",
    "        print('you won')\n",
    "        break\n",
    "    else:\n",
    "        print('you lost')\n",
    "    i=i+1"
   ]
  },
  {
   "cell_type": "code",
   "execution_count": 11,
   "id": "4e51facc",
   "metadata": {},
   "outputs": [
    {
     "name": "stdout",
     "output_type": "stream",
     "text": [
      "guess the number : 4\n",
      "random number is : 5\n",
      "you lost\n"
     ]
    }
   ],
   "source": [
    "num=eval(input('guess the number : '))\n",
    "random_num=random.randint(1,10)\n",
    "print('random number is :',random_num)\n",
    "if random_num==num:\n",
    "    print('you won')\n",
    "else:\n",
    "    print('you lost')"
   ]
  },
  {
   "cell_type": "markdown",
   "id": "ab4b6149",
   "metadata": {},
   "source": [
    "Suppose that a player wants to play a game which requires him Rs. 1,000 to start. If the current balance in his account is less than Rs. 1,000 he needs to withdraw the extra money from his e-wallet.\n",
    "\n",
    "Note that if the sum of money in his courrent account and the amount withdrawn is greater than or equal to Rs. 1,000 then he can start playing the game. However if the sum is less than Rs. 1,000 then the program should keep displaying the user the message “You still do not have enough money to start playing.” and keep prompting the user to withdraw money unless it crosses Rs. 1,000. Once ready, i.e. if his current account balance crosses Rs. 1,000, it will display a message “Now, you are ready to play the game.” Your program should also display the account balance and the current amount in the e-wallet.\n",
    "\n",
    "(consider: initial account balance is Rs. 200 and money in the e-wallet is Rs. 5,000)\n",
    "\n",
    "(Do further improvement by checking if the e-wallet balance becomes NIL, etc.)"
   ]
  },
  {
   "cell_type": "code",
   "execution_count": null,
   "id": "1c71804d",
   "metadata": {},
   "outputs": [],
   "source": [
    "using for loop  ==== infinite loop not possible\n",
    "using while loop === while True\n",
    "\n",
    "if balance>1000:\n",
    "    print()\n",
    "else:\n",
    "    "
   ]
  }
 ],
 "metadata": {
  "kernelspec": {
   "display_name": "Python 3 (ipykernel)",
   "language": "python",
   "name": "python3"
  },
  "language_info": {
   "codemirror_mode": {
    "name": "ipython",
    "version": 3
   },
   "file_extension": ".py",
   "mimetype": "text/x-python",
   "name": "python",
   "nbconvert_exporter": "python",
   "pygments_lexer": "ipython3",
   "version": "3.11.5"
  }
 },
 "nbformat": 4,
 "nbformat_minor": 5
}
