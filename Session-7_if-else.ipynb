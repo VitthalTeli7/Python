{
 "cells": [
  {
   "cell_type": "code",
   "execution_count": null,
   "id": "3837788a",
   "metadata": {},
   "outputs": [],
   "source": [
    "# if -else"
   ]
  },
  {
   "cell_type": "code",
   "execution_count": null,
   "id": "0c143b4e",
   "metadata": {},
   "outputs": [],
   "source": [
    "# whenever condition is true ==== if block\n",
    "#          condition is false === else block\n",
    "\n",
    "# Indentation is main"
   ]
  },
  {
   "cell_type": "code",
   "execution_count": null,
   "id": "15d5564e",
   "metadata": {},
   "outputs": [],
   "source": [
    "# wap ask the user enter a number\n",
    "# find it is an even or odd number"
   ]
  },
  {
   "cell_type": "code",
   "execution_count": null,
   "id": "f453b532",
   "metadata": {},
   "outputs": [],
   "source": [
    "# step-1: read the number\n",
    "# step-2: if <condition>:\n",
    "# step-3:     #########\n",
    "# step-4: else:\n",
    "# step-5:    ##########"
   ]
  },
  {
   "cell_type": "code",
   "execution_count": 2,
   "id": "0e42e865",
   "metadata": {},
   "outputs": [
    {
     "name": "stdout",
     "output_type": "stream",
     "text": [
      "enter a number:38\n",
      "38 is an even\n"
     ]
    }
   ],
   "source": [
    "num=eval(input(\"enter a number:\"))\n",
    "if num%2==0:\n",
    "    print(f\"{num} is an even\")\n",
    "else:\n",
    "    print(f\"{num} is an odd\")"
   ]
  },
  {
   "cell_type": "code",
   "execution_count": null,
   "id": "685ce935",
   "metadata": {},
   "outputs": [],
   "source": [
    "# read a random number between 10 and 50\n",
    "# find it is an even or odd number\n",
    "\n",
    "# step-1: read the number randomly between 10 and 50\n",
    "# step-2: if <condition>:\n",
    "# step-3:     #########\n",
    "# step-4: else:\n",
    "# step-5:    ##########"
   ]
  },
  {
   "cell_type": "code",
   "execution_count": 4,
   "id": "6f334288",
   "metadata": {},
   "outputs": [
    {
     "data": {
      "text/plain": [
       "23"
      ]
     },
     "execution_count": 4,
     "metadata": {},
     "output_type": "execute_result"
    }
   ],
   "source": [
    "import random\n",
    "random.randint(10,50)"
   ]
  },
  {
   "cell_type": "code",
   "execution_count": 8,
   "id": "96e84696",
   "metadata": {},
   "outputs": [
    {
     "name": "stdout",
     "output_type": "stream",
     "text": [
      "46 is an even\n"
     ]
    }
   ],
   "source": [
    "import random\n",
    "num=random.randint(10,50)\n",
    "\n",
    "if num%2==0:\n",
    "    print(f\"{num} is an even\")\n",
    "else:\n",
    "    print(f\"{num} is an odd\")"
   ]
  },
  {
   "cell_type": "code",
   "execution_count": null,
   "id": "15f19453",
   "metadata": {},
   "outputs": [],
   "source": [
    "############# M-1###############################\n",
    "num=25\n",
    "if num%2==0:\n",
    "    print(f\"{num} is an even\")\n",
    "else:\n",
    "    print(f\"{num} is an odd\")\n",
    "    \n",
    "################### M-2#################\n",
    "num=eval(input(\"enter a number:\"))\n",
    "if num%2==0:\n",
    "    print(f\"{num} is an even\")\n",
    "else:\n",
    "    print(f\"{num} is an odd\")\n",
    "    \n",
    "#################M-3##########################    \n",
    "import random\n",
    "num=random.randint(10,50)\n",
    "\n",
    "if num%2==0:\n",
    "    print(f\"{num} is an even\")\n",
    "else:\n",
    "    print(f\"{num} is an odd\")"
   ]
  },
  {
   "cell_type": "code",
   "execution_count": 9,
   "id": "18fde11e",
   "metadata": {},
   "outputs": [
    {
     "name": "stdout",
     "output_type": "stream",
     "text": [
      "enter a number:50\n"
     ]
    }
   ],
   "source": [
    "num=25\n",
    "num=eval(input(\"enter a number:\"))\n",
    "import random\n",
    "num=random.randint(10,50)"
   ]
  },
  {
   "cell_type": "code",
   "execution_count": 13,
   "id": "94b1dd45",
   "metadata": {},
   "outputs": [
    {
     "name": "stdout",
     "output_type": "stream",
     "text": [
      "enter the number:50\n",
      "greater than 50\n"
     ]
    }
   ],
   "source": [
    "# wap ask the user enter the number from keyboard between 1 to 100\n",
    "# print 'greater than 50'  if the value greater than 50\n",
    "# else print 'less than 50'\n",
    "\n",
    "# step-1: num=<take the number from keyboard>\n",
    "# step-2: if <condition>:\n",
    "# step-3:    print(\"greater than 50\")\n",
    "# step-4: else:\n",
    "# step-5:    print('less than 50')\n",
    "\n",
    "num=eval(input(\"enter the number:\"))\n",
    "if num>=50:\n",
    "    print(\"greater than or equal to 50\")\n",
    "else:\n",
    "    print(\"less than 50\")"
   ]
  },
  {
   "cell_type": "code",
   "execution_count": 19,
   "id": "a97153e1",
   "metadata": {},
   "outputs": [
    {
     "name": "stdout",
     "output_type": "stream",
     "text": [
      "71 greater than or equal to 50\n"
     ]
    }
   ],
   "source": [
    "# Improvise above code by providing a random number\n",
    "num=random.randint(1,100)\n",
    "if num>=50:\n",
    "    print(f\"{num} greater than or equal to 50\")\n",
    "else:\n",
    "    print(f\"{num} less than 50\")"
   ]
  },
  {
   "cell_type": "code",
   "execution_count": null,
   "id": "3106e506",
   "metadata": {},
   "outputs": [],
   "source": [
    "#wap take one number as random number between 1 to 10: num1\n",
    "#    ask the user enter a number from keyboard : num2\n",
    "#    if num1 equal to num2  print  you won\n",
    "#    if num1 not equal to num2(else)  print you lost\n",
    "\n",
    "# step-1: num1= <>\n",
    "# step-2: num2= <>\n",
    "# step-3: if <condition>:\n",
    "# step-4:    print(\"you won\")\n",
    "# step-5: else:\n",
    "# step-6:    print(\"you lost\")"
   ]
  },
  {
   "cell_type": "code",
   "execution_count": 33,
   "id": "d55a21d2",
   "metadata": {},
   "outputs": [
    {
     "name": "stdout",
     "output_type": "stream",
     "text": [
      "Enter a number:7\n",
      "you lost\n"
     ]
    }
   ],
   "source": [
    "import random\n",
    "num1=random.randint(1,10)\n",
    "num2=eval(input(\"Enter a number:\"))\n",
    "if num1==num2:\n",
    "    print(\"you won\") \n",
    "else:\n",
    "    print(\"you lost\")"
   ]
  },
  {
   "cell_type": "code",
   "execution_count": null,
   "id": "1368ae41",
   "metadata": {},
   "outputs": [],
   "source": [
    "# wap\n",
    "# conductor: show me id card \n",
    "# id=mother: yes\n",
    "# if id=='yes':\n",
    "#     print(\"enjoy the free bus\")\n",
    "\n",
    "# ----mother: no\n",
    "# else:\n",
    "#     conductor: pay the money\n",
    "#     mother: how much\n",
    "#     conductot: how many km\n",
    "#     mother: 25km: distance\n",
    "#     mother: how much fare for km\n",
    "#     conductor: 2rs: fare\n",
    "#     total= dis*fare\n",
    "#     print('total')"
   ]
  },
  {
   "cell_type": "code",
   "execution_count": 40,
   "id": "4a938965",
   "metadata": {},
   "outputs": [
    {
     "name": "stdout",
     "output_type": "stream",
     "text": [
      "conductor:show\n",
      "mother:yes\n",
      "enjoy the free trip\n"
     ]
    }
   ],
   "source": [
    "input(\"conductor:\")\n",
    "id1=input(\"mother:\")\n",
    "if id1=='yes':\n",
    "    print(\"enjoy the free trip\")\n",
    "    \n",
    "else:\n",
    "    input(\"conductor:\")      # pay the money\n",
    "    input(\"mother:\")         #how much\n",
    "    input(\"conductor:\")      # how many km\n",
    "    dis=eval(input(\"mother:\")) # 25k\n",
    "    input(\"mother:\")              #how much fare for km\n",
    "    fare=eval(input(\"conductor:\")) #2rs: fare\n",
    "    total= dis*fare\n",
    "    print(f\"for the distance {dis}, total cahrge is {total}\")"
   ]
  },
  {
   "cell_type": "code",
   "execution_count": 42,
   "id": "51f203c6",
   "metadata": {},
   "outputs": [
    {
     "name": "stdout",
     "output_type": "stream",
     "text": [
      "conductor:show\n",
      "mother:no\n",
      "conductor: pay the money\n",
      "mother: how much\n",
      "conductor: how many km\n",
      "mother:25\n",
      "mother: how much fare for km\n",
      "conductor:2\n",
      "for the distance 25, total cahrge is 50\n"
     ]
    }
   ],
   "source": [
    "import time\n",
    "\n",
    "input(\"conductor:\")\n",
    "id1=input(\"mother:\")\n",
    "if id1=='yes':\n",
    "    print(\"enjoy the free trip\")\n",
    "else:\n",
    "    print(\"conductor: pay the money\")      # pay the money\n",
    "    time.sleep(2)\n",
    "    print(\"mother: how much\")         #how much\n",
    "    time.sleep(2)\n",
    "    print(\"conductor: how many km\")      # how many km\n",
    "    time.sleep(2)\n",
    "    dis=eval(input(\"mother:\")) # 25k\n",
    "    print(\"mother: how much fare for km\")              #how much fare for km\n",
    "    time.sleep(2)\n",
    "    fare=eval(input(\"conductor:\")) #2rs: fare\n",
    "    total= dis*fare\n",
    "    print(f\"for the distance {dis}, total cahrge is {total}\")"
   ]
  },
  {
   "cell_type": "code",
   "execution_count": null,
   "id": "f9107725",
   "metadata": {},
   "outputs": [],
   "source": [
    "# even      odd\n",
    "# if        else\n",
    "# greater   less than\n",
    "# if        else\n",
    "# yes        no\n",
    "# if        else\n",
    "\n",
    "# >0  pos   <0  neg   =0  zero\n",
    "# if<con>    elif<con>     else\n",
    "\n",
    "# >95  A     >75  B      > 50  C     <50  D\n",
    "# if         elif        elif           else"
   ]
  },
  {
   "cell_type": "code",
   "execution_count": null,
   "id": "93d72861",
   "metadata": {},
   "outputs": [],
   "source": [
    "sir please show them google class room for notes just now I added some students ask them to check their mails sir"
   ]
  },
  {
   "cell_type": "code",
   "execution_count": null,
   "id": "007a8033",
   "metadata": {},
   "outputs": [],
   "source": [
    "# wap ask the user enter a number from keyboard\n",
    "# if num greater than zero  : print(\"pos\")\n",
    "# if num less than zero :  print(\"neg\")\n",
    "# if num equal to zero:   print('zero')\n",
    "\n",
    "\n",
    "num = eval(input(\"Enter a number: \"))\n",
    "if num > 0:\n",
    "    print(\"Postive\")\n",
    "elif num < 0:\n",
    "    print(\"Negative\")\n",
    "else:\n",
    "    print(\"Zero\")"
   ]
  },
  {
   "cell_type": "code",
   "execution_count": 43,
   "id": "ea9f5d18",
   "metadata": {},
   "outputs": [
    {
     "name": "stdout",
     "output_type": "stream",
     "text": [
      "enter a num:4\n",
      "greater than two\n"
     ]
    }
   ],
   "source": [
    "# wap ask the user enter a number from keyboard\n",
    "# if num is equal to zero  : print(\"zero\")\n",
    "# if num is equal to one  : print(\"one\")\n",
    "# if num is equal to two  : print(\"two\")\n",
    "# if num is greater than to two  : print(\"greater than two\")\n",
    "\n",
    "# if  elif  elif  else\n",
    "\n",
    "num1=eval(input(\"enter a num:\"))\n",
    "if num1==0:\n",
    "    print(\"zero\")\n",
    "elif num1==1:\n",
    "    print(\"one\")\n",
    "elif num1==2:\n",
    "    print(\"two\")\n",
    "    \n",
    "else:\n",
    "    print(\"greater than two\")"
   ]
  },
  {
   "cell_type": "code",
   "execution_count": null,
   "id": "1851b96d",
   "metadata": {},
   "outputs": [],
   "source": [
    "# WAP ask the user enter a percentage\n",
    "# if the per between 45 to 60  C grade\n",
    "# if the per between 60 to 75  B\n",
    "# if the per between 75 to 90 A \n",
    "# if the per below 45 fail\n",
    "# if the per above 90 A+"
   ]
  },
  {
   "cell_type": "code",
   "execution_count": 5,
   "id": "95b0c6cd",
   "metadata": {},
   "outputs": [
    {
     "name": "stdout",
     "output_type": "stream",
     "text": [
      "enter ur percentage:89\n"
     ]
    }
   ],
   "source": [
    "per=eval(input(\"enter ur percentage:\"))\n"
   ]
  },
  {
   "cell_type": "code",
   "execution_count": null,
   "id": "1f3d37a0",
   "metadata": {},
   "outputs": [],
   "source": [
    "<45\n",
    "45 to 60\n",
    "60 to 75\n",
    "75 to 90\n",
    ">90\n",
    "\n",
    ">90  ======== if\n",
    "75 to 90  === elif\n",
    "60 to 75  === elif\n",
    "45 to 60  === elif\n",
    "<45       ==== else"
   ]
  },
  {
   "cell_type": "code",
   "execution_count": 9,
   "id": "6a980ebb",
   "metadata": {},
   "outputs": [
    {
     "name": "stdout",
     "output_type": "stream",
     "text": [
      "D\n"
     ]
    }
   ],
   "source": [
    "per=82\n",
    "if per>=90:        # 91>90   T\n",
    "    print(\"A+\")    \n",
    "elif per>=75:      # 90>75   T   \n",
    "    print(\"A\")   \n",
    "elif per>=60:     # 90>60   T\n",
    "    print(\"B\")   \n",
    "elif per>=45:\n",
    "    print(\"C\")    \n",
    "else:\n",
    "    print(\"D\")"
   ]
  },
  {
   "cell_type": "code",
   "execution_count": 12,
   "id": "cf8fbbe8",
   "metadata": {},
   "outputs": [
    {
     "name": "stdout",
     "output_type": "stream",
     "text": [
      "enter the age:25\n",
      "young\n"
     ]
    }
   ],
   "source": [
    "# WAP ask the user enter age\n",
    "# if age > 60  :  print sc\n",
    "# if age between 45 to 60 : print aged\n",
    "# if age between 30 to 45 : print middile aged\n",
    "# if age betweem 20 to 30: print young\n",
    "# if age between 13 to 19 print teenage\n",
    "# otherwise: print kid\n",
    "age=eval(input(\"enter the age:\"))\n",
    "\n",
    "if age>=60:\n",
    "    print(\"SC\")\n",
    "elif age>=45:      # 45 to 59\n",
    "    print(\"aged\")\n",
    "elif age>=30:     # 30 to 44\n",
    "    print(\"MA\")\n",
    "elif age>=20:\n",
    "    print(\"young\")\n",
    "elif age>=13:\n",
    "    print(\"teenage\")\n",
    "else:\n",
    "    print(\"kid\")"
   ]
  },
  {
   "cell_type": "code",
   "execution_count": 17,
   "id": "0608ce4e",
   "metadata": {},
   "outputs": [
    {
     "name": "stdout",
     "output_type": "stream",
     "text": [
      "enter the distance25\n",
      "your distance is 25km\n",
      "enter the charge per km0.5\n",
      "for the 25 km total fare is 12.5\n"
     ]
    }
   ],
   "source": [
    "# WAP ask the user enter distance : dis\n",
    "# if distance is greater than 50km\n",
    "#     agian ask the enter the charge per km: 2rs : fare\n",
    "#     calculate the total charge = dis*fare\n",
    "\n",
    "# if distance between 30 to 50\n",
    "#    ask the user enter the charge per km: 1rs\n",
    "#    calculate the total charge\n",
    "\n",
    "# if distance between 10 to 30\n",
    "#    ask the user enter the charge per km: 0.5rs\n",
    "#    calculate the total charge\n",
    "\n",
    "# if distance less than 10\n",
    "#    print(free ride)\n",
    "\n",
    "dis=eval(input(\"enter the distance\"))\n",
    "if dis>=50:\n",
    "    print(f\"your distance is {dis}km\")\n",
    "    print(\"for distance more than 50 2 rs km\")\n",
    "    fare=eval(input(\"enter the charge per km\"))\n",
    "    total=dis*fare\n",
    "    print(f\"for the {dis} km total fare is {total}\")\n",
    "    \n",
    "elif dis>=30:\n",
    "    print(f\"your distance is {dis}km\")\n",
    "    fare=eval(input(\"enter the charge per km\"))\n",
    "    total=dis*fare\n",
    "    print(f\"for the {dis} km total fare is {total}\")\n",
    "    \n",
    "elif dis>=10:\n",
    "    print(f\"your distance is {dis}km\")\n",
    "    fare=eval(input(\"enter the charge per km\"))\n",
    "    total=dis*fare\n",
    "    print(f\"for the {dis} km total fare is {total}\")\n",
    "    \n",
    "else:\n",
    "    print(f\"your distance is {dis}km\")\n",
    "    print(\"free ride\")"
   ]
  },
  {
   "cell_type": "code",
   "execution_count": null,
   "id": "3d663ec3",
   "metadata": {},
   "outputs": [],
   "source": [
    "# wap ask the user enter gender = input()\n",
    "# if gender equal to male         gender=='male'\n",
    "#     ask the user enter age\n",
    "#     if age>45  print  aged man\n",
    "#     if age between 30 to 45 : print (MA man)\n",
    "#     if age between 15 to 30 : print(young man)\n",
    "#     if age less than 15: print (\"boy\")\n",
    "\n",
    "#if gender equal to female\n",
    "#     ask the user enter age\n",
    "#     if age>45  print  aged woman\n",
    "#     if age between 30 to 45 : print (MA woman)\n",
    "#     if age between 15 to 30 : print(young girl)\n",
    "#     if age less than 15: print (\"girl\")\n",
    "\n",
    "# else:\n",
    "#   print(\"provide proper gender\")"
   ]
  },
  {
   "cell_type": "code",
   "execution_count": 18,
   "id": "06914733",
   "metadata": {},
   "outputs": [
    {
     "data": {
      "text/plain": [
       "False"
      ]
     },
     "execution_count": 18,
     "metadata": {},
     "output_type": "execute_result"
    }
   ],
   "source": [
    "'Male'==' Male'"
   ]
  },
  {
   "cell_type": "code",
   "execution_count": 20,
   "id": "654b7eec",
   "metadata": {},
   "outputs": [
    {
     "name": "stdout",
     "output_type": "stream",
     "text": [
      "Enter the gender if the gender is Male or Female Male\n",
      "Enter the age of the male candidate45\n",
      "Middleaged Male\n"
     ]
    }
   ],
   "source": [
    "gender=input('Enter the gender if the gender is Male or Female')\n",
    "if gender =='Male':\n",
    "    age=eval(input('Enter the age of the male candidate'))\n",
    "    if age>=45:\n",
    "        print('Aged Male')\n",
    "    elif age>=30:\n",
    "        print('Middleaged Male')\n",
    "    elif age>=15:\n",
    "        print('Young Man')\n",
    "    else:\n",
    "        print('boy')\n",
    "        \n",
    "elif gender =='Female':\n",
    "    age=eval(input('Enter the age of the female candidate'))\n",
    "    if age>=45:\n",
    "        print('Aged feMale')\n",
    "    elif age>=30:\n",
    "        print('Middleaged feMale')\n",
    "    elif age>=15:\n",
    "        print('Young feMale')\n",
    "    else:\n",
    "        print('girl')\n",
    "else:\n",
    "    print('Enter the appropriate gender')"
   ]
  },
  {
   "cell_type": "code",
   "execution_count": 23,
   "id": "96a45d01",
   "metadata": {},
   "outputs": [
    {
     "name": "stdout",
     "output_type": "stream",
     "text": [
      "enter the number:0\n",
      "it is a zero\n"
     ]
    }
   ],
   "source": [
    "# wap ask the user enter a number\n",
    "# if number greater than or equal to zero\n",
    "#     if number equal to zero: print(\"it is a zero\")\n",
    "#     else:print it is a pos number\n",
    "\n",
    "# else:\n",
    "#     print it is a negative number\n",
    "\n",
    "num=eval(input(\"enter the number:\"))\n",
    "if num>=0:\n",
    "    if num==0:\n",
    "        print(\"it is a zero\")\n",
    "    else:\n",
    "        print(\"it is a pos number\")       \n",
    "else:\n",
    "    print(\"it is a neg number\")"
   ]
  },
  {
   "cell_type": "code",
   "execution_count": null,
   "id": "fc93ea15",
   "metadata": {},
   "outputs": [],
   "source": [
    "num=eval(input(\"enter the number:\")) # 0\n",
    "if num>0:  # 0>0  F\n",
    "    print(\"it is a pos number\")   \n",
    "elif num<0: # 0<0  F\n",
    "    print(\"it is a neg number\")  \n",
    "else:\n",
    "    print(\"it is a zero\")\n",
    "    \n",
    "    \n",
    "    \n",
    "num=eval(input(\"enter the number:\"))\n",
    "if num>=0:  #0>=0  T\n",
    "    if num==0:  #0==0 T\n",
    "        print(\"it is a zero\")\n",
    "    else:\n",
    "        print(\"it is a pos number\")       \n",
    "else:\n",
    "    print(\"it is a neg number\")"
   ]
  },
  {
   "cell_type": "code",
   "execution_count": null,
   "id": "050e5c54",
   "metadata": {},
   "outputs": [],
   "source": [
    "# wap find the greater number between the given three numbers\n",
    "# 50 75 100\n",
    "# ans: 100"
   ]
  }
 ],
 "metadata": {
  "kernelspec": {
   "display_name": "Python 3 (ipykernel)",
   "language": "python",
   "name": "python3"
  },
  "language_info": {
   "codemirror_mode": {
    "name": "ipython",
    "version": 3
   },
   "file_extension": ".py",
   "mimetype": "text/x-python",
   "name": "python",
   "nbconvert_exporter": "python",
   "pygments_lexer": "ipython3",
   "version": "3.11.5"
  }
 },
 "nbformat": 4,
 "nbformat_minor": 5
}
