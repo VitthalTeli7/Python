{
 "cells": [
  {
   "cell_type": "code",
   "execution_count": 1,
   "id": "1a9754ef",
   "metadata": {},
   "outputs": [
    {
     "name": "stdout",
     "output_type": "stream",
     "text": [
      "the addition of 10 and 20 is 30\n"
     ]
    }
   ],
   "source": [
    "num1=10\n",
    "num2=20\n",
    "add=num1+num2\n",
    "print(f\"the addition of {num1} and {num2} is {add}\")"
   ]
  },
  {
   "cell_type": "markdown",
   "id": "6a560803",
   "metadata": {},
   "source": [
    "$input$"
   ]
  },
  {
   "cell_type": "code",
   "execution_count": 5,
   "id": "8c57a751",
   "metadata": {},
   "outputs": [
    {
     "name": "stdout",
     "output_type": "stream",
     "text": [
      "50\n"
     ]
    },
    {
     "data": {
      "text/plain": [
       "'50'"
      ]
     },
     "execution_count": 5,
     "metadata": {},
     "output_type": "execute_result"
    }
   ],
   "source": [
    "input()"
   ]
  },
  {
   "cell_type": "code",
   "execution_count": 24,
   "id": "d0391ac5",
   "metadata": {},
   "outputs": [
    {
     "name": "stdout",
     "output_type": "stream",
     "text": [
      "enter a number:5\n"
     ]
    },
    {
     "data": {
      "text/plain": [
       "'5'"
      ]
     },
     "execution_count": 24,
     "metadata": {},
     "output_type": "execute_result"
    }
   ],
   "source": [
    "input(\"enter a number:\")"
   ]
  },
  {
   "cell_type": "code",
   "execution_count": 8,
   "id": "002d45e2",
   "metadata": {},
   "outputs": [
    {
     "name": "stdout",
     "output_type": "stream",
     "text": [
      "enter a name:python\n"
     ]
    },
    {
     "data": {
      "text/plain": [
       "'python'"
      ]
     },
     "execution_count": 8,
     "metadata": {},
     "output_type": "execute_result"
    }
   ],
   "source": [
    "input(\"enter a name:\")"
   ]
  },
  {
   "cell_type": "code",
   "execution_count": 9,
   "id": "2dff9f36",
   "metadata": {},
   "outputs": [
    {
     "name": "stdout",
     "output_type": "stream",
     "text": [
      "enter a number1:100\n",
      "enter a number2:200\n"
     ]
    },
    {
     "data": {
      "text/plain": [
       "'100200'"
      ]
     },
     "execution_count": 9,
     "metadata": {},
     "output_type": "execute_result"
    }
   ],
   "source": [
    "num1=input(\"enter a number1:\") # num1='100'\n",
    "num2=input(\"enter a number2:\") # num2='200'\n",
    "num1+num2                      # '100'+'200'='100200'"
   ]
  },
  {
   "cell_type": "code",
   "execution_count": 10,
   "id": "dcefc6de",
   "metadata": {},
   "outputs": [
    {
     "data": {
      "text/plain": [
       "'100200'"
      ]
     },
     "execution_count": 10,
     "metadata": {},
     "output_type": "execute_result"
    }
   ],
   "source": [
    "'100'+'200'"
   ]
  },
  {
   "cell_type": "markdown",
   "id": "cd4263b1",
   "metadata": {},
   "source": [
    "**Note: The default data type from keyboard using input keyword is string**"
   ]
  },
  {
   "cell_type": "code",
   "execution_count": 12,
   "id": "bd6df0e2",
   "metadata": {},
   "outputs": [
    {
     "name": "stdout",
     "output_type": "stream",
     "text": [
      "enter a number:20\n"
     ]
    },
    {
     "data": {
      "text/plain": [
       "str"
      ]
     },
     "execution_count": 12,
     "metadata": {},
     "output_type": "execute_result"
    }
   ],
   "source": [
    "num1=10   #  inte\n",
    "type(num1)\n",
    "\n",
    "num2=input(\"enter a number:\")  # string\n",
    "type(num2)"
   ]
  },
  {
   "cell_type": "code",
   "execution_count": 14,
   "id": "f8e6c62f",
   "metadata": {},
   "outputs": [
    {
     "name": "stdout",
     "output_type": "stream",
     "text": [
      "enter a number1:100\n",
      "enter a number2:200\n",
      "the addition of 100 and 200 is 300\n"
     ]
    }
   ],
   "source": [
    "num1=int(input(\"enter a number1:\")) # num1=int('100')=100\n",
    "num2=int(input(\"enter a number2:\")) # num2=int('200')=200\n",
    "print(f\"the addition of {num1} and {num2} is {num1+num2}\") "
   ]
  },
  {
   "cell_type": "code",
   "execution_count": 16,
   "id": "2b417f6f",
   "metadata": {},
   "outputs": [
    {
     "name": "stdout",
     "output_type": "stream",
     "text": [
      "enter a number1:100\n",
      "enter a number2:200\n",
      "the addition of 100 and 200 is 300\n"
     ]
    }
   ],
   "source": [
    "num1=input(\"enter a number1:\") # num1=int('100')=100\n",
    "num2=input(\"enter a number2:\") # num2=int('200')=200\n",
    "add=int(num1)+int(num2)\n",
    "print(f\"the addition of {num1} and {num2} is {add}\")"
   ]
  },
  {
   "cell_type": "code",
   "execution_count": 18,
   "id": "5f1342a0",
   "metadata": {},
   "outputs": [
    {
     "name": "stdout",
     "output_type": "stream",
     "text": [
      "enter a number1:20\n",
      "enter a number2:20.5\n",
      "the addition of 20 and 20.5 is 40.5\n"
     ]
    }
   ],
   "source": [
    "num1=int(input(\"enter a number1:\")) \n",
    "num2=float(input(\"enter a number2:\"))\n",
    "add=num1+num2\n",
    "print(f\"the addition of {num1} and {num2} is {add}\") "
   ]
  },
  {
   "cell_type": "code",
   "execution_count": null,
   "id": "b54bc137",
   "metadata": {},
   "outputs": [],
   "source": [
    "int('20.5') # give the error"
   ]
  },
  {
   "cell_type": "markdown",
   "id": "586260f1",
   "metadata": {},
   "source": [
    "$eval$:  evaluate the number automatically based on original data type"
   ]
  },
  {
   "cell_type": "code",
   "execution_count": 23,
   "id": "1baf4e29",
   "metadata": {},
   "outputs": [
    {
     "name": "stdout",
     "output_type": "stream",
     "text": [
      "enter a number1:300\n",
      "enter a number2:200\n",
      "the addition of 300 and 200 is 500\n"
     ]
    }
   ],
   "source": [
    "num1=eval(input(\"enter a number1:\")) \n",
    "num2=eval(input(\"enter a number2:\"))\n",
    "add=num1+num2\n",
    "print(f\"the addition of {num1} and {num2} is {add}\") "
   ]
  },
  {
   "cell_type": "code",
   "execution_count": 30,
   "id": "9b21e4a4",
   "metadata": {},
   "outputs": [
    {
     "name": "stdout",
     "output_type": "stream",
     "text": [
      "enter number1:2\n",
      "enter number2:3\n",
      "enter number3:5\n",
      "the avergae of 2,3 and 5 is: 3.33\n"
     ]
    }
   ],
   "source": [
    "# WAP ask the user enter a num1,num2 and num3\n",
    "# find the average= (num1+num2+num3)/3\n",
    "n1=eval(input(\"enter number1:\"))\n",
    "n2=eval(input(\"enter number2:\"))\n",
    "n3=eval(input(\"enter number3:\"))\n",
    "add=n1+n2+n3\n",
    "avg=round(add/3,2)\n",
    "print(f\"the avergae of {n1},{n2} and {n3} is: {avg}\")"
   ]
  },
  {
   "cell_type": "code",
   "execution_count": 29,
   "id": "0e57511b",
   "metadata": {},
   "outputs": [
    {
     "data": {
      "text/plain": [
       "3"
      ]
     },
     "execution_count": 29,
     "metadata": {},
     "output_type": "execute_result"
    }
   ],
   "source": [
    "round(3.3334)"
   ]
  },
  {
   "cell_type": "code",
   "execution_count": 31,
   "id": "454d5654",
   "metadata": {},
   "outputs": [
    {
     "name": "stdout",
     "output_type": "stream",
     "text": [
      "enter the salary:10000\n",
      "enter the tax in %:10\n",
      "the total tax pay is 1000.0\n"
     ]
    }
   ],
   "source": [
    "# WAP ask the user enter salary\n",
    "#     ask the user tax percentage\n",
    "#     calculate total tax to pay\n",
    "# salary=100000\n",
    "# tax_per=10\n",
    "# tax_pay= 100000*10/100=\n",
    "\n",
    "salary=eval(input(\"enter the salary:\"))\n",
    "tax_per=eval(input(\"enter the tax in %:\"))\n",
    "tax_pay=salary*tax_per/100\n",
    "print(f\"the total tax pay is {tax_pay}\")"
   ]
  },
  {
   "cell_type": "code",
   "execution_count": null,
   "id": "4b5a744b",
   "metadata": {},
   "outputs": [],
   "source": [
    "# the conversation between Mother and daughter\n",
    "# Daughter: Hey mom \n",
    "# Mother:  Hello beta!\n",
    "# Daughter: Did you know governament has immplemented free bus service\n",
    "# Mother:  Oh really!\n",
    "# Daughter:  will go to grandmother houes\n",
    "# Mother:   Yes\n",
    "# Conductor: show me your identity card\n",
    "# Mother: No !\n",
    "# Conductor: Pay the money\n",
    "# Mother: How much\n",
    "# Conductor: How many km you want travel\n",
    "# Mother: 25  <km>\n",
    "# Mother: how much charge\n",
    "# Conductor: per km 2rs <charge>\n",
    "# Mother: 25*2 <total>:km*charge\n",
    "# Mother: 50rs <total"
   ]
  },
  {
   "cell_type": "code",
   "execution_count": 5,
   "id": "17479b3c",
   "metadata": {},
   "outputs": [
    {
     "name": "stdout",
     "output_type": "stream",
     "text": [
      "=====Convesration between mother and daughter====================\n",
      "Daughter:hey mom\n",
      "Mother:hey beta\n",
      "Daughter:did you know\n",
      "Mother:oh really\n",
      "Daughter:will go to grand mother house\n",
      "Mother:yes\n",
      "================= after they reach busstop===================\n",
      "Conductor:show me your id\n",
      "Mother:we for got\n",
      "Conductor:pay the money\n",
      "Mother:how much\n",
      "Conductor:how many km you are travel\n",
      "mother:25\n",
      "motherhow much per km\n",
      "conductor2\n"
     ]
    },
    {
     "ename": "TypeError",
     "evalue": "can't multiply sequence by non-int of type 'str'",
     "output_type": "error",
     "traceback": [
      "\u001b[1;31m---------------------------------------------------------------------------\u001b[0m",
      "\u001b[1;31mTypeError\u001b[0m                                 Traceback (most recent call last)",
      "Cell \u001b[1;32mIn[5], line 17\u001b[0m\n\u001b[0;32m     15\u001b[0m \u001b[38;5;28minput\u001b[39m(\u001b[38;5;124m\"\u001b[39m\u001b[38;5;124mmother\u001b[39m\u001b[38;5;124m\"\u001b[39m)\n\u001b[0;32m     16\u001b[0m fare\u001b[38;5;241m=\u001b[39m\u001b[38;5;28minput\u001b[39m(\u001b[38;5;124m\"\u001b[39m\u001b[38;5;124mconductor\u001b[39m\u001b[38;5;124m\"\u001b[39m)\n\u001b[1;32m---> 17\u001b[0m total\u001b[38;5;241m=\u001b[39mkm\u001b[38;5;241m*\u001b[39mfare\n\u001b[0;32m     18\u001b[0m \u001b[38;5;28mprint\u001b[39m(\u001b[38;5;124mf\u001b[39m\u001b[38;5;124m\"\u001b[39m\u001b[38;5;124mthe total charge is \u001b[39m\u001b[38;5;132;01m{\u001b[39;00mfare\u001b[38;5;132;01m}\u001b[39;00m\u001b[38;5;124m\"\u001b[39m)\n",
      "\u001b[1;31mTypeError\u001b[0m: can't multiply sequence by non-int of type 'str'"
     ]
    }
   ],
   "source": [
    "print(\"=====Convesration between mother and daughter====================\")\n",
    "input(\"Daughter:\")\n",
    "input(\"Mother:\")\n",
    "input(\"Daughter:\")\n",
    "input(\"Mother:\")\n",
    "input(\"Daughter:\")\n",
    "input(\"Mother:\")\n",
    "print(\"================= after they reach busstop===================\")\n",
    "input(\"Conductor:\")\n",
    "input(\"Mother:\")\n",
    "input(\"Conductor:\")\n",
    "input(\"Mother:\")\n",
    "input('Conductor:')\n",
    "km=eval(input(\"mother:\"))\n",
    "input(\"mother\")\n",
    "fare=eval(input(\"conductor:\"))\n",
    "total=km*fare\n",
    "print(f\"the total charge is {total}\")"
   ]
  },
  {
   "cell_type": "code",
   "execution_count": null,
   "id": "6f6915cd",
   "metadata": {},
   "outputs": [],
   "source": [
    "input(\"Daughter: \")\n",
    "input(\"Mother: \")\n",
    "input(\"Daughter: \")\n",
    "input(\"Mother: \")\n",
    "input(\"Daughter: \")\n",
    "input(\"Mother: \")\n",
    "input(\"Conductor: \")\n",
    "input(\"Mother: \")\n",
    "input(\"Conductor: \")\n",
    "input(\"Mother: \")\n",
    "input(\"Conductor: \")\n",
    "dis=eval(input(\"Mother: \"))\n",
    "input(\"Mother: \")\n",
    "cost = eval(input(\"Conductor: \"))\n",
    "input=(f\"Conductor : per km {cost}\")\n",
    "tot_cost = dis*cost\n",
    "input(f\"Mother:{cost}*{tot_cost} \")\n",
    "input(\"Mother: \")"
   ]
  },
  {
   "cell_type": "code",
   "execution_count": 7,
   "id": "a6f587cb",
   "metadata": {},
   "outputs": [
    {
     "name": "stdout",
     "output_type": "stream",
     "text": [
      "Mother:2*50 100\n"
     ]
    },
    {
     "data": {
      "text/plain": [
       "'100'"
      ]
     },
     "execution_count": 7,
     "metadata": {},
     "output_type": "execute_result"
    }
   ],
   "source": [
    "cost=2\n",
    "dis=25\n",
    "tot_cost=dis*cost\n",
    "input(f\"Mother:{cost}*{tot_cost} \")"
   ]
  },
  {
   "cell_type": "code",
   "execution_count": 9,
   "id": "85f82722",
   "metadata": {},
   "outputs": [
    {
     "name": "stdout",
     "output_type": "stream",
     "text": [
      "enter a number1:100\n",
      "enter a number2:200\n"
     ]
    },
    {
     "data": {
      "text/plain": [
       "300"
      ]
     },
     "execution_count": 9,
     "metadata": {},
     "output_type": "execute_result"
    }
   ],
   "source": [
    "#Why do we use eval\n",
    "\n",
    "a=eval(input(\"enter a number1:\"))\n",
    "b=eval(input(\"enter a number2:\"))\n",
    "a+b"
   ]
  },
  {
   "cell_type": "code",
   "execution_count": null,
   "id": "f8e12af0",
   "metadata": {},
   "outputs": [],
   "source": [
    "############ Create your own story ##########\n",
    "# You went bar \n",
    "# you: how much\n",
    "# bar: 800rs\n",
    "# you: i have only dollars\n",
    "# bar: we accept only INR\n",
    "# you: what should i do\n",
    "# bar: will convert dollars into rupees\n",
    "# you: how much one dolar into INR= 80\n",
    "# you: how many dollars you required=800/80=10\n",
    "# bar: give me 10 dollars"
   ]
  },
  {
   "cell_type": "code",
   "execution_count": 10,
   "id": "7d18e378",
   "metadata": {},
   "outputs": [
    {
     "name": "stdout",
     "output_type": "stream",
     "text": [
      "You: how much the bill\n",
      "Bar: 800\n",
      "You: I have only USD\n",
      "Bar: we accept INR only\n",
      "You: what should we do now\n",
      "Bar: Lets convert USD to INR\n",
      "You: How many INR is equal to 1 USD80\n",
      "Bar: Give me 10.0 dollors\n"
     ]
    }
   ],
   "source": [
    "input(\"You: \")\n",
    "total_bill = eval(input(\"Bar: \"))\n",
    "input(\"You: \")\n",
    "input(\"Bar: \")\n",
    "input(\"You: \")\n",
    "input(\"Bar: \")\n",
    "oneDollor = eval(input(\"You: How many INR is equal to 1 USD\"))\n",
    "totlaDollorToPay = total_bill/oneDollor\n",
    "print(f\"Bar: Give me {totlaDollorToPay} dollors\")"
   ]
  },
  {
   "cell_type": "code",
   "execution_count": 13,
   "id": "0733ec0b",
   "metadata": {},
   "outputs": [
    {
     "name": "stdout",
     "output_type": "stream",
     "text": [
      "enter the total bill in inr: 800\n",
      "You: How many INR is equal to 1 USD80\n",
      "Bar: Give me 10.0 dollors\n"
     ]
    }
   ],
   "source": [
    "total_bill = eval(input(\"enter the total bill in inr: \"))\n",
    "oneDollor = eval(input(\"You: How many INR is equal to 1 USD\"))\n",
    "totlaDollorToPay = total_bill/oneDollor\n",
    "print(f\"Bar: Give me {totlaDollorToPay} dollors\")"
   ]
  },
  {
   "cell_type": "code",
   "execution_count": 20,
   "id": "f2ed266b",
   "metadata": {},
   "outputs": [
    {
     "name": "stdout",
     "output_type": "stream",
     "text": [
      "You: how much the bill\n",
      "enter the bill800\n",
      "Bar: 800\n",
      "You: I have only USD\n",
      "Bar: we accept INR only\n",
      "You: what should we do now\n",
      "Bar: Lets convert USD to INR\n",
      "You: How many INR is equal to 1 USD:80\n",
      "Bar: Give me 10.0 dollors\n"
     ]
    }
   ],
   "source": [
    "import time\n",
    "\n",
    "print(\"You: how much the bill\")\n",
    "time.sleep(2)\n",
    "bill=eval(input(\"enter the bill\"))\n",
    "time.sleep(2)\n",
    "print(\"Bar:\",bill)\n",
    "time.sleep(2)\n",
    "print(\"You: I have only USD\")\n",
    "time.sleep(2)\n",
    "print(\"Bar: we accept INR only\")\n",
    "time.sleep(2)\n",
    "print(\"You: what should we do now\")\n",
    "time.sleep(2)\n",
    "print(\"Bar: Lets convert USD to INR\")\n",
    "inr=eval(input(\"You: How many INR is equal to 1 USD:\"))\n",
    "total=bill/inr\n",
    "print(f\"Bar: Give me {total} dollors\")"
   ]
  },
  {
   "cell_type": "code",
   "execution_count": 18,
   "id": "51922acb",
   "metadata": {},
   "outputs": [
    {
     "name": "stdout",
     "output_type": "stream",
     "text": [
      "Bar: Give me 10.0 dollors\n"
     ]
    }
   ],
   "source": [
    "print(f\"Bar: Give me {total} dollors\")"
   ]
  },
  {
   "cell_type": "code",
   "execution_count": 26,
   "id": "8947d639",
   "metadata": {},
   "outputs": [
    {
     "name": "stdout",
     "output_type": "stream",
     "text": [
      "Bar: 800\n",
      "Bar: 800\n",
      "Bar: 800\n"
     ]
    }
   ],
   "source": [
    "print(\"Bar:\",bill)\n",
    "print(\"Bar: {}\".format(bill))\n",
    "print(f\"Bar: {bill}\")"
   ]
  },
  {
   "cell_type": "code",
   "execution_count": 27,
   "id": "7fc2cf22",
   "metadata": {},
   "outputs": [
    {
     "data": {
      "text/plain": [
       "11.25"
      ]
     },
     "execution_count": 27,
     "metadata": {},
     "output_type": "execute_result"
    }
   ],
   "source": [
    "45/4   # 45 division 4 \n",
    "# It is a normal division"
   ]
  },
  {
   "cell_type": "code",
   "execution_count": 28,
   "id": "3fa0cd02",
   "metadata": {},
   "outputs": [
    {
     "data": {
      "text/plain": [
       "1"
      ]
     },
     "execution_count": 28,
     "metadata": {},
     "output_type": "execute_result"
    }
   ],
   "source": [
    "45%4  # 45 modulus 4\n",
    "\n",
    "# It will give the reminder"
   ]
  },
  {
   "cell_type": "code",
   "execution_count": 29,
   "id": "20732e38",
   "metadata": {},
   "outputs": [
    {
     "data": {
      "text/plain": [
       "11"
      ]
     },
     "execution_count": 29,
     "metadata": {},
     "output_type": "execute_result"
    }
   ],
   "source": [
    "45//4 # 45 floor division 4\n",
    "# it will give the quotient"
   ]
  },
  {
   "cell_type": "code",
   "execution_count": null,
   "id": "4d71bfce",
   "metadata": {},
   "outputs": [],
   "source": [
    "# Conditional operations\n",
    "# if-else"
   ]
  },
  {
   "cell_type": "markdown",
   "id": "01fbc7f6",
   "metadata": {},
   "source": [
    "$patten-1$:\n",
    "    \n",
    "**if**"
   ]
  },
  {
   "cell_type": "code",
   "execution_count": 30,
   "id": "82df382b",
   "metadata": {},
   "outputs": [
    {
     "data": {
      "text/plain": [
       "True"
      ]
     },
     "execution_count": 30,
     "metadata": {},
     "output_type": "execute_result"
    }
   ],
   "source": [
    "10>5"
   ]
  },
  {
   "cell_type": "code",
   "execution_count": 31,
   "id": "9db7e36a",
   "metadata": {},
   "outputs": [
    {
     "data": {
      "text/plain": [
       "False"
      ]
     },
     "execution_count": 31,
     "metadata": {},
     "output_type": "execute_result"
    }
   ],
   "source": [
    "10<5"
   ]
  },
  {
   "cell_type": "code",
   "execution_count": null,
   "id": "a64c7051",
   "metadata": {},
   "outputs": [],
   "source": [
    "whenever it is True do some thing\n",
    "IF that is True then do some thing\n",
    "\n",
    "when you enter after :\n",
    "it will take some space\n",
    "that space is called indentation"
   ]
  },
  {
   "cell_type": "code",
   "execution_count": null,
   "id": "5a097f0c",
   "metadata": {},
   "outputs": [],
   "source": [
    "if <condition>:\n",
    "    #########\n",
    "    ########\n",
    "    #######"
   ]
  },
  {
   "cell_type": "code",
   "execution_count": null,
   "id": "c154517b",
   "metadata": {},
   "outputs": [],
   "source": [
    "# I want to add a=10\n",
    "#               b=20\n",
    "#               a+b\n",
    "# name='python' only"
   ]
  },
  {
   "cell_type": "code",
   "execution_count": 33,
   "id": "e13392b9",
   "metadata": {},
   "outputs": [
    {
     "data": {
      "text/plain": [
       "False"
      ]
     },
     "execution_count": 33,
     "metadata": {},
     "output_type": "execute_result"
    }
   ],
   "source": [
    "name='python' # python is stored in a variable name\n",
    "name=='Python' # we are checking that name equal to python\n",
    "\n",
    "#'python'=='Python'  False"
   ]
  },
  {
   "cell_type": "code",
   "execution_count": 47,
   "id": "2fff4de4",
   "metadata": {},
   "outputs": [
    {
     "name": "stdout",
     "output_type": "stream",
     "text": [
      "hello\n"
     ]
    }
   ],
   "source": [
    "name='python'\n",
    "if name=='python':\n",
    "    print(\"hello\")\n",
    "    \n",
    "# backspace till :  and then do enter\n",
    "# use space bar till you avoid the red color\n",
    "# enter tab\n",
    "# error name: indentation"
   ]
  },
  {
   "cell_type": "code",
   "execution_count": 41,
   "id": "8200e1f6",
   "metadata": {},
   "outputs": [
    {
     "name": "stdout",
     "output_type": "stream",
     "text": [
      "hello\n"
     ]
    }
   ],
   "source": [
    "if True:\n",
    "    print(\"hello\")"
   ]
  },
  {
   "cell_type": "code",
   "execution_count": 42,
   "id": "276fdeae",
   "metadata": {},
   "outputs": [],
   "source": [
    "if False:\n",
    "    print(\"hello\")"
   ]
  },
  {
   "cell_type": "code",
   "execution_count": 44,
   "id": "87af2f0a",
   "metadata": {},
   "outputs": [
    {
     "name": "stdout",
     "output_type": "stream",
     "text": [
      "hello\n"
     ]
    }
   ],
   "source": [
    "yes=True\n",
    "if yes:\n",
    "    print(\"hello\")"
   ]
  },
  {
   "cell_type": "code",
   "execution_count": null,
   "id": "439cf0b4",
   "metadata": {},
   "outputs": [],
   "source": [
    "name='python'\n",
    "if name=='python':\n",
    "    print(\"hello\")\n",
    "    \n",
    "if True:\n",
    "    print(\"hello\")\n",
    "    \n",
    "if False:\n",
    "    print(\"hello\")\n",
    "    \n",
    "yes=True\n",
    "if yes:\n",
    "    print(\"hello\")"
   ]
  },
  {
   "cell_type": "code",
   "execution_count": 48,
   "id": "9300c182",
   "metadata": {},
   "outputs": [
    {
     "name": "stdout",
     "output_type": "stream",
     "text": [
      "1\n",
      "2\n",
      "hello\n",
      "hai\n",
      "bye\n"
     ]
    }
   ],
   "source": [
    "print(1)\n",
    "print(2)\n",
    "##############################\n",
    "if True:\n",
    "    print(\"hello\")\n",
    "    print('hai')\n",
    "##################################\n",
    "print(\"bye\")"
   ]
  },
  {
   "cell_type": "code",
   "execution_count": 49,
   "id": "88c721a3",
   "metadata": {},
   "outputs": [
    {
     "name": "stdout",
     "output_type": "stream",
     "text": [
      "1\n",
      "2\n",
      "bye\n"
     ]
    }
   ],
   "source": [
    "print(1)\n",
    "print(2)\n",
    "##############################\n",
    "if False:\n",
    "    print(\"hello\")\n",
    "    print('hai')\n",
    "##################################\n",
    "print(\"bye\")"
   ]
  },
  {
   "cell_type": "code",
   "execution_count": 50,
   "id": "cbf7dbb5",
   "metadata": {},
   "outputs": [
    {
     "name": "stdout",
     "output_type": "stream",
     "text": [
      "1\n",
      "2\n",
      "bye\n",
      "hello\n",
      "hai\n"
     ]
    }
   ],
   "source": [
    "print(1)\n",
    "print(2)\n",
    "#######################################\n",
    "if False:\n",
    "    print(\"hello\")\n",
    "    print('hai')\n",
    "##############################################\n",
    "print(\"bye\")\n",
    "################################################\n",
    "if True:\n",
    "    print(\"hello\")\n",
    "    print('hai')"
   ]
  },
  {
   "cell_type": "markdown",
   "id": "6106fddf",
   "metadata": {},
   "source": [
    "$pattern-2$\n",
    "\n",
    "**if-else**"
   ]
  },
  {
   "cell_type": "code",
   "execution_count": 52,
   "id": "fcd45794",
   "metadata": {},
   "outputs": [
    {
     "name": "stdout",
     "output_type": "stream",
     "text": [
      "hello\n"
     ]
    }
   ],
   "source": [
    "name='python'\n",
    "\n",
    "if name=='python': #'python'=='Python' if False:\n",
    "    print(\"hello\")\n",
    "\n",
    "else:\n",
    "    print(\"bye\")"
   ]
  },
  {
   "cell_type": "code",
   "execution_count": 55,
   "id": "1d28cea8",
   "metadata": {},
   "outputs": [
    {
     "data": {
      "text/plain": [
       "True"
      ]
     },
     "execution_count": 55,
     "metadata": {},
     "output_type": "execute_result"
    }
   ],
   "source": [
    "10%2==0"
   ]
  },
  {
   "cell_type": "code",
   "execution_count": 57,
   "id": "98ef36a1",
   "metadata": {},
   "outputs": [
    {
     "name": "stdout",
     "output_type": "stream",
     "text": [
      "enter the number:25\n",
      "25 is an odd\n"
     ]
    }
   ],
   "source": [
    "# wap ask the user enter a number from keyboard\n",
    "# print if it is even number or odd number\n",
    "\n",
    "# step-1: num=eval(input(\"enter\"))\n",
    "# step-2: if <>:\n",
    "#           print(\"even\")\n",
    "#step-3: else:\n",
    "#          print(\"it is an odd\")\n",
    "\n",
    "num=eval(input(\"enter the number:\"))\n",
    "if num%2==0:\n",
    "    print(f\"{num} is an even\")\n",
    "else:\n",
    "    print(f\"{num} is an odd\")"
   ]
  },
  {
   "cell_type": "code",
   "execution_count": null,
   "id": "0764abdc",
   "metadata": {},
   "outputs": [],
   "source": []
  }
 ],
 "metadata": {
  "kernelspec": {
   "display_name": "Python 3 (ipykernel)",
   "language": "python",
   "name": "python3"
  },
  "language_info": {
   "codemirror_mode": {
    "name": "ipython",
    "version": 3
   },
   "file_extension": ".py",
   "mimetype": "text/x-python",
   "name": "python",
   "nbconvert_exporter": "python",
   "pygments_lexer": "ipython3",
   "version": "3.11.5"
  }
 },
 "nbformat": 4,
 "nbformat_minor": 5
}
